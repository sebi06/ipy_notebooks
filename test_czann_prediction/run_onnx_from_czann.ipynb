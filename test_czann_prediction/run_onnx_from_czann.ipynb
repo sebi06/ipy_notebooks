{
 "cells": [
  {
   "cell_type": "code",
   "execution_count": null,
   "metadata": {
    "id": "6ACuw3aI_lCD"
   },
   "outputs": [],
   "source": [
    "import os\n",
    "import numpy as np\n",
    "import matplotlib.pyplot as plt\n",
    "from czmodel.pytorch.convert import DefaultConverter\n",
    "import tempfile\n",
    "from pathlib import Path\n",
    "import onnxruntime as onnx_rt\n",
    "from pylibCZIrw import czi as pyczi\n",
    "import tifffile"
   ]
  },
  {
   "cell_type": "code",
   "execution_count": null,
   "metadata": {
    "id": "-IgMB1Ya462j"
   },
   "outputs": [],
   "source": [
    "#czifile = \"6well_1_s3_t5_1024.czi\"\n",
    "czifile = \"grains_big.czi\"\n",
    "#czann_filepath = \"organoids.czann\"\n",
    "czann_filepath = \"REM_AL2O3_Grains_8bit.czann\""
   ]
  },
  {
   "cell_type": "code",
   "execution_count": null,
   "metadata": {
    "id": "Lr4uRjfuFrjG"
   },
   "outputs": [],
   "source": [
    "def predict_one(sess: onnx_rt.InferenceSession, batch_elem: np.ndarray) -> np.ndarray:\n",
    "    \"\"\"Predicts with a batch size of 1 to not risk memory issues.\n",
    "\n",
    "    Arguments:\n",
    "        sess: The inference session containing the loaded model.\n",
    "        batch_elem: One element of a batch to be used for prediction.\n",
    "\n",
    "    Returns:\n",
    "        The prediction for the provided batch element.\n",
    "    \"\"\"\n",
    "    batch_elem = batch_elem[np.newaxis]\n",
    "    input_name = sess.get_inputs()[0].name\n",
    "    output_name = sess.get_outputs()[0].name\n",
    "\n",
    "    # ONNX can only handle float32\n",
    "    batch_elem = batch_elem.astype(np.float32)\n",
    "    input_dict = {input_name: batch_elem}\n",
    "    result = sess.run([output_name], input_dict)[0]\n",
    "\n",
    "    return result[0]"
   ]
  },
  {
   "cell_type": "code",
   "execution_count": null,
   "metadata": {
    "colab": {
     "base_uri": "https://localhost:8080/"
    },
    "id": "6Qhz6lsqATba",
    "outputId": "ae8e24b5-08dc-4588-bdf7-dd72a11127c0"
   },
   "outputs": [],
   "source": [
    "# extract the model information and path and to the prediction\n",
    "with tempfile.TemporaryDirectory() as temp_path:\n",
    "\n",
    "    # get the model metadata and the path\n",
    "    model_metadata, model_path = DefaultConverter().unpack_model(model_file=czann_filepath,\n",
    "                                                                 target_dir=Path(temp_path))\n",
    "\n",
    "    # get model metadata as dictionary\n",
    "    model_metadata_dict = model_metadata._asdict()\n",
    "    for k,v in model_metadata_dict.items():\n",
    "        print(k, \"=\", v)\n",
    "\n",
    "    # get the input shape\n",
    "    shp = model_metadata.input_shape\n",
    "\n",
    "    # create an ONNX session and get the input shape\n",
    "    # use either \"CUDAExecutionProvider\" or \"CPUExecutionProvider\"]\n",
    "    sess = onnx_rt.InferenceSession(str(model_path), providers=[\"CPUExecutionProvider\"])\n",
    "    \n",
    "    num_classes = len(model_metadata_dict[\"classes\"])"
   ]
  },
  {
   "cell_type": "code",
   "execution_count": null,
   "metadata": {
    "colab": {
     "base_uri": "https://localhost:8080/",
     "height": 298
    },
    "id": "K3IFtkdlTKsT",
    "outputId": "efd6e8ba-8968-4f2e-956e-e1cacde3a4df"
   },
   "outputs": [],
   "source": [
    "# make sure that the image has the correct inputs size\n",
    "xstart = 0\n",
    "ystart = 0\n",
    "ch = 0\n",
    "t = 0\n",
    "z = 0\n",
    "s = 0\n",
    "my_roi = (xstart, ystart, model_metadata_dict[\"input_shape\"][0], model_metadata_dict[\"input_shape\"][1])\n",
    "\n",
    "with pyczi.open_czi(czifile) as czidoc:\n",
    "    \n",
    "    # define plane coordinates and read the image\n",
    "    img = czidoc.read(plane={\"C\": ch, \"Z\": z, \"T\": t}, scene=s, roi=my_roi)[...,0]\n",
    "    \n",
    "    # scale !!! - needs to adpated based on the image used for training\n",
    "    if czidoc.get_channel_pixel_type(0) == \"Gray8\":\n",
    "        img_sc = img / (2**8 - 1)\n",
    "    if czidoc.get_channel_pixel_type(0) == \"Gray16\":\n",
    "        img_sc = img / (2**16 - 1)\n",
    "\n",
    "# run the raw prediction\n",
    "pred_raw = predict_one(sess, img_sc[..., np.newaxis])\n",
    "\n",
    "# get the labels (starting with zero)\n",
    "pred = np.argmax(pred_raw, axis=-1)"
   ]
  },
  {
   "cell_type": "code",
   "execution_count": null,
   "metadata": {},
   "outputs": [],
   "source": [
    "# create subimages\n",
    "subimage = True\n",
    "si = np.s_[400:800, 400:800]\n",
    "\n",
    "if subimage:\n",
    "    img = img[si]\n",
    "    img_sc = img_sc[si]\n",
    "    pred_raw = pred_raw[si]\n",
    "    pred = pred[si]"
   ]
  },
  {
   "cell_type": "code",
   "execution_count": null,
   "metadata": {
    "colab": {
     "base_uri": "https://localhost:8080/",
     "height": 298
    },
    "id": "K3IFtkdlTKsT",
    "outputId": "efd6e8ba-8968-4f2e-956e-e1cacde3a4df"
   },
   "outputs": [],
   "source": [
    "save_results = False\n",
    "basename = czifile[:-4]\n",
    "\n",
    "fig, axs = plt.subplots(2, num_classes + 1)\n",
    "fig.set_figwidth(16)\n",
    "\n",
    "# show images and set titles\n",
    "i1 = axs[0, 0].imshow(img, cmap=\"gray\")\n",
    "i2 = axs[1, 0].imshow(img, cmap=\"gray\")\n",
    "axs[0, 0].set_title(\"Original\")\n",
    "fig.colorbar(i1, ax=axs[0, 0])\n",
    "fig.colorbar(i1, ax=axs[1, 0])\n",
    "\n",
    "# optional: save the original image as TIFF\n",
    "if save_results:\n",
    "    tifffile.imwrite(basename + \"_orig.tiff\", img)\n",
    "\n",
    "# show classes\n",
    "for c in range(num_classes):\n",
    "\n",
    "    # get the predicted mask for each class and display it\n",
    "    pred_c = np.where(pred == c, 1, 0)\n",
    "    p1 = axs[0, c+1].imshow(pred_c, cmap=\"gray\")\n",
    "    axs[0, c+1].set_title(model_metadata_dict[\"classes\"][c])\n",
    "    fig.colorbar(p1, ax=axs[0, c+1])\n",
    "    \n",
    "    # show the probabilty values (0-100) for each class and display it\n",
    "    p2 = axs[1, c+1].imshow(pred_raw[...,c] * 100)\n",
    "    axs[1, c+1].set_title(\"Prob: \" + model_metadata_dict[\"classes\"][c])\n",
    "    fig.colorbar(p2, ax=axs[1, c+1])\n",
    "    \n",
    "    # optional: save the results as TIFFs\n",
    "    if save_results:     \n",
    "        tifffile.imwrite(basename + \"_\" + model_metadata_dict[\"classes\"][c] + \".tiff\", pred_c)\n",
    "        tifffile.imwrite(basename + \"_prob_\" + model_metadata_dict[\"classes\"][c] + \".tiff\", pred_raw[..., c] * 100)\n",
    "\n",
    "# adjust the spacing\n",
    "plt.subplots_adjust(hspace=0.5, wspace=0.1)"
   ]
  },
  {
   "cell_type": "code",
   "execution_count": null,
   "metadata": {},
   "outputs": [],
   "source": []
  }
 ],
 "metadata": {
  "accelerator": "GPU",
  "colab": {
   "collapsed_sections": [],
   "name": "run_prediction_from_czann.ipynb",
   "provenance": []
  },
  "kernelspec": {
   "display_name": "Python [conda env:ia39]",
   "language": "python",
   "name": "conda-env-ia39-py"
  },
  "language_info": {
   "codemirror_mode": {
    "name": "ipython",
    "version": 3
   },
   "file_extension": ".py",
   "mimetype": "text/x-python",
   "name": "python",
   "nbconvert_exporter": "python",
   "pygments_lexer": "ipython3",
   "version": "3.9.15"
  },
  "vscode": {
   "interpreter": {
    "hash": "7019d285939b12df1a8a19088bce4b0ba11064da88178863e9101c39948d2ada"
   }
  }
 },
 "nbformat": 4,
 "nbformat_minor": 4
}
