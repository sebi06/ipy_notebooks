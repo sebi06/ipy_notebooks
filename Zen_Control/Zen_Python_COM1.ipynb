{
 "cells": [
  {
   "cell_type": "markdown",
   "metadata": {},
   "source": [
    "In order to make Python aware of ZEN Scripting DLLs one must register those in order to make them available for the COM interface. This is done be running the <b>regScripting_Release.bat</b> as adminsitrator.\n",
    "\n",
    "To run this notebook the follwing files are required:\n",
    "\n",
    "- <b>regScripting.bat</b>\n",
    "\n",
    "This notebook demonstrates the capabilities of the .COM interface\n",
    "used to establish a connection between ZEN Blue and Python.\n",
    "This connection allows to use ZEN Blue OAD Simple-API within a python script."
   ]
  },
  {
   "cell_type": "code",
   "execution_count": 1,
   "metadata": {
    "collapsed": false
   },
   "outputs": [],
   "source": [
    "# do the required imports\n",
    "import os\n",
    "import win32com.client"
   ]
  },
  {
   "cell_type": "code",
   "execution_count": 2,
   "metadata": {
    "collapsed": false
   },
   "outputs": [],
   "source": [
    "# Import the ZEN OAD Scripting into Python\n",
    "Zen = win32com.client.GetActiveObject(\"Zeiss.Micro.Scripting.ZenWrapperLM\")"
   ]
  },
  {
   "cell_type": "code",
   "execution_count": 3,
   "metadata": {
    "collapsed": false
   },
   "outputs": [],
   "source": [
    "# Define the experiment to be executed\n",
    "ZEN_Experiment = \"EF_Plot_Cell_Count_Simple.czexp\"\n",
    "\n",
    "# Specify savefolder\n",
    "savefolder = 'C:\\\\Python_ZEN_Output\\\\'"
   ]
  },
  {
   "cell_type": "code",
   "execution_count": 4,
   "metadata": {
    "collapsed": false
   },
   "outputs": [],
   "source": [
    "# run the experiment in ZEN and save the data to the specified folder\n",
    "exp = Zen.Acquisition.Experiments.GetByName(ZEN_Experiment)\n",
    "img = Zen.Acquisition.Execute(exp)\n",
    "# Show the image in ZEN\n",
    "Zen.Application.Documents.Add(img)"
   ]
  },
  {
   "cell_type": "code",
   "execution_count": 5,
   "metadata": {
    "collapsed": false
   },
   "outputs": [],
   "source": [
    "# retrieve the image name\n",
    "imgname = os.path.basename(img.Filename)"
   ]
  },
  {
   "cell_type": "code",
   "execution_count": 6,
   "metadata": {
    "collapsed": false
   },
   "outputs": [],
   "source": [
    "# Use the correct save method - it is polymorphic ... :)\n",
    "img.Save_2(savefolder + imgname)\n",
    "# close the image after saving\n",
    "img.Close()"
   ]
  }
 ],
 "metadata": {
  "kernelspec": {
   "display_name": "Python 2",
   "language": "python",
   "name": "python2"
  },
  "language_info": {
   "codemirror_mode": {
    "name": "ipython",
    "version": 2
   },
   "file_extension": ".py",
   "mimetype": "text/x-python",
   "name": "python",
   "nbconvert_exporter": "python",
   "pygments_lexer": "ipython2",
   "version": "2.7.11"
  }
 },
 "nbformat": 4,
 "nbformat_minor": 0
}
