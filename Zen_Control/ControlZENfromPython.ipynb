{
 "cells": [
  {
   "cell_type": "markdown",
   "metadata": {},
   "source": [
    "In order to make Python aware of ZEN Scripting DLLs one must register those in order to make them available for the COM interface. This is done be running the <b>regScripting_Release.bat</b> as adminsitrator. A detailed description on how to to this can be found inside the application note: <b>Control ZEN form Python</b>.\n",
    "\n",
    "To run this notebook the follwing files are required:\n",
    "\n",
    "- <b>regScripting.bat</b>\n",
    "\n",
    "Additionally the package <b>czimage</b> is required. It contains the following files:\n",
    "\n",
    "- <b>bftools.py</b>\n",
    "- <b>czitools.py</b>\n",
    "- <b>misctools.py</b>\n",
    "\n",
    "This notebook demonstrates the capabilities of the .COM interface\n",
    "used to establish a connection between ZEN Blue and Python.\n",
    "This connection allows to use ZEN Blue OAD Simple-API within a python script.\n",
    "\n",
    "Special thanks to Christoph Gohlke for providing the binaries on:\n",
    "\n",
    "<style>a:link {color:#0000ff;background-color:transparent;text-decoration:none;}</style>\n",
    "<a href=\"http://www.lfd.uci.edu/~gohlke/pythonlibs/\">http://www.lfd.uci.edu/~gohlke/pythonlibs/</a>\n",
    "\n",
    "Requirements:\n",
    "\n",
    "- PyWin32: <a href=\"http://www.lfd.uci.edu/~gohlke/pythonlibs/#pywin32\">http://www.lfd.uci.edu/~gohlke/pythonlibs/#pywin32</a>\n",
    "- Bioformats: <a href=\"http://www.lfd.uci.edu/~gohlke/pythonlibs/#bioformats\">http://www.lfd.uci.edu/~gohlke/pythonlibs/#bioformats</a>\n",
    "- Javabridge: <a href=\"http://www.lfd.uci.edu/~gohlke/pythonlibs/#javabridge\">http://www.lfd.uci.edu/~gohlke/pythonlibs/#javabridge</a>\n",
    "- vLFD: <a href=\"http://www.lfd.uci.edu/~gohlke/pythonlibs/#vlfd\">http://www.lfd.uci.edu/~gohlke/pythonlibs/#vlfd</a>\n",
    "- Mahotas: <a href=\"https://pypi.python.org/pypi/mahotas\">https://pypi.python.org/pypi/mahotas</a>\n",
    "- Numpy: <a href=\"https://pypi.python.org/pypi/numpy\">https://pypi.python.org/pypi/numpy</a>\n",
    "- matplotlib: <a href=\"https://pypi.python.org/pypi/matplotlib/1.4.3\">https://pypi.python.org/pypi/matplotlib/1.4.3</a>\n",
    "\n",
    "The first step is to do the required imports and setting up the correct path to the required extra tools."
   ]
  },
  {
   "cell_type": "code",
   "execution_count": null,
   "metadata": {
    "collapsed": false
   },
   "outputs": [],
   "source": [
    "import sys\n",
    "import win32com.client\n",
    "import os\n",
    "\n",
    "sys.path.append(r'C:\\Users\\M1SRH\\Documents\\Python_Projects\\Python_ZEN_Connection')\n",
    "sys.path.append(r'C:\\Users\\M1SRH\\Documents\\Python_Projects\\BioFormatsRead')\n",
    "import ReadAnalyzeImageData as rad\n",
    "\n",
    "savefolder = 'C:\\\\Python_ZEN_Output\\\\'\n",
    "%matplotlib inline"
   ]
  },
  {
   "cell_type": "markdown",
   "metadata": {},
   "source": [
    "Here the interesting part starts. The ZEN objetct containing the Simple API is imported into Python via the COM interface."
   ]
  },
  {
   "cell_type": "code",
   "execution_count": null,
   "metadata": {
    "collapsed": false
   },
   "outputs": [],
   "source": [
    "## Import the ZEN OAD Scripting into Python\n",
    "Zen = win32com.client.GetActiveObject(\"Zeiss.Micro.Scripting.ZenWrapperLM\")"
   ]
  },
  {
   "cell_type": "markdown",
   "metadata": {},
   "source": [
    "Now we can run the experiment from Pythin inside ZEN. It assumes that one alread configured the experiment within ZEN correctly. As the final step the CZI image data are save to disk, where it can be read via the BioFormtas library."
   ]
  },
  {
   "cell_type": "code",
   "execution_count": null,
   "metadata": {
    "collapsed": false
   },
   "outputs": [],
   "source": [
    "## Define the experiment to be executed\n",
    "ZEN_Experiment = 'COM_Control_96_Wellplate.czexp'\n",
    "\n",
    "## run the experiment in ZEN and save the data to the specified folder\n",
    "exp = Zen.Acquisition.Experiments.GetByName(ZEN_Experiment)\n",
    "img = Zen.Acquisition.Execute(exp)\n",
    "\n",
    "## Show the image in ZEN\n",
    "Zen.Application.Documents.Add(img)\n",
    "\n",
    "## Use the correct save method - it is polymorphic ... :)\n",
    "filename = savefolder + img.Name\n",
    "img.Save_2(filename)"
   ]
  },
  {
   "cell_type": "markdown",
   "metadata": {},
   "source": [
    "Here the CZI image is read into an 6D NumPy array. This example assumes XYCZT dimension order to be used during the acquisition. Of course this can be adapted to your needs.during the acquisition. The resulting NumPy array for XYCZT has the following shape:\n",
    "    \n",
    "<b>[series, time, zplane, channel, x, y]</b>\n",
    "\n",
    "BioFormtas reads the CZI image <b>and</b> all important metainformation.\n",
    "\n",
    "And finally al images are analzed using the Mahota image processing library and the result is plotted. The experiment acquired one single image per well. The cell number was counted the the result is displyed as a heatmap."
   ]
  },
  {
   "cell_type": "code",
   "execution_count": null,
   "metadata": {
    "collapsed": false
   },
   "outputs": [],
   "source": [
    "## get the actual CZI image data using Python wrapper for BioFormats\n",
    "img6d = rad.ReadImage(filename)\n",
    "\n",
    "## Analyze the images - Example: Count Cells\n",
    "obj, labeled = rad.CountObjects(img6d)\n",
    "\n",
    "## Display some data\n",
    "rad.DisplayData2(obj, labeled)"
   ]
  },
  {
   "cell_type": "code",
   "execution_count": null,
   "metadata": {
    "collapsed": false
   },
   "outputs": [],
   "source": []
  },
  {
   "cell_type": "code",
   "execution_count": null,
   "metadata": {
    "collapsed": false
   },
   "outputs": [],
   "source": []
  }
 ],
 "metadata": {
  "kernelspec": {
   "display_name": "Python [Root]",
   "language": "python",
   "name": "Python [Root]"
  },
  "language_info": {
   "codemirror_mode": {
    "name": "ipython",
    "version": 2
   },
   "file_extension": ".py",
   "mimetype": "text/x-python",
   "name": "python",
   "nbconvert_exporter": "python",
   "pygments_lexer": "ipython2",
   "version": "2.7.12"
  }
 },
 "nbformat": 4,
 "nbformat_minor": 0
}
