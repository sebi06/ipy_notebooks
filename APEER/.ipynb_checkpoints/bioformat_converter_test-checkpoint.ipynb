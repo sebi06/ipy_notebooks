{
 "cells": [
  {
   "cell_type": "markdown",
   "metadata": {},
   "source": [
    "## Converter Module\n",
    "\n",
    "This shows a Module that converts BioFormat Images to a tif file that contains an omexml as well as a 6D array"
   ]
  },
  {
   "cell_type": "code",
   "execution_count": 1,
   "metadata": {},
   "outputs": [],
   "source": [
    "import javabridge as jv\n",
    "import bioformats\n",
    "import skimage\n",
    "import numpy as np\n",
    "from lxml import etree as etl\n",
    "from xml.dom import minidom\n",
    "from skimage.external import tifffile\n",
    "import sys"
   ]
  },
  {
   "cell_type": "markdown",
   "metadata": {},
   "source": [
    "Helper Functions"
   ]
  },
  {
   "cell_type": "code",
   "execution_count": 2,
   "metadata": {},
   "outputs": [],
   "source": [
    "# Helper Functions from sebi06 github, that wrap bioformats\n",
    "\n",
    "BF2NP_DTYPE = {\n",
    "    0: np.int8,\n",
    "    1: np.uint8,\n",
    "    2: np.int16,\n",
    "    3: np.uint16,\n",
    "    4: np.int32,\n",
    "    5: np.uint32,\n",
    "    6: np.float32,\n",
    "    7: np.double\n",
    "}\n",
    "\n",
    "def get_dimension_only(imagefile, imageID=0):\n",
    "    \n",
    "    rdr = bioformats.get_image_reader(None, path=imagefile)\n",
    "    # for \"whatever\" reason the number of total series can only be accessed here ...\n",
    "    try:\n",
    "        totalseries = np.int(rdr.rdr.getSeriesCount())\n",
    "    except:\n",
    "        totalseries = 1  # in case there is only ONE series\n",
    "\n",
    "    series_dimensions = []\n",
    "    # cycle through all the series and check the dimensions\n",
    "    for sc in range(0, totalseries):\n",
    "        rdr.rdr.setSeries(sc)\n",
    "        dimx = rdr.rdr.getSizeX()\n",
    "        dimy = rdr.rdr.getSizeY()\n",
    "        series_dimensions.append((dimx, dimy))\n",
    "\n",
    "        if len(series_dimensions) == 1:\n",
    "            multires = False\n",
    "        elif len(series_dimensions) > 1:\n",
    "            if len(set(series_dimensions)) > 1:\n",
    "                multires = True\n",
    "            elif len(set(series_dimensions)) == 1:\n",
    "                multires = False\n",
    "    \n",
    "    # rdr.rdr is the actual BioFormats reader. rdr handles its lifetime\n",
    "    javametadata = jv.JWrapper(rdr.rdr.getMetadataStore())\n",
    "    imagecount = javametadata.getImageCount()\n",
    "    \n",
    "    imageIDs = []\n",
    "    for id in range(0, imagecount):\n",
    "        imageIDs.append(id)\n",
    "        \n",
    "    # get dimensions for CTZXY\n",
    "    metadata = get_metadata_store(imagefile)\n",
    "    pixels = metadata.image(imageID).Pixels\n",
    "    SizeC = pixels.SizeC\n",
    "    SizeT = pixels.SizeT\n",
    "    SizeZ = pixels.SizeZ\n",
    "    SizeX = pixels.SizeX\n",
    "    SizeY = pixels.SizeY\n",
    "\n",
    "    print('Series: ', totalseries)\n",
    "    print('Size T: ', SizeT)\n",
    "    print('Size Z: ', SizeZ)\n",
    "    print('Size C: ', SizeC)\n",
    "    print('Size X: ', SizeX)\n",
    "    print('Size Y: ', SizeY)\n",
    "\n",
    "    # usually the x-axis of an image is from left --> right and y from top --> bottom\n",
    "    # in order to be compatible with numpy arrays XY are switched\n",
    "    # for numpy arrays the 2st axis are columns (top --> down) = Y-Axis for an image\n",
    "\n",
    "    sizes = [totalseries, SizeT, SizeZ, SizeC, SizeY, SizeX]\n",
    "    rdr.close()\n",
    "    \n",
    "    return sizes, javametadata, totalseries, imageIDs, series_dimensions, multires\n",
    "\n",
    "\n",
    "def get_metadata_store(imagefile):\n",
    "    \n",
    "    # get OME-XML and change the encoding to UTF-8\n",
    "    omexml = get_OMEXML(imagefile)\n",
    "    # get the metadata from the OME-XML\n",
    "    omexmlmetadata = bioformats.OMEXML(omexml)\n",
    "    \n",
    "    return omexmlmetadata\n",
    "\n",
    "\n",
    "def get_image6d(imagefile, sizes, pyramid='single', pylevel=0):\n",
    "    \"\"\"\n",
    "    This function will read the image data and store them into a 6D numpy array.\n",
    "    The 6D array has the following dimension order: [Series, T, Z, C, X, Y].\n",
    "    \"\"\"\n",
    "    rdr = bioformats.ImageReader(imagefile, perform_init=True)\n",
    "    readstate = 'OK'\n",
    "    readproblems = []\n",
    "\n",
    "    if pyramid=='single':\n",
    "        \n",
    "        print('Reading single pyramid level ...')\n",
    "        sizes[0] = 1\n",
    "        img6d = np.zeros(sizes, dtype=BF2NP_DTYPE[rdr.rdr.getPixelType()])\n",
    "        \n",
    "        # main loop to read the images from the data file\n",
    "        for seriesID in range(pylevel, pylevel+1):\n",
    "            for timepoint in range(0, sizes[1]):\n",
    "                for zplane in range(0, sizes[2]):\n",
    "                    for channel in range(0, sizes[3]):\n",
    "                        try:\n",
    "                            img6d[seriesID, timepoint, zplane, channel, :, :] =\\\n",
    "                            rdr.read(series=seriesID, c=channel, z=zplane, t=timepoint, rescale=False)\n",
    "                        except:\n",
    "                            print('Problem reading data into Numpy Array for Series', seriesID, sys.exc_info()[1])\n",
    "                            readstate = 'NOK'\n",
    "                            readproblems = sys.exc_info()[1]\n",
    "    \n",
    "    if pyramid=='all':\n",
    "        \n",
    "        print('Reading all pyramid levels ...')\n",
    "        img6d = np.zeros(sizes, dtype=BF2NP_DTYPE[rdr.rdr.getPixelType()])\n",
    "    \n",
    "        # main loop to read the images from the data file\n",
    "        for seriesID in range(0, sizes[0]):\n",
    "            for timepoint in range(0, sizes[1]):\n",
    "                for zplane in range(0, sizes[2]):\n",
    "                    for channel in range(0, sizes[3]):\n",
    "                        try:\n",
    "                            img6d[seriesID, timepoint, zplane, channel, :, :] =\\\n",
    "                            rdr.read(series=seriesID, c=channel, z=zplane, t=timepoint, rescale=False)\n",
    "                        except:\n",
    "                            print('Problem reading data into Numpy Array for Series', seriesID, sys.exc_info()[1])\n",
    "                            readstate = 'NOK'\n",
    "                            readproblems = sys.exc_info()[1]\n",
    "\n",
    "    rdr.close()\n",
    "\n",
    "    return img6d, readstate\n",
    "\n",
    "\n",
    "def get_OMEXML(imagefile):\n",
    "\n",
    "    # get OME-XML and change the encoding to UTF-8\n",
    "    omexml = bioformats.get_omexml_metadata(imagefile)\n",
    "    omexml = omexml.encode('utf-8')\n",
    "    # omexml = unidecode(omexml)\n",
    "    \n",
    "    return omexml\n",
    "\n",
    "\n",
    "def prettify(rough_string):\n",
    "    \"\"\"Return a pretty-printed XML string for the Element.\n",
    "    \"\"\"\n",
    "    reparsed = minidom.parseString(rough_string)\n",
    "    return reparsed.toprettyxml(indent=\"  \")"
   ]
  },
  {
   "cell_type": "markdown",
   "metadata": {},
   "source": [
    "Import czi data (can be any bioformat)"
   ]
  },
  {
   "cell_type": "code",
   "execution_count": 3,
   "metadata": {},
   "outputs": [],
   "source": [
    "# Start Java VM\n",
    "jv.start_vm(class_path=bioformats.JARS)"
   ]
  },
  {
   "cell_type": "code",
   "execution_count": 4,
   "metadata": {},
   "outputs": [
    {
     "name": "stdout",
     "output_type": "stream",
     "text": [
      "Series:  4\n",
      "Size T:  1\n",
      "Size Z:  1\n",
      "Size C:  1\n",
      "Size X:  11286\n",
      "Size Y:  11313\n"
     ]
    }
   ],
   "source": [
    "#path = \"T=5_Z=3_CH=2_CZT_All_CH_per_Slice.czi\"\n",
    "path = r'c:\\Users\\m1srh\\OneDrive - Carl Zeiss AG\\Projects\\Apeer\\ZenCore_Workflows\\ParticleAnalysis\\Filtertest1_POL.czi'\n",
    "sizes, jmd, totalseries, imageIDs, series_dimensions, multires = get_dimension_only(path)"
   ]
  },
  {
   "cell_type": "code",
   "execution_count": 5,
   "metadata": {},
   "outputs": [
    {
     "name": "stdout",
     "output_type": "stream",
     "text": [
      "MultiRes :  True\n"
     ]
    }
   ],
   "source": [
    "print('MultiRes : ', multires)\n",
    "\n",
    "# to read only the highest resolution modify sizes\n",
    "#sizes[0] = 1\n",
    "#print(type(sizes))\n",
    "#MetaInfo['Sizes'][1]"
   ]
  },
  {
   "cell_type": "code",
   "execution_count": 6,
   "metadata": {},
   "outputs": [
    {
     "name": "stdout",
     "output_type": "stream",
     "text": [
      "Reading single pyramid level ...\n"
     ]
    },
    {
     "data": {
      "text/plain": [
       "(4, 1, 1, 1, 11313, 11286)"
      ]
     },
     "execution_count": 6,
     "metadata": {},
     "output_type": "execute_result"
    }
   ],
   "source": [
    "# Get Array with order [Series, T, Z, C, X, Y]\n",
    "array6D, readstate = get_image6d(path, sizes, pyramid='single', pylevel=0)\n",
    "#array6D, readstate = get_image6d_pylevel(path, sizes, pylevel=0)\n",
    "np.shape(array6D)"
   ]
  },
  {
   "cell_type": "code",
   "execution_count": null,
   "metadata": {},
   "outputs": [],
   "source": [
    "# Get Omexml\n",
    "omexml = get_OMEXML(path)\n",
    "omexmlString = prettify(omexml.decode(\"utf-8\"))"
   ]
  },
  {
   "cell_type": "code",
   "execution_count": null,
   "metadata": {},
   "outputs": [],
   "source": [
    "omexmlString_mod = omexmlString.replace('\\n      <MetadataOnly/>', '\\n      <TiffData/>')"
   ]
  },
  {
   "cell_type": "markdown",
   "metadata": {},
   "source": [
    "Export array and omexml to tif"
   ]
  },
  {
   "cell_type": "code",
   "execution_count": null,
   "metadata": {},
   "outputs": [],
   "source": [
    "outputname = 'T=5_Z=3_CH=2_CZT_All_CH_per_Slice.ome.tiff'"
   ]
  },
  {
   "cell_type": "code",
   "execution_count": null,
   "metadata": {},
   "outputs": [],
   "source": [
    "tifffile.imsave(outputname, array6D, description=omexmlString_mod, metadata={'axes': 'STZCXY'})"
   ]
  },
  {
   "cell_type": "code",
   "execution_count": null,
   "metadata": {},
   "outputs": [],
   "source": [
    "# Write Omexml to file with pretty format\n",
    "text_file = open(\"ome.xml\", \"w\")\n",
    "text_file.write(omexmlString_mod)\n",
    "text_file.close()"
   ]
  },
  {
   "cell_type": "markdown",
   "metadata": {},
   "source": [
    "Test output"
   ]
  },
  {
   "cell_type": "code",
   "execution_count": null,
   "metadata": {},
   "outputs": [],
   "source": [
    "test = tifffile.imread(outputname)\n",
    "np.shape(test)"
   ]
  },
  {
   "cell_type": "code",
   "execution_count": null,
   "metadata": {},
   "outputs": [],
   "source": [
    "jv.kill_vm()"
   ]
  }
 ],
 "metadata": {
  "kernelspec": {
   "display_name": "Python 3",
   "language": "python",
   "name": "python3"
  },
  "language_info": {
   "codemirror_mode": {
    "name": "ipython",
    "version": 3
   },
   "file_extension": ".py",
   "mimetype": "text/x-python",
   "name": "python",
   "nbconvert_exporter": "python",
   "pygments_lexer": "ipython3",
   "version": "3.7.1"
  }
 },
 "nbformat": 4,
 "nbformat_minor": 2
}
