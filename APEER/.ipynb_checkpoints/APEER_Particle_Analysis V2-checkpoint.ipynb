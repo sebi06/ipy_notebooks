{
 "cells": [
  {
   "cell_type": "code",
   "execution_count": 1,
   "metadata": {
    "slideshow": {
     "slide_type": "skip"
    }
   },
   "outputs": [],
   "source": [
    "import warnings\n",
    "warnings.filterwarnings('ignore')\n",
    "\n",
    "import os\n",
    "import sys\n",
    "sys.path.append(r'modules')\n",
    "from pathlib import Path\n",
    "\n",
    "import particleanalyzer as pa\n",
    "import itertools as it\n",
    "import numpy as np\n",
    "import pandas as pd\n",
    "import matplotlib.pyplot as plt\n",
    "#import matplotlib.patches as mpatches\n",
    "from skimage.external import tifffile\n",
    "from skimage.util.dtype import dtype_range\n",
    "from skimage import exposure\n",
    "from skimage.util import invert\n",
    "from skimage import img_as_ubyte\n",
    "from skimage.measure import label, regionprops\n",
    "from skimage.morphology import closing, square, remove_small_objects, remove_small_holes\n",
    "from skimage.color import label2rgb\n",
    "from skimage.segmentation import clear_border\n",
    "from skimage.filters import threshold_otsu\n",
    "import cv2 as cv\n",
    "from skimage.morphology import watershed\n",
    "from skimage.feature import peak_local_max\n",
    "from scipy import ndimage as ndi\n",
    "import seaborn as sns"
   ]
  },
  {
   "cell_type": "code",
   "execution_count": 2,
   "metadata": {
    "slideshow": {
     "slide_type": "slide"
    }
   },
   "outputs": [],
   "source": [
    "bfrpath = r'c:\\Users\\m1srh\\Documents\\GitHub\\BioFormatsRead'\n",
    "#bfrpath = r'd:\\Users\\m1srh\\Documents\\Github\\BioFormatsRead'\n",
    "bfpackage = r'c:\\Users\\m1srh\\Documents\\Software\\Bioformats\\5.9.2\\bioformats_package.jar'\n",
    "#bfpackage = r'd:\\Users\\m1srh\\Documents\\Github\\BioFormatsRead\\bfpackage\\5.9.2\\bioformats_package.jar'\n",
    "\n",
    "filename = r'c:\\Users\\m1srh\\OneDrive - Carl Zeiss AG\\Projects\\Apeer\\ZenCore_Workflows\\ParticleAnalysis\\Filtertest1_POL.czi'\n",
    "#filename = r'd:\\Users\\m1srh\\OneDrive - Carl Zeiss AG\\Projects\\Apeer\\ZenCore_Workflows\\ParticleAnalysis\\Filtertest1_POL.czi'"
   ]
  },
  {
   "cell_type": "code",
   "execution_count": 3,
   "metadata": {},
   "outputs": [],
   "source": [
    "array, czimd = pa.readczi(filename)"
   ]
  },
  {
   "cell_type": "code",
   "execution_count": 4,
   "metadata": {},
   "outputs": [
    {
     "data": {
      "text/plain": [
       "dict_keys(['Axes', 'Shape', 'Experiment', 'HardwareSetting', 'CustomAttributes', 'Information', 'PixelType', 'SizeX', 'SizeY', 'SizeZ', 'SizeC', 'SizeT', 'SizeM', 'Scaling', 'ScaleX', 'ScaleY', 'DisplaySetting', 'Layers'])"
      ]
     },
     "execution_count": 4,
     "metadata": {},
     "output_type": "execute_result"
    }
   ],
   "source": [
    "czimd.keys()"
   ]
  },
  {
   "cell_type": "code",
   "execution_count": 7,
   "metadata": {},
   "outputs": [
    {
     "name": "stdout",
     "output_type": "stream",
     "text": [
      "TCZYX0\n",
      "(1, 1, 1, 11313, 11286, 1)\n",
      "1\n",
      "1\n",
      "1\n",
      "11279\n",
      "11308\n",
      "0.546253428425691\n",
      "0.546253428425691\n"
     ]
    }
   ],
   "source": [
    "print(czimd['Axes'])\n",
    "print(czimd['Shape'])\n",
    "print(czimd['SizeT'])\n",
    "print(czimd['SizeZ'])\n",
    "print(czimd['SizeC'])\n",
    "print(czimd['SizeX'])\n",
    "print(czimd['SizeY'])\n",
    "print(czimd['ScaleX'])\n",
    "print(czimd['ScaleY'])\n",
    "print(czimd['ScaleZ'])"
   ]
  },
  {
   "cell_type": "code",
   "execution_count": null,
   "metadata": {
    "slideshow": {
     "slide_type": "slide"
    }
   },
   "outputs": [],
   "source": [
    "imgarray, omexml, metainfo = pa.readpaimage(filename, bfrpath=bfrpath,\n",
    "                                                      bfpackage=bfpackage,\n",
    "                                                      use_BF=True)"
   ]
  },
  {
   "cell_type": "code",
   "execution_count": null,
   "metadata": {
    "slideshow": {
     "slide_type": "skip"
    }
   },
   "outputs": [],
   "source": [
    "cut = True\n",
    "\n",
    "x1=2000\n",
    "x2=8000\n",
    "y1=2000\n",
    "y2=8000\n",
    "    \n",
    "array = np.squeeze(imgarray)\n",
    "\n",
    "if cut:\n",
    "    array = array[x1:x2, y1:y2]\n",
    "    print('Cutout Image Size :  ', array.shape)\n",
    "\n",
    "#array = img_as_ubyte(array)\n",
    "minpix = array.min()\n",
    "maxpix = array.max()"
   ]
  },
  {
   "cell_type": "code",
   "execution_count": null,
   "metadata": {},
   "outputs": [],
   "source": [
    "# Optional - Subtract minimum value from image before processing\n",
    "#array = array - array.min() + 1\n",
    "\n",
    "# Optional - Appy Median filter to image\n",
    "kernelsize = 3\n",
    "#array = cv.medianBlur(array, kernelsize)"
   ]
  },
  {
   "cell_type": "code",
   "execution_count": null,
   "metadata": {
    "slideshow": {
     "slide_type": "slide"
    }
   },
   "outputs": [],
   "source": [
    "# define number of bins for histogram\n",
    "bins = 256\n",
    "#bins = 'auto'\n",
    "savefig = True\n",
    "\n",
    "# define relative threshold - default = 65%\n",
    "th_rel = 0.65\n",
    "\n",
    "# create figure\n",
    "fig, ax = plt.subplots(1,2, figsize=(16, 8))\n",
    "\n",
    "# display original image subset\n",
    "ax[0].imshow(array, cmap=plt.cm.gray, interpolation='nearest')\n",
    "ax[0].set_title('Original Image', fontsize=16)\n",
    "xmin, xmax = dtype_range[array.dtype.type]\n",
    "\n",
    "# calculate histogram and return values\n",
    "values, bins, bars = ax[1].hist(array.ravel(), bins=bins)\n",
    "\n",
    "# find the index for the histogram peak\n",
    "v = np.where(values == values.max())\n",
    "\n",
    "# get the most frequent pixel value\n",
    "most_frequent_value = pa.findhistogrammpeak(values, bins)\n",
    "luminosity = np.round(most_frequent_value / 255 * 100, 0)\n",
    "\n",
    "# calculate threshold pixel value from relative threshold\n",
    "threshold = np.round(most_frequent_value * th_rel, 0)\n",
    "\n",
    "# customize plots\n",
    "ax[1].set_title('Histogram', fontsize=16)\n",
    "ax[1].ticklabel_format(axis='y', style='scientific', scilimits=(0, 0))\n",
    "ax[1].set_xlabel('Pixel intensity', fontsize=16)\n",
    "ax[1].set_ylabel('Frequency', fontsize=16)\n",
    "ax[1].set_xlim(xmin, xmax)\n",
    "\n",
    "# display distribution\n",
    "axh = ax[1].twinx()\n",
    "axh.vlines(most_frequent_value, 0, 1, colors='r', linestyles='solid', lw=5, label='most frequent pixel value')\n",
    "axh.vlines(threshold, 0, 1, colors='g', linestyles='solid', lw=5, label='pixel threshold')\n",
    "axh.set_ylim(0, 1)\n",
    "axh.legend(loc='upper left')\n",
    "\n",
    "# turn off tick labels\n",
    "axh.set_yticklabels([])\n",
    "\n",
    "if savefig:\n",
    "    savename = filename[:-4] + '_Histogram.png'\n",
    "    fig.savefig(savename, dpi=100, orientation='portrait', transparent=False, frameon=False)\n",
    "\n",
    "print('Index for this Value      : ', v[0])\n",
    "print('Most frequent Pixel Value : ', most_frequent_value)\n",
    "print('Luminosity [%]            : ', luminosity)\n",
    "print('Relative Treshold Value   : ', th_rel)\n",
    "print('abs. Treshold Value       : ', threshold)"
   ]
  },
  {
   "cell_type": "code",
   "execution_count": null,
   "metadata": {
    "slideshow": {
     "slide_type": "slide"
    }
   },
   "outputs": [],
   "source": [
    "savefig = True\n",
    "\n",
    "# apply the threshold to the image and invert the result to get the dark particles\n",
    "th_img = pa.autoThresholding(array, method='value_based', value=threshold)\n",
    "th_img = invert(th_img)\n",
    "\n",
    "# dosplay the result\n",
    "fig, ax = plt.subplots(1,2, figsize=(16, 8))\n",
    "\n",
    "ax[0].imshow(array, cmap=plt.cm.gray, interpolation='nearest')\n",
    "ax[1].imshow(th_img)\n",
    "\n",
    "ax[0].set_title('Original Image', fontsize=16)\n",
    "ax[1].set_title('Thresholded Image', fontsize=16)\n",
    "plt.show()\n",
    "\n",
    "if savefig:\n",
    "    savename = filename[:-4] + '_Threshold.png'\n",
    "    fig.savefig(savename, dpi=100, orientation='portrait', transparent=False, frameon=False)"
   ]
  },
  {
   "cell_type": "code",
   "execution_count": null,
   "metadata": {
    "slideshow": {
     "slide_type": "skip"
    }
   },
   "outputs": [],
   "source": [
    "# remover particles from the edge\n",
    "th_img = clear_border(th_img)\n",
    "\n",
    "# label the particles\n",
    "img_label, num_label = label(th_img, background=0, return_num=True, connectivity=2)\n",
    "\n",
    "print('Initial Number of Particles       : ', num_label)"
   ]
  },
  {
   "cell_type": "code",
   "execution_count": null,
   "metadata": {
    "slideshow": {
     "slide_type": "skip"
    }
   },
   "outputs": [],
   "source": [
    "remove_small = True\n",
    "\n",
    "# remove small objects\n",
    "if remove_small:\n",
    "    min_particle_area_micron = 2\n",
    "    min_particle_size_pixel = np.int(np.round(min_particle_area_micron / (metainfo['XScale']**2), 0))\n",
    "    print('Minimum Particle Size [micron**2] :  {:.2f}'.format(min_particle_area_micron))\n",
    "    print('Minimum Particle Size [pixel]     :  {:.2f}'.format(min_particle_size_pixel))\n",
    "\n",
    "    img_label = remove_small_objects(img_label, min_particle_size_pixel, in_place=False)"
   ]
  },
  {
   "cell_type": "code",
   "execution_count": null,
   "metadata": {
    "slideshow": {
     "slide_type": "slide"
    }
   },
   "outputs": [],
   "source": [
    "pclasses = {'A': [0, 5],\n",
    "            'B': [5, 15],\n",
    "            'C': [15, 25],\n",
    "            'D': [25, 50],\n",
    "            'E': [50, 1000],\n",
    "            'F': [100, 150],\n",
    "            'G': [150, 200],\n",
    "            'H': [200, 400],\n",
    "            'I': [400, 600],\n",
    "            'J': [600, 1000],\n",
    "            'K': [1000, 1500],\n",
    "            'L': [1500, 2000],\n",
    "            'M': [2000, 3000],\n",
    "            'N': [3000, np.inf]\n",
    "           }\n",
    "\n",
    "pcolors = {'A': 0,\n",
    "           'B': 1,\n",
    "           'C': 2,\n",
    "           'D': 3,\n",
    "           'E': 4,\n",
    "           'F': 5,\n",
    "           'G': 6,\n",
    "           'H': 7,\n",
    "           'I': 8,\n",
    "           'J': 9,\n",
    "           'K': 10,\n",
    "           'L': 11,\n",
    "           'M': 12,\n",
    "           'N': 13\n",
    "           }"
   ]
  },
  {
   "cell_type": "code",
   "execution_count": null,
   "metadata": {
    "slideshow": {
     "slide_type": "slide"
    }
   },
   "outputs": [],
   "source": [
    "savefig = True\n",
    "\n",
    "# show original image only and labels (optional)\n",
    "#image_label_overlay = label2rgb(img_label, image=array, bg_label=0)\n",
    "#image_label_overlay = img_label\n",
    "image_label_overlay = array\n",
    "\n",
    "# display the labelled image\n",
    "fig, ax_label = plt.subplots(figsize=(16, 16))\n",
    "ax_label.imshow(image_label_overlay, cmap=plt.cm.gray, interpolation='nearest')\n",
    "\n",
    "# minimum value for parameter to digard a particle\n",
    "mv_feretmax = 5\n",
    "\n",
    "# offset to make bounding boxes a \"bit bigger\"\n",
    "offset = 10\n",
    "drawrect = True\n",
    "\n",
    "# create emtpy dictionary for all the particles and lust for particle classes\n",
    "objects = {}\n",
    "#particleclasses = []\n",
    "\n",
    "skipped = 0\n",
    "\n",
    "# loop over all detected objects\n",
    "for region in regionprops(img_label, intensity_image=array, cache=True, coordinates='xy'):\n",
    "    \n",
    "    properties = pa.get_particleproperties(region, img_label, array, pclasses, pcolors, scaleXY=metainfo['XScale'])\n",
    "    \n",
    "    # store parameters of current object in dictionary for all objects\n",
    "    objects[region.label] = properties\n",
    "\n",
    "    if drawrect and objects[region.label]['FeretMax'] >= mv_feretmax:\n",
    "        # draw rectangle around segmented particles and make the bounding rectangle bigger\n",
    "        ax, rect = pa.create_rectangles(ax_label, properties, region, offset=offset, lw=3)\n",
    "        \n",
    "    # check for small particles and delete entry from dict\n",
    "    if objects[region.label]['FeretMax'] < mv_feretmax:\n",
    "        objects.pop(region.label, None)\n",
    "        skipped = skipped + 1\n",
    "\n",
    "print('Skipped Particles : ', skipped)\n",
    "\n",
    "if savefig:\n",
    "    savename = filename[:-4] + '_Detections.png'\n",
    "    fig.savefig(savename, dpi=100, orientation='portrait', transparent=False, frameon=False)"
   ]
  },
  {
   "cell_type": "code",
   "execution_count": null,
   "metadata": {
    "slideshow": {
     "slide_type": "skip"
    }
   },
   "outputs": [],
   "source": [
    "# count number of particles and fibers\n",
    "num_all_objects, num_fibers, num_particles, num_ND = pa.count_objecttypes(objects)\n",
    "\n",
    "# calculate number of needed columns and rows for particle grid plot\n",
    "nr, nc = pa.calc_grid(num_all_objects)\n",
    "\n",
    "# create list with all particle IDs\n",
    "ids = list(objects)\n",
    "\n",
    "print('All Objects :', num_all_objects)\n",
    "print('Particles   :', num_particles)\n",
    "print('Fibers      :', num_fibers)\n",
    "print('Not Defined :', num_ND)"
   ]
  },
  {
   "cell_type": "code",
   "execution_count": null,
   "metadata": {},
   "outputs": [],
   "source": [
    "# get all IDs for particles detected as fibers\n",
    "fiber_ids = pa.find_fibers(objects)\n",
    "print('Fiber IDs: ', fiber_ids)"
   ]
  },
  {
   "cell_type": "code",
   "execution_count": null,
   "metadata": {},
   "outputs": [],
   "source": [
    "savefig = True\n",
    "id2show = 157\n",
    "obj = objects[id2show]\n",
    "\n",
    "print('Class                : ', obj['Class'])\n",
    "print('Area         [micron]:  {:.2f}'.format(obj['Area']))\n",
    "print('FeretMax     [micron]:  {:.2f}'.format(obj['FeretMax']))\n",
    "print('FeretMin     [micron]:  {:.2f}'.format(obj['FeretMin']))\n",
    "print('FeretRatio           :  {:.2f}'.format(obj['FeretRatio']))\n",
    "print('FiberLength  [micron]:  {:.2f}'.format(obj['FiberLength']))\n",
    "print('IsFiber              : ', obj['IsFiber'])\n",
    "print('Perimeter    [micron]:  {:.2f}'.format(obj['Perimeter']))\n",
    "print('Diameter MIC [micron]:  {:.2f}'.format(obj['maxMIC']))\n",
    "\n",
    "fig, axobj = plt.subplots(figsize=(8, 8))\n",
    "\n",
    "if obj['IsFiber']:\n",
    "    axobj.imshow(obj['IntensityImage'], cmap=plt.cm.hot)\n",
    "if not obj['IsFiber']:\n",
    "    axobj.imshow(obj['IntensityImage'], cmap='viridis')\n",
    "\n",
    "axobj.set_facecolor('grey')\n",
    "axobj.set_title('Particle ID:' + str(id2show) + ' - Class:' + obj['Class'] + ' - IsFiber:' + str(obj['IsFiber']))\n",
    "\n",
    "if savefig:\n",
    "    savename = filename[:-4] + '_ID=' + str(id2show) + '.png'\n",
    "    fig.savefig(savename, dpi=100, orientation='portrait', transparent=False, frameon=False)"
   ]
  },
  {
   "cell_type": "code",
   "execution_count": null,
   "metadata": {
    "slideshow": {
     "slide_type": "slide"
    }
   },
   "outputs": [],
   "source": [
    "showgridplot = True\n",
    "savefig = True\n",
    "maxcols = 15\n",
    "\n",
    "if showgridplot:\n",
    "\n",
    "    # create subplots\n",
    "    fig, axp = plt.subplots(nrows=nr, ncols=maxcols, figsize=(16, 16), subplot_kw={'xticks': [], 'yticks': []})\n",
    "    fig.subplots_adjust(left=0.03, right=0.97, hspace=0.5, wspace=0.05)\n",
    "\n",
    "    count = 0\n",
    "\n",
    "    for axpp, pid in zip(axp.flat, ids):\n",
    "\n",
    "        count = count + 1\n",
    "\n",
    "        # extract the image of the current particle\n",
    "        p = objects[pid]['IntensityImage']\n",
    "        c = objects[pid]['Class']\n",
    "\n",
    "        if objects[pid]['IsFiber']:\n",
    "            axpp.imshow(p, cmap=plt.cm.hot, interpolation='nearest')\n",
    "\n",
    "        if not objects[pid]['IsFiber']:\n",
    "            axpp.imshow(p, cmap='viridis', interpolation='nearest')\n",
    "\n",
    "        axpp.set_title(str(pid) + ' - ' + c)\n",
    "        axpp.set_facecolor('white')\n",
    "\n",
    "    # remove empty axes\n",
    "    for ad in range(num_particles, nr*maxcols):\n",
    "        fig.delaxes(axp.flatten()[ad])\n",
    "        \n",
    "    if savefig:\n",
    "        savename = filename[:-4] + '_Grid.png'\n",
    "        fig.savefig(savename, dpi=100, orientation='portrait', transparent=False, frameon=False)"
   ]
  },
  {
   "cell_type": "code",
   "execution_count": null,
   "metadata": {
    "slideshow": {
     "slide_type": "skip"
    }
   },
   "outputs": [],
   "source": [
    "# create list for a specific parameter\n",
    "parameters = []\n",
    "paramstring = 'FeretMax'\n",
    "\n",
    "for k in objects.keys():\n",
    "    parameters.append(objects[k][paramstring])\n",
    "    \n",
    "param_array = np.asarray(parameters)\n",
    "param_array.shape"
   ]
  },
  {
   "cell_type": "code",
   "execution_count": null,
   "metadata": {
    "slideshow": {
     "slide_type": "slide"
    }
   },
   "outputs": [],
   "source": [
    "savefig = True\n",
    "\n",
    "# create figure\n",
    "fig, ax_area = plt.subplots(1,1, figsize=(12, 8))\n",
    "\n",
    "# Display histogram and return values\n",
    "p_values, p_bins, p_bars = ax_area.hist(param_array.ravel(),\n",
    "                                        bins='auto',\n",
    "                                        #bins=256,\n",
    "                                        align='mid',\n",
    "                                        rwidth=0.5,\n",
    "                                        log=False,\n",
    "                                        color='red',\n",
    "                                        label=paramstring)\n",
    "\n",
    "# find the index for the highest values\n",
    "v_param = np.where(p_values == p_values.max())\n",
    "\n",
    "# get the most frequent pixel value\n",
    "p_most_frequent_value = pa.findhistogrammpeak(p_values, p_bins)\n",
    "\n",
    "p_mean = np.round(param_array.mean(), 1)\n",
    "p_median = np.round(np.median(param_array), 1)\n",
    "p_std = np.round(param_array.std(), 1)\n",
    "\n",
    "#ax_area.ticklabel_format(axis='y', style='scientific', scilimits=(0, 0))\n",
    "ax_area.set_xlabel(paramstring, fontsize=16)\n",
    "ax_area.set_ylabel('Frequency', fontsize=16)\n",
    "ax_area.set_xlim(0, param_array.max())\n",
    "ax_area.grid(True)\n",
    "ax_area.legend(loc='center right')\n",
    "\n",
    "# plot vertical lines for mean an median values\n",
    "ax_area1 = ax_area.twinx()\n",
    "ax_area1.vlines(p_mean, 0, 1, colors='b', linestyles='dashed', lw=5, label='Mean')\n",
    "ax_area1.vlines(p_median, 0, 1, colors='g', linestyles='dashed', lw=5, label='Median')\n",
    "ax_area1.set_ylim(0, 1)\n",
    "ax_area1.legend(loc='upper right')\n",
    "# Turn off tick labels\n",
    "ax_area1.set_yticklabels([])\n",
    "\n",
    "if savefig:\n",
    "    savename = filename[:-4] + '_' +paramstring + '_Dist.png'\n",
    "    fig.savefig(savename, dpi=100, orientation='portrait', transparent=False, frameon=False)\n",
    "\n",
    "print('Most frequent Value       : ', p_most_frequent_value)\n",
    "print('Index for this Value      : ', v_param[0])\n",
    "print('Minimum Particle Size     :  {:.2f}'.format(param_array.min()))\n",
    "print('Maximum Particle Size     :  {:.2f}'.format(param_array.max()))\n",
    "print('Mean Particle Size        :  {:.2f}'.format(p_mean))\n",
    "print('Median Particle Size      :  {:.2f}'.format(p_median))\n",
    "print('Std. Dev. Particle Size   :  {:.2f}'.format(p_std))"
   ]
  },
  {
   "cell_type": "code",
   "execution_count": null,
   "metadata": {
    "slideshow": {
     "slide_type": "slide"
    }
   },
   "outputs": [],
   "source": [
    "# create pandas dataframe with all particles\n",
    "df = pd.DataFrame(objects)\n",
    "df = df.transpose().reset_index()\n",
    "df = df.drop(['ClassColor', 'LabelImage', 'IntensityImage'], axis=1)\n",
    "df.rename(index=str, columns={\"index\": \"ParticleID\"}, inplace=True)\n",
    "\n",
    "# define new order of columns\n",
    "columnsTitles=['ParticleID',\n",
    "               'Class',\n",
    "               'Area',\n",
    "               'IsFiber',\n",
    "               'FiberLength',\n",
    "               'FeretMin',\n",
    "               'FeretMax',\n",
    "               'FeretRatio',\n",
    "               'maxMIC',\n",
    "               'Perimeter']\n",
    "\n",
    "# do the reindexing and show the dataframe\n",
    "df= df.reindex(columns=columnsTitles)\n",
    "df[:10]"
   ]
  },
  {
   "cell_type": "code",
   "execution_count": null,
   "metadata": {},
   "outputs": [],
   "source": [
    "savefig = True\n",
    "\n",
    "# display the result for the particle classes and their respective counts\n",
    "fig, ax = plt.subplots(1,1, figsize=(12, 8))\n",
    "ax = sns.countplot(x=\"Class\", data=df)\n",
    "ax.grid(True)\n",
    "ax.set_title('Particle Class Distribution: ' + metainfo['Filename'], fontsize = 18)\n",
    "ax.set_xlabel('Class', fontsize=16)\n",
    "ax.set_ylabel('Count', fontsize=16)\n",
    "ax.tick_params(axis = 'both', which = 'major', labelsize = 14)\n",
    "\n",
    "if savefig:\n",
    "    savename = filename[:-4] + '_ClassCounts.png'\n",
    "    fig.savefig(savename, dpi=100, orientation='portrait', transparent=False, frameon=False)"
   ]
  },
  {
   "cell_type": "code",
   "execution_count": null,
   "metadata": {
    "slideshow": {
     "slide_type": "slide"
    }
   },
   "outputs": [],
   "source": [
    "# write data to excel sheet and csv\n",
    "write2excel = True\n",
    "write2csv = True\n",
    "\n",
    "\n",
    "# get filename without extension\n",
    "basename_woext = os.path.basename(filename).split('.')[0]\n",
    "basepath = os.path.dirname(filename)\n",
    "\n",
    "# define name for excelsheet and csvtable\n",
    "excelfile = os.path.join(basepath, basename_woext + '_PA_Results.xlsx')\n",
    "csvfile = os.path.join(basepath, basename_woext + '_PA_Results.csv')\n",
    "\n",
    "if write2excel:\n",
    "    # check for an already existing file and skip saving it in case it exists already\n",
    "    resultfile_excel = Path(excelfile)\n",
    "    if not resultfile_excel.is_file():\n",
    "        writer = pd.ExcelWriter(excelfile)\n",
    "        df.to_excel(writer,'Particle Analysis Results')\n",
    "        writer.save()\n",
    "        print('Saved results Excel :', excelfile)\n",
    "\n",
    "    elif resultfile_excel.is_file():\n",
    "        print('Excel File already exits. Did not write anything.')\n",
    "    \n",
    "if write2csv:\n",
    "    # check for an already existing file and skip saving it in case it exists already\n",
    "    resultfile_csv = Path(csvfile)\n",
    "    if not resultfile_csv.is_file():\n",
    "        df.to_csv(csvfile, index=False, header=True, decimal='.', sep='\\t')\n",
    "        print('Saved results CSV :', csvfile)\n",
    "\n",
    "    elif resultfile_csv.is_file():\n",
    "        print('CSV File already exits. Did not write anything.')"
   ]
  },
  {
   "cell_type": "markdown",
   "metadata": {
    "slideshow": {
     "slide_type": "skip"
    }
   },
   "source": [
    "cd c:\\Users\\m1srh\\OneDrive - Carl Zeiss AG\\IPython_Notebooks\\ZEN_Wellplate_Analysis_Pandas\\\n",
    "\n",
    "jupyter nbconvert ZEN_Wellplate_Analysis_Pandas_Translocation_Tutorial.ipynb --to slides --post serve\n",
    "\n",
    "jupyter nbconvert ZEN_Wellplate_Analysis_Pandas_Translocation_Tutorial.ipynb --to slides --post serve --SlidesExporter.reveal_theme=serif --SlidesExporter.reveal_scroll=True --SlidesExporter.reveal_transition=none"
   ]
  }
 ],
 "metadata": {
  "celltoolbar": "Slideshow",
  "kernelspec": {
   "display_name": "Python 3",
   "language": "python",
   "name": "python3"
  },
  "language_info": {
   "codemirror_mode": {
    "name": "ipython",
    "version": 3
   },
   "file_extension": ".py",
   "mimetype": "text/x-python",
   "name": "python",
   "nbconvert_exporter": "python",
   "pygments_lexer": "ipython3",
   "version": "3.7.1"
  }
 },
 "nbformat": 4,
 "nbformat_minor": 2
}
