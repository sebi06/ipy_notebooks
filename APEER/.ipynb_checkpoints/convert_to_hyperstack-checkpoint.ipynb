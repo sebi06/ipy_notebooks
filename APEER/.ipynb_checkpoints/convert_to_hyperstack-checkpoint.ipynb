{
 "cells": [
  {
   "cell_type": "markdown",
   "metadata": {},
   "source": [
    "## Conert to Hyperstack\n",
    "\n",
    "This demonstates a Module that would input a tif file with a high dimensional array (stack), with the output being a hyperstack that can be read by Fiji\n",
    "\n",
    "This is motivated by the article: https://metarabbit.wordpress.com/2014/04/30/building-imagej-hyperstacks-from-python/comment-page-1/"
   ]
  },
  {
   "cell_type": "code",
   "execution_count": 2,
   "metadata": {},
   "outputs": [],
   "source": [
    "from skimage.external import tifffile\n",
    "import itertools as it\n",
    "import numpy as np\n",
    "from skimage.filters import threshold_otsu\n",
    "import matplotlib.pyplot as plt\n",
    "import tempfile\n",
    "import shutil\n",
    "from os import system\n",
    "from skimage import io\n",
    "import mahotas as mh \n",
    "from skimage.external import tifffile\n",
    "# pip install mahotas"
   ]
  },
  {
   "cell_type": "code",
   "execution_count": 3,
   "metadata": {},
   "outputs": [
    {
     "data": {
      "text/plain": [
       "(1, 5, 3, 2, 640, 640)"
      ]
     },
     "execution_count": 3,
     "metadata": {},
     "output_type": "execute_result"
    }
   ],
   "source": [
    "# Read array and omexml\n",
    "with tifffile.TiffFile('thresImage.tif') as tif:\n",
    "    array6D = tif.asarray()\n",
    "    omexml = tif[0].image_description\n",
    "    \n",
    "nS, nT, nZ, nC, nX, nY = np.shape(array6D)\n",
    "(nS, nT, nZ, nC, nX, nY)"
   ]
  },
  {
   "cell_type": "code",
   "execution_count": 4,
   "metadata": {},
   "outputs": [
    {
     "data": {
      "text/plain": [
       "(2, 3, 640, 640)"
      ]
     },
     "execution_count": 4,
     "metadata": {},
     "output_type": "execute_result"
    }
   ],
   "source": [
    "# [Series, T, Z, C, X, Y]\n",
    "# (c,z,x,y)\n",
    "imgage4D = array6D[0,0,:,:,:,:]\n",
    "imgage4D = np.swapaxes(imgage4D, 0, 1)\n",
    "np.shape(imgage4D)"
   ]
  },
  {
   "cell_type": "code",
   "execution_count": 5,
   "metadata": {},
   "outputs": [],
   "source": [
    "outPath = 'hyperstack.tif'"
   ]
  },
  {
   "cell_type": "code",
   "execution_count": 6,
   "metadata": {},
   "outputs": [
    {
     "data": {
      "text/plain": [
       "'ImageJ=1.47a\\nimages=6\\nchannels=2\\nslices=3\\nhyperstack=true\\nmode=color\\nloop=false'"
      ]
     },
     "execution_count": 6,
     "metadata": {},
     "output_type": "execute_result"
    }
   ],
   "source": [
    "_imagej_metadata = \"\"\"ImageJ=1.47a\n",
    "images={nr_images}\n",
    "channels={nr_channels}\n",
    "slices={nr_slices}\n",
    "hyperstack=true\n",
    "mode=color\n",
    "loop=false\"\"\"\n",
    "\n",
    "# We create a directory to save the results\n",
    "tmp_dir = tempfile.mkdtemp(prefix='hyperstack')\n",
    "\n",
    "# Channels are in first dimension\n",
    "nr_channels = imgage4D.shape[0]\n",
    "nr_slices = imgage4D.shape[1]\n",
    "nr_images = nr_channels*nr_slices\n",
    "metadata = _imagej_metadata.format(nr_images=nr_images, nr_slices=nr_slices, nr_channels=nr_channels)\n",
    "metadata"
   ]
  },
  {
   "cell_type": "code",
   "execution_count": null,
   "metadata": {},
   "outputs": [],
   "source": [
    "# size of pixel in microns\n",
    "umPerPix = [0.7, 0.7]\n",
    "# for TIFF tags one needs to convert because: Resolution in TIFF is defined as \"number of pixels per resolution unit\"\n",
    "resolution = [1/umPerPix[0], 1/umPerPix[1]]"
   ]
  },
  {
   "cell_type": "code",
   "execution_count": 76,
   "metadata": {},
   "outputs": [],
   "source": [
    "frames = []\n",
    "next = 0\n",
    "for s1 in range(imgage4D.shape[1]):\n",
    "    for s0 in range(imgage4D.shape[0]):\n",
    "        fname = '{}/s{:03}.tiff'.format(tmp_dir,next)\n",
    "        # Do not forget to output the metadata!\n",
    "        # mh.imsave(fname, imgage4D[s0,s1], metadata=metadata)\n",
    "        tifffile.imsave(fname, imgage4D[s0,s1],\n",
    "                        description=metadata,\n",
    "                        resolution=resolution)\n",
    "        frames.append(fname)\n",
    "        next += 1"
   ]
  },
  {
   "cell_type": "code",
   "execution_count": 77,
   "metadata": {},
   "outputs": [
    {
     "data": {
      "text/plain": [
       "'stack.ome.tif'"
      ]
     },
     "execution_count": 77,
     "metadata": {},
     "output_type": "execute_result"
    }
   ],
   "source": [
    "cmd = \"tiffcp {inputs} {tmp_dir}/stacked.tiff\".format(inputs=\" \".join(frames), tmp_dir=tmp_dir)\n",
    "r = system(cmd)\n",
    "if r != 0:\n",
    "    raise IOError('tiffcp call failed')\n",
    "shutil.copy('{tmp_dir}/stacked.tiff'.format(tmp_dir=tmp_dir), \"stack.tif\")"
   ]
  },
  {
   "cell_type": "code",
   "execution_count": 78,
   "metadata": {},
   "outputs": [],
   "source": [
    "shutil.rmtree(tmp_dir)"
   ]
  }
 ],
 "metadata": {
  "kernelspec": {
   "display_name": "Python 3",
   "language": "python",
   "name": "python3"
  },
  "language_info": {
   "codemirror_mode": {
    "name": "ipython",
    "version": 3
   },
   "file_extension": ".py",
   "mimetype": "text/x-python",
   "name": "python",
   "nbconvert_exporter": "python",
   "pygments_lexer": "ipython3",
   "version": "3.7.0"
  }
 },
 "nbformat": 4,
 "nbformat_minor": 2
}
