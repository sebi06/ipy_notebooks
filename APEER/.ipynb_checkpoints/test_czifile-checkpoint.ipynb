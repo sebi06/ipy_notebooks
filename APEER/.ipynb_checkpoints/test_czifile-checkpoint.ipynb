{
 "cells": [
  {
   "cell_type": "code",
   "execution_count": 1,
   "metadata": {},
   "outputs": [],
   "source": [
    "import zisraw as zis\n",
    "import numpy as np\n",
    "import xml.etree.ElementTree as ET\n",
    "import xmltodict\n",
    "from skimage.external import tifffile"
   ]
  },
  {
   "cell_type": "code",
   "execution_count": 2,
   "metadata": {},
   "outputs": [],
   "source": [
    "#filename = r'T=5_Z=3_CH=2_CZT_All_CH_per_Slice.czi'\n",
    "filename = r'c:\\Users\\m1srh\\Documents\\Testdata_Zeiss\\Castor\\Z-Stack_DCV\\25X-Z-Stack_T_Subframe6-Deconvolution_small.czi'\n",
    "#filename = r'c:\\Users\\m1srh\\OneDrive - Carl Zeiss AG\\Projects\\Apeer\\ZenCore_Workflows\\ParticleAnalysis\\Filtertest1_POLsm.czi'"
   ]
  },
  {
   "cell_type": "code",
   "execution_count": 3,
   "metadata": {},
   "outputs": [],
   "source": [
    "czi = zis.CziFile(filename)"
   ]
  },
  {
   "cell_type": "code",
   "execution_count": 4,
   "metadata": {},
   "outputs": [],
   "source": [
    "array = czi.asarray()\n",
    "md = czi.metadata\n",
    "tree = tree = ET.ElementTree(ET.fromstring(md))\n",
    "root = ET.fromstring(md)"
   ]
  },
  {
   "cell_type": "code",
   "execution_count": 5,
   "metadata": {},
   "outputs": [
    {
     "name": "stdout",
     "output_type": "stream",
     "text": [
      "Metadata {}\n"
     ]
    }
   ],
   "source": [
    "for child in root:\n",
    "    print(child.tag, child.attrib)"
   ]
  },
  {
   "cell_type": "code",
   "execution_count": 6,
   "metadata": {},
   "outputs": [
    {
     "name": "stdout",
     "output_type": "stream",
     "text": [
      "{}\n",
      "{}\n"
     ]
    }
   ],
   "source": [
    "for neighbor in root.iter('Metadata'):\n",
    "    print(neighbor.attrib)"
   ]
  },
  {
   "cell_type": "code",
   "execution_count": 7,
   "metadata": {},
   "outputs": [],
   "source": [
    "metadata = xmltodict.parse(md)\n",
    "    \n",
    "metadata.keys()\n",
    "#md_experiment = metadata['ImageDocument']['Metadata']['Experiment']\n",
    "md_hws = metadata['ImageDocument']['Metadata']['HardwareSetting']\n",
    "md_custom = metadata['ImageDocument']['Metadata']['CustomAttributes']\n",
    "md_info = metadata['ImageDocument']['Metadata']['Information']\n",
    "md_scaling = metadata['ImageDocument']['Metadata']['Scaling']\n",
    "md_ds = metadata['ImageDocument']['Metadata']['DisplaySetting']\n",
    "md_layers = metadata['ImageDocument']['Metadata']['Layers']"
   ]
  },
  {
   "cell_type": "code",
   "execution_count": 8,
   "metadata": {},
   "outputs": [
    {
     "data": {
      "text/plain": [
       "odict_keys(['Metadata', 'AutoScaling', 'Items'])"
      ]
     },
     "execution_count": 8,
     "metadata": {},
     "output_type": "execute_result"
    }
   ],
   "source": [
    "md_scaling.keys()"
   ]
  },
  {
   "cell_type": "code",
   "execution_count": 19,
   "metadata": {},
   "outputs": [
    {
     "name": "stdout",
     "output_type": "stream",
     "text": [
      "0.546253428425691 0.546253428425691 1000000.0\n"
     ]
    }
   ],
   "source": [
    "xscale_micron = float(md_scaling['Items']['Distance'][0]['Value']) * 1000000\n",
    "yscale_micron = float(md_scaling['Items']['Distance'][1]['Value']) * 1000000\n",
    "zscale_micron = float(md_scaling['Items']['Pixel']['Value']) * 1000000\n",
    "print(xscale_micron, yscale_micron, zscale_micron)"
   ]
  },
  {
   "cell_type": "code",
   "execution_count": 17,
   "metadata": {},
   "outputs": [
    {
     "data": {
      "text/plain": [
       "'1'"
      ]
     },
     "execution_count": 17,
     "metadata": {},
     "output_type": "execute_result"
    }
   ],
   "source": [
    "md_scaling['Items']['Pixel']['Value']"
   ]
  },
  {
   "cell_type": "code",
   "execution_count": null,
   "metadata": {},
   "outputs": [],
   "source": [
    "md_info.keys()"
   ]
  },
  {
   "cell_type": "code",
   "execution_count": null,
   "metadata": {},
   "outputs": [],
   "source": [
    "md_info['Image']\n",
    "pixeltype = md_info['Image']['PixelType']\n",
    "sizeX = md_info['Image']['SizeX']\n",
    "sizey = md_info['Image']['SizeY']\n",
    "sizez = md_info['Image']['SizeZ']\n",
    "sizec = md_info['Image']['SizeC']\n",
    "sizet = md_info['Image']['SizeT']\n",
    "sizem = md_info['Image']['SizeM']"
   ]
  },
  {
   "cell_type": "code",
   "execution_count": null,
   "metadata": {},
   "outputs": [],
   "source": []
  },
  {
   "cell_type": "code",
   "execution_count": null,
   "metadata": {},
   "outputs": [],
   "source": []
  }
 ],
 "metadata": {
  "kernelspec": {
   "display_name": "Python 3",
   "language": "python",
   "name": "python3"
  },
  "language_info": {
   "codemirror_mode": {
    "name": "ipython",
    "version": 3
   },
   "file_extension": ".py",
   "mimetype": "text/x-python",
   "name": "python",
   "nbconvert_exporter": "python",
   "pygments_lexer": "ipython3",
   "version": "3.7.1"
  }
 },
 "nbformat": 4,
 "nbformat_minor": 2
}
