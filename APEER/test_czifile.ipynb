{
 "cells": [
  {
   "cell_type": "code",
   "execution_count": 1,
   "metadata": {},
   "outputs": [],
   "source": [
    "import zisraw as zis\n",
    "import numpy as np\n",
    "import xml.etree.ElementTree as ET\n",
    "import xmltodict\n",
    "from skimage.external import tifffile"
   ]
  },
  {
   "cell_type": "code",
   "execution_count": 2,
   "metadata": {},
   "outputs": [],
   "source": [
    "#filename = r'T=5_Z=3_CH=2_CZT_All_CH_per_Slice.czi'\n",
    "filename = r'c:\\Users\\m1srh\\Documents\\Testdata_Zeiss\\Castor\\Z-Stack_DCV\\25X-Z-Stack_T_Subframe6-Deconvolution_small.czi'\n",
    "#filename = r'c:\\Users\\m1srh\\OneDrive - Carl Zeiss AG\\Projects\\Apeer\\ZenCore_Workflows\\ParticleAnalysis\\Filtertest1_POLsm.czi'"
   ]
  },
  {
   "cell_type": "code",
   "execution_count": 3,
   "metadata": {},
   "outputs": [],
   "source": [
    "czi = zis.CziFile(filename)"
   ]
  },
  {
   "cell_type": "code",
   "execution_count": 4,
   "metadata": {},
   "outputs": [],
   "source": [
    "array = czi.asarray()\n",
    "md = czi.metadata\n",
    "tree = tree = ET.ElementTree(ET.fromstring(md))\n",
    "root = ET.fromstring(md)"
   ]
  },
  {
   "cell_type": "code",
   "execution_count": 5,
   "metadata": {},
   "outputs": [
    {
     "name": "stdout",
     "output_type": "stream",
     "text": [
      "Metadata {}\n"
     ]
    }
   ],
   "source": [
    "for child in root:\n",
    "    print(child.tag, child.attrib)"
   ]
  },
  {
   "cell_type": "code",
   "execution_count": 6,
   "metadata": {},
   "outputs": [
    {
     "name": "stdout",
     "output_type": "stream",
     "text": [
      "{}\n",
      "{}\n"
     ]
    }
   ],
   "source": [
    "for neighbor in root.iter('Metadata'):\n",
    "    print(neighbor.attrib)"
   ]
  },
  {
   "cell_type": "code",
   "execution_count": 7,
   "metadata": {},
   "outputs": [],
   "source": [
    "metadata = xmltodict.parse(md)\n",
    "    \n",
    "metadata.keys()\n",
    "#md_experiment = metadata['ImageDocument']['Metadata']['Experiment']\n",
    "md_hws = metadata['ImageDocument']['Metadata']['HardwareSetting']\n",
    "md_custom = metadata['ImageDocument']['Metadata']['CustomAttributes']\n",
    "md_info = metadata['ImageDocument']['Metadata']['Information']\n",
    "md_scaling = metadata['ImageDocument']['Metadata']['Scaling']\n",
    "md_ds = metadata['ImageDocument']['Metadata']['DisplaySetting']\n",
    "md_layers = metadata['ImageDocument']['Metadata']['Layers']"
   ]
  },
  {
   "cell_type": "code",
   "execution_count": 8,
   "metadata": {},
   "outputs": [
    {
     "data": {
      "text/plain": [
       "odict_keys(['AutoScaling', 'Items'])"
      ]
     },
     "execution_count": 8,
     "metadata": {},
     "output_type": "execute_result"
    }
   ],
   "source": [
    "md_scaling.keys()"
   ]
  },
  {
   "cell_type": "code",
   "execution_count": 12,
   "metadata": {},
   "outputs": [
    {
     "name": "stdout",
     "output_type": "stream",
     "text": [
      "0.1810235486118006 0.1810235486118006 0.32\n"
     ]
    }
   ],
   "source": [
    "xscale_micron = float(md_scaling['Items']['Distance'][0]['Value']) * 1000000\n",
    "yscale_micron = float(md_scaling['Items']['Distance'][1]['Value']) * 1000000\n",
    "zscale_micron = float(md_scaling['Items']['Distance'][2]['Value']) * 1000000\n",
    "print(xscale_micron, yscale_micron, zscale_micron)"
   ]
  },
  {
   "cell_type": "code",
   "execution_count": 11,
   "metadata": {},
   "outputs": [
    {
     "data": {
      "text/plain": [
       "OrderedDict([('AutoScaling',\n",
       "              OrderedDict([('Type', 'Measured'),\n",
       "                           ('Objective', 'Objective.430039-9040-000'),\n",
       "                           ('Optovar', 'Castor.Tubelens 0.5x'),\n",
       "                           ('CameraAdapter', 'CameraAdapter.1x'),\n",
       "                           ('ObjectiveName', 'Plan-Apochromat 50x/1.2'),\n",
       "                           ('OptovarMagnification', '0.5'),\n",
       "                           ('CameraName', 'Axiocam 506'),\n",
       "                           ('CameraAdapterMagnification', '1'),\n",
       "                           ('CameraPixelDistance', '4.54,4.54'),\n",
       "                           ('CreationDateTime', '06/28/2016 12:10:44')])),\n",
       "             ('Items',\n",
       "              OrderedDict([('Distance',\n",
       "                            [OrderedDict([('@Id', 'X'),\n",
       "                                          ('Value', '1.8102354861180059E-07'),\n",
       "                                          ('DefaultUnitFormat', 'µm')]),\n",
       "                             OrderedDict([('@Id', 'Y'),\n",
       "                                          ('Value', '1.8102354861180059E-07'),\n",
       "                                          ('DefaultUnitFormat', 'µm')]),\n",
       "                             OrderedDict([('@Id', 'Z'),\n",
       "                                          ('Value', '3.2E-07'),\n",
       "                                          ('DefaultUnitFormat', 'µm')])])]))])"
      ]
     },
     "execution_count": 11,
     "metadata": {},
     "output_type": "execute_result"
    }
   ],
   "source": [
    "md_scaling\n",
    "#scaling['Items']['Pixel']['Value']"
   ]
  },
  {
   "cell_type": "code",
   "execution_count": null,
   "metadata": {},
   "outputs": [],
   "source": [
    "md_info.keys()"
   ]
  },
  {
   "cell_type": "code",
   "execution_count": null,
   "metadata": {},
   "outputs": [],
   "source": [
    "md_info['Image']\n",
    "pixeltype = md_info['Image']['PixelType']\n",
    "sizeX = md_info['Image']['SizeX']\n",
    "sizey = md_info['Image']['SizeY']\n",
    "sizez = md_info['Image']['SizeZ']\n",
    "sizec = md_info['Image']['SizeC']\n",
    "sizet = md_info['Image']['SizeT']\n",
    "sizem = md_info['Image']['SizeM']"
   ]
  },
  {
   "cell_type": "code",
   "execution_count": null,
   "metadata": {},
   "outputs": [],
   "source": []
  },
  {
   "cell_type": "code",
   "execution_count": null,
   "metadata": {},
   "outputs": [],
   "source": []
  }
 ],
 "metadata": {
  "kernelspec": {
   "display_name": "Python 3",
   "language": "python",
   "name": "python3"
  },
  "language_info": {
   "codemirror_mode": {
    "name": "ipython",
    "version": 3
   },
   "file_extension": ".py",
   "mimetype": "text/x-python",
   "name": "python",
   "nbconvert_exporter": "python",
   "pygments_lexer": "ipython3",
   "version": "3.7.1"
  }
 },
 "nbformat": 4,
 "nbformat_minor": 2
}
