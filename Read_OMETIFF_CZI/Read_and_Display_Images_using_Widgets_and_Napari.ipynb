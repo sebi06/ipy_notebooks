{
 "cells": [
  {
   "cell_type": "code",
   "execution_count": 1,
   "metadata": {
    "slideshow": {
     "slide_type": "slide"
    }
   },
   "outputs": [],
   "source": [
    "########################################################################\n",
    "# File       : Read_and_Display_Images_using_Widgets_and_Napari.ipynb\n",
    "# Version    : 0.1\n",
    "# Author     : czsrh\n",
    "# Date       : 12.11.2019\n",
    "# Insitution : Carl Zeiss Microscopy GmbH\n",
    "#\n",
    "# Disclaimer: Just for testing - Use at your own risk.\n",
    "# Feedback or Improvements are welcome.\n",
    "########################################################################"
   ]
  },
  {
   "cell_type": "markdown",
   "metadata": {
    "slideshow": {
     "slide_type": "slide"
    }
   },
   "source": [
    "***Import Libaries to run this notebook***\n",
    "\n",
    "* [PyPi - czifile](https://pypi.org/project/czifile/)\n",
    "\n",
    "Thanks to Christoph Gohlke. For details and the source code please see [czifile.py](https://www.lfd.uci.edu/~gohlke/code/czifile.py.html)\n",
    "\n",
    "* [PyPi - apeer-ometiff-library](https://pypi.org/project/apeer-ometiff-library/)\n",
    "\n",
    "It uses parts of python-bioformats library: [PyPi - python-bioformats](https://pypi.org/project/python-bioformats/).\n",
    "\n",
    "More information on the source code can be found on the APEER GitHub project page: [GitHub - apeer-ometiff-library](https://github.com/apeer-micro/apeer-ometiff-library)\n",
    "\n",
    "* [PyPi - napari](https://pypi.org/project/napari/)\n",
    "\n",
    "Very new, fast and cool multi-dimensional array viewer. For more details see the prject page [GitHub - napari](https://github.com/napari/napari)\n",
    "\n",
    "* imagefileutils\n",
    "\n",
    "This is collection of of usefule function to read CZI and OME-TFF image files. This tool uses many of the modules mentioned above\n",
    "\n",
    "***\n",
    "\n",
    "Another important modules\n",
    "\n",
    "* [PyPi - xmltodict](https://pypi.org/project/xmltodict/)\n",
    "\n",
    "This is turns an XML, e.g. the OME-XML or CZI metadata into an \"easy-to-use\" python dictionary."
   ]
  },
  {
   "cell_type": "code",
   "execution_count": 2,
   "metadata": {
    "slideshow": {
     "slide_type": "slide"
    }
   },
   "outputs": [],
   "source": [
    "\n",
    "# this can be used to switch on/off warnings\n",
    "import warnings\n",
    "warnings.filterwarnings('ignore')\n",
    "warnings.simplefilter('ignore')\n",
    "\n",
    "# import the libraries mentioned above\n",
    "from apeer_ometiff_library import io, processing, omexmlClass\n",
    "import czifile as zis\n",
    "import xmltodict\n",
    "import os\n",
    "import numpy as np\n",
    "import ipywidgets as widgets\n",
    "import napari\n",
    "import imgfileutils as imf\n",
    "import xml.etree.ElementTree as ET"
   ]
  },
  {
   "cell_type": "code",
   "execution_count": 3,
   "metadata": {
    "slideshow": {
     "slide_type": "slide"
    }
   },
   "outputs": [],
   "source": [
    "# define your testfiles here\n",
    "\n",
    "testfolder = r'C:\\Users\\m1srh\\Documents\\GitHub\\ipy_notebooks\\Read_OMETIFF_CZI\\testdata'\n",
    "\n",
    "imgdict = {1: os.path.join(testfolder, r'CellDivision_T=10_Z=15_CH=2_DCV_small_green.ome.tiff'),\n",
    "           2: os.path.join(testfolder, r'CellDivision_T=10_Z=15_CH=2_DCV_small_red.ome.tiff'),\n",
    "           3: os.path.join(testfolder, r'CellDivision_T=10_Z=15_CH=2_DCV_small.ome.tiff'),\n",
    "           4: os.path.join(testfolder, r'CellDivision_T=10_Z=15_CH=2_DCV_small_green.czi'),\n",
    "           5: os.path.join(testfolder, r'CellDivision_T=10_Z=15_CH=2_DCV_small_red.czi'),\n",
    "           6: os.path.join(testfolder, r'CellDivision_T=10_Z=15_CH=2_DCV_small.czi')\n",
    "}\n",
    "\n",
    "filename = imgdict[6]"
   ]
  },
  {
   "cell_type": "code",
   "execution_count": 4,
   "metadata": {
    "slideshow": {
     "slide_type": "slide"
    }
   },
   "outputs": [],
   "source": [
    "# To read the CZI metadata one can use the czifile functionality\n",
    "\n",
    "# get czi object using the filename\n",
    "czi = zis.CziFile(filename)\n",
    "\n",
    "# get the metadata and close the czi file object\n",
    "mdczi = czi.metadata()\n",
    "czi.close()\n",
    "\n",
    "# parse the XML into a dictionary\n",
    "metadatadict_czi = xmltodict.parse(mdczi)"
   ]
  },
  {
   "cell_type": "code",
   "execution_count": 5,
   "metadata": {
    "slideshow": {
     "slide_type": "slide"
    }
   },
   "outputs": [
    {
     "name": "stdout",
     "output_type": "stream",
     "text": [
      "Write special CZI XML metainformation for:  C:\\Users\\m1srh\\Documents\\GitHub\\ipy_notebooks\\Read_OMETIFF_CZI\\testdata\\CellDivision_T=10_Z=15_CH=2_DCV_small_CZI_MetaData.xml\n"
     ]
    }
   ],
   "source": [
    "# Sometime it can be very usefule to save the CZI metadate as an actual XML file.\n",
    "# This can be done quite easily by converting the metadata string into an XML tree.\n",
    "# This tree object can be directly as an XML file\n",
    "\n",
    "# define the new filename for the XML to be created later\n",
    "xmlfile = filename.replace('.czi', '_CZI_MetaData.xml')\n",
    "\n",
    "# get the element tree\n",
    "tree = ET.ElementTree(ET.fromstring(mdczi))\n",
    "\n",
    "# write xml to disk\n",
    "tree.write(xmlfile, encoding='utf-8', method='xml')\n",
    "\n",
    "print('Write special CZI XML metainformation for: ', xmlfile)"
   ]
  },
  {
   "cell_type": "code",
   "execution_count": 6,
   "metadata": {
    "slideshow": {
     "slide_type": "slide"
    }
   },
   "outputs": [
    {
     "name": "stdout",
     "output_type": "stream",
     "text": [
      "C:\\Users\\m1srh\\Documents\\GitHub\\ipy_notebooks\\Read_OMETIFF_CZI\\testdata\\CellDivision_T=10_Z=15_CH=2_DCV_small_CZI_MetaData.xml\n"
     ]
    }
   ],
   "source": [
    "# or much shorter\n",
    "xmlczi = imf.writexml_czi(filename)\n",
    "print(xmlczi)"
   ]
  },
  {
   "cell_type": "code",
   "execution_count": 7,
   "metadata": {
    "slideshow": {
     "slide_type": "slide"
    }
   },
   "outputs": [],
   "source": [
    "# create dictionary for the interesting CZI metadata\n",
    "czimd = {}\n",
    "\n",
    "czimd['Experiment'] = metadatadict_czi['ImageDocument']['Metadata']['Experiment']\n",
    "czimd['HardwareSetting'] = metadatadict_czi['ImageDocument']['Metadata']['HardwareSetting']\n",
    "czimd['CustomAttributes'] = metadatadict_czi['ImageDocument']['Metadata']['CustomAttributes']\n",
    "czimd['Information'] = metadatadict_czi['ImageDocument']['Metadata']['Information']\n",
    "czimd['PixelType'] = czimd['Information']['Image']['PixelType']"
   ]
  },
  {
   "cell_type": "code",
   "execution_count": 8,
   "metadata": {
    "slideshow": {
     "slide_type": "slide"
    }
   },
   "outputs": [],
   "source": [
    "# show some metadata\n",
    "#for key, value in czimd['Information']['Image'].items():\n",
    "#    # print all key-value pairs for the dictionary\n",
    "#    print(key, ' : ', value)\n"
   ]
  },
  {
   "cell_type": "markdown",
   "metadata": {
    "slideshow": {
     "slide_type": "slide"
    }
   },
   "source": [
    "### Remark\n",
    "\n",
    "As one can clearly see there are a lot of metadata not all of them are needed for every workflow."
   ]
  },
  {
   "cell_type": "code",
   "execution_count": 9,
   "metadata": {
    "slideshow": {
     "slide_type": "slide"
    }
   },
   "outputs": [],
   "source": [
    "# read metadata and array differently for OME-TIFF or CZI data\n",
    "if filename.lower().endswith('.ome.tiff') or filename.lower().endswith('.ome.tif'):\n",
    "    \n",
    "    # Return value is an array of order (T, Z, C, X, Y)\n",
    "    (array, omexml) = io.read_ometiff(filename)\n",
    "    metadata = imf.get_metadata(filename, series=0)\n",
    "    \n",
    "if filename.lower().endswith('.czi'):\n",
    "\n",
    "    # get the array and the metadata\n",
    "    array, metadata = imf.get_array_czi(filename)"
   ]
  },
  {
   "cell_type": "code",
   "execution_count": 10,
   "metadata": {
    "slideshow": {
     "slide_type": "slide"
    }
   },
   "outputs": [
    {
     "name": "stdout",
     "output_type": "stream",
     "text": [
      "Array Shape:  (1, 10, 2, 15, 256, 256)\n",
      "Dimension Order (BioFormats) :  None\n",
      "CZI Array Shape :  (1, 10, 2, 15, 256, 256, 1)\n",
      "CZI Dimension Entry :  BTCZYX0\n"
     ]
    }
   ],
   "source": [
    "# outout the shape of the returned numpy array\n",
    "\n",
    "# shape of numpy array\n",
    "print('Array Shape: ', array.shape)\n",
    "\n",
    "# dimension order from metadata\n",
    "print('Dimension Order (BioFormats) : ', metadata['DimOrder BF Array'])\n",
    "\n",
    "# shape and dimension entry from CZI file as returned by czifile.py\n",
    "print('CZI Array Shape : ', metadata['Shape'])\n",
    "print('CZI Dimension Entry : ', metadata['Axes'])"
   ]
  },
  {
   "cell_type": "code",
   "execution_count": 11,
   "metadata": {
    "slideshow": {
     "slide_type": "slide"
    }
   },
   "outputs": [
    {
     "name": "stdout",
     "output_type": "stream",
     "text": [
      "SizeT :  10\n",
      "SizeZ :  15\n",
      "SizeC :  2\n",
      "SizeX :  256\n",
      "SizeY :  256\n",
      "XScale:  0.091\n",
      "YScale:  0.091\n",
      "ZScale:  0.32\n"
     ]
    }
   ],
   "source": [
    "# show dimensions and scaling\n",
    "print('SizeT : ', metadata['SizeT'])\n",
    "print('SizeZ : ', metadata['SizeZ'])\n",
    "print('SizeC : ', metadata['SizeC'])\n",
    "print('SizeX : ', metadata['SizeX'])\n",
    "print('SizeY : ', metadata['SizeY'])\n",
    "print('XScale: ', metadata['XScale'])\n",
    "print('YScale: ', metadata['YScale'])\n",
    "print('ZScale: ', metadata['ZScale'])"
   ]
  },
  {
   "cell_type": "code",
   "execution_count": null,
   "metadata": {
    "slideshow": {
     "slide_type": "slide"
    }
   },
   "outputs": [],
   "source": [
    "# show all the metadata\n",
    "for key, value in metadata.items():\n",
    "    # print all key-value pairs for the dictionary\n",
    "    print(key, ' : ', value)"
   ]
  },
  {
   "cell_type": "code",
   "execution_count": null,
   "metadata": {
    "slideshow": {
     "slide_type": "slide"
    }
   },
   "outputs": [],
   "source": [
    "# display data using ipy widgets\n",
    "if metadata['Extension'] == 'ome.tiff':\n",
    "    ui, out = imf.create_ipyviewer_ome_tiff(array, metadata)\n",
    "if metadata['Extension'] == 'czi':\n",
    "    ui, out = imf.create_ipyviewer_czi(array, metadata)\n",
    "\n",
    "display(ui, out)"
   ]
  },
  {
   "cell_type": "code",
   "execution_count": null,
   "metadata": {
    "slideshow": {
     "slide_type": "slide"
    }
   },
   "outputs": [],
   "source": [
    "#import time\n",
    "\n",
    "# switch to qt5 backend for napari viewer and wait a few seconds\n",
    "#%gui qt5\n",
    "#time.sleep(5)"
   ]
  },
  {
   "cell_type": "code",
   "execution_count": 12,
   "metadata": {},
   "outputs": [
    {
     "data": {
      "text/plain": [
       "(1, 10, 2, 15, 256, 256)"
      ]
     },
     "execution_count": 12,
     "metadata": {},
     "output_type": "execute_result"
    }
   ],
   "source": [
    "array.shape"
   ]
  },
  {
   "cell_type": "code",
   "execution_count": null,
   "metadata": {
    "slideshow": {
     "slide_type": "slide"
    }
   },
   "outputs": [],
   "source": [
    "# get the scalefactors\n",
    "scalefactors = imf.get_scalefactor(metadata)\n",
    "print(scalefactors)\n",
    "\n",
    "# reduce array dimensions\n",
    "array = np.squeeze(array, axis=(0, 1))\n",
    "\n",
    "# start the viewer to add things manually\n",
    "viewer = napari.Viewer()"
   ]
  },
  {
   "cell_type": "code",
   "execution_count": 13,
   "metadata": {
    "slideshow": {
     "slide_type": "slide"
    }
   },
   "outputs": [
    {
     "ename": "NameError",
     "evalue": "name 'metadatadim_position_czi' is not defined",
     "output_type": "error",
     "traceback": [
      "\u001b[1;31m---------------------------------------------------------------------------\u001b[0m",
      "\u001b[1;31mNameError\u001b[0m                                 Traceback (most recent call last)",
      "\u001b[1;32m<ipython-input-13-1870e0d29de4>\u001b[0m in \u001b[0;36m<module>\u001b[1;34m\u001b[0m\n\u001b[0;32m      1\u001b[0m \u001b[1;31m# try to configure napari automatiaclly based on metadata\u001b[0m\u001b[1;33m\u001b[0m\u001b[1;33m\u001b[0m\u001b[1;33m\u001b[0m\u001b[0m\n\u001b[1;32m----> 2\u001b[1;33m \u001b[0mimf\u001b[0m\u001b[1;33m.\u001b[0m\u001b[0mshow_napari\u001b[0m\u001b[1;33m(\u001b[0m\u001b[0marray\u001b[0m\u001b[1;33m,\u001b[0m \u001b[0mmetadata\u001b[0m\u001b[1;33m)\u001b[0m\u001b[1;33m\u001b[0m\u001b[1;33m\u001b[0m\u001b[0m\n\u001b[0m",
      "\u001b[1;32mc:\\Users\\m1srh\\Documents\\GitHub\\ipy_notebooks\\Read_OMETIFF_CZI\\imgfileutils.py\u001b[0m in \u001b[0;36mshow_napari\u001b[1;34m(array, metadata, verbose)\u001b[0m\n\u001b[0;32m    923\u001b[0m \u001b[1;33m\u001b[0m\u001b[0m\n\u001b[0;32m    924\u001b[0m             \u001b[1;31m# remove B dimension from array based on dimesnion string\u001b[0m\u001b[1;33m\u001b[0m\u001b[1;33m\u001b[0m\u001b[1;33m\u001b[0m\u001b[0m\n\u001b[1;32m--> 925\u001b[1;33m             \u001b[0marray\u001b[0m \u001b[1;33m=\u001b[0m \u001b[0mremove_bdimension\u001b[0m\u001b[1;33m(\u001b[0m\u001b[0marray\u001b[0m\u001b[1;33m,\u001b[0m \u001b[0mmetadata\u001b[0m\u001b[1;33m)\u001b[0m\u001b[1;33m\u001b[0m\u001b[1;33m\u001b[0m\u001b[0m\n\u001b[0m\u001b[0;32m    926\u001b[0m \u001b[1;33m\u001b[0m\u001b[0m\n\u001b[0;32m    927\u001b[0m             \u001b[1;31m# find the indices from the dimesnion string\u001b[0m\u001b[1;33m\u001b[0m\u001b[1;33m\u001b[0m\u001b[1;33m\u001b[0m\u001b[0m\n",
      "\u001b[1;32mc:\\Users\\m1srh\\Documents\\GitHub\\ipy_notebooks\\Read_OMETIFF_CZI\\imgfileutils.py\u001b[0m in \u001b[0;36mremove_bdimension\u001b[1;34m(czi_array, metadata)\u001b[0m\n\u001b[0;32m   1122\u001b[0m         \u001b[1;31m# find position of Z dimension\u001b[0m\u001b[1;33m\u001b[0m\u001b[1;33m\u001b[0m\u001b[1;33m\u001b[0m\u001b[0m\n\u001b[0;32m   1123\u001b[0m         \u001b[0maxes\u001b[0m \u001b[1;33m=\u001b[0m \u001b[0mmetadata\u001b[0m\u001b[1;33m[\u001b[0m\u001b[1;34m'Axes'\u001b[0m\u001b[1;33m]\u001b[0m\u001b[1;33m[\u001b[0m\u001b[1;33m:\u001b[0m\u001b[1;33m-\u001b[0m\u001b[1;36m1\u001b[0m\u001b[1;33m]\u001b[0m\u001b[1;33m\u001b[0m\u001b[1;33m\u001b[0m\u001b[0m\n\u001b[1;32m-> 1124\u001b[1;33m         \u001b[0mmetadatadim_position_czi\u001b[0m\u001b[1;33m[\u001b[0m\u001b[1;34m'czidim_posB'\u001b[0m\u001b[1;33m]\u001b[0m \u001b[1;33m=\u001b[0m \u001b[0maxes\u001b[0m\u001b[1;33m.\u001b[0m\u001b[0mfind\u001b[0m\u001b[1;33m(\u001b[0m\u001b[1;34m'B'\u001b[0m\u001b[1;33m)\u001b[0m\u001b[1;33m\u001b[0m\u001b[1;33m\u001b[0m\u001b[0m\n\u001b[0m\u001b[0;32m   1125\u001b[0m         \u001b[0mmetadata\u001b[0m\u001b[1;33m[\u001b[0m\u001b[1;34m'Axes'\u001b[0m\u001b[1;33m]\u001b[0m\u001b[1;33m.\u001b[0m\u001b[0mreplace\u001b[0m\u001b[1;33m(\u001b[0m\u001b[1;34m'B'\u001b[0m\u001b[1;33m,\u001b[0m \u001b[1;34m''\u001b[0m\u001b[1;33m)\u001b[0m\u001b[1;33m\u001b[0m\u001b[1;33m\u001b[0m\u001b[0m\n\u001b[0;32m   1126\u001b[0m         \u001b[0mczi_array\u001b[0m \u001b[1;33m=\u001b[0m \u001b[0mnp\u001b[0m\u001b[1;33m.\u001b[0m\u001b[0msqueeze\u001b[0m\u001b[1;33m(\u001b[0m\u001b[0mczi_array\u001b[0m\u001b[1;33m,\u001b[0m \u001b[0maxis\u001b[0m\u001b[1;33m=\u001b[0m\u001b[0mmetadatadim_position_czi\u001b[0m\u001b[1;33m[\u001b[0m\u001b[1;34m'czidim_posB'\u001b[0m\u001b[1;33m]\u001b[0m\u001b[1;33m)\u001b[0m\u001b[1;33m\u001b[0m\u001b[1;33m\u001b[0m\u001b[0m\n",
      "\u001b[1;31mNameError\u001b[0m: name 'metadatadim_position_czi' is not defined"
     ]
    }
   ],
   "source": [
    "# try to configure napari automatiaclly based on metadata\n",
    "imf.show_napari(array, metadata)"
   ]
  },
  {
   "cell_type": "code",
   "execution_count": null,
   "metadata": {},
   "outputs": [],
   "source": [
    "ch2extract = 2\n",
    "array_index_channel = \n",
    "\n",
    "newarray = array.take(range(ch2extract-1, ch2extract), axis=2)\n",
    "print(newarray.shape)"
   ]
  },
  {
   "cell_type": "code",
   "execution_count": null,
   "metadata": {
    "slideshow": {
     "slide_type": "slide"
    }
   },
   "outputs": [],
   "source": [
    "# configure napari viewer manually - check array shape and dimensions order carefully \n",
    "    \n",
    "# get the scalefactors\n",
    "scalefactors = imf.get_scalefactor(metadata)\n",
    "print(scalefactors)\n",
    "\n",
    "array = np.squeeze(array, axis=(0, 1))\n",
    "\n",
    "viewer = napari.Viewer()\n",
    "# add every channel as a single layer\n",
    "for ch in range(metadata['SizeC']):\n",
    "    chname = metadata['Channels'][ch]\n",
    "    viewer.add_image(array[ch, :, :, :], name=chname, scale=(1, scalefactors['zx'], 1, 1))"
   ]
  },
  {
   "cell_type": "markdown",
   "metadata": {},
   "source": [
    "jupyter nbconvert MIAP_Read_and_Display_Images.ipynb --to slides --post serve"
   ]
  }
 ],
 "metadata": {
  "celltoolbar": "Slideshow",
  "file_extension": ".py",
  "kernelspec": {
   "display_name": "Python 3",
   "language": "python",
   "name": "python3"
  },
  "language_info": {
   "codemirror_mode": {
    "name": "ipython",
    "version": 3
   },
   "file_extension": ".py",
   "mimetype": "text/x-python",
   "name": "python",
   "nbconvert_exporter": "python",
   "pygments_lexer": "ipython3",
   "version": "3.7.4"
  },
  "mimetype": "text/x-python",
  "name": "python",
  "npconvert_exporter": "python",
  "pygments_lexer": "ipython3",
  "version": 3
 },
 "nbformat": 4,
 "nbformat_minor": 2
}
