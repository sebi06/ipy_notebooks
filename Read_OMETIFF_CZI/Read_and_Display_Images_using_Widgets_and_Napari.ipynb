{
 "cells": [
  {
   "cell_type": "code",
   "execution_count": 1,
   "metadata": {
    "slideshow": {
     "slide_type": "slide"
    }
   },
   "outputs": [],
   "source": [
    "########################################################################\n",
    "# File       : Read_and_Display_Images_using_Widgets_and_Napari.ipynb\n",
    "# Version    : 0.1\n",
    "# Author     : czsrh\n",
    "# Date       : 12.11.2019\n",
    "# Insitution : Carl Zeiss Microscopy GmbH\n",
    "#\n",
    "# Disclaimer: Just for testing - Use at your own risk.\n",
    "# Feedback or Improvements are welcome.\n",
    "########################################################################"
   ]
  },
  {
   "cell_type": "markdown",
   "metadata": {
    "slideshow": {
     "slide_type": "slide"
    }
   },
   "source": [
    "***Import Libaries to run this notebook***\n",
    "\n",
    "* [PyPi - czifile](https://pypi.org/project/czifile/)\n",
    "\n",
    "Thanks to Christoph Gohlke. For details and the source code please see [czifile.py](https://www.lfd.uci.edu/~gohlke/code/czifile.py.html)\n",
    "\n",
    "* [PyPi - apeer-ometiff-library](https://pypi.org/project/apeer-ometiff-library/)\n",
    "\n",
    "It uses parts of python-bioformats library: [PyPi - python-bioformats](https://pypi.org/project/python-bioformats/).\n",
    "\n",
    "More information on the source code can be found on the APEER GitHub project page: [GitHub - apeer-ometiff-library](https://github.com/apeer-micro/apeer-ometiff-library)\n",
    "\n",
    "* [PyPi - napari](https://pypi.org/project/napari/)\n",
    "\n",
    "Very new, fast and cool multi-dimensional array viewer. For more details see the prject page [GitHub - napari](https://github.com/napari/napari)\n",
    "\n",
    "* imagefileutils\n",
    "\n",
    "This is collection of of usefule function to read CZI and OME-TFF image files. This tool uses many of the modules mentioned above\n",
    "\n",
    "***\n",
    "\n",
    "Another important modules\n",
    "\n",
    "* [PyPi - xmltodict](https://pypi.org/project/xmltodict/)\n",
    "\n",
    "This is turns an XML, e.g. the OME-XML or CZI metadata into an \"easy-to-use\" python dictionary."
   ]
  },
  {
   "cell_type": "code",
   "execution_count": 2,
   "metadata": {
    "slideshow": {
     "slide_type": "slide"
    }
   },
   "outputs": [],
   "source": [
    "\n",
    "# this can be used to switch on/off warnings\n",
    "import warnings\n",
    "warnings.filterwarnings('ignore')\n",
    "warnings.simplefilter('ignore')\n",
    "\n",
    "# import the libraries mentioned above\n",
    "from apeer_ometiff_library import io, processing, omexmlClass\n",
    "import czifile as zis\n",
    "import xmltodict\n",
    "import os\n",
    "import numpy as np\n",
    "import ipywidgets as widgets\n",
    "import napari\n",
    "import imgfileutils as imf\n",
    "import xml.etree.ElementTree as ET"
   ]
  },
  {
   "cell_type": "code",
   "execution_count": 3,
   "metadata": {
    "slideshow": {
     "slide_type": "slide"
    }
   },
   "outputs": [],
   "source": [
    "# define your testfiles here\n",
    "\n",
    "testfolder = r'C:\\Users\\m1srh\\Documents\\GitHub\\ipy_notebooks\\Read_OMETIFF_CZI\\testdata'\n",
    "\n",
    "imgdict = {1: os.path.join(testfolder, r'CellDivision_T=10_Z=15_CH=2_DCV_small_green.ome.tiff'),\n",
    "           2: os.path.join(testfolder, r'CellDivision_T=10_Z=15_CH=2_DCV_small_red.ome.tiff'),\n",
    "           3: os.path.join(testfolder, r'CellDivision_T=10_Z=15_CH=2_DCV_small.ome.tiff'),\n",
    "           4: os.path.join(testfolder, r'CellDivision_T=10_Z=15_CH=2_DCV_small_green.czi'),\n",
    "           5: os.path.join(testfolder, r'CellDivision_T=10_Z=15_CH=2_DCV_small_red.czi'),\n",
    "           6: os.path.join(testfolder, r'CellDivision_T=10_Z=15_CH=2_DCV_small.czi'),\n",
    "           7: r'/datadisk1/tuxedo/testpictures/Testdata_Zeiss/em/FIB_Stack.czi'\n",
    "}\n",
    "\n",
    "filename = imgdict[7]"
   ]
  },
  {
   "cell_type": "code",
   "execution_count": 4,
   "metadata": {
    "slideshow": {
     "slide_type": "slide"
    }
   },
   "outputs": [],
   "source": [
    "# To read the CZI metadata one can use the czifile functionality\n",
    "\n",
    "# get czi object using the filename\n",
    "czi = zis.CziFile(filename)\n",
    "\n",
    "# get the metadata and close the czi file object\n",
    "mdczi = czi.metadata()\n",
    "czi.close()\n",
    "\n",
    "# parse the XML into a dictionary\n",
    "metadatadict_czi = xmltodict.parse(mdczi)"
   ]
  },
  {
   "cell_type": "code",
   "execution_count": 5,
   "metadata": {
    "slideshow": {
     "slide_type": "slide"
    }
   },
   "outputs": [
    {
     "name": "stdout",
     "output_type": "stream",
     "text": [
      "Write special CZI XML metainformation for:  /datadisk1/tuxedo/testpictures/Testdata_Zeiss/em/FIB_Stack_CZI_MetaData.xml\n"
     ]
    }
   ],
   "source": [
    "# Sometime it can be very usefule to save the CZI metadate as an actual XML file.\n",
    "# This can be done quite easily by converting the metadata string into an XML tree.\n",
    "# This tree object can be directly as an XML file\n",
    "\n",
    "# define the new filename for the XML to be created later\n",
    "xmlfile = filename.replace('.czi', '_CZI_MetaData.xml')\n",
    "\n",
    "# get the element tree\n",
    "tree = ET.ElementTree(ET.fromstring(mdczi))\n",
    "\n",
    "# write xml to disk\n",
    "tree.write(xmlfile, encoding='utf-8', method='xml')\n",
    "\n",
    "print('Write special CZI XML metainformation for: ', xmlfile)"
   ]
  },
  {
   "cell_type": "code",
   "execution_count": 6,
   "metadata": {
    "slideshow": {
     "slide_type": "slide"
    }
   },
   "outputs": [
    {
     "name": "stdout",
     "output_type": "stream",
     "text": [
      "/datadisk1/tuxedo/testpictures/Testdata_Zeiss/em/FIB_Stack_CZI_MetaData.xml\n"
     ]
    }
   ],
   "source": [
    "# or much shorter\n",
    "xmlczi = imf.writexml_czi(filename)\n",
    "print(xmlczi)"
   ]
  },
  {
   "cell_type": "markdown",
   "metadata": {
    "slideshow": {
     "slide_type": "slide"
    }
   },
   "source": [
    "### Remark\n",
    "\n",
    "As one can clearly see there are a lot of metadata not all of them are needed for every workflow."
   ]
  },
  {
   "cell_type": "code",
   "execution_count": 7,
   "metadata": {
    "slideshow": {
     "slide_type": "slide"
    }
   },
   "outputs": [
    {
     "name": "stdout",
     "output_type": "stream",
     "text": [
      "Key not found: 'AcquisitionDateAndTime'\n"
     ]
    }
   ],
   "source": [
    "# read metadata and array differently for OME-TIFF or CZI data\n",
    "if filename.lower().endswith('.ome.tiff') or filename.lower().endswith('.ome.tif'):\n",
    "    \n",
    "    # Return value is an array of order (T, Z, C, X, Y)\n",
    "    (array, omexml) = io.read_ometiff(filename)\n",
    "    metadata = imf.get_metadata(filename, series=0)\n",
    "    \n",
    "if filename.lower().endswith('.czi'):\n",
    "\n",
    "    # get the array and the metadata\n",
    "    array, metadata = imf.get_array_czi(filename)"
   ]
  },
  {
   "cell_type": "code",
   "execution_count": 8,
   "metadata": {
    "slideshow": {
     "slide_type": "slide"
    }
   },
   "outputs": [
    {
     "name": "stdout",
     "output_type": "stream",
     "text": [
      "Array Shape:  (44, 1536, 2048)\n",
      "Dimension Order (BioFormats) :  None\n",
      "CZI Array Shape :  (44, 1536, 2048, 1)\n",
      "CZI Dimension Entry :  ZYX0\n"
     ]
    }
   ],
   "source": [
    "# outout the shape of the returned numpy array\n",
    "\n",
    "# shape of numpy array\n",
    "print('Array Shape: ', array.shape)\n",
    "\n",
    "# dimension order from metadata\n",
    "print('Dimension Order (BioFormats) : ', metadata['DimOrder BF Array'])\n",
    "\n",
    "# shape and dimension entry from CZI file as returned by czifile.py\n",
    "print('CZI Array Shape : ', metadata['Shape'])\n",
    "print('CZI Dimension Entry : ', metadata['Axes'])"
   ]
  },
  {
   "cell_type": "code",
   "execution_count": 9,
   "metadata": {
    "slideshow": {
     "slide_type": "slide"
    }
   },
   "outputs": [
    {
     "name": "stdout",
     "output_type": "stream",
     "text": [
      "SizeT :  1\n",
      "SizeZ :  44\n",
      "SizeC :  1\n",
      "SizeX :  2048\n",
      "SizeY :  1536\n",
      "XScale:  1.0\n",
      "YScale:  1.0\n",
      "ZScale:  0.02\n"
     ]
    }
   ],
   "source": [
    "# show dimensions and scaling\n",
    "print('SizeT : ', metadata['SizeT'])\n",
    "print('SizeZ : ', metadata['SizeZ'])\n",
    "print('SizeC : ', metadata['SizeC'])\n",
    "print('SizeX : ', metadata['SizeX'])\n",
    "print('SizeY : ', metadata['SizeY'])\n",
    "print('XScale: ', metadata['XScale'])\n",
    "print('YScale: ', metadata['YScale'])\n",
    "print('ZScale: ', metadata['ZScale'])"
   ]
  },
  {
   "cell_type": "code",
   "execution_count": 10,
   "metadata": {
    "slideshow": {
     "slide_type": "slide"
    }
   },
   "outputs": [
    {
     "name": "stdout",
     "output_type": "stream",
     "text": [
      "Directory  :  /datadisk1/tuxedo/testpictures/Testdata_Zeiss/em\n",
      "Filename  :  FIB_Stack.czi\n",
      "Extension  :  czi\n",
      "ImageType  :  czi\n",
      "Name  :  None\n",
      "AcqDate  :  None\n",
      "TotalSeries  :  None\n",
      "SizeX  :  2048\n",
      "SizeY  :  1536\n",
      "SizeZ  :  44\n",
      "SizeC  :  1\n",
      "SizeT  :  1\n",
      "Sizes BF  :  None\n",
      "DimOrder BF  :  None\n",
      "DimOrder BF Array  :  None\n",
      "DimOrder CZI  :  {'B': -1, 'S': -1, 'T': -1, 'C': -1, 'Z': 0, 'Y': 1, 'X': 2, '0': 3}\n",
      "Axes  :  ZYX0\n",
      "Shape  :  (44, 1536, 2048, 1)\n",
      "isRGB  :  None\n",
      "ObjNA  :  None\n",
      "ObjMag  :  None\n",
      "ObjID  :  Objective:1\n",
      "ObjName  :  None\n",
      "ObjImmersion  :  None\n",
      "XScale  :  1.0\n",
      "YScale  :  1.0\n",
      "ZScale  :  0.02\n",
      "XScaleUnit  :  None\n",
      "YScaleUnit  :  None\n",
      "ZScaleUnit  :  None\n",
      "DetectorModel  :  None\n",
      "DetectorName  :  None\n",
      "DetectorID  :  None\n",
      "InstrumentID  :  None\n",
      "Channels  :  ['0']\n",
      "ImageIDs  :  []\n",
      "NumPy.dtype  :  uint8\n",
      "Experiment  :  None\n",
      "PixelType  :  Gray8\n",
      "SizeM  :  1\n",
      "SizeB  :  1\n",
      "SizeS  :  1\n",
      "SW-Name  :  ZEN 3.0 (blue edition)\n",
      "SW-Version  :  2.6.77.0000\n",
      "TubelensMag  :  None\n",
      "ObjNominalMag  :  None\n"
     ]
    }
   ],
   "source": [
    "# show all the metadata\n",
    "for key, value in metadata.items():\n",
    "    # print all key-value pairs for the dictionary\n",
    "    print(key, ' : ', value)"
   ]
  },
  {
   "cell_type": "code",
   "execution_count": 11,
   "metadata": {
    "slideshow": {
     "slide_type": "slide"
    }
   },
   "outputs": [
    {
     "name": "stdout",
     "output_type": "stream",
     "text": [
      "25 255\n"
     ]
    },
    {
     "data": {
      "application/vnd.jupyter.widget-view+json": {
       "model_id": "f2b730a1a4394988aaa6cecc2625021b",
       "version_major": 2,
       "version_minor": 0
      },
      "text/plain": [
       "Output()"
      ]
     },
     "metadata": {},
     "output_type": "display_data"
    },
    {
     "data": {
      "application/vnd.jupyter.widget-view+json": {
       "model_id": "05ef2a28d2d2475fabaf0ea1ee2eb341",
       "version_major": 2,
       "version_minor": 0
      },
      "text/plain": [
       "VBox(children=(IntSlider(value=1, continuous_update=False, description='Z-Plane:', max=44, min=1), IntRangeSli…"
      ]
     },
     "metadata": {},
     "output_type": "display_data"
    }
   ],
   "source": [
    "# display data using ipy widgets\n",
    "if metadata['Extension'] == 'ome.tiff':\n",
    "    ui, out = imf.create_ipyviewer_ome_tiff(array, metadata)\n",
    "if metadata['Extension'] == 'czi':\n",
    "    ui, out = imf.create_ipyviewer_czi(array, metadata)\n",
    "\n",
    "display(ui, out)"
   ]
  },
  {
   "cell_type": "code",
   "execution_count": null,
   "metadata": {
    "slideshow": {
     "slide_type": "slide"
    }
   },
   "outputs": [],
   "source": [
    "# try to configure napari automatiaclly based on metadata\n",
    "imf.show_napari(array, metadata)"
   ]
  },
  {
   "cell_type": "code",
   "execution_count": null,
   "metadata": {
    "slideshow": {
     "slide_type": "slide"
    }
   },
   "outputs": [],
   "source": [
    "# configure napari viewer manually - check array shape and dimensions order carefully \n",
    "    \n",
    "# get the scalefactors\n",
    "scalefactors = imf.get_scalefactor(metadata)\n",
    "print(scalefactors)\n",
    "\n",
    "array = np.squeeze(array, axis=(0, 1))\n",
    "\n",
    "viewer = napari.Viewer()\n",
    "# add every channel as a single layer\n",
    "for ch in range(metadata['SizeC']):\n",
    "    chname = metadata['Channels'][ch]\n",
    "    viewer.add_image(array[ch, :, :, :], name=chname, scale=(1, scalefactors['zx'], 1, 1))"
   ]
  },
  {
   "cell_type": "markdown",
   "metadata": {},
   "source": [
    "jupyter nbconvert MIAP_Read_and_Display_Images.ipynb --to slides --post serve"
   ]
  }
 ],
 "metadata": {
  "celltoolbar": "Slideshow",
  "file_extension": ".py",
  "kernelspec": {
   "display_name": "Python 3",
   "language": "python",
   "name": "python3"
  },
  "language_info": {
   "codemirror_mode": {
    "name": "ipython",
    "version": 3
   },
   "file_extension": ".py",
   "mimetype": "text/x-python",
   "name": "python",
   "nbconvert_exporter": "python",
   "pygments_lexer": "ipython3",
   "version": "3.7.4"
  },
  "mimetype": "text/x-python",
  "name": "python",
  "npconvert_exporter": "python",
  "pygments_lexer": "ipython3",
  "version": 3
 },
 "nbformat": 4,
 "nbformat_minor": 2
}
