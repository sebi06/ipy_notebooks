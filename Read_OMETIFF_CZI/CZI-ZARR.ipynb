{
 "cells": [
  {
   "cell_type": "code",
   "execution_count": 1,
   "metadata": {
    "slideshow": {
     "slide_type": "slide"
    }
   },
   "outputs": [],
   "source": [
    "########################################################################\n",
    "# File       : CZI_ZARR.ipynb\n",
    "# Version    : 0.1\n",
    "# Author     : czsrh\n",
    "# Date       : 12.11.2019\n",
    "# Insitution : Carl Zeiss Microscopy GmbH\n",
    "#\n",
    "# Disclaimer: Just for testing - Use at your own risk.\n",
    "# Feedback or Improvements are welcome.\n",
    "########################################################################"
   ]
  },
  {
   "cell_type": "code",
   "execution_count": 2,
   "metadata": {
    "slideshow": {
     "slide_type": "slide"
    }
   },
   "outputs": [],
   "source": [
    "\n",
    "# this can be used to switch on/off warnings\n",
    "import warnings\n",
    "warnings.filterwarnings('ignore')\n",
    "warnings.simplefilter('ignore')\n",
    "\n",
    "# import the libraries mentioned above\n",
    "from apeer_ometiff_library import io, processing, omexmlClass\n",
    "import czifile as zis\n",
    "import xmltodict\n",
    "import os\n",
    "import numpy as np\n",
    "import ipywidgets as widgets\n",
    "import napari\n",
    "import imgfileutils as imf\n",
    "import xml.etree.ElementTree as ET\n",
    "import zarr"
   ]
  },
  {
   "cell_type": "code",
   "execution_count": 3,
   "metadata": {
    "slideshow": {
     "slide_type": "slide"
    }
   },
   "outputs": [],
   "source": [
    "# define your testfiles here\n",
    "\n",
    "testfolder = r'C:\\Users\\m1srh\\Documents\\GitHub\\ipy_notebooks\\Read_OMETIFF_CZI\\testdata'\n",
    "\n",
    "imgdict = {1: os.path.join(testfolder, r'CellDivision_T=10_Z=15_CH=2_DCV_small_green.ome.tiff'),\n",
    "           2: os.path.join(testfolder, r'CellDivision_T=10_Z=15_CH=2_DCV_small_red.ome.tiff'),\n",
    "           3: os.path.join(testfolder, r'CellDivision_T=10_Z=15_CH=2_DCV_small.ome.tiff'),\n",
    "           4: os.path.join(testfolder, r'CellDivision_T=10_Z=15_CH=2_DCV_small_green.czi'),\n",
    "           5: os.path.join(testfolder, r'CellDivision_T=10_Z=15_CH=2_DCV_small_red.czi'),\n",
    "           6: os.path.join(testfolder, r'CellDivision_T=10_Z=15_CH=2_DCV_small.czi')\n",
    "}\n",
    "\n",
    "filename = imgdict[6]"
   ]
  },
  {
   "cell_type": "code",
   "execution_count": 4,
   "metadata": {
    "slideshow": {
     "slide_type": "slide"
    }
   },
   "outputs": [],
   "source": [
    "# read metadata and array differently for OME-TIFF or CZI data\n",
    "if filename.lower().endswith('.ome.tiff') or filename.lower().endswith('.ome.tif'):\n",
    "    \n",
    "    # Return value is an array of order (T, Z, C, X, Y)\n",
    "    (array, omexml) = io.read_ometiff(filename)\n",
    "    metadata = imf.get_metadata(filename, series=0)\n",
    "    \n",
    "if filename.lower().endswith('.czi'):\n",
    "\n",
    "    # get the array and the metadata\n",
    "    array, metadata = imf.get_array_czi(filename)"
   ]
  },
  {
   "cell_type": "code",
   "execution_count": 5,
   "metadata": {
    "slideshow": {
     "slide_type": "slide"
    }
   },
   "outputs": [
    {
     "name": "stdout",
     "output_type": "stream",
     "text": [
      "Array Shape:  (1, 10, 2, 15, 256, 256)\n",
      "Dimension Order (BioFormats) :  None\n",
      "CZI Array Shape :  (1, 10, 2, 15, 256, 256, 1)\n",
      "CZI Dimension Entry :  BTCZYX0\n"
     ]
    }
   ],
   "source": [
    "# outout the shape of the returned numpy array\n",
    "\n",
    "# shape of numpy array\n",
    "print('Array Shape: ', array.shape)\n",
    "\n",
    "# dimension order from metadata\n",
    "print('Dimension Order (BioFormats) : ', metadata['DimOrder BF Array'])\n",
    "\n",
    "# shape and dimension entry from CZI file as returned by czifile.py\n",
    "print('CZI Array Shape : ', metadata['Shape'])\n",
    "print('CZI Dimension Entry : ', metadata['Axes'])"
   ]
  },
  {
   "cell_type": "code",
   "execution_count": 19,
   "metadata": {
    "slideshow": {
     "slide_type": "slide"
    }
   },
   "outputs": [
    {
     "name": "stdout",
     "output_type": "stream",
     "text": [
      "<class 'zarr.util.InfoReporter'>\n",
      "10\n",
      "ZARR\n"
     ]
    }
   ],
   "source": [
    "z = zarr.array(array, chunks=(1, 1, 2, 15, 256, 256), dtype='int16')\n",
    "zarr_info = z.info\n",
    "print(type(zarr_info))\n",
    "\n",
    "z.attrs['metadata'] = metadata\n",
    "\n",
    "print(z.attrs['metadata']['SizeT'])\n",
    "\n",
    "if type(z) is np.ndarray:\n",
    "    print('NumPy Array')\n",
    "elif type(z) is zarr.core.Array:\n",
    "    print('ZARR')\n",
    "    "
   ]
  },
  {
   "cell_type": "code",
   "execution_count": 17,
   "metadata": {
    "slideshow": {
     "slide_type": "slide"
    }
   },
   "outputs": [
    {
     "name": "stdout",
     "output_type": "stream",
     "text": [
      "Directory  :  C:\\Users\\m1srh\\Documents\\GitHub\\ipy_notebooks\\Read_OMETIFF_CZI\\testdata\n",
      "Filename  :  CellDivision_T=10_Z=15_CH=2_DCV_small.czi\n",
      "Extension  :  czi\n",
      "ImageType  :  czi\n",
      "Name  :  None\n",
      "AcqDate  :  2016-02-12T09:41:02.4915604Z\n",
      "TotalSeries  :  None\n",
      "SizeX  :  256\n",
      "SizeY  :  256\n",
      "SizeZ  :  15\n",
      "SizeC  :  2\n",
      "SizeT  :  10\n",
      "Sizes BF  :  None\n",
      "DimOrder BF  :  None\n",
      "DimOrder BF Array  :  None\n",
      "DimOrder CZI  :  {'B': 0, 'S': -1, 'T': 1, 'C': 2, 'Z': 3, 'Y': 4, 'X': 5, '0': 6}\n",
      "Axes  :  BTCZYX0\n",
      "Shape  :  (1, 10, 2, 15, 256, 256, 1)\n",
      "isRGB  :  None\n",
      "ObjNA  :  1.2\n",
      "ObjMag  :  50.0\n",
      "ObjID  :  Objective:1\n",
      "ObjName  :  Plan-Apochromat 50x/1.2\n",
      "ObjImmersion  :  Water\n",
      "XScale  :  0.091\n",
      "YScale  :  0.091\n",
      "ZScale  :  0.32\n",
      "XScaleUnit  :  µm\n",
      "YScaleUnit  :  µm\n",
      "ZScaleUnit  :  µm\n",
      "DetectorModel  :  Axiocam 506\n",
      "DetectorName  :  Axiocam506m\n",
      "DetectorID  :  Detector:Axiocam 506\n",
      "InstrumentID  :  None\n",
      "Channels  :  ['AF555', 'AF488']\n",
      "ImageIDs  :  []\n",
      "PixelType  :  Gray16\n",
      "SizeM  :  1\n",
      "SizeB  :  1\n",
      "SizeS  :  1\n",
      "SW-Name  :  ZEN 3.1 (blue edition)\n",
      "SW-Version  :  3.1.0.0000\n",
      "TubelensMag  :  1.0\n",
      "ObjNominalMag  :  50.0\n"
     ]
    }
   ],
   "source": [
    "# show all the metadata\n",
    "for key, value in z.attrs['metadata'].items():\n",
    "    # print all key-value pairs for the dictionary\n",
    "    print(key, ' : ', value)"
   ]
  },
  {
   "cell_type": "code",
   "execution_count": 11,
   "metadata": {
    "slideshow": {
     "slide_type": "slide"
    }
   },
   "outputs": [
    {
     "ename": "AttributeError",
     "evalue": "'Array' object has no attribute 'min'",
     "output_type": "error",
     "traceback": [
      "\u001b[1;31m---------------------------------------------------------------------------\u001b[0m",
      "\u001b[1;31mAttributeError\u001b[0m                            Traceback (most recent call last)",
      "\u001b[1;32m<ipython-input-11-24ff265e8198>\u001b[0m in \u001b[0;36m<module>\u001b[1;34m\u001b[0m\n\u001b[0;32m      4\u001b[0m \u001b[1;32mif\u001b[0m \u001b[0mmetadata\u001b[0m\u001b[1;33m[\u001b[0m\u001b[1;34m'Extension'\u001b[0m\u001b[1;33m]\u001b[0m \u001b[1;33m==\u001b[0m \u001b[1;34m'czi'\u001b[0m\u001b[1;33m:\u001b[0m\u001b[1;33m\u001b[0m\u001b[1;33m\u001b[0m\u001b[0m\n\u001b[0;32m      5\u001b[0m     \u001b[1;31m#ui, out = imf.create_ipyviewer_czi(array, metadata)\u001b[0m\u001b[1;33m\u001b[0m\u001b[1;33m\u001b[0m\u001b[1;33m\u001b[0m\u001b[0m\n\u001b[1;32m----> 6\u001b[1;33m     \u001b[0mui\u001b[0m\u001b[1;33m,\u001b[0m \u001b[0mout\u001b[0m \u001b[1;33m=\u001b[0m \u001b[0mimf\u001b[0m\u001b[1;33m.\u001b[0m\u001b[0mcreate_ipyviewer_czi\u001b[0m\u001b[1;33m(\u001b[0m\u001b[0mz\u001b[0m\u001b[1;33m,\u001b[0m \u001b[0mmetadata\u001b[0m\u001b[1;33m)\u001b[0m\u001b[1;33m\u001b[0m\u001b[1;33m\u001b[0m\u001b[0m\n\u001b[0m\u001b[0;32m      7\u001b[0m \u001b[1;33m\u001b[0m\u001b[0m\n\u001b[0;32m      8\u001b[0m \u001b[0mdisplay\u001b[0m\u001b[1;33m(\u001b[0m\u001b[0mui\u001b[0m\u001b[1;33m,\u001b[0m \u001b[0mout\u001b[0m\u001b[1;33m)\u001b[0m\u001b[1;33m\u001b[0m\u001b[1;33m\u001b[0m\u001b[0m\n",
      "\u001b[1;32m~\\Documents\\GitHub\\ipy_notebooks\\Read_OMETIFF_CZI\\imgfileutils.py\u001b[0m in \u001b[0;36mcreate_ipyviewer_czi\u001b[1;34m(cziarray, metadata)\u001b[0m\n\u001b[0;32m    308\u001b[0m                           value=1)\n\u001b[0;32m    309\u001b[0m \u001b[1;33m\u001b[0m\u001b[0m\n\u001b[1;32m--> 310\u001b[1;33m     \u001b[0mprint\u001b[0m\u001b[1;33m(\u001b[0m\u001b[0mcziarray\u001b[0m\u001b[1;33m.\u001b[0m\u001b[0mmin\u001b[0m\u001b[1;33m(\u001b[0m\u001b[1;33m)\u001b[0m\u001b[1;33m,\u001b[0m \u001b[0mcziarray\u001b[0m\u001b[1;33m.\u001b[0m\u001b[0mmax\u001b[0m\u001b[1;33m(\u001b[0m\u001b[1;33m)\u001b[0m\u001b[1;33m)\u001b[0m\u001b[1;33m\u001b[0m\u001b[1;33m\u001b[0m\u001b[0m\n\u001b[0m\u001b[0;32m    311\u001b[0m \u001b[1;33m\u001b[0m\u001b[0m\n\u001b[0;32m    312\u001b[0m     r = widgets.IntRangeSlider(description='Display Range:',\n",
      "\u001b[1;31mAttributeError\u001b[0m: 'Array' object has no attribute 'min'"
     ]
    }
   ],
   "source": [
    "# display data using ipy widgets\n",
    "if metadata['Extension'] == 'ome.tiff':\n",
    "    ui, out = imf.create_ipyviewer_ome_tiff(array, metadata)\n",
    "if metadata['Extension'] == 'czi':\n",
    "    #ui, out = imf.create_ipyviewer_czi(array, metadata)\n",
    "    ui, out = imf.create_ipyviewer_czi(z, metadata)\n",
    "\n",
    "display(ui, out)"
   ]
  },
  {
   "cell_type": "code",
   "execution_count": null,
   "metadata": {
    "slideshow": {
     "slide_type": "slide"
    }
   },
   "outputs": [],
   "source": [
    "# try to configure napari automatiaclly based on metadata\n",
    "imf.show_napari(array, metadata)"
   ]
  },
  {
   "cell_type": "code",
   "execution_count": null,
   "metadata": {
    "slideshow": {
     "slide_type": "slide"
    }
   },
   "outputs": [],
   "source": [
    "# configure napari viewer manually - check array shape and dimensions order carefully \n",
    "    \n",
    "# get the scalefactors\n",
    "scalefactors = imf.get_scalefactor(metadata)\n",
    "print(scalefactors)\n",
    "\n",
    "array = np.squeeze(array, axis=(0, 1))\n",
    "\n",
    "viewer = napari.Viewer()\n",
    "# add every channel as a single layer\n",
    "for ch in range(metadata['SizeC']):\n",
    "    chname = metadata['Channels'][ch]\n",
    "    viewer.add_image(array[ch, :, :, :], name=chname, scale=(1, scalefactors['zx'], 1, 1))"
   ]
  },
  {
   "cell_type": "markdown",
   "metadata": {},
   "source": [
    "jupyter nbconvert MIAP_Read_and_Display_Images.ipynb --to slides --post serve"
   ]
  }
 ],
 "metadata": {
  "celltoolbar": "Slideshow",
  "file_extension": ".py",
  "kernelspec": {
   "display_name": "Python 3",
   "language": "python",
   "name": "python3"
  },
  "language_info": {
   "codemirror_mode": {
    "name": "ipython",
    "version": 3
   },
   "file_extension": ".py",
   "mimetype": "text/x-python",
   "name": "python",
   "nbconvert_exporter": "python",
   "pygments_lexer": "ipython3",
   "version": "3.7.3"
  },
  "mimetype": "text/x-python",
  "name": "python",
  "npconvert_exporter": "python",
  "pygments_lexer": "ipython3",
  "version": 3
 },
 "nbformat": 4,
 "nbformat_minor": 2
}
