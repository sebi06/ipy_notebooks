{
 "cells": [
  {
   "cell_type": "code",
   "execution_count": null,
   "metadata": {},
   "outputs": [],
   "source": [
    "import warnings\n",
    "#warnings.filterwarnings('ignore')\n",
    "#warnings.simplefilter('ignore')\n",
    "\n",
    "#import czifile as zis\n",
    "from apeer_ometiff_library import io, processing, omexmlClass\n",
    "#import os\n",
    "#from matplotlib import pyplot as plt, cm\n",
    "#from mpl_toolkits.axes_grid1 import make_axes_locatable\n",
    "#from skimage.viewer import ImageViewer\n",
    "#import skimage.io\n",
    "#import matplotlib.colors as colors\n",
    "import numpy as np\n",
    "import ipywidgets as widgets\n",
    "import napari\n",
    "import imgfileutils as imf"
   ]
  },
  {
   "cell_type": "code",
   "execution_count": null,
   "metadata": {},
   "outputs": [],
   "source": [
    "##### TEST CZI #####\n",
    "\n",
    "imgdict = {\n",
    "    1:r'C:\\Users\\m1srh\\Documents\\Testdata_Zeiss\\Lightsheet_Shoh\\Brain_Smartlabel_6x11_Z473_12OL_C0_left_(049).czi',\n",
    "    2:r'C:\\Users\\m1srh\\Documents\\Testdata_Zeiss\\Castor\\Z-Stack_DCV\\CellDivision_T=15_Z=20_CH=2_DCV.czi',\n",
    "    3:r'C:\\Users\\m1srh\\Documents\\Testdata_Zeiss\\Castor\\Z-Stack_DCV\\CellDivision_T=10_Z=15_CH=2_DCV_small.czi',\n",
    "    4:r'C:\\Users\\m1srh\\Documents\\Testdata_Zeiss\\Castor\\Z-Stack_DCV\\CellDivision_T=10_Z=15_CH=2_DCV_small.ome.tiff',\n",
    "    5: r'C:\\Users\\m1srh\\Documents\\Testdata_Zeiss\\Castor\\Z-Stack_DCV\\CellDivision_T=10_Z=15_CH=2_DCV_small_Fiji.ome.tiff'\n",
    "}"
   ]
  },
  {
   "cell_type": "code",
   "execution_count": null,
   "metadata": {},
   "outputs": [],
   "source": [
    "filename = imgdict[4]\n",
    "image_name = os.path.basename(filename)\n",
    "\n",
    "if filename.lower().endswith('.ome.tiff') or filename.lower().endswith('.ome.tif'):\n",
    "    \n",
    "    # Return value is an array of order (T, Z, C, X, Y)\n",
    "    (array, omexml) = io.read_ometiff(filename)\n",
    "    metadata = imf.get_metadata(filename, series=0)\n",
    "    \n",
    "if filename.lower().endswith('.czi'):\n",
    "    \n",
    "    # get only the metadata\n",
    "    metadata = imf.get_metadata(filename)\n",
    "    \n",
    "    print(metadata['Shape'])\n",
    "    print(metadata['Axes'])\n",
    "    \n",
    "    # get the array and the metadata\n",
    "    array, metadata = imf.get_array_czi(filename, replacezero=False)\n",
    "\n",
    "    print(array.shape)"
   ]
  },
  {
   "cell_type": "code",
   "execution_count": null,
   "metadata": {},
   "outputs": [],
   "source": [
    "# show some metadata\n",
    "\n",
    "print(metadata['Shape'])\n",
    "print(metadata['Axes'])\n",
    "print(metadata['DimOrder BF'])\n",
    "print(metadata['DimOrder BF Array'])\n",
    "print(array.shape)\n",
    "print(metadata['Extension'])"
   ]
  },
  {
   "cell_type": "code",
   "execution_count": null,
   "metadata": {},
   "outputs": [],
   "source": [
    "show_ipyviewer = False\n",
    "\n",
    "if show_ipyviewer:\n",
    "\n",
    "    #out = widgets.interactive_output(get_TZC, { 't': t, 'z': z, 'c': c, 'r':r})\n",
    "    if metadata['Extension'] == 'ome.tiff':\n",
    "        ui, out = imf.create_ipyviewer_ome_tiff(array, metadata)\n",
    "    if metadata['Extension'] == 'czi':\n",
    "        ui, out = imf.create_ipyviewer_czi(array, metadata)\n",
    "\n",
    "    display(ui, out)"
   ]
  },
  {
   "cell_type": "code",
   "execution_count": null,
   "metadata": {},
   "outputs": [],
   "source": [
    "import time\n",
    "\n",
    "# switch to qt5 backend for napari viewer and wait a few seconds\n",
    "%gui qt5\n",
    "time.sleep(5)"
   ]
  },
  {
   "cell_type": "code",
   "execution_count": null,
   "metadata": {},
   "outputs": [],
   "source": [
    "napari_auto = True\n",
    "\n",
    "# try to configre napari automatiaclly based on metadata\n",
    "if napari_auto:\n",
    "    imf.show_napari(array, metadata)\n",
    "\n",
    "# configure napari viewer manually - check array diemsnion and dimensio order carefully \n",
    "if not napari_auto:\n",
    "    \n",
    "    # get the scalefactors\n",
    "    scalefactors = imf.get_scalefactor(metadata)\n",
    "    print(scalefactors)\n",
    "    \n",
    "    viewer = napari.Viewer()\n",
    "    # add every channel as a single layer\n",
    "    for ch in range(metadata['SizeC']):\n",
    "        chname = metadata['Channels'][ch]\n",
    "        viewer.add_image(array[ch, :, :, :, :], name=chname, scale=scalefactors['zx'])"
   ]
  },
  {
   "cell_type": "code",
   "execution_count": null,
   "metadata": {},
   "outputs": [],
   "source": []
  }
 ],
 "metadata": {
  "file_extension": ".py",
  "kernelspec": {
   "display_name": "Python 3",
   "language": "python",
   "name": "python3"
  },
  "language_info": {
   "codemirror_mode": {
    "name": "ipython",
    "version": 3
   },
   "file_extension": ".py",
   "mimetype": "text/x-python",
   "name": "python",
   "nbconvert_exporter": "python",
   "pygments_lexer": "ipython3",
   "version": "3.7.3"
  },
  "mimetype": "text/x-python",
  "name": "python",
  "npconvert_exporter": "python",
  "pygments_lexer": "ipython3",
  "version": 3
 },
 "nbformat": 4,
 "nbformat_minor": 2
}
