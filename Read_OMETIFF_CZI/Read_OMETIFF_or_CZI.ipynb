{
 "cells": [
  {
   "cell_type": "code",
   "execution_count": 1,
   "metadata": {},
   "outputs": [],
   "source": [
    "import warnings\n",
    "warnings.filterwarnings('ignore')\n",
    "warnings.simplefilter('ignore')\n",
    "\n",
    "import czifile as zis\n",
    "from apeer_ometiff_library import io, processing, omexmlClass\n",
    "import os\n",
    "from matplotlib import pyplot as plt, cm\n",
    "from mpl_toolkits.axes_grid1 import make_axes_locatable\n",
    "from skimage.viewer import ImageViewer\n",
    "import skimage.io\n",
    "import matplotlib.colors as colors\n",
    "import numpy as np\n",
    "#from skimage.external import tifffile\n",
    "import ipywidgets as widgets\n",
    "\n",
    "import imgfileutils as imf"
   ]
  },
  {
   "cell_type": "code",
   "execution_count": 2,
   "metadata": {},
   "outputs": [],
   "source": [
    "basefolder = r'/datadisk1/tuxedo/IPython_Notebooks/testdata'\n",
    "#basefolder = r'/home/sebi06/testdata'\n",
    "\n",
    "#filename = os.path.join(basefolder, 'Filter_with_Particles_big.ome.tiff')\n",
    "#filename = os.path.join(basefolder, 'S=2_T=5_CH=3_CH=2_A2.ome.tiff')\n",
    "#filename = os.path.join(basefolder, 'Osteosarcoma_01.ome.tiff')\n",
    "#filename = os.path.join(basefolder, 'Filter_with_Particles_big.czi')\n",
    "#filename = os.path.join(basefolder, '8Brains_DAPI_5X_stitched.czi')\n",
    "filename = os.path.join(basefolder, 'S=2_T=5_Z=3_CH=2_A2.czi')"
   ]
  },
  {
   "cell_type": "code",
   "execution_count": 3,
   "metadata": {},
   "outputs": [
    {
     "name": "stdout",
     "output_type": "stream",
     "text": [
      "Image Type:  czi\n",
      "Getting CZI Metadata ...\n"
     ]
    }
   ],
   "source": [
    "image_name = os.path.basename(filename)\n",
    "\n",
    "if filename.lower().endswith('.ome.tiff') or filename.lower().endswith('.ome.tif'):\n",
    "    \n",
    "    # Return value is an 5D Array of order (T, Z, C, X, Y)\n",
    "    (array5d, omexml) = io.read_ometiff(filename)\n",
    "    metadata = imf.get_metadata(filename, series=0)\n",
    "    \n",
    "if filename.lower().endswith('.czi'):\n",
    "    \n",
    "    metadata = imf.get_metadata(filename)"
   ]
  },
  {
   "cell_type": "code",
   "execution_count": 4,
   "metadata": {},
   "outputs": [],
   "source": [
    "#array5d.shape"
   ]
  },
  {
   "cell_type": "code",
   "execution_count": 5,
   "metadata": {},
   "outputs": [
    {
     "data": {
      "text/plain": [
       "{'Directory': '/datadisk1/tuxedo/IPython_Notebooks/testdata',\n",
       " 'Filename': 'S=2_T=5_Z=3_CH=2_A2.czi',\n",
       " 'Name': '',\n",
       " 'AcqDate': '',\n",
       " 'TotalSeries': 0,\n",
       " 'SizeX': '1216',\n",
       " 'SizeY': '1216',\n",
       " 'SizeZ': 1,\n",
       " 'SizeC': 1,\n",
       " 'SizeT': 1,\n",
       " 'DimOrder BF': 'n.a.',\n",
       " 'NA': 0,\n",
       " 'ObjMag': 0,\n",
       " 'ObjID': 'n.a.',\n",
       " 'XScale': 1.0,\n",
       " 'YScale': 1.0,\n",
       " 'ZScale': 3.0,\n",
       " 'XScaleUnit': 'n.a.',\n",
       " 'YScaleUnit': 'n.a.',\n",
       " 'ZScaleUnit': 'n.a.',\n",
       " 'DetectorModel': [],\n",
       " 'DetectorName': [],\n",
       " 'DetectorID': None,\n",
       " 'InstrumentID': None,\n",
       " 'Channels': [],\n",
       " 'ImageIDs': [],\n",
       " 'Axes': 'BSTCZYX0',\n",
       " 'Shape': (1, 1, 5, 2, 3, 1216, 1216, 1),\n",
       " 'PixelType': 'Gray8',\n",
       " 'SizeM': 1}"
      ]
     },
     "execution_count": 5,
     "metadata": {},
     "output_type": "execute_result"
    }
   ],
   "source": [
    "metadata"
   ]
  },
  {
   "cell_type": "code",
   "execution_count": null,
   "metadata": {},
   "outputs": [],
   "source": [
    "#out = widgets.interactive_output(get_TZC, { 't': t, 'z': z, 'c': c, 'r':r})\n",
    "ui, out = imf.create_ipyviewer(array5d, metadata)\n",
    "\n",
    "display(ui, out)"
   ]
  },
  {
   "cell_type": "code",
   "execution_count": null,
   "metadata": {},
   "outputs": [],
   "source": []
  }
 ],
 "metadata": {
  "kernelspec": {
   "display_name": "Python 3",
   "language": "python",
   "name": "python3"
  },
  "language_info": {
   "codemirror_mode": {
    "name": "ipython",
    "version": 3
   },
   "file_extension": ".py",
   "mimetype": "text/x-python",
   "name": "python",
   "nbconvert_exporter": "python",
   "pygments_lexer": "ipython3",
   "version": "3.7.3"
  }
 },
 "nbformat": 4,
 "nbformat_minor": 4
}
