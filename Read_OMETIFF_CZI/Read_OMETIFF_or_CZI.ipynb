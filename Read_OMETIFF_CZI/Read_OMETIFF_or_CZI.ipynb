{
 "cells": [
  {
   "cell_type": "code",
   "execution_count": 1,
   "metadata": {},
   "outputs": [],
   "source": [
    "import czifile as zis\n",
    "from apeer_ometiff_library import io, processing, omexmlClass\n",
    "import os"
   ]
  },
  {
   "cell_type": "code",
   "execution_count": 2,
   "metadata": {},
   "outputs": [],
   "source": [
    "basefolder = r'/datadisk1/tuxedo/IPython_Notebooks/testdata'\n",
    "\n",
    "#filename_ometiff = os.path.join(basefolder, 'Filter_with_Particles_big.ome.tiff')\n",
    "filename_ometiff = os.path.join(basefolder, 'S=2_T=5_CH=3_CH=2_A2.ome.tiff')\n",
    "#filename_czi = os.path.join(basefolder, 'Filter_with_Particles_big.czi')\n",
    "#filename_czi = os.path.join(basefolder, '8Brains_DAPI_5X_stitched.czi')\n",
    "#filename_czi = os.path.join(basefolder, 'S=2_T=5_Z=3_CH=2_A2.czii')"
   ]
  },
  {
   "cell_type": "code",
   "execution_count": 3,
   "metadata": {},
   "outputs": [],
   "source": [
    "def create_metadata_dict():\n",
    "    \"\"\"\n",
    "    A Python dictionary will be created to hold the relevant metadata.\n",
    "    \"\"\"\n",
    "\n",
    "    metadata = {'Directory': '',\n",
    "                'Filename': '',\n",
    "                'Name': '',\n",
    "                'AcqDate': '',\n",
    "                'TotalSeries': 0,\n",
    "                'SizeX': 0,\n",
    "                'SizeY': 0,\n",
    "                'SizeZ': 0,\n",
    "                'SizeC': 0,\n",
    "                'SizeT': 0,\n",
    "                'DimOrder BF': 'n.a.',\n",
    "                'NA': 0,\n",
    "                'ObjMag': 0,\n",
    "                'ObjID': 'n.a.',\n",
    "                'XScale': 0,\n",
    "                'YScale': 0,\n",
    "                'ZScale': 0,\n",
    "                'XScaleUnit': 'n.a.',\n",
    "                'YScaleUnit': 'n.a.',\n",
    "                'ZScaleUnit': 'n.a.',\n",
    "                'DetectorModel': [],\n",
    "                'DetectorName': [],\n",
    "                'DetectorID': None,\n",
    "                'InstrumentID': None,\n",
    "                'Channels': [],\n",
    "                'ImageIDs': []\n",
    "               }\n",
    "\n",
    "    return metadata\n",
    "\n",
    "def get_metadata(filename, omexml,\n",
    "                 series=0):\n",
    "    \n",
    "    # create dictionary for metadata and get OME-XML data\n",
    "    metadata = create_metadata_dict()\n",
    "    md = omexmlClass.OMEXML(omexml)\n",
    "    \n",
    "    # get directory and filename etc.\n",
    "    metadata['Directory'] = os.path.dirname(filename)\n",
    "    metadata['Filename'] = os.path.basename(filename)\n",
    "    metadata['AcqDate'] = md.image(series).AcquisitionDate\n",
    "    metadata['Name'] = md.image(series).Name\n",
    "    \n",
    "    # get image dimensions\n",
    "    metadata['SizeT'] = md.image(series).Pixels.SizeT\n",
    "    metadata['SizeZ'] = md.image(series).Pixels.SizeZ\n",
    "    metadata['SizeC'] = md.image(series).Pixels.SizeC\n",
    "    metadata['SizeX'] = md.image(series).Pixels.SizeX\n",
    "    metadata['SizeY'] = md.image(series).Pixels.SizeY\n",
    "    metadata['TotalSeries'] = md.get_image_count()\n",
    "    \n",
    "    # get dimension order\n",
    "    metadata['DimOrder BF'] = md.image(series).Pixels.DimensionOrder\n",
    "    \n",
    "    # get the scaling\n",
    "    metadata['XScale'] = md.image(series).Pixels.PhysicalSizeX\n",
    "    metadata['XScaleUnit'] = md.image(series).Pixels.PhysicalSizeXUnit\n",
    "    metadata['YScale'] = md.image(series).Pixels.PhysicalSizeY\n",
    "    metadata['YScaleUnit'] = md.image(series).Pixels.PhysicalSizeYUnit\n",
    "    metadata['ZScale'] = md.image(series).Pixels.PhysicalSizeZ\n",
    "    metadata['ZScaleUnit'] = md.image(series).Pixels.PhysicalSizeZUnit\n",
    "    \n",
    "    # get all image IDs\n",
    "    for i in range(md.get_image_count()):\n",
    "        metadata['ImageIDs'].append(i)\n",
    "\n",
    "    # get information baout the instrument and objective\n",
    "    metadata['InstrumentID'] = md.instrument(series).get_ID()\n",
    "    metadata['DetectorModel'] = md.instrument(series).Detector.get_Model()\n",
    "    metadata['DetectorID'] = md.instrument(series).Detector.get_ID()\n",
    "    metadata['DetectorModel'] = md.instrument(series).Detector.get_Type()\n",
    "    metadata['NA'] = md.instrument(series).Objective.get_LensNA()\n",
    "    metadata['ObjID'] = md.instrument(series).Objective.get_ID()\n",
    "    metadata['ObjMag'] = md.instrument(series).Objective.get_NominalMagnification()\n",
    "    \n",
    "    # get channel names\n",
    "    for c in range(metadata['SizeC']):\n",
    "        metadata['Channels'].append(md.image(series).Pixels.Channel(c).Name)\n",
    "        \n",
    "    return metadata"
   ]
  },
  {
   "cell_type": "code",
   "execution_count": 4,
   "metadata": {},
   "outputs": [],
   "source": [
    "image_name = os.path.basename(filename_ometiff)\n",
    "\n",
    "if filename_ometiff.lower().endswith('.ome.tiff') or filename_ometiff.lower().endswith('.ome.tif'):\n",
    "    \n",
    "    # Return value is an 5D Array of order (T, Z, C, X, Y)\n",
    "    (array5d, omexml) = io.read_ometiff(filename_ometiff)\n",
    "    \n",
    "metadata = get_metadata(filename_ometiff, omexml, series=0)"
   ]
  },
  {
   "cell_type": "code",
   "execution_count": 5,
   "metadata": {},
   "outputs": [
    {
     "data": {
      "text/plain": [
       "(5, 3, 2, 1216, 1216)"
      ]
     },
     "execution_count": 5,
     "metadata": {},
     "output_type": "execute_result"
    }
   ],
   "source": [
    "array5d.shape"
   ]
  },
  {
   "cell_type": "code",
   "execution_count": 6,
   "metadata": {},
   "outputs": [
    {
     "data": {
      "text/plain": [
       "{'Directory': '/datadisk1/tuxedo/IPython_Notebooks/testdata',\n",
       " 'Filename': 'S=2_T=5_CH=3_CH=2_A2.ome.tiff',\n",
       " 'Name': 'S=2_T=5_Z=3_CH=2_A2.czi #1',\n",
       " 'AcqDate': '2014-08-27T10:51:22.039',\n",
       " 'TotalSeries': 1,\n",
       " 'SizeX': 1216,\n",
       " 'SizeY': 1216,\n",
       " 'SizeZ': 3,\n",
       " 'SizeC': 2,\n",
       " 'SizeT': 5,\n",
       " 'DimOrder BF': 'XYCZT',\n",
       " 'NA': '0.025',\n",
       " 'ObjMag': '1.0',\n",
       " 'ObjID': 'Objective:1',\n",
       " 'XScale': 1.0,\n",
       " 'YScale': 1.0,\n",
       " 'ZScale': 3.0,\n",
       " 'XScaleUnit': 'µm',\n",
       " 'YScaleUnit': 'µm',\n",
       " 'ZScaleUnit': 'µm',\n",
       " 'DetectorModel': None,\n",
       " 'DetectorName': [],\n",
       " 'DetectorID': 'Detector:Camera',\n",
       " 'InstrumentID': 'Instrument:0',\n",
       " 'Channels': ['DAPI', 'EGFP'],\n",
       " 'ImageIDs': [0]}"
      ]
     },
     "execution_count": 6,
     "metadata": {},
     "output_type": "execute_result"
    }
   ],
   "source": [
    "metadata"
   ]
  },
  {
   "cell_type": "code",
   "execution_count": null,
   "metadata": {},
   "outputs": [],
   "source": []
  }
 ],
 "metadata": {
  "kernelspec": {
   "display_name": "Python 3",
   "language": "python",
   "name": "python3"
  },
  "language_info": {
   "codemirror_mode": {
    "name": "ipython",
    "version": 3
   },
   "file_extension": ".py",
   "mimetype": "text/x-python",
   "name": "python",
   "nbconvert_exporter": "python",
   "pygments_lexer": "ipython3",
   "version": "3.7.3"
  }
 },
 "nbformat": 4,
 "nbformat_minor": 2
}
