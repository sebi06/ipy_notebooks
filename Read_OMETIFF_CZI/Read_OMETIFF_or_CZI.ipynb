{
 "cells": [
  {
   "cell_type": "code",
   "execution_count": 1,
   "metadata": {},
   "outputs": [],
   "source": [
    "import warnings\n",
    "warnings.filterwarnings('ignore')\n",
    "warnings.simplefilter('ignore')\n",
    "\n",
    "import czifile as zis\n",
    "from apeer_ometiff_library import io, processing, omexmlClass\n",
    "import os\n",
    "from matplotlib import pyplot as plt, cm\n",
    "from mpl_toolkits.axes_grid1 import make_axes_locatable\n",
    "from skimage.viewer import ImageViewer\n",
    "import skimage.io\n",
    "import matplotlib.colors as colors\n",
    "import numpy as np"
   ]
  },
  {
   "cell_type": "code",
   "execution_count": 2,
   "metadata": {},
   "outputs": [],
   "source": [
    "#basefolder = r'/datadisk1/tuxedo/IPython_Notebooks/testdata'\n",
    "basefolder = r'/home/sebi06/testdata'\n",
    "\n",
    "#filename_ometiff = os.path.join(basefolder, 'Filter_with_Particles_big.ome.tiff')\n",
    "#filename_ometiff = os.path.join(basefolder, 'S=2_T=5_CH=3_CH=2_A2.ome.tiff')\n",
    "filename_ometiff = os.path.join(basefolder, 'Osteosarcoma_01.ome.tiff')\n",
    "#filename_czi = os.path.join(basefolder, 'Filter_with_Particles_big.czi')\n",
    "#filename_czi = os.path.join(basefolder, '8Brains_DAPI_5X_stitched.czi')\n",
    "#filename_czi = os.path.join(basefolder, 'S=2_T=5_Z=3_CH=2_A2.czi')"
   ]
  },
  {
   "cell_type": "code",
   "execution_count": 3,
   "metadata": {},
   "outputs": [],
   "source": [
    "def create_metadata_dict():\n",
    "    \"\"\"\n",
    "    A Python dictionary will be created to hold the relevant metadata.\n",
    "    \"\"\"\n",
    "\n",
    "    metadata = {'Directory': '',\n",
    "                'Filename': '',\n",
    "                'Name': '',\n",
    "                'AcqDate': '',\n",
    "                'TotalSeries': 0,\n",
    "                'SizeX': 0,\n",
    "                'SizeY': 0,\n",
    "                'SizeZ': 0,\n",
    "                'SizeC': 0,\n",
    "                'SizeT': 0,\n",
    "                'DimOrder BF': 'n.a.',\n",
    "                'NA': 0,\n",
    "                'ObjMag': 0,\n",
    "                'ObjID': 'n.a.',\n",
    "                'XScale': 0,\n",
    "                'YScale': 0,\n",
    "                'ZScale': 0,\n",
    "                'XScaleUnit': 'n.a.',\n",
    "                'YScaleUnit': 'n.a.',\n",
    "                'ZScaleUnit': 'n.a.',\n",
    "                'DetectorModel': [],\n",
    "                'DetectorName': [],\n",
    "                'DetectorID': None,\n",
    "                'InstrumentID': None,\n",
    "                'Channels': [],\n",
    "                'ImageIDs': []\n",
    "               }\n",
    "\n",
    "    return metadata\n",
    "\n",
    "def get_metadata(filename, omexml,\n",
    "                 series=0):\n",
    "    \n",
    "    # create dictionary for metadata and get OME-XML data\n",
    "    metadata = create_metadata_dict()\n",
    "    md = omexmlClass.OMEXML(omexml)\n",
    "    \n",
    "    # get directory and filename etc.\n",
    "    metadata['Directory'] = os.path.dirname(filename)\n",
    "    metadata['Filename'] = os.path.basename(filename)\n",
    "    metadata['AcqDate'] = md.image(series).AcquisitionDate\n",
    "    metadata['Name'] = md.image(series).Name\n",
    "    \n",
    "    # get image dimensions\n",
    "    metadata['SizeT'] = md.image(series).Pixels.SizeT\n",
    "    metadata['SizeZ'] = md.image(series).Pixels.SizeZ\n",
    "    metadata['SizeC'] = md.image(series).Pixels.SizeC\n",
    "    metadata['SizeX'] = md.image(series).Pixels.SizeX\n",
    "    metadata['SizeY'] = md.image(series).Pixels.SizeY\n",
    "    # get number of series\n",
    "    metadata['TotalSeries'] = md.get_image_count()\n",
    "    \n",
    "    # get dimension order\n",
    "    metadata['DimOrder BF'] = md.image(series).Pixels.DimensionOrder\n",
    "    \n",
    "    # get the scaling\n",
    "    metadata['XScale'] = md.image(series).Pixels.PhysicalSizeX\n",
    "    metadata['XScaleUnit'] = md.image(series).Pixels.PhysicalSizeXUnit\n",
    "    metadata['YScale'] = md.image(series).Pixels.PhysicalSizeY\n",
    "    metadata['YScaleUnit'] = md.image(series).Pixels.PhysicalSizeYUnit\n",
    "    metadata['ZScale'] = md.image(series).Pixels.PhysicalSizeZ\n",
    "    metadata['ZScaleUnit'] = md.image(series).Pixels.PhysicalSizeZUnit\n",
    "    \n",
    "    # get all image IDs\n",
    "    for i in range(md.get_image_count()):\n",
    "        metadata['ImageIDs'].append(i)\n",
    "\n",
    "    # get information baout the instrument and objective\n",
    "    metadata['InstrumentID'] = md.instrument(series).get_ID()\n",
    "    metadata['DetectorModel'] = md.instrument(series).Detector.get_Model()\n",
    "    metadata['DetectorID'] = md.instrument(series).Detector.get_ID()\n",
    "    metadata['DetectorModel'] = md.instrument(series).Detector.get_Type()\n",
    "    metadata['NA'] = md.instrument(series).Objective.get_LensNA()\n",
    "    metadata['ObjID'] = md.instrument(series).Objective.get_ID()\n",
    "    metadata['ObjMag'] = md.instrument(series).Objective.get_NominalMagnification()\n",
    "    \n",
    "    # get channel names\n",
    "    for c in range(metadata['SizeC']):\n",
    "        metadata['Channels'].append(md.image(series).Pixels.Channel(c).Name)\n",
    "        \n",
    "    return metadata"
   ]
  },
  {
   "cell_type": "code",
   "execution_count": 4,
   "metadata": {},
   "outputs": [],
   "source": [
    "image_name = os.path.basename(filename_ometiff)\n",
    "\n",
    "if filename_ometiff.lower().endswith('.ome.tiff') or filename_ometiff.lower().endswith('.ome.tif'):\n",
    "    \n",
    "    # Return value is an 5D Array of order (T, Z, C, X, Y)\n",
    "    (array5d, omexml) = io.read_ometiff(filename_ometiff)\n",
    "    \n",
    "metadata = get_metadata(filename_ometiff, omexml, series=0)"
   ]
  },
  {
   "cell_type": "code",
   "execution_count": 5,
   "metadata": {},
   "outputs": [
    {
     "data": {
      "text/plain": [
       "(1, 1, 3, 1104, 1376)"
      ]
     },
     "execution_count": 5,
     "metadata": {},
     "output_type": "execute_result"
    }
   ],
   "source": [
    "array5d.shape"
   ]
  },
  {
   "cell_type": "code",
   "execution_count": 6,
   "metadata": {},
   "outputs": [
    {
     "data": {
      "text/plain": [
       "{'Directory': '/home/sebi06/testdata',\n",
       " 'Filename': 'Osteosarcoma_01.ome.tiff',\n",
       " 'Name': '',\n",
       " 'AcqDate': '2018-06-07T21:29:00.9578115Z',\n",
       " 'TotalSeries': 1,\n",
       " 'SizeX': 1376,\n",
       " 'SizeY': 1104,\n",
       " 'SizeZ': 1,\n",
       " 'SizeC': 3,\n",
       " 'SizeT': 1,\n",
       " 'DimOrder BF': 'XYZTC',\n",
       " 'NA': '0.8',\n",
       " 'ObjMag': '20',\n",
       " 'ObjID': 'Objective:1',\n",
       " 'XScale': 0.454,\n",
       " 'YScale': 0.454,\n",
       " 'ZScale': None,\n",
       " 'XScaleUnit': None,\n",
       " 'YScaleUnit': None,\n",
       " 'ZScaleUnit': None,\n",
       " 'DetectorModel': None,\n",
       " 'DetectorName': [],\n",
       " 'DetectorID': 'Detector:1',\n",
       " 'InstrumentID': 'Instrument:1',\n",
       " 'Channels': ['AF568_2', 'AF488', 'DAPI'],\n",
       " 'ImageIDs': [0]}"
      ]
     },
     "execution_count": 6,
     "metadata": {},
     "output_type": "execute_result"
    }
   ],
   "source": [
    "metadata"
   ]
  },
  {
   "cell_type": "code",
   "execution_count": 7,
   "metadata": {},
   "outputs": [],
   "source": [
    "import ipywidgets as widgets\n",
    "\n",
    "t = widgets.IntSlider(description='T:',\n",
    "                      min=1,\n",
    "                      max=metadata['SizeT'],\n",
    "                      step=1,\n",
    "                      value=1,\n",
    "                      continuous_update=False)\n",
    "\n",
    "z = widgets.IntSlider(description='Z:',\n",
    "                      min=1,\n",
    "                      max=metadata['SizeZ'],\n",
    "                      step=1,\n",
    "                      value=1,\n",
    "                      continuous_update=False)\n",
    "\n",
    "c = widgets.IntSlider(description='C:',\n",
    "                      min=1,\n",
    "                      max=metadata['SizeC'],\n",
    "                      step=1,\n",
    "                      value=1)\n",
    "\n",
    "r = widgets.IntRangeSlider(description='Display Range:',\n",
    "                           min=array5d.min(),\n",
    "                           max=array5d.max(),\n",
    "                           step=1,\n",
    "                           value=[array5d.min(), array5d.max()],\n",
    "                           continuous_update=False)\n",
    "\n",
    "ui = widgets.VBox([t, z, c, r])"
   ]
  },
  {
   "cell_type": "code",
   "execution_count": 8,
   "metadata": {},
   "outputs": [],
   "source": [
    "def display_image(array5d, t=0, c=0, z=0, vmin=0, vmax=1000):\n",
    "    image = array5d[t-1, z-1, c-1, :, :]\n",
    "    # display the labelled image\n",
    "    fig, ax = plt.subplots(figsize=(10, 10))\n",
    "    divider = make_axes_locatable(ax)\n",
    "    cax = divider.append_axes('right', size='5%', pad=0.05)\n",
    "    im = ax.imshow(image, vmin=vmin, vmax=vmax, interpolation='nearest', cmap=cm.gray)\n",
    "    fig.colorbar(im, cax=cax, orientation='vertical')\n",
    "    print('Min-Max (Current Plane):', image.min(), '-', image.max())\n",
    "\n",
    "def get_TZC(t, z, c, r):\n",
    "    \n",
    "    #minvalue = array5d[t-1, z-1, c-1, :, :].min()\n",
    "    #maxvalue = array5d[t-1, z-1, c-1, :, :].max()\n",
    "    #r.min = minvalue\n",
    "    #r.max = maxvalue\n",
    "    display_image(array5d, t=t, z=z, c=c, vmin=r[0], vmax=r[1])\n",
    "\n",
    "# disable slider that are not needed\n",
    "if metadata['SizeT'] == 1:\n",
    "    t.disabled=True\n",
    "if metadata['SizeZ'] == 1:\n",
    "    z.disabled=True\n",
    "if metadata['SizeC'] == 1:\n",
    "    c.disabled=True"
   ]
  },
  {
   "cell_type": "code",
   "execution_count": 9,
   "metadata": {},
   "outputs": [
    {
     "data": {
      "application/vnd.jupyter.widget-view+json": {
       "model_id": "8ac97aacd1534df0be8de30f6d48dbfe",
       "version_major": 2,
       "version_minor": 0
      },
      "text/plain": [
       "VBox(children=(IntSlider(value=1, continuous_update=False, description='T:', disabled=True, max=1, min=1), Int…"
      ]
     },
     "metadata": {},
     "output_type": "display_data"
    },
    {
     "data": {
      "application/vnd.jupyter.widget-view+json": {
       "model_id": "c1a4478b18884e08a2a60e24ba1d5972",
       "version_major": 2,
       "version_minor": 0
      },
      "text/plain": [
       "Output()"
      ]
     },
     "metadata": {},
     "output_type": "display_data"
    }
   ],
   "source": [
    "out = widgets.interactive_output(get_TZC, { 't': t, 'z': z, 'c': c, 'r':r})\n",
    "display(ui, out)"
   ]
  },
  {
   "cell_type": "code",
   "execution_count": null,
   "metadata": {},
   "outputs": [],
   "source": []
  }
 ],
 "metadata": {
  "kernelspec": {
   "display_name": "Python 3",
   "language": "python",
   "name": "python3"
  },
  "language_info": {
   "codemirror_mode": {
    "name": "ipython",
    "version": 3
   },
   "file_extension": ".py",
   "mimetype": "text/x-python",
   "name": "python",
   "nbconvert_exporter": "python",
   "pygments_lexer": "ipython3",
   "version": "3.7.3"
  }
 },
 "nbformat": 4,
 "nbformat_minor": 4
}
