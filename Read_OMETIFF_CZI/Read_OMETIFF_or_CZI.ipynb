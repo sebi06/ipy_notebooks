{
 "cells": [
  {
   "cell_type": "code",
   "execution_count": 1,
   "metadata": {},
   "outputs": [],
   "source": [
    "import warnings\n",
    "warnings.filterwarnings('ignore')\n",
    "warnings.simplefilter('ignore')\n",
    "\n",
    "import czifile as zis\n",
    "from apeer_ometiff_library import io, processing, omexmlClass\n",
    "import os\n",
    "from matplotlib import pyplot as plt, cm\n",
    "from mpl_toolkits.axes_grid1 import make_axes_locatable\n",
    "from skimage.viewer import ImageViewer\n",
    "import skimage.io\n",
    "import matplotlib.colors as colors\n",
    "import numpy as np\n",
    "#from skimage.external import tifffile\n",
    "import ipywidgets as widgets\n",
    "\n",
    "import imgfileutils as imf"
   ]
  },
  {
   "cell_type": "code",
   "execution_count": 2,
   "metadata": {},
   "outputs": [],
   "source": [
    "basefolder = r'/datadisk1/tuxedo/IPython_Notebooks/testdata'\n",
    "#basefolder = r'/home/sebi06/testdata'\n",
    "\n",
    "#filename = os.path.join(basefolder, 'Filter_with_Particles_big.ome.tiff')\n",
    "#filename = os.path.join(basefolder, 'S=2_T=5_CH=3_CH=2_A2.ome.tiff')\n",
    "#filename = os.path.join(basefolder, 'Osteosarcoma_01.ome.tiff')\n",
    "filename = os.path.join(basefolder, 'Filter_with_Particles_small.czi')\n",
    "#filename = os.path.join(basefolder, '8Brains_DAPI_5X_stitched.czi')\n",
    "#filename = os.path.join(basefolder, 'S=2_T=5_Z=3_CH=2_A2.czi')"
   ]
  },
  {
   "cell_type": "code",
   "execution_count": 4,
   "metadata": {},
   "outputs": [
    {
     "name": "stdout",
     "output_type": "stream",
     "text": [
      "Image Type:  czi\n",
      "Getting CZI Metadata ...\n",
      "(1, 1, 1, 2061, 4662, 1)\n",
      "TCZYX0\n",
      "{'B': -1, 'S': -1, 'T': 0, 'C': 1, 'Z': 2, 'Y': 3, 'X': 4, '0': 5}\n",
      "[-1, -1, 0, 1, 2, 3, 4, 5]\n",
      "5\n",
      "cut 5\n",
      "(1, 1, 1, 2061, 4662)\n"
     ]
    }
   ],
   "source": [
    "image_name = os.path.basename(filename)\n",
    "\n",
    "if filename.lower().endswith('.ome.tiff') or filename.lower().endswith('.ome.tif'):\n",
    "    \n",
    "    # Return value is an 5D Array of order (T, Z, C, X, Y)\n",
    "    (array, omexml) = io.read_ometiff(filename)\n",
    "    metadata = imf.get_metadata(filename, series=0)\n",
    "    \n",
    "if filename.lower().endswith('.czi'):\n",
    "    \n",
    "    metadata = imf.get_metadata(filename)\n",
    "    \n",
    "    print(metadata['Shape'])\n",
    "    print(metadata['Axes'])\n",
    "\n",
    "    \n",
    "    array = imf.get_array_czi(filename,\n",
    "                              cziaxes=metadata['Axes'],\n",
    "                              blockindex=0,\n",
    "                              sceneindex=0,\n",
    "                              replacezero=True)\n",
    "    print(array.shape)"
   ]
  },
  {
   "cell_type": "code",
   "execution_count": 5,
   "metadata": {},
   "outputs": [
    {
     "name": "stdout",
     "output_type": "stream",
     "text": [
      "(1, 1, 1, 2061, 4662, 1)\n",
      "TCZYX0\n",
      "(1, 1, 1, 2061, 4662)\n"
     ]
    }
   ],
   "source": [
    "print(metadata['Shape'])\n",
    "print(metadata['Axes'])\n",
    "print(array.shape)"
   ]
  },
  {
   "cell_type": "code",
   "execution_count": 6,
   "metadata": {},
   "outputs": [
    {
     "data": {
      "application/vnd.jupyter.widget-view+json": {
       "model_id": "ad7a336033894fac89071c7b1ef4a57e",
       "version_major": 2,
       "version_minor": 0
      },
      "text/plain": [
       "Output()"
      ]
     },
     "metadata": {},
     "output_type": "display_data"
    },
    {
     "data": {
      "application/vnd.jupyter.widget-view+json": {
       "model_id": "445abeba404049a6b52fb92e83f1d77d",
       "version_major": 2,
       "version_minor": 0
      },
      "text/plain": [
       "VBox(children=(IntSlider(value=1, continuous_update=False, description='T:', disabled=True, max=1, min=1), Int…"
      ]
     },
     "metadata": {},
     "output_type": "display_data"
    }
   ],
   "source": [
    "#out = widgets.interactive_output(get_TZC, { 't': t, 'z': z, 'c': c, 'r':r})\n",
    "ui, out = imf.create_ipyviewer(array, metadata)\n",
    "\n",
    "display(ui, out)"
   ]
  },
  {
   "cell_type": "code",
   "execution_count": null,
   "metadata": {},
   "outputs": [],
   "source": [
    "def get_dimorder(dimstring):\n",
    "    \n",
    "    dimindex_list = []\n",
    "    dims = ['B', 'S', 'T', 'C', 'Z', 'Y', 'X', '0']\n",
    "    dims_dict = {}\n",
    "    \n",
    "    for d in dims:\n",
    "    \n",
    "        dims_dict[d] = dimstring.find(d)\n",
    "        dimindex_list.append(dimstring.find(d))\n",
    "        \n",
    "    numvalid_dims = sum(i > 0 for i in dimindex_list)\n",
    "    \n",
    "    return dims_dict, dimindex_list, numvalid_dims\n",
    "\n",
    "dim_dict, dim_list, numvalid_dims = get_dimorder(metadata['Axes'])\n",
    "\n",
    "print(dim_dict)\n",
    "print(dim_list)\n",
    "print(numvalid_dims)"
   ]
  },
  {
   "cell_type": "code",
   "execution_count": null,
   "metadata": {},
   "outputs": [],
   "source": [
    "if dim_dict['B'] < 0 and dim_dict['S'] >=0:\n",
    "    # B does not exist but S does\n",
    "    cut = (0, count)\n",
    "if dim_dict['B'] >= 0 and dim_dict['S'] >=0:\n",
    "    # B and S do exist\n",
    "    cut = (0, 1, count)\n",
    "if dim_dict['B'] < 0 and dim_dict['S'] < 0:\n",
    "    # B and S do not exist\n",
    "    cut = (count)\n",
    "if dim_dict['B'] >= 0 and dim_dict['S'] <0:\n",
    "    # B does exist but S does not\n",
    "    cut = (0, count)\n",
    "    \n",
    "print(cut)"
   ]
  },
  {
   "cell_type": "code",
   "execution_count": null,
   "metadata": {},
   "outputs": [],
   "source": [
    "out = np.squeeze(array, axis=(count))\n",
    "print(array.shape)\n",
    "print(out.shape)"
   ]
  },
  {
   "cell_type": "code",
   "execution_count": null,
   "metadata": {},
   "outputs": [],
   "source": []
  }
 ],
 "metadata": {
  "kernelspec": {
   "display_name": "Python 3",
   "language": "python",
   "name": "python3"
  },
  "language_info": {
   "codemirror_mode": {
    "name": "ipython",
    "version": 3
   },
   "file_extension": ".py",
   "mimetype": "text/x-python",
   "name": "python",
   "nbconvert_exporter": "python",
   "pygments_lexer": "ipython3",
   "version": "3.7.3"
  }
 },
 "nbformat": 4,
 "nbformat_minor": 4
}
