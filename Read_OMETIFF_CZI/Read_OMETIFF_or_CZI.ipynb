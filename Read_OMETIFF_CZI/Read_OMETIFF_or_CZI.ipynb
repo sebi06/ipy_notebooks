{
 "cells": [
  {
   "cell_type": "code",
   "execution_count": 1,
   "metadata": {},
   "outputs": [],
   "source": [
    "import warnings\n",
    "warnings.filterwarnings('ignore')\n",
    "warnings.simplefilter('ignore')\n",
    "\n",
    "import czifile as zis\n",
    "from apeer_ometiff_library import io, processing, omexmlClass\n",
    "import os\n",
    "from matplotlib import pyplot as plt, cm\n",
    "from mpl_toolkits.axes_grid1 import make_axes_locatable\n",
    "from skimage.viewer import ImageViewer\n",
    "import skimage.io\n",
    "import matplotlib.colors as colors\n",
    "import numpy as np\n",
    "\n",
    "import imgfileutils as imf"
   ]
  },
  {
   "cell_type": "code",
   "execution_count": 2,
   "metadata": {},
   "outputs": [],
   "source": [
    "basefolder = r'/datadisk1/tuxedo/IPython_Notebooks/testdata'\n",
    "#basefolder = r'/home/sebi06/testdata'\n",
    "\n",
    "#filename_ometiff = os.path.join(basefolder, 'Filter_with_Particles_big.ome.tiff')\n",
    "filename_ometiff = os.path.join(basefolder, 'S=2_T=5_CH=3_CH=2_A2.ome.tiff')\n",
    "#filename_ometiff = os.path.join(basefolder, 'Osteosarcoma_01.ome.tiff')\n",
    "#filename_czi = os.path.join(basefolder, 'Filter_with_Particles_big.czi')\n",
    "#filename_czi = os.path.join(basefolder, '8Brains_DAPI_5X_stitched.czi')\n",
    "#filename_czi = os.path.join(basefolder, 'S=2_T=5_Z=3_CH=2_A2.czi')"
   ]
  },
  {
   "cell_type": "code",
   "execution_count": 3,
   "metadata": {},
   "outputs": [],
   "source": [
    "image_name = os.path.basename(filename_ometiff)\n",
    "\n",
    "if filename_ometiff.lower().endswith('.ome.tiff') or filename_ometiff.lower().endswith('.ome.tif'):\n",
    "    \n",
    "    # Return value is an 5D Array of order (T, Z, C, X, Y)\n",
    "    (array5d, omexml) = io.read_ometiff(filename_ometiff)\n",
    "    \n",
    "metadata = imf.get_metadata_ometiff(filename_ometiff, omexml, series=0)"
   ]
  },
  {
   "cell_type": "code",
   "execution_count": 4,
   "metadata": {},
   "outputs": [
    {
     "data": {
      "text/plain": [
       "(5, 3, 2, 1216, 1216)"
      ]
     },
     "execution_count": 4,
     "metadata": {},
     "output_type": "execute_result"
    }
   ],
   "source": [
    "array5d.shape"
   ]
  },
  {
   "cell_type": "code",
   "execution_count": 5,
   "metadata": {},
   "outputs": [
    {
     "data": {
      "text/plain": [
       "{'Directory': '/datadisk1/tuxedo/IPython_Notebooks/testdata',\n",
       " 'Filename': 'S=2_T=5_CH=3_CH=2_A2.ome.tiff',\n",
       " 'Name': 'S=2_T=5_Z=3_CH=2_A2.czi #1',\n",
       " 'AcqDate': '2014-08-27T10:51:22.039',\n",
       " 'TotalSeries': 1,\n",
       " 'SizeX': 1216,\n",
       " 'SizeY': 1216,\n",
       " 'SizeZ': 3,\n",
       " 'SizeC': 2,\n",
       " 'SizeT': 5,\n",
       " 'DimOrder BF': 'XYCZT',\n",
       " 'NA': '0.025',\n",
       " 'ObjMag': '1.0',\n",
       " 'ObjID': 'Objective:1',\n",
       " 'XScale': 1.0,\n",
       " 'YScale': 1.0,\n",
       " 'ZScale': 3.0,\n",
       " 'XScaleUnit': 'µm',\n",
       " 'YScaleUnit': 'µm',\n",
       " 'ZScaleUnit': 'µm',\n",
       " 'DetectorModel': None,\n",
       " 'DetectorName': [],\n",
       " 'DetectorID': 'Detector:Camera',\n",
       " 'InstrumentID': 'Instrument:0',\n",
       " 'Channels': ['DAPI', 'EGFP'],\n",
       " 'ImageIDs': [0]}"
      ]
     },
     "execution_count": 5,
     "metadata": {},
     "output_type": "execute_result"
    }
   ],
   "source": [
    "metadata"
   ]
  },
  {
   "cell_type": "code",
   "execution_count": 6,
   "metadata": {},
   "outputs": [],
   "source": [
    "import ipywidgets as widgets\n",
    "\n",
    "t = widgets.IntSlider(description='T:',\n",
    "                      min=1,\n",
    "                      max=metadata['SizeT'],\n",
    "                      step=1,\n",
    "                      value=1,\n",
    "                      continuous_update=False)\n",
    "\n",
    "z = widgets.IntSlider(description='Z:',\n",
    "                      min=1,\n",
    "                      max=metadata['SizeZ'],\n",
    "                      step=1,\n",
    "                      value=1,\n",
    "                      continuous_update=False)\n",
    "\n",
    "c = widgets.IntSlider(description='C:',\n",
    "                      min=1,\n",
    "                      max=metadata['SizeC'],\n",
    "                      step=1,\n",
    "                      value=1)\n",
    "\n",
    "r = widgets.IntRangeSlider(description='Display Range:',\n",
    "                           min=array5d.min(),\n",
    "                           max=array5d.max(),\n",
    "                           step=1,\n",
    "                           value=[array5d.min(), array5d.max()],\n",
    "                           continuous_update=False)\n",
    "\n",
    "ui = widgets.VBox([t, z, c, r])"
   ]
  },
  {
   "cell_type": "code",
   "execution_count": 7,
   "metadata": {},
   "outputs": [],
   "source": [
    "def display_image(array5d, t=0, c=0, z=0, vmin=0, vmax=1000):\n",
    "    image = array5d[t-1, z-1, c-1, :, :]\n",
    "    # display the labelled image\n",
    "    fig, ax = plt.subplots(figsize=(10, 10))\n",
    "    divider = make_axes_locatable(ax)\n",
    "    cax = divider.append_axes('right', size='5%', pad=0.05)\n",
    "    im = ax.imshow(image, vmin=vmin, vmax=vmax, interpolation='nearest', cmap=cm.gray)\n",
    "    fig.colorbar(im, cax=cax, orientation='vertical')\n",
    "    print('Min-Max (Current Plane):', image.min(), '-', image.max())\n",
    "\n",
    "def get_TZC(t, z, c, r):\n",
    "    \n",
    "    #minvalue = array5d[t-1, z-1, c-1, :, :].min()\n",
    "    #maxvalue = array5d[t-1, z-1, c-1, :, :].max()\n",
    "    #r.min = minvalue\n",
    "    #r.max = maxvalue\n",
    "    display_image(array5d, t=t, z=z, c=c, vmin=r[0], vmax=r[1])\n",
    "\n",
    "# disable slider that are not needed\n",
    "if metadata['SizeT'] == 1:\n",
    "    t.disabled=True\n",
    "if metadata['SizeZ'] == 1:\n",
    "    z.disabled=True\n",
    "if metadata['SizeC'] == 1:\n",
    "    c.disabled=True"
   ]
  },
  {
   "cell_type": "code",
   "execution_count": 8,
   "metadata": {},
   "outputs": [
    {
     "data": {
      "application/vnd.jupyter.widget-view+json": {
       "model_id": "3463bd2e679643858ec2044a05382205",
       "version_major": 2,
       "version_minor": 0
      },
      "text/plain": [
       "VBox(children=(IntSlider(value=1, continuous_update=False, description='T:', max=5, min=1), IntSlider(value=1,…"
      ]
     },
     "metadata": {},
     "output_type": "display_data"
    },
    {
     "data": {
      "application/vnd.jupyter.widget-view+json": {
       "model_id": "d037c2cff9e6437099a089c97a8c99a3",
       "version_major": 2,
       "version_minor": 0
      },
      "text/plain": [
       "Output()"
      ]
     },
     "metadata": {},
     "output_type": "display_data"
    }
   ],
   "source": [
    "out = widgets.interactive_output(get_TZC, { 't': t, 'z': z, 'c': c, 'r':r})\n",
    "display(ui, out)"
   ]
  },
  {
   "cell_type": "code",
   "execution_count": null,
   "metadata": {},
   "outputs": [],
   "source": []
  }
 ],
 "metadata": {
  "kernelspec": {
   "display_name": "Python 3",
   "language": "python",
   "name": "python3"
  },
  "language_info": {
   "codemirror_mode": {
    "name": "ipython",
    "version": 3
   },
   "file_extension": ".py",
   "mimetype": "text/x-python",
   "name": "python",
   "nbconvert_exporter": "python",
   "pygments_lexer": "ipython3",
   "version": "3.7.3"
  }
 },
 "nbformat": 4,
 "nbformat_minor": 4
}
