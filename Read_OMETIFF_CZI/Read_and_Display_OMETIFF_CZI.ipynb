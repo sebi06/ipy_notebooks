{
 "cells": [
  {
   "cell_type": "code",
   "execution_count": 1,
   "metadata": {},
   "outputs": [],
   "source": [
    "#################################################################\n",
    "# File       : Read_and_Display_OMETIFF_CZI.ipynb\n",
    "# Version    : 0.1\n",
    "# Author     : czsrh\n",
    "# Date       : 25.10.2019\n",
    "# Insitution : Carl Zeiss Microscopy GmbH\n",
    "#\n",
    "# Disclaimer: Just for testing - Use at your own Risk.\n",
    "# Feedback or Improvements are welcome.\n",
    "##################################################################"
   ]
  },
  {
   "cell_type": "code",
   "execution_count": 2,
   "metadata": {},
   "outputs": [],
   "source": [
    "import warnings\n",
    "warnings.filterwarnings('ignore')\n",
    "warnings.simplefilter('ignore')\n",
    "\n",
    "from apeer_ometiff_library import io, processing, omexmlClass\n",
    "import os\n",
    "import numpy as np\n",
    "import ipywidgets as widgets\n",
    "import napari\n",
    "import imgfileutils as imf"
   ]
  },
  {
   "cell_type": "code",
   "execution_count": 9,
   "metadata": {},
   "outputs": [
    {
     "name": "stderr",
     "output_type": "stream",
     "text": [
      "WARNING: QSocketNotifier: Multiple socket notifiers for same socket 936 and type Read\n"
     ]
    }
   ],
   "source": [
    "# define your testfiles here\n",
    "\n",
    "imgdict = {\n",
    "    1:r'C:\\Users\\m1srh\\Documents\\Testdata_Zeiss\\Castor\\Z-Stack_DCV\\CellDivision_T=10_Z=15_CH=2_DCV_small.czi',\n",
    "    2:r'C:\\Users\\m1srh\\Documents\\Testdata_Zeiss\\Castor\\Z-Stack_DCV\\CellDivision_T=10_Z=15_CH=2_DCV_small.ome.tiff',\n",
    "    3:r'C:\\Users\\m1srh\\Documents\\Testdata_Zeiss\\Castor\\Z-Stack_DCV\\CellDivision_T=10_Z=15_CH=2_DCV_small_Fiji.ome.tiff',\n",
    "    4:r'C:\\Users\\m1srh\\Documents\\Testdata_Zeiss\\Castor\\Z-Stack_DCV\\CellDivision_T=15_Z=20_CH=2_DCV.czi'\n",
    "}\n",
    "\n",
    "filename = imgdict[3]"
   ]
  },
  {
   "cell_type": "code",
   "execution_count": 10,
   "metadata": {},
   "outputs": [
    {
     "name": "stdout",
     "output_type": "stream",
     "text": [
      "Image Type:  ometiff\n",
      "Getting OME-TIFF Metadata ...\n",
      "Array Shape:  (10, 15, 2, 256, 256)\n",
      "Sizes BF:  [1, 10, 15, 2, 256, 256]\n",
      "XYCZT\n",
      "TZCYX\n"
     ]
    },
    {
     "name": "stderr",
     "output_type": "stream",
     "text": [
      "WARNING: QSocketNotifier: Multiple socket notifiers for same socket 936 and type Read\n"
     ]
    }
   ],
   "source": [
    "# read metadata and array differently for OME-TIFF or CZI data\n",
    "if filename.lower().endswith('.ome.tiff') or filename.lower().endswith('.ome.tif'):\n",
    "    \n",
    "    # Return value is an array of order (T, Z, C, X, Y)\n",
    "    (array, omexml) = io.read_ometiff(filename)\n",
    "    metadata = imf.get_metadata(filename, series=0)\n",
    "    print('Array Shape: ', array.shape)\n",
    "    print('Sizes BF: ', metadata['Sizes BF'])\n",
    "    print(metadata['DimOrder BF'])\n",
    "    print(metadata['DimOrder BF Array'])\n",
    "    \n",
    "if filename.lower().endswith('.czi'):\n",
    "\n",
    "    # get the array and the metadata\n",
    "    array, metadata = imf.get_array_czi(filename, replacezero=False)\n",
    "    print('Array Shape: ', array.shape)\n",
    "    print(metadata['Shape'])\n",
    "    print(metadata['Axes'])"
   ]
  },
  {
   "cell_type": "code",
   "execution_count": 11,
   "metadata": {},
   "outputs": [
    {
     "name": "stderr",
     "output_type": "stream",
     "text": [
      "WARNING: QSocketNotifier: Multiple socket notifiers for same socket 936 and type Read\n"
     ]
    }
   ],
   "source": [
    "show_ipyviewer = False\n",
    "\n",
    "if show_ipyviewer:\n",
    "\n",
    "    #out = widgets.interactive_output(get_TZC, { 't': t, 'z': z, 'c': c, 'r':r})\n",
    "    if metadata['Extension'] == 'ome.tiff':\n",
    "        ui, out = imf.create_ipyviewer_ome_tiff(array, metadata)\n",
    "    if metadata['Extension'] == 'czi':\n",
    "        ui, out = imf.create_ipyviewer_czi(array, metadata)\n",
    "\n",
    "    display(ui, out)"
   ]
  },
  {
   "cell_type": "code",
   "execution_count": 12,
   "metadata": {},
   "outputs": [
    {
     "name": "stderr",
     "output_type": "stream",
     "text": [
      "WARNING: QSocketNotifier: Multiple socket notifiers for same socket 936 and type Read\n"
     ]
    }
   ],
   "source": [
    "import time\n",
    "\n",
    "# switch to qt5 backend for napari viewer and wait a few seconds\n",
    "%gui qt5\n",
    "time.sleep(5)"
   ]
  },
  {
   "cell_type": "code",
   "execution_count": 13,
   "metadata": {},
   "outputs": [],
   "source": [
    "napari_auto = True\n",
    "\n",
    "# try to configre napari automatiaclly based on metadata\n",
    "if napari_auto:\n",
    "    imf.show_napari(array, metadata)"
   ]
  },
  {
   "cell_type": "code",
   "execution_count": null,
   "metadata": {},
   "outputs": [],
   "source": [
    "# configure napari viewer manually - check array diemsnion and dimension order carefully \n",
    "if not napari_auto:\n",
    "    \n",
    "    # get the scalefactors\n",
    "    scalefactors = imf.get_scalefactor(metadata)\n",
    "    print(scalefactors)\n",
    "    \n",
    "    viewer = napari.Viewer()\n",
    "    # add every channel as a single layer\n",
    "    for ch in range(metadata['SizeC']):\n",
    "        chname = metadata['Channels'][ch]\n",
    "        viewer.add_image(array[ch, :, :, :, :], name=chname, scale=scalefactors['zx'])"
   ]
  },
  {
   "cell_type": "code",
   "execution_count": null,
   "metadata": {},
   "outputs": [],
   "source": []
  }
 ],
 "metadata": {
  "file_extension": ".py",
  "kernelspec": {
   "display_name": "Python 3",
   "language": "python",
   "name": "python3"
  },
  "language_info": {
   "codemirror_mode": {
    "name": "ipython",
    "version": 3
   },
   "file_extension": ".py",
   "mimetype": "text/x-python",
   "name": "python",
   "nbconvert_exporter": "python",
   "pygments_lexer": "ipython3",
   "version": "3.7.3"
  },
  "mimetype": "text/x-python",
  "name": "python",
  "npconvert_exporter": "python",
  "pygments_lexer": "ipython3",
  "version": 3
 },
 "nbformat": 4,
 "nbformat_minor": 2
}
