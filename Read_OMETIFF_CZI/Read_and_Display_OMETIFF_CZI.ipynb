{
 "cells": [
  {
   "cell_type": "code",
   "execution_count": 1,
   "metadata": {},
   "outputs": [],
   "source": [
    "#################################################################\n",
    "# File       : Read_and_Display_OMETIFF_CZI.ipynb\n",
    "# Version    : 0.3\n",
    "# Author     : czsrh\n",
    "# Date       : 02.11.2019\n",
    "# Insitution : Carl Zeiss Microscopy GmbH\n",
    "#\n",
    "# Disclaimer: Just for testing - Use at your own risk.\n",
    "# Feedback or Improvements are welcome.\n",
    "##################################################################"
   ]
  },
  {
   "cell_type": "code",
   "execution_count": 2,
   "metadata": {},
   "outputs": [],
   "source": [
    "import warnings\n",
    "warnings.filterwarnings('ignore')\n",
    "warnings.simplefilter('ignore')\n",
    "\n",
    "from apeer_ometiff_library import io, processing, omexmlClass\n",
    "import os\n",
    "import numpy as np\n",
    "import ipywidgets as widgets\n",
    "import napari\n",
    "import imgfileutils as imf"
   ]
  },
  {
   "cell_type": "code",
   "execution_count": 3,
   "metadata": {},
   "outputs": [],
   "source": [
    "# define your testfiles here\n",
    "\n",
    "imgdict = {\n",
    "    1:r'C:\\Users\\m1srh\\Documents\\Testdata_Zeiss\\Castor\\Z-Stack_DCV\\CellDivision_T=10_Z=15_CH=2_DCV_small.czi',\n",
    "    2:r'C:\\Users\\m1srh\\Documents\\Testdata_Zeiss\\Castor\\Z-Stack_DCV\\CellDivision_T=10_Z=15_CH=2_DCV_small.ome.tiff',\n",
    "    3:r'C:\\Users\\m1srh\\Documents\\Testdata_Zeiss\\Castor\\Z-Stack_DCV\\CellDivision_T=10_Z=15_CH=2_DCV_small_Fiji.ome.tiff',\n",
    "    4:r'C:\\Users\\m1srh\\Documents\\Testdata_Zeiss\\Castor\\Z-Stack_DCV\\CellDivision_T=15_Z=20_CH=2_DCV.czi',\n",
    "    5:r'C:\\Users\\m1srh\\Documents\\Testdata_Zeiss\\Castor\\Z-Stack_DCV\\NeuroSpheres_DCV_A635_A488_A405.czi',\n",
    "    6:r'C:\\Users\\m1srh\\Documents\\Testdata_Zeiss\\Castor\\Z-Stack_DCV\\CZI_DimorderTZC.czi'\n",
    "}\n",
    "\n",
    "filename = imgdict[3]"
   ]
  },
  {
   "cell_type": "code",
   "execution_count": 4,
   "metadata": {},
   "outputs": [
    {
     "name": "stdout",
     "output_type": "stream",
     "text": [
      "(10, 15, 2, 256, 256)\n",
      "(10, 15, 2, 256, 256)\n"
     ]
    }
   ],
   "source": [
    "\n",
    "def read_ometiff(input_path):\n",
    "    \n",
    "    from skimage.external import tifffile\n",
    "    \n",
    "    with tifffile.TiffFile(input_path) as tif:\n",
    "        array = tif.asarray()\n",
    "        print(array.shape)\n",
    "        omexml_string = tif[0].image_description.decode(\"utf-8\")\n",
    "\n",
    "    # Turn Ome XML String to an Bioformats object for parsing\n",
    "    metadata = omexmlClass.OMEXML(omexml_string)\n",
    "\n",
    "    print(array.shape)\n",
    "    \n",
    "    # Parse pixel sizes\n",
    "    pixels = metadata.image(0).Pixels\n",
    "    size_c = pixels.SizeC\n",
    "    size_t = pixels.SizeT\n",
    "    size_z = pixels.SizeZ\n",
    "    size_x = pixels.SizeX\n",
    "    size_y = pixels.SizeY\n",
    "\n",
    "    # Expand image array to 5D of order (T, Z, C, X, Y)\n",
    "    if size_c == 1:\n",
    "        array = np.expand_dims(array, axis=-3)\n",
    "        print('C=1', array.shape)\n",
    "    if size_z == 1:\n",
    "        array = np.expand_dims(array, axis=-4)\n",
    "        print('Z=1', array.shape)\n",
    "    if size_t == 1:\n",
    "        array = np.expand_dims(array, axis=-5)\n",
    "        print('T=1', array.shape)\n",
    "\n",
    "    return array, omexml_string\n",
    "\n",
    "(array, omexml) = read_ometiff(filename)\n",
    "\n"
   ]
  },
  {
   "cell_type": "code",
   "execution_count": 5,
   "metadata": {},
   "outputs": [
    {
     "name": "stdout",
     "output_type": "stream",
     "text": [
      "Image Type:  ometiff\n",
      "Getting OME-TIFF Metadata ...\n",
      "Array Shape:  (10, 15, 2, 256, 256)\n",
      "Sizes BF:  [1, 10, 15, 2, 256, 256]\n",
      "XYCZT\n",
      "TZCYX\n"
     ]
    }
   ],
   "source": [
    "# read metadata and array differently for OME-TIFF or CZI data\n",
    "if filename.lower().endswith('.ome.tiff') or filename.lower().endswith('.ome.tif'):\n",
    "    \n",
    "    # Return value is an array of order (T, Z, C, X, Y)\n",
    "    (array, omexml) = io.read_ometiff(filename)\n",
    "    metadata = imf.get_metadata(filename, series=0)\n",
    "    print('Array Shape: ', array.shape)\n",
    "    print('Sizes BF: ', metadata['Sizes BF'])\n",
    "    print(metadata['DimOrder BF'])\n",
    "    print(metadata['DimOrder BF Array'])\n",
    "    \n",
    "if filename.lower().endswith('.czi'):\n",
    "\n",
    "    # get the array and the metadata\n",
    "    array, metadata = imf.get_array_czi(filename, replacezero=False)\n",
    "    print('Array Shape: ', array.shape)\n",
    "    print(metadata['Shape'])\n",
    "    print(metadata['Axes'])"
   ]
  },
  {
   "cell_type": "code",
   "execution_count": 6,
   "metadata": {},
   "outputs": [
    {
     "data": {
      "application/vnd.jupyter.widget-view+json": {
       "model_id": "daa6dae567ea4ef69656f4472d925ba0",
       "version_major": 2,
       "version_minor": 0
      },
      "text/plain": [
       "Output()"
      ]
     },
     "metadata": {},
     "output_type": "display_data"
    },
    {
     "data": {
      "application/vnd.jupyter.widget-view+json": {
       "model_id": "0d74b46bd499400693404fc1696e6f5e",
       "version_major": 2,
       "version_minor": 0
      },
      "text/plain": [
       "VBox(children=(IntSlider(value=1, continuous_update=False, description='Time:', max=10, min=1), IntSlider(valu…"
      ]
     },
     "metadata": {},
     "output_type": "display_data"
    }
   ],
   "source": [
    "# display data using ipy widgets\n",
    "if metadata['Extension'] == 'ome.tiff':\n",
    "    ui, out = imf.create_ipyviewer_ome_tiff(array, metadata)\n",
    "if metadata['Extension'] == 'czi':\n",
    "    ui, out = imf.create_ipyviewer_czi(array, metadata)\n",
    "\n",
    "display(ui, out)"
   ]
  },
  {
   "cell_type": "code",
   "execution_count": null,
   "metadata": {},
   "outputs": [],
   "source": [
    "import time\n",
    "\n",
    "# switch to qt5 backend for napari viewer and wait a few seconds\n",
    "%gui qt5\n",
    "time.sleep(5)"
   ]
  },
  {
   "cell_type": "code",
   "execution_count": null,
   "metadata": {},
   "outputs": [],
   "source": [
    "# try to configure napari automatiaclly based on metadata\n",
    "imf.show_napari(array, metadata)"
   ]
  },
  {
   "cell_type": "code",
   "execution_count": null,
   "metadata": {},
   "outputs": [],
   "source": [
    "# configure napari viewer manually - check array shape and dimensions order carefully \n",
    "    \n",
    "# get the scalefactors\n",
    "scalefactors = imf.get_scalefactor(metadata)\n",
    "print(scalefactors)\n",
    "\n",
    "array = np.squeeze(array, axis=(0, 1))\n",
    "\n",
    "viewer = napari.Viewer()\n",
    "# add every channel as a single layer\n",
    "for ch in range(metadata['SizeC']):\n",
    "    chname = metadata['Channels'][ch]\n",
    "    viewer.add_image(array[ch, :, :, :], name=chname, scale=(1, scalefactors['zx'], 1, 1))"
   ]
  },
  {
   "cell_type": "code",
   "execution_count": null,
   "metadata": {},
   "outputs": [],
   "source": []
  }
 ],
 "metadata": {
  "file_extension": ".py",
  "kernelspec": {
   "display_name": "Python 3",
   "language": "python",
   "name": "python3"
  },
  "language_info": {
   "codemirror_mode": {
    "name": "ipython",
    "version": 3
   },
   "file_extension": ".py",
   "mimetype": "text/x-python",
   "name": "python",
   "nbconvert_exporter": "python",
   "pygments_lexer": "ipython3",
   "version": "3.7.3"
  },
  "mimetype": "text/x-python",
  "name": "python",
  "npconvert_exporter": "python",
  "pygments_lexer": "ipython3",
  "version": 3
 },
 "nbformat": 4,
 "nbformat_minor": 2
}
