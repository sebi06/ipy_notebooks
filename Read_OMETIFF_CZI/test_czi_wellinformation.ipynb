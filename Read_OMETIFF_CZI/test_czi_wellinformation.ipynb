{
 "cells": [
  {
   "cell_type": "code",
   "execution_count": 1,
   "metadata": {},
   "outputs": [],
   "source": [
    "########################################################################\n",
    "# File       : test_czi_wellinformation.ipynb\n",
    "# Version    : 0.1\n",
    "# Author     : czsrh\n",
    "# Date       : 19.12.2019\n",
    "# Insitution : Carl Zeiss Microscopy GmbH\n",
    "#\n",
    "# Disclaimer: Just for testing - Use at your own risk.\n",
    "# Feedback or Improvements are welcome.\n",
    "########################################################################"
   ]
  },
  {
   "cell_type": "markdown",
   "metadata": {},
   "source": [
    "#### Modules or libraries required to run this notebook\n",
    "\n",
    "* [PyPi - czifile](https://pypi.org/project/czifile/)\n",
    "\n",
    "Easily read CZI files including the metainformation\n",
    "\n",
    "* [PyPi - xmltodict](https://pypi.org/project/xmltodict/)\n",
    "\n",
    "This is turns an XML, e.g. the OME-XML or CZI metadata into an \"easy-to-use\" python dictionary\n",
    "\n",
    "* imgfileuitils.py\n",
    "\n",
    "Script containing a collection of usefule function to deal with CZI and OME-TIFF files\n",
    "\n",
    "#### CZI File Information\n",
    "\n",
    "- Well B4 and B5 were selected for image acquistion\n",
    "- 2 TimePoints and 1 Channel\n",
    "- 4 single Positions per well\n",
    "- 4 Positions * 2 Wells = 8 Scenes"
   ]
  },
  {
   "cell_type": "code",
   "execution_count": 2,
   "metadata": {},
   "outputs": [],
   "source": [
    "import imgfileutils as imf\n",
    "\n",
    "filename = r'testdata/B4_B5_S=8_4Pos_perWell_T=2_Z=1_CH=1.czi'"
   ]
  },
  {
   "cell_type": "code",
   "execution_count": 8,
   "metadata": {},
   "outputs": [
    {
     "name": "stdout",
     "output_type": "stream",
     "text": [
      "CZI Array Shape :  (1, 8, 2, 1, 5474, 27974, 1)\n",
      "CZI Dimension Entry :  BSTCYX0\n",
      "--------   Show Dimensions --------\n",
      "SizeS :  8\n",
      "SizeM :  1\n",
      "SizeT :  2\n",
      "SizeZ :  1\n",
      "SizeC :  1\n"
     ]
    }
   ],
   "source": [
    "# get the metadata from the czi file\n",
    "metadata = imf.get_metadata_czi(filename, dim2none=False)\n",
    "\n",
    "# shape and dimension entry from CZI file as returned by czifile.py\n",
    "print('CZI Array Shape : ', metadata['Shape'])\n",
    "print('CZI Dimension Entry : ', metadata['Axes'])\n",
    "\n",
    "# show dimensions\n",
    "print('--------   Show Dimensions --------')\n",
    "print('SizeS : ', metadata['SizeS'])\n",
    "print('SizeM : ', metadata['SizeM'])\n",
    "print('SizeT : ', metadata['SizeT'])\n",
    "print('SizeZ : ', metadata['SizeZ'])\n",
    "print('SizeC : ', metadata['SizeC'])\n",
    "    "
   ]
  },
  {
   "cell_type": "code",
   "execution_count": 5,
   "metadata": {},
   "outputs": [
    {
     "name": "stdout",
     "output_type": "stream",
     "text": [
      "WellList            :  ['B4', 'B4', 'B4', 'B4', 'B5', 'B5', 'B5', 'B5']\n"
     ]
    }
   ],
   "source": [
    "# show ArrayNames when a CZI contains many wells\n",
    "print('WellList            : ', metadata['Well_ArrayNames'])"
   ]
  },
  {
   "cell_type": "code",
   "execution_count": 6,
   "metadata": {},
   "outputs": [
    {
     "name": "stdout",
     "output_type": "stream",
     "text": [
      "Well Column Indices :  ['4', '4', '4', '4', '5', '5', '5', '5']\n",
      "Well Row Indices    :  ['4', '4', '4', '4', '5', '5', '5', '5']\n"
     ]
    }
   ],
   "source": [
    "# show column and row indices of the well - usefule for creating heatmap later ...\n",
    "print('Well Column Indices : ', metadata['Well_ColId'])\n",
    "print('Well Row Indices    : ', metadata['Well_ColId'])"
   ]
  },
  {
   "cell_type": "code",
   "execution_count": 7,
   "metadata": {},
   "outputs": [
    {
     "name": "stdout",
     "output_type": "stream",
     "text": [
      "WellCounter         :  Counter({'B4': 4, 'B5': 4})\n",
      "Different Wells     :  2\n"
     ]
    }
   ],
   "source": [
    "# show number of position per well\n",
    "print('WellCounter         : ', metadata['WellCounter'])\n",
    "print('Different Wells     : ', metadata['NumWells'])"
   ]
  },
  {
   "cell_type": "code",
   "execution_count": null,
   "metadata": {},
   "outputs": [],
   "source": []
  }
 ],
 "metadata": {
  "kernelspec": {
   "display_name": "Python 3",
   "language": "python",
   "name": "python3"
  },
  "language_info": {
   "codemirror_mode": {
    "name": "ipython",
    "version": 3
   },
   "file_extension": ".py",
   "mimetype": "text/x-python",
   "name": "python",
   "nbconvert_exporter": "python",
   "pygments_lexer": "ipython3",
   "version": "3.7.5"
  }
 },
 "nbformat": 4,
 "nbformat_minor": 2
}
