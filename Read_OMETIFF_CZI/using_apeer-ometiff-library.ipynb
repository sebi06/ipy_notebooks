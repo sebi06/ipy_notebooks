{
 "cells": [
  {
   "cell_type": "code",
   "execution_count": 1,
   "metadata": {
    "slideshow": {
     "slide_type": "slide"
    }
   },
   "outputs": [],
   "source": [
    "########################################################################\n",
    "# File       : using_apeer-ometiff-library.ipynb\n",
    "# Version    : 0.1\n",
    "# Author     : czsrh\n",
    "# Date       : 17.12.2019\n",
    "# Insitution : Carl Zeiss Microscopy GmbH\n",
    "#\n",
    "# Disclaimer: Just for testing - Use at your own risk.\n",
    "# Feedback or Improvements are welcome.\n",
    "########################################################################"
   ]
  },
  {
   "cell_type": "markdown",
   "metadata": {
    "slideshow": {
     "slide_type": "slide"
    }
   },
   "source": [
    "***Reading OME-TIFF files from Python using the apeer-ometiff-library***\n",
    "\n",
    "The APEER platform allows crating modules and workflows using basically any programming language due to its uderlying Docker(TM) technology. Nevertheless Python seens to be the favorite choice for mots of the time for various reasons:\n",
    "\n",
    "* Simple enough to be used by resechers with scripting experience\n",
    "* Powerful enough to create amazing computational tools\n",
    "* A huge and very open community and the whole ecosystem behind it\n",
    "* Probably the most popular langugae when it come to topics like Machine Learning\n",
    "\n",
    "The topic or question what is the \"best\" image data format for microscopy is a very interesting and also quite difficult question. There are no easy answers and there is no right or wrong here.\n",
    "\n",
    "Since the APEER platfrom tries to provide solutions our team decided that we must for sure support the currently most popular image data format for microscoscopy image data, which cleary is OME-TIFF (despite its known limitations). Therefore we explored \"easy and simple\" ways to read OME-TIFF for the most common use cases. We just want a simple python-based tool to read and write OME-TIFF without the need to include JAVA etc. into the modules. Therfore we reused parts of the existing python ecossystem, especially python-bioformats and tifffile, added some extra code and created a basic PyPi package.\n",
    "\n",
    "This package can be easily inclued in every APEER module but obviousy it can be also used inside our python application or within jupyter notebook.\n",
    "\n",
    "* [PyPi - apeer-ometiff-library](https://pypi.org/project/apeer-ometiff-library/)\n",
    "\n",
    "* [PyPi - python-bioformats](https://pypi.org/project/python-bioformats/).\n",
    "\n",
    "More information on the source code can be found on the APEER GitHub project page: [GitHub - apeer-ometiff-library](https://github.com/apeer-micro/apeer-ometiff-library)"
   ]
  },
  {
   "cell_type": "code",
   "execution_count": 2,
   "metadata": {
    "slideshow": {
     "slide_type": "slide"
    }
   },
   "outputs": [],
   "source": [
    "# import the libraries\n",
    "from apeer_ometiff_library import io, processing, omexmlClass\n",
    "\n",
    "# import script with some useful functions\n",
    "import imgfileutils as imf"
   ]
  },
  {
   "cell_type": "code",
   "execution_count": 4,
   "metadata": {
    "slideshow": {
     "slide_type": "slide"
    }
   },
   "outputs": [
    {
     "name": "stdout",
     "output_type": "stream",
     "text": [
      "Created OME-XML file for testdata:  c:\\Temp\\CellDivision_T=15_Z=20_CH=2_DCV.ome.tiff\n"
     ]
    }
   ],
   "source": [
    "# define your OME-TIFF file here\n",
    "filename = r'c:\\Temp\\CellDivision_T=15_Z=20_CH=2_DCV.ome.tiff'\n",
    "\n",
    "# extract XML and save it to disk\n",
    "xmlometiff = imf.writexml_ometiff(filename)"
   ]
  },
  {
   "cell_type": "markdown",
   "metadata": {
    "slideshow": {
     "slide_type": "slide"
    }
   },
   "source": [
    "### Reading the OME-TIFF stack as an NumPy Array\n",
    "\n",
    "The easily ready and OME-TIFF stack without the need to deal with the JAVA runtime the apeer-ometiff-library used the following code:\n",
    "    \n",
    "```python\n",
    "def read_ometiff(input_path):\n",
    "    with tifffile.TiffFile(input_path) as tif:\n",
    "        array = tif.asarray()\n",
    "        omexml_string = tif[0].image_description.decode('utf-8')\n",
    "\n",
    "    # Turn Ome XML String to an Bioformats object for parsing\n",
    "    metadata = omexmlClass.OMEXML(omexml_string)\n",
    "\n",
    "    # Parse pixel sizes\n",
    "    pixels = metadata.image(0).Pixels\n",
    "    size_c = pixels.SizeC\n",
    "    size_t = pixels.SizeT\n",
    "    size_z = pixels.SizeZ\n",
    "    size_x = pixels.SizeX\n",
    "    size_y = pixels.SizeY\n",
    "\n",
    "    # Expand image array to 5D of order (T, Z, C, X, Y)\n",
    "    if size_c == 1:\n",
    "        array = np.expand_dims(array, axis=-3)\n",
    "    if size_z == 1:\n",
    "        array = np.expand_dims(array, axis=-4)\n",
    "    if size_t == 1:\n",
    "        array = np.expand_dims(array, axis=-5)\n",
    "\n",
    "    return array, omexml_string\n",
    "```"
   ]
  },
  {
   "cell_type": "code",
   "execution_count": 5,
   "metadata": {
    "slideshow": {
     "slide_type": "slide"
    }
   },
   "outputs": [
    {
     "name": "stdout",
     "output_type": "stream",
     "text": [
      "Image Type:  ometiff\n",
      "Getting OME-TIFF Metadata ...\n"
     ]
    }
   ],
   "source": [
    "# Read metadata and array differently for OME-TIFF by using the io function of the apeer-ometiff library\n",
    " \n",
    "# Return value is an array of order (T, Z, C, X, Y)\n",
    "array, omexml = io.read_ometiff(filename)\n",
    "\n",
    "# get the metadata for the OME-TIFF file\n",
    "metadata, add_metadata = imf.get_metadata(filename)"
   ]
  },
  {
   "cell_type": "code",
   "execution_count": 6,
   "metadata": {
    "slideshow": {
     "slide_type": "slide"
    }
   },
   "outputs": [
    {
     "name": "stdout",
     "output_type": "stream",
     "text": [
      "Array Shape:  (2, 15, 20, 700, 700)\n",
      "Dimension Order (BioFormats) :  CTZYX\n",
      "SizeT :  15\n",
      "SizeZ :  20\n",
      "SizeC :  2\n",
      "SizeX :  700\n",
      "SizeY :  700\n",
      "XScale:  0.09057667\n",
      "YScale:  0.09057667\n",
      "ZScale:  0.32\n"
     ]
    }
   ],
   "source": [
    "# check the shape of numpy array containing the pixel data\n",
    "print('Array Shape: ', array.shape)\n",
    "\n",
    "# get dimension order from metadata\n",
    "print('Dimension Order (BioFormats) : ', metadata['DimOrder BF Array'])\n",
    "\n",
    "# show dimensions and scaling\n",
    "print('SizeT : ', metadata['SizeT'])\n",
    "print('SizeZ : ', metadata['SizeZ'])\n",
    "print('SizeC : ', metadata['SizeC'])\n",
    "print('SizeX : ', metadata['SizeX'])\n",
    "print('SizeY : ', metadata['SizeY'])\n",
    "print('XScale: ', metadata['XScale'])\n",
    "print('YScale: ', metadata['YScale'])\n",
    "print('ZScale: ', metadata['ZScale'])"
   ]
  },
  {
   "cell_type": "code",
   "execution_count": 7,
   "metadata": {
    "slideshow": {
     "slide_type": "slide"
    }
   },
   "outputs": [
    {
     "name": "stdout",
     "output_type": "stream",
     "text": [
      "Directory  :  c:\\Temp\n",
      "Filename  :  CellDivision_T=15_Z=20_CH=2_DCV.ome.tiff\n",
      "Extension  :  ome.tiff\n",
      "ImageType  :  ometiff\n",
      "Name  :  \n",
      "AcqDate  :  2016-02-12T09:41:02.4915604Z\n",
      "TotalSeries  :  1\n",
      "SizeX  :  700\n",
      "SizeY  :  700\n",
      "SizeZ  :  20\n",
      "SizeC  :  2\n",
      "SizeT  :  15\n",
      "Sizes BF  :  [1, 15, 20, 2, 700, 700]\n",
      "DimOrder BF  :  XYZTC\n",
      "DimOrder BF Array  :  CTZYX\n",
      "DimOrder CZI  :  None\n",
      "Axes  :  None\n",
      "Shape  :  None\n",
      "isRGB  :  None\n",
      "ObjNA  :  1.2\n",
      "ObjMag  :  50\n",
      "ObjID  :  Objective:1\n",
      "ObjName  :  None\n",
      "ObjImmersion  :  None\n",
      "XScale  :  0.09057667\n",
      "YScale  :  0.09057667\n",
      "ZScale  :  0.32\n",
      "XScaleUnit  :  None\n",
      "YScaleUnit  :  None\n",
      "ZScaleUnit  :  None\n",
      "DetectorModel  :  None\n",
      "DetectorName  :  []\n",
      "DetectorID  :  Detector:1\n",
      "InstrumentID  :  Instrument:1\n",
      "Channels  :  ['LED555', 'LED470']\n",
      "ImageIDs  :  [0]\n",
      "NumPy.dtype  :  None\n"
     ]
    }
   ],
   "source": [
    "# show the complete metadata dictionary\n",
    "for key, value in metadata.items():\n",
    "    # print all key-value pairs for the dictionary\n",
    "    print(key, ' : ', value)"
   ]
  },
  {
   "cell_type": "code",
   "execution_count": 8,
   "metadata": {
    "slideshow": {
     "slide_type": "slide"
    }
   },
   "outputs": [
    {
     "data": {
      "application/vnd.jupyter.widget-view+json": {
       "model_id": "b5d610877ec04720ac16f97d171fbb37",
       "version_major": 2,
       "version_minor": 0
      },
      "text/plain": [
       "Output()"
      ]
     },
     "metadata": {},
     "output_type": "display_data"
    },
    {
     "data": {
      "application/vnd.jupyter.widget-view+json": {
       "model_id": "e114fbf5c26848338cb575b96d4c476a",
       "version_major": 2,
       "version_minor": 0
      },
      "text/plain": [
       "VBox(children=(IntSlider(value=1, description='Channel:', max=2, min=1), IntSlider(value=1, continuous_update=…"
      ]
     },
     "metadata": {},
     "output_type": "display_data"
    }
   ],
   "source": [
    "# Here we use https://ipywidgets.readthedocs.io/en/latest/ to create some simple and interactive controls to navigate\n",
    "# through the planes of an multi-dimensional NumPy Array. \n",
    "\n",
    "# display data using ipywidgets\n",
    "ui, out = imf.create_ipyviewer_ome_tiff(array, metadata)\n",
    "\n",
    "# show the interactive widget\n",
    "display(ui, out)"
   ]
  },
  {
   "cell_type": "markdown",
   "metadata": {
    "slideshow": {
     "slide_type": "slide"
    }
   },
   "source": [
    "<img src=\"images\\display_ometiff_ipywidgets.png\" />"
   ]
  },
  {
   "cell_type": "code",
   "execution_count": 10,
   "metadata": {
    "slideshow": {
     "slide_type": "slide"
    }
   },
   "outputs": [
    {
     "name": "stdout",
     "output_type": "stream",
     "text": [
      "Initializing Napari Viewer ...\n",
      "Dim PosT :  1\n",
      "Dim PosC :  0\n",
      "Dim PosZ :  2\n",
      "Scale Factors :  [1.0, 1.0, 3.533, 1.0, 1.0]\n",
      "Shape Channel :  0 (15, 20, 700, 700)\n",
      "Scaling Factors:  [1.0, 1.0, 3.533, 1.0, 1.0]\n",
      "Scaling:  [0, 7941.0]\n",
      "Shape Channel :  1 (15, 20, 700, 700)\n",
      "Scaling Factors:  [1.0, 1.0, 3.533, 1.0, 1.0]\n",
      "Scaling:  [0, 33477.0]\n"
     ]
    }
   ],
   "source": [
    "# Here we use the Napari viewer (https://github.com/napari/napari) to visualize the complete OME-TIFF stack,\n",
    "# which is represented by a multi-dimensional NumPy Array. \n",
    "\n",
    "# configure napari automatiaclly based on metadata and show the OME-TIFF stack\n",
    "imf.show_napari(array, metadata)"
   ]
  },
  {
   "cell_type": "markdown",
   "metadata": {
    "slideshow": {
     "slide_type": "slide"
    }
   },
   "source": [
    "<img src=\"images\\display_ometiff_napari.png\" />"
   ]
  },
  {
   "cell_type": "code",
   "execution_count": null,
   "metadata": {
    "slideshow": {
     "slide_type": "notes"
    }
   },
   "outputs": [],
   "source": [
    "cd c:\\Users\\m1srh\\Documents\\GitHub\\ipy_notebooks\\Read_OMETIFF_CZI\n",
    "\n",
    "jupyter nbconvert using_apeer-ometiff-library.ipynb --to slides --post serve\n",
    "\n",
    "jupyter nbconvert using_apeer-ometiff-library.ipynb --to slides --post serve --SlidesExporter.reveal_theme=serif --SlidesExporter.reveal_scroll=True --SlidesExporter.reveal_transition=none"
   ]
  }
 ],
 "metadata": {
  "celltoolbar": "Slideshow",
  "file_extension": ".py",
  "kernelspec": {
   "display_name": "Python 3",
   "language": "python",
   "name": "python3"
  },
  "language_info": {
   "codemirror_mode": {
    "name": "ipython",
    "version": 3
   },
   "file_extension": ".py",
   "mimetype": "text/x-python",
   "name": "python",
   "nbconvert_exporter": "python",
   "pygments_lexer": "ipython3",
   "version": "3.7.4"
  },
  "mimetype": "text/x-python",
  "name": "python",
  "npconvert_exporter": "python",
  "pygments_lexer": "ipython3",
  "version": 3
 },
 "nbformat": 4,
 "nbformat_minor": 2
}
