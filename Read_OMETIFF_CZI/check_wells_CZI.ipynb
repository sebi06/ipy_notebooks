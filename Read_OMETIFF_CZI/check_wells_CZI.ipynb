{
 "cells": [
  {
   "cell_type": "code",
   "execution_count": 1,
   "metadata": {},
   "outputs": [],
   "source": [
    "#################################################################\n",
    "# File       : check_wells_CZI.ipynb\n",
    "# Version    : 0.1\n",
    "# Author     : czsrh\n",
    "# Date       : 19.12.2019\n",
    "# Insitution : Carl Zeiss Microscopy GmbH\n",
    "#\n",
    "# Disclaimer: Just for testing - Use at your own risk.\n",
    "# Feedback or Improvements are welcome.\n",
    "##################################################################"
   ]
  },
  {
   "cell_type": "code",
   "execution_count": 2,
   "metadata": {},
   "outputs": [],
   "source": [
    "import imgfileutils as imf"
   ]
  },
  {
   "cell_type": "code",
   "execution_count": 3,
   "metadata": {},
   "outputs": [],
   "source": [
    "filename = r'testdata/B4_B5_S=8_4Pos_perWell_T=2_Z=1_CH=1.czi'\n",
    "\n",
    "# get the metadata \n",
    "md = imf.get_metadata_czi(filename, dim2none=False)"
   ]
  },
  {
   "cell_type": "code",
   "execution_count": 4,
   "metadata": {},
   "outputs": [
    {
     "name": "stdout",
     "output_type": "stream",
     "text": [
      "WellList            :  ['B4', 'B4', 'B4', 'B4', 'B5', 'B5', 'B5', 'B5']\n",
      "Well Column Indices :  ['4', '4', '4', '4', '5', '5', '5', '5']\n",
      "Well Row Indices    :  ['4', '4', '4', '4', '5', '5', '5', '5']\n",
      "WellCounter         :  Counter({'B4': 4, 'B5': 4})\n",
      "Different Wells     :  2\n",
      "ImageSeries Ind. Well  B4  :  [0, 1, 2, 3]\n"
     ]
    }
   ],
   "source": [
    "# define a specific well\n",
    "well2check = 'B4'\n",
    "\n",
    "# get the required image series for reading CZI via BioFormats \n",
    "isids = imf.getImageSeriesIDforWell(md['Well_ArrayNames'], well2check)\n",
    "\n",
    "print('WellList            : ', md['Well_ArrayNames'])\n",
    "print('Well Column Indices : ', md['Well_ColId'])\n",
    "print('Well Row Indices    : ', md['Well_ColId'])\n",
    "print('WellCounter         : ', md['WellCounter'])\n",
    "print('Different Wells     : ', md['NumWells'])\n",
    "print('ImageSeries Ind. Well ', well2check, ' : ', isids)"
   ]
  },
  {
   "cell_type": "code",
   "execution_count": null,
   "metadata": {},
   "outputs": [],
   "source": []
  }
 ],
 "metadata": {
  "file_extension": ".py",
  "kernelspec": {
   "display_name": "Python 3",
   "language": "python",
   "name": "python3"
  },
  "language_info": {
   "codemirror_mode": {
    "name": "ipython",
    "version": 3
   },
   "file_extension": ".py",
   "mimetype": "text/x-python",
   "name": "python",
   "nbconvert_exporter": "python",
   "pygments_lexer": "ipython3",
   "version": "3.7.3"
  },
  "mimetype": "text/x-python",
  "name": "python",
  "npconvert_exporter": "python",
  "pygments_lexer": "ipython3",
  "version": 3
 },
 "nbformat": 4,
 "nbformat_minor": 2
}
