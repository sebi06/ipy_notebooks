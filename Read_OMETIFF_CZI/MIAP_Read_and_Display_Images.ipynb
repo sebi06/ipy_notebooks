{
 "cells": [
  {
   "cell_type": "code",
   "execution_count": null,
   "metadata": {
    "slideshow": {
     "slide_type": "slide"
    }
   },
   "outputs": [],
   "source": [
    "#################################################################\n",
    "# File       : MIAP_Read_and_Display_Images.ipynb\n",
    "# Version    : 0.1\n",
    "# Author     : czsrh\n",
    "# Date       : 02.11.2019\n",
    "# Insitution : Carl Zeiss Microscopy GmbH\n",
    "#\n",
    "# Disclaimer: Just for testing - Use at your own risk.\n",
    "# Feedback or Improvements are welcome.\n",
    "##################################################################"
   ]
  },
  {
   "cell_type": "markdown",
   "metadata": {
    "slideshow": {
     "slide_type": "slide"
    }
   },
   "source": [
    "Here we do all the required imports."
   ]
  },
  {
   "cell_type": "code",
   "execution_count": 1,
   "metadata": {
    "slideshow": {
     "slide_type": "slide"
    }
   },
   "outputs": [],
   "source": [
    "import warnings\n",
    "warnings.filterwarnings('ignore')\n",
    "warnings.simplefilter('ignore')\n",
    "\n",
    "from apeer_ometiff_library import io, processing, omexmlClass\n",
    "import czifile as zis\n",
    "import xmltodict\n",
    "import os\n",
    "import numpy as np\n",
    "import ipywidgets as widgets\n",
    "import napari\n",
    "import imgfileutils as imf\n",
    "import xml.etree.ElementTree as ET"
   ]
  },
  {
   "cell_type": "code",
   "execution_count": 7,
   "metadata": {
    "slideshow": {
     "slide_type": "slide"
    }
   },
   "outputs": [],
   "source": [
    "# define your testfiles here\n",
    "\n",
    "imgdict = {\n",
    "    1:r'C:\\Users\\m1srh\\Documents\\Testdata_Zeiss\\Castor\\Z-Stack_DCV\\CellDivision_T=10_Z=15_CH=2_DCV_small.czi',\n",
    "    2:r'C:\\Temp\\input\\OverViewScan_8Brains.czi',\n",
    "    3:r'C:\\Users\\m1srh\\Documents\\Testdata_Zeiss\\Castor\\Z-Stack_DCV\\CellDivision_T=10_Z=15_CH=2_DCV_small_Fiji.ome.tiff',\n",
    "    4:r'C:\\Users\\m1srh\\Documents\\Testdata_Zeiss\\Castor\\Z-Stack_DCV\\CellDivision_T=15_Z=20_CH=2_DCV.czi',\n",
    "    5:r'C:\\Users\\m1srh\\Documents\\Testdata_Zeiss\\Castor\\Z-Stack_DCV\\NeuroSpheres_DCV_A635_A488_A405.czi',\n",
    "    6:r'C:\\Users\\m1srh\\Documents\\Testdata_Zeiss\\Castor\\Z-Stack_DCV\\CZI_DimorderTZC.czi',\n",
    "    7:r'C:\\Temp\\input\\DTScan_ID4.czi',\n",
    "    8:r'C:\\Users\\m1srh\\Documents\\Testdata_Zeiss\\Castor\\Z-Stack_DCV\\CZI_DimorderTZC.czi'\n",
    "}\n",
    "\n",
    "filename = imgdict[8]"
   ]
  },
  {
   "cell_type": "code",
   "execution_count": 8,
   "metadata": {
    "slideshow": {
     "slide_type": "slide"
    }
   },
   "outputs": [],
   "source": [
    "# get CZI object and read metadata\n",
    "czi = zis.CziFile(filename)\n",
    "mdczi = czi.metadata()\n",
    "czi.close()\n",
    "\n",
    "# parse the XML into a dictionary\n",
    "metadatadict_czi = xmltodict.parse(mdczi)\n",
    "\n",
    "#print(metadatadict_czi)"
   ]
  },
  {
   "cell_type": "code",
   "execution_count": 9,
   "metadata": {
    "slideshow": {
     "slide_type": "slide"
    }
   },
   "outputs": [
    {
     "name": "stdout",
     "output_type": "stream",
     "text": [
      "Write special CZI XML metainformation for:  C:\\Users\\m1srh\\Documents\\Testdata_Zeiss\\Castor\\Z-Stack_DCV\\CZI_DimorderTZC_CZI_MetaData.xml\n"
     ]
    }
   ],
   "source": [
    "# change file name\n",
    "xmlfile = filename.replace('.czi', '_CZI_MetaData.xml')\n",
    "\n",
    "# get the element tree\n",
    "tree = ET.ElementTree(ET.fromstring(mdczi))\n",
    "\n",
    "# write xml to disk\n",
    "tree.write(xmlfile, encoding='utf-8', method='xml')\n",
    "\n",
    "print('Write special CZI XML metainformation for: ', xmlfile)"
   ]
  },
  {
   "cell_type": "code",
   "execution_count": 10,
   "metadata": {
    "slideshow": {
     "slide_type": "slide"
    }
   },
   "outputs": [
    {
     "name": "stdout",
     "output_type": "stream",
     "text": [
      "C:\\Users\\m1srh\\Documents\\Testdata_Zeiss\\Castor\\Z-Stack_DCV\\CZI_DimorderTZC_CZI_MetaData.xml\n"
     ]
    }
   ],
   "source": [
    "# or much shorter\n",
    "xmlczi = imf.writexml_czi(filename)\n",
    "print(xmlczi)"
   ]
  },
  {
   "cell_type": "code",
   "execution_count": 11,
   "metadata": {
    "slideshow": {
     "slide_type": "slide"
    }
   },
   "outputs": [],
   "source": [
    "# create dictionary for the interesting CZI metadata\n",
    "czimd = {}\n",
    "\n",
    "czimd['Experiment'] = metadatadict_czi['ImageDocument']['Metadata']['Experiment']\n",
    "czimd['HardwareSetting'] = metadatadict_czi['ImageDocument']['Metadata']['HardwareSetting']\n",
    "czimd['CustomAttributes'] = metadatadict_czi['ImageDocument']['Metadata']['CustomAttributes']\n",
    "czimd['Information'] = metadatadict_czi['ImageDocument']['Metadata']['Information']\n",
    "czimd['PixelType'] = czimd['Information']['Image']['PixelType']"
   ]
  },
  {
   "cell_type": "code",
   "execution_count": 12,
   "metadata": {
    "slideshow": {
     "slide_type": "slide"
    }
   },
   "outputs": [
    {
     "name": "stdout",
     "output_type": "stream",
     "text": [
      "SizeX  :  200\n",
      "SizeY  :  200\n",
      "SizeT  :  1\n",
      "SizeB  :  1\n",
      "OriginalEncodingQuality  :  100\n",
      "AcquisitionDateAndTime  :  2016-07-27T14:41:47.8369847Z\n",
      "SizeC  :  4\n",
      "SizeZ  :  11\n",
      "ComponentBitCount  :  16\n",
      "PixelType  :  Gray16\n",
      "OriginalCompressionMethod  :  Uncompressed\n",
      "Dimensions  :  OrderedDict([('Channels', OrderedDict([('Channel', [OrderedDict([('@Id', 'Channel:0'), ('@Name', 'LED631'), ('ExcitationWavelength', '631'), ('EmissionWavelength', '648'), ('DyeId', 'McNamara-Boswell-0355'), ('DyeDatabaseId', '66071726-cbd4-4c41-b371-0a6eee4ae9c5'), ('Color', '#FFFF0011'), ('Fluor', 'Alexa Fluor 635'), ('ExposureTime', '150000000'), ('IlluminationType', 'Epifluorescence'), ('ContrastMethod', 'Fluorescence'), ('PixelType', 'Gray16'), ('ComponentBitCount', '16'), ('AcquisitionMode', 'WideField'), ('IlluminationWavelength', OrderedDict([('SinglePeak', '631'), ('Ranges', '615-648')])), ('DetectionWavelength', None), ('DetectorSettings', OrderedDict([('Binning', '1,1'), ('Detector', OrderedDict([('@Id', 'Detector:Axiocam 506')])), ('Processing', None)])), ('LightSourcesSettings', OrderedDict([('LightSourceSettings', OrderedDict([('Intensity', '50.00 %'), ('Polarization', None), ('LightSource', OrderedDict([('@Id', 'LightSource:1')]))]))])), ('FilterSetRef', OrderedDict([('@Id', 'FilterSet:1')])), ('AiryscanSettings', OrderedDict([('Mode', None), ('Magnification', 'NaN'), ('TransformationXX', 'NaN'), ('TransformationXY', 'NaN'), ('TransformationYX', 'NaN'), ('TransformationYY', 'NaN'), ('VirtualPinholeSize', 'NaN')]))]), OrderedDict([('@Id', 'Channel:1'), ('@Name', 'LED567'), ('ExcitationWavelength', '577'), ('EmissionWavelength', '603'), ('DyeId', 'McNamara-Boswell-0049'), ('DyeDatabaseId', '66071726-cbd4-4c41-b371-0a6eee4ae9c5'), ('Color', '#FFFF6600'), ('Fluor', 'Alexa Fluor 568'), ('ExposureTime', '150000000'), ('IlluminationType', 'Epifluorescence'), ('ContrastMethod', 'Fluorescence'), ('PixelType', 'Gray16'), ('ComponentBitCount', '16'), ('AcquisitionMode', 'WideField'), ('IlluminationWavelength', OrderedDict([('SinglePeak', '567'), ('Ranges', '540-570')])), ('DetectionWavelength', None), ('DetectorSettings', OrderedDict([('Binning', '1,1'), ('Detector', OrderedDict([('@Id', 'Detector:Axiocam 506')])), ('Processing', None)])), ('LightSourcesSettings', OrderedDict([('LightSourceSettings', OrderedDict([('Intensity', '100.00 %'), ('Polarization', None), ('LightSource', OrderedDict([('@Id', 'LightSource:2')]))]))])), ('FilterSetRef', OrderedDict([('@Id', 'FilterSet:2')])), ('AiryscanSettings', OrderedDict([('Mode', None), ('Magnification', 'NaN'), ('TransformationXX', 'NaN'), ('TransformationXY', 'NaN'), ('TransformationYX', 'NaN'), ('TransformationYY', 'NaN'), ('VirtualPinholeSize', 'NaN')]))]), OrderedDict([('@Id', 'Channel:2'), ('@Name', 'LED469'), ('ExcitationWavelength', '493'), ('EmissionWavelength', '517'), ('DyeId', 'McNamara-Boswell-0038'), ('DyeDatabaseId', '66071726-cbd4-4c41-b371-0a6eee4ae9c5'), ('Color', '#FF00FF33'), ('Fluor', 'Alexa Fluor 488'), ('ExposureTime', '100000000'), ('IlluminationType', 'Epifluorescence'), ('ContrastMethod', 'Fluorescence'), ('PixelType', 'Gray16'), ('ComponentBitCount', '16'), ('AcquisitionMode', 'WideField'), ('IlluminationWavelength', OrderedDict([('SinglePeak', '469'), ('Ranges', '450-488')])), ('DetectionWavelength', None), ('DetectorSettings', OrderedDict([('Binning', '1,1'), ('Detector', OrderedDict([('@Id', 'Detector:Axiocam 506')])), ('Processing', None)])), ('LightSourcesSettings', OrderedDict([('LightSourceSettings', OrderedDict([('Intensity', '50.00 %'), ('Polarization', None), ('LightSource', OrderedDict([('@Id', 'LightSource:3')]))]))])), ('FilterSetRef', OrderedDict([('@Id', 'FilterSet:3')])), ('AiryscanSettings', OrderedDict([('Mode', None), ('Magnification', 'NaN'), ('TransformationXX', 'NaN'), ('TransformationXY', 'NaN'), ('TransformationYX', 'NaN'), ('TransformationYY', 'NaN'), ('VirtualPinholeSize', 'NaN')]))]), OrderedDict([('@Id', 'Channel:3'), ('@Name', 'LED385'), ('ExcitationWavelength', '401'), ('EmissionWavelength', '422'), ('DyeId', 'McNamara-Boswell-0032'), ('DyeDatabaseId', '66071726-cbd4-4c41-b371-0a6eee4ae9c5'), ('Color', '#FF1B00FF'), ('Fluor', 'Alexa Fluor 405'), ('ExposureTime', '25000000'), ('IlluminationType', 'Epifluorescence'), ('ContrastMethod', 'Fluorescence'), ('PixelType', 'Gray16'), ('ComponentBitCount', '16'), ('AcquisitionMode', 'WideField'), ('IlluminationWavelength', OrderedDict([('SinglePeak', '385'), ('Ranges', '370-400')])), ('DetectionWavelength', None), ('DetectorSettings', OrderedDict([('Binning', '1,1'), ('Detector', OrderedDict([('@Id', 'Detector:Axiocam 506')])), ('Processing', None)])), ('LightSourcesSettings', OrderedDict([('LightSourceSettings', OrderedDict([('Intensity', '40.00 %'), ('Polarization', None), ('LightSource', OrderedDict([('@Id', 'LightSource:4')]))]))])), ('FilterSetRef', OrderedDict([('@Id', 'FilterSet:4')])), ('AiryscanSettings', OrderedDict([('Mode', None), ('Magnification', 'NaN'), ('TransformationXX', 'NaN'), ('TransformationXY', 'NaN'), ('TransformationYX', 'NaN'), ('TransformationYY', 'NaN'), ('VirtualPinholeSize', 'NaN')]))])])])), ('Tracks', OrderedDict([('Track', [OrderedDict([('@Id', 'Track:1'), ('ChannelRefs', OrderedDict([('ChannelRef', OrderedDict([('@Id', 'Channel:0')]))]))]), OrderedDict([('@Id', 'Track:2'), ('ChannelRefs', OrderedDict([('ChannelRef', OrderedDict([('@Id', 'Channel:1')]))]))]), OrderedDict([('@Id', 'Track:3'), ('ChannelRefs', OrderedDict([('ChannelRef', OrderedDict([('@Id', 'Channel:2')]))]))]), OrderedDict([('@Id', 'Track:4'), ('ChannelRefs', OrderedDict([('ChannelRef', OrderedDict([('@Id', 'Channel:3')]))]))])])])), ('T', OrderedDict([('StartTime', '2016-07-27T14:41:47.8369847Z'), ('Positions', OrderedDict([('BinaryList', OrderedDict([('AttachmentName', 'TimeStamps')]))]))])), ('Z', OrderedDict([('XYZHandedness', 'Undefined'), ('ZAxisDirection', 'Undefined'), ('StartPosition', '-5.4249999999999989'), ('Positions', OrderedDict([('List', OrderedDict([('Offsets', '0 0.31 0.620000000000001 0.930000000000001 1.24 1.55 1.86 2.17 2.48 2.79 3.1')]))]))])), ('S', None)])\n",
      "ObjectiveSettings  :  OrderedDict([('RefractiveIndex', '1.000293'), ('Medium', 'Air'), ('CorrectionControllerMode', 'Glass Thin'), ('CorrectionControllerBottomThickness', '168'), ('CorrectionControllerImagingDepth', '0'), ('ObjectiveRef', OrderedDict([('@Id', 'Objective:1')]))])\n",
      "Specimen  :  OrderedDict([('CoverglassThickness', '168'), ('CoverglassRefractiveIndex', '1.52'), ('CoverglassOffset', '756'), ('CoverglassMaterial', 'Glass')])\n",
      "MicroscopeRef  :  OrderedDict([('@Id', 'Microscope:1')])\n",
      "TubeLenses  :  OrderedDict([('TubeLensRef', OrderedDict([('@Id', 'TubeLens:1')]))])\n",
      "SpatialRelations  :  OrderedDict([('PixelToStageTransform', OrderedDict([('RotateFlipScaleTranslateImplicitScale', OrderedDict([('Rotate', '0'), ('Flip', OrderedDict([('@X', 'false'), ('@Y', 'false')])), ('Translate', OrderedDict([('@X', '44513.48259875'), ('@Y', '31082.358316333008')]))]))]))])\n"
     ]
    }
   ],
   "source": [
    "# show some metadata\n",
    "for key, value in czimd['Information']['Image'].items():\n",
    "    # print all key-value pairs for the dictionary\n",
    "    print(key, ' : ', value)\n"
   ]
  },
  {
   "cell_type": "markdown",
   "metadata": {
    "slideshow": {
     "slide_type": "slide"
    }
   },
   "source": [
    "### Remark\n",
    "\n",
    "As one can clearly see there are a lot of metadata not all of them are needed for every workflow."
   ]
  },
  {
   "cell_type": "code",
   "execution_count": 13,
   "metadata": {
    "slideshow": {
     "slide_type": "slide"
    }
   },
   "outputs": [],
   "source": [
    "# read metadata and array differently for OME-TIFF or CZI data\n",
    "if filename.lower().endswith('.ome.tiff') or filename.lower().endswith('.ome.tif'):\n",
    "    \n",
    "    # Return value is an array of order (T, Z, C, X, Y)\n",
    "    (array, omexml) = io.read_ometiff(filename)\n",
    "    metadata = imf.get_metadata(filename, series=0)\n",
    "    \n",
    "if filename.lower().endswith('.czi'):\n",
    "\n",
    "    # get the array and the metadata\n",
    "    array, metadata = imf.get_array_czi(filename)"
   ]
  },
  {
   "cell_type": "code",
   "execution_count": 14,
   "metadata": {
    "slideshow": {
     "slide_type": "slide"
    }
   },
   "outputs": [
    {
     "name": "stdout",
     "output_type": "stream",
     "text": [
      "Array Shape:  (1, 1, 4, 11, 200, 200)\n",
      "Dimension Order (BioFormats) :  None\n",
      "CZI Array Shape :  (1, 1, 4, 11, 200, 200, 1)\n",
      "CZI Dimension Entry :  BTCZYX0\n"
     ]
    }
   ],
   "source": [
    "# outout the shape of the returned numpy array\n",
    "\n",
    "# shape of numpy array\n",
    "print('Array Shape: ', array.shape)\n",
    "\n",
    "# dimension order from metadata\n",
    "print('Dimension Order (BioFormats) : ', metadata['DimOrder BF Array'])\n",
    "\n",
    "# shape and dimension entry from CZI file as returned by czifile.py\n",
    "print('CZI Array Shape : ', metadata['Shape'])\n",
    "print('CZI Dimension Entry : ', metadata['Axes'])"
   ]
  },
  {
   "cell_type": "code",
   "execution_count": 15,
   "metadata": {
    "slideshow": {
     "slide_type": "slide"
    }
   },
   "outputs": [
    {
     "name": "stdout",
     "output_type": "stream",
     "text": [
      "SizeT :  1\n",
      "SizeZ :  11\n",
      "SizeC :  4\n",
      "SizeX :  200\n",
      "SizeY :  200\n",
      "XScale:  0.115\n",
      "YScale:  0.115\n",
      "ZScale:  0.31\n"
     ]
    }
   ],
   "source": [
    "# show dimensions and scaling\n",
    "print('SizeT : ', metadata['SizeT'])\n",
    "print('SizeZ : ', metadata['SizeZ'])\n",
    "print('SizeC : ', metadata['SizeC'])\n",
    "print('SizeX : ', metadata['SizeX'])\n",
    "print('SizeY : ', metadata['SizeY'])\n",
    "print('XScale: ', metadata['XScale'])\n",
    "print('YScale: ', metadata['YScale'])\n",
    "print('ZScale: ', metadata['ZScale'])"
   ]
  },
  {
   "cell_type": "code",
   "execution_count": 16,
   "metadata": {
    "slideshow": {
     "slide_type": "slide"
    }
   },
   "outputs": [
    {
     "name": "stdout",
     "output_type": "stream",
     "text": [
      "Directory  :  C:\\Users\\m1srh\\Documents\\Testdata_Zeiss\\Castor\\Z-Stack_DCV\n",
      "Filename  :  CZI_DimorderTZC.czi\n",
      "Extension  :  czi\n",
      "ImageType  :  czi\n",
      "Name  :  None\n",
      "AcqDate  :  2016-07-27T14:41:47.8369847Z\n",
      "TotalSeries  :  None\n",
      "SizeX  :  200\n",
      "SizeY  :  200\n",
      "SizeZ  :  11\n",
      "SizeC  :  4\n",
      "SizeT  :  1\n",
      "Sizes BF  :  None\n",
      "DimOrder BF  :  None\n",
      "DimOrder BF Array  :  None\n",
      "DimOrder CZI  :  {'B': 0, 'S': -1, 'T': 1, 'C': 2, 'Z': 3, 'Y': 4, 'X': 5, '0': 6}\n",
      "Axes  :  BTCZYX0\n",
      "Shape  :  (1, 1, 4, 11, 200, 200, 1)\n",
      "isRGB  :  None\n",
      "ObjNA  :  0.95\n",
      "ObjMag  :  40.0\n",
      "ObjID  :  Objective:1\n",
      "ObjName  :  Plan-Apochromat 20x/0.95\n",
      "ObjImmersion  :  Air\n",
      "XScale  :  0.115\n",
      "YScale  :  0.115\n",
      "ZScale  :  0.31\n",
      "XScaleUnit  :  µm\n",
      "YScaleUnit  :  µm\n",
      "ZScaleUnit  :  µm\n",
      "DetectorModel  :  Axiocam 506\n",
      "DetectorName  :  Axiocam506m\n",
      "DetectorID  :  Detector:Axiocam 506\n",
      "InstrumentID  :  None\n",
      "Channels  :  ['AF635', 'AF568', 'AF488', 'AF405']\n",
      "ImageIDs  :  []\n",
      "PixelType  :  Gray16\n",
      "SizeM  :  1\n",
      "SizeB  :  1\n",
      "SizeS  :  1\n",
      "SW-Name  :  ZEN 3.1 (blue edition)\n",
      "SW-Version  :  3.1.0.0000\n",
      "TubelensMag  :  2.0\n",
      "ObjNominalMag  :  20.0\n"
     ]
    }
   ],
   "source": [
    "# show all the metadata\n",
    "for key, value in metadata.items():\n",
    "    # print all key-value pairs for the dictionary\n",
    "    print(key, ' : ', value)"
   ]
  },
  {
   "cell_type": "code",
   "execution_count": 17,
   "metadata": {
    "slideshow": {
     "slide_type": "slide"
    }
   },
   "outputs": [
    {
     "name": "stdout",
     "output_type": "stream",
     "text": [
      "0 17612\n"
     ]
    },
    {
     "data": {
      "application/vnd.jupyter.widget-view+json": {
       "model_id": "6c2fe6faf494479990c9c440c4c18420",
       "version_major": 2,
       "version_minor": 0
      },
      "text/plain": [
       "Output()"
      ]
     },
     "metadata": {},
     "output_type": "display_data"
    },
    {
     "data": {
      "application/vnd.jupyter.widget-view+json": {
       "model_id": "2982998000f24a77aedd706ec3a52ab5",
       "version_major": 2,
       "version_minor": 0
      },
      "text/plain": [
       "VBox(children=(IntSlider(value=1, continuous_update=False, description='Blocks:', disabled=True, max=1, min=1)…"
      ]
     },
     "metadata": {},
     "output_type": "display_data"
    }
   ],
   "source": [
    "# display data using ipy widgets\n",
    "if metadata['Extension'] == 'ome.tiff':\n",
    "    ui, out = imf.create_ipyviewer_ome_tiff(array, metadata)\n",
    "if metadata['Extension'] == 'czi':\n",
    "    ui, out = imf.create_ipyviewer_czi(array, metadata)\n",
    "\n",
    "display(ui, out)"
   ]
  },
  {
   "cell_type": "code",
   "execution_count": null,
   "metadata": {
    "slideshow": {
     "slide_type": "slide"
    }
   },
   "outputs": [],
   "source": [
    "import time\n",
    "\n",
    "# switch to qt5 backend for napari viewer and wait a few seconds\n",
    "%gui qt5\n",
    "time.sleep(5)"
   ]
  },
  {
   "cell_type": "code",
   "execution_count": null,
   "metadata": {},
   "outputs": [],
   "source": [
    "array.shape"
   ]
  },
  {
   "cell_type": "code",
   "execution_count": null,
   "metadata": {
    "slideshow": {
     "slide_type": "slide"
    }
   },
   "outputs": [],
   "source": [
    "# get the scalefactors\n",
    "scalefactors = imf.get_scalefactor(metadata)\n",
    "print(scalefactors)\n",
    "\n",
    "# reduce array dimensions\n",
    "array = np.squeeze(array, axis=(0, 1))\n",
    "\n",
    "# start the viewer to add things manually\n",
    "viewer = napari.Viewer()"
   ]
  },
  {
   "cell_type": "code",
   "execution_count": null,
   "metadata": {
    "slideshow": {
     "slide_type": "slide"
    }
   },
   "outputs": [],
   "source": [
    "# try to configure napari automatiaclly based on metadata\n",
    "imf.show_napari(array, metadata)"
   ]
  },
  {
   "cell_type": "code",
   "execution_count": null,
   "metadata": {
    "slideshow": {
     "slide_type": "slide"
    }
   },
   "outputs": [],
   "source": [
    "# configure napari viewer manually - check array shape and dimensions order carefully \n",
    "    \n",
    "# get the scalefactors\n",
    "scalefactors = imf.get_scalefactor(metadata)\n",
    "print(scalefactors)\n",
    "\n",
    "array = np.squeeze(array, axis=(0, 1))\n",
    "\n",
    "viewer = napari.Viewer()\n",
    "# add every channel as a single layer\n",
    "for ch in range(metadata['SizeC']):\n",
    "    chname = metadata['Channels'][ch]\n",
    "    viewer.add_image(array[ch, :, :, :], name=chname, scale=(1, scalefactors['zx'], 1, 1))"
   ]
  },
  {
   "cell_type": "markdown",
   "metadata": {},
   "source": [
    "jupyter nbconvert MIAP_Read_and_Display_Images.ipynb --to slides --post serve"
   ]
  }
 ],
 "metadata": {
  "celltoolbar": "Slideshow",
  "file_extension": ".py",
  "kernelspec": {
   "display_name": "Python 3",
   "language": "python",
   "name": "python3"
  },
  "language_info": {
   "codemirror_mode": {
    "name": "ipython",
    "version": 3
   },
   "file_extension": ".py",
   "mimetype": "text/x-python",
   "name": "python",
   "nbconvert_exporter": "python",
   "pygments_lexer": "ipython3",
   "version": "3.7.4"
  },
  "mimetype": "text/x-python",
  "name": "python",
  "npconvert_exporter": "python",
  "pygments_lexer": "ipython3",
  "version": 3
 },
 "nbformat": 4,
 "nbformat_minor": 2
}
