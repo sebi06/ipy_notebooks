{
 "cells": [
  {
   "cell_type": "code",
   "execution_count": 1,
   "metadata": {},
   "outputs": [],
   "source": [
    "# do the required imports\n",
    "import pandas as pd\n",
    "import numpy as np\n",
    "import matplotlib.pyplot as plt\n",
    "import seaborn as sns\n",
    "import os\n",
    "import sys\n",
    "module_path = os.path.abspath(os.path.join('..'))\n",
    "if module_path not in sys.path:\n",
    "    sys.path.append(module_path)\n",
    "    \n",
    "import bioapps_tools as bap"
   ]
  },
  {
   "cell_type": "code",
   "execution_count": 2,
   "metadata": {},
   "outputs": [
    {
     "name": "stdout",
     "output_type": "stream",
     "text": [
      "No correction of types possible for column:  ImageIndexTime::Image Index Time!!I\n",
      "No correction of types possible for column:  ImageSceneContainerName::Image Scene Container Name \n",
      "No correction of types possible for column:  ImageSceneColumn::Image Scene Column Index!!I\n",
      "No correction of types possible for column:  ImageSceneRow::Image Scene Row Index!!I\n"
     ]
    },
    {
     "data": {
      "text/html": [
       "<div>\n",
       "<style scoped>\n",
       "    .dataframe tbody tr th:only-of-type {\n",
       "        vertical-align: middle;\n",
       "    }\n",
       "\n",
       "    .dataframe tbody tr th {\n",
       "        vertical-align: top;\n",
       "    }\n",
       "\n",
       "    .dataframe thead th {\n",
       "        text-align: right;\n",
       "    }\n",
       "</style>\n",
       "<table border=\"1\" class=\"dataframe\">\n",
       "  <thead>\n",
       "    <tr style=\"text-align: right;\">\n",
       "      <th></th>\n",
       "      <th>ID::ID!!I</th>\n",
       "      <th>RegionsCount::Count!!I</th>\n",
       "      <th>RegionsArea::Area!!R</th>\n",
       "      <th>RegionsAreaPercentage::Area Percentage!!R</th>\n",
       "      <th>ImageIndexTime::Image Index Time!!I</th>\n",
       "      <th>ImageSceneContainerName::Image Scene Container Name</th>\n",
       "      <th>ImageSceneColumn::Image Scene Column Index!!I</th>\n",
       "      <th>ImageSceneRow::Image Scene Row Index!!I</th>\n",
       "    </tr>\n",
       "  </thead>\n",
       "  <tbody>\n",
       "    <tr>\n",
       "      <th>1</th>\n",
       "      <td>1.0</td>\n",
       "      <td>1</td>\n",
       "      <td>7758.96</td>\n",
       "      <td>75.421093</td>\n",
       "      <td>1.0</td>\n",
       "      <td>NaN</td>\n",
       "      <td>0.0</td>\n",
       "      <td>0.0</td>\n",
       "    </tr>\n",
       "    <tr>\n",
       "      <th>2</th>\n",
       "      <td>1.0</td>\n",
       "      <td>1</td>\n",
       "      <td>7573.60</td>\n",
       "      <td>73.619298</td>\n",
       "      <td>2.0</td>\n",
       "      <td>NaN</td>\n",
       "      <td>0.0</td>\n",
       "      <td>0.0</td>\n",
       "    </tr>\n",
       "    <tr>\n",
       "      <th>3</th>\n",
       "      <td>1.0</td>\n",
       "      <td>1</td>\n",
       "      <td>7360.08</td>\n",
       "      <td>71.543773</td>\n",
       "      <td>3.0</td>\n",
       "      <td>NaN</td>\n",
       "      <td>0.0</td>\n",
       "      <td>0.0</td>\n",
       "    </tr>\n",
       "    <tr>\n",
       "      <th>4</th>\n",
       "      <td>1.0</td>\n",
       "      <td>1</td>\n",
       "      <td>7194.68</td>\n",
       "      <td>69.936000</td>\n",
       "      <td>4.0</td>\n",
       "      <td>NaN</td>\n",
       "      <td>0.0</td>\n",
       "      <td>0.0</td>\n",
       "    </tr>\n",
       "    <tr>\n",
       "      <th>5</th>\n",
       "      <td>1.0</td>\n",
       "      <td>2</td>\n",
       "      <td>6875.40</td>\n",
       "      <td>66.832434</td>\n",
       "      <td>5.0</td>\n",
       "      <td>NaN</td>\n",
       "      <td>0.0</td>\n",
       "      <td>0.0</td>\n",
       "    </tr>\n",
       "  </tbody>\n",
       "</table>\n",
       "</div>"
      ],
      "text/plain": [
       "   ID::ID!!I RegionsCount::Count!!I  RegionsArea::Area!!R  \\\n",
       "1        1.0                      1               7758.96   \n",
       "2        1.0                      1               7573.60   \n",
       "3        1.0                      1               7360.08   \n",
       "4        1.0                      1               7194.68   \n",
       "5        1.0                      2               6875.40   \n",
       "\n",
       "   RegionsAreaPercentage::Area Percentage!!R  \\\n",
       "1                                  75.421093   \n",
       "2                                  73.619298   \n",
       "3                                  71.543773   \n",
       "4                                  69.936000   \n",
       "5                                  66.832434   \n",
       "\n",
       "   ImageIndexTime::Image Index Time!!I  \\\n",
       "1                                  1.0   \n",
       "2                                  2.0   \n",
       "3                                  3.0   \n",
       "4                                  4.0   \n",
       "5                                  5.0   \n",
       "\n",
       "   ImageSceneContainerName::Image Scene Container Name   \\\n",
       "1                                                NaN      \n",
       "2                                                NaN      \n",
       "3                                                NaN      \n",
       "4                                                NaN      \n",
       "5                                                NaN      \n",
       "\n",
       "   ImageSceneColumn::Image Scene Column Index!!I  \\\n",
       "1                                            0.0   \n",
       "2                                            0.0   \n",
       "3                                            0.0   \n",
       "4                                            0.0   \n",
       "5                                            0.0   \n",
       "\n",
       "   ImageSceneRow::Image Scene Row Index!!I  \n",
       "1                                      0.0  \n",
       "2                                      0.0  \n",
       "3                                      0.0  \n",
       "4                                      0.0  \n",
       "5                                      0.0  "
      ]
     },
     "execution_count": 2,
     "metadata": {},
     "output_type": "execute_result"
    }
   ],
   "source": [
    "# read data and convert to dataframe\n",
    "filename = r'Scratch_Assay_T=25_Bin2x2_analyzed Regions Scratch.csv'\n",
    "\n",
    "df, headers, sep = bap.get_csvdata(filename, num_nonmp=2)\n",
    "df[:5]"
   ]
  },
  {
   "cell_type": "code",
   "execution_count": 3,
   "metadata": {},
   "outputs": [],
   "source": [
    "# define what to plot etc.\n",
    "xd = r'ImageIndexTime::Image Index Time!!I'\n",
    "yd = r'RegionsAreaPercentage::Area Percentage!!R'\n",
    "plot_title = 'Scratch Assay'\n",
    "plot_xaxis = 'Time Point [frames]'\n",
    "plot_yaxis = 'Total Area [%]'\n",
    "cp = 'Blues_d'\n",
    "\n",
    "# save plot with options\n",
    "savefig = True\n",
    "figdpi=100"
   ]
  },
  {
   "cell_type": "code",
   "execution_count": 4,
   "metadata": {},
   "outputs": [
    {
     "data": {
      "image/png": "[encoded data removed]",
      "text/plain": [
       "<Figure size 1152x576 with 1 Axes>"
      ]
     },
     "metadata": {
      "needs_background": "light"
     },
     "output_type": "display_data"
    }
   ],
   "source": [
    "# create figure and plot\n",
    "fig, ax = plt.subplots(1,1, figsize=(16, 8))\n",
    "ax = sns.barplot(x=xd, y=yd, palette=cp, data=df, ax=ax)\n",
    "\n",
    "# set plot title\n",
    "ax.set_title(plot_title, fontsize=16)\n",
    "\n",
    "# format x and y axis\n",
    "ax.set_xlabel(plot_xaxis, fontsize=14)\n",
    "ax.set_ylabel(plot_yaxis, fontsize=14)\n",
    "\n",
    "# optional scientific annotation for axis\n",
    "ax.ticklabel_format(axis='y', style='scientific', scilimits=(0, 0))\n",
    "\n",
    "# toggle grid\n",
    "ax.grid(True)"
   ]
  },
  {
   "cell_type": "code",
   "execution_count": 5,
   "metadata": {},
   "outputs": [],
   "source": [
    "if savefig:\n",
    "    savename = filename[:-4] + '_Area-Time.png'\n",
    "    fig.savefig(savename, dpi=figdpi, orientation='portrait', transparent=False, facecolor=None)"
   ]
  },
  {
   "cell_type": "code",
   "execution_count": null,
   "metadata": {},
   "outputs": [],
   "source": []
  }
 ],
 "metadata": {
  "kernelspec": {
   "display_name": "Python 3",
   "language": "python",
   "name": "python3"
  },
  "language_info": {
   "codemirror_mode": {
    "name": "ipython",
    "version": 3
   },
   "file_extension": ".py",
   "mimetype": "text/x-python",
   "name": "python",
   "nbconvert_exporter": "python",
   "pygments_lexer": "ipython3",
   "version": "3.7.3"
  }
 },
 "nbformat": 4,
 "nbformat_minor": 2
}
