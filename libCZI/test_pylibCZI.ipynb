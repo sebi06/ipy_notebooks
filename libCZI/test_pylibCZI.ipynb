{
 "cells": [
  {
   "cell_type": "code",
   "execution_count": 1,
   "metadata": {},
   "outputs": [],
   "source": [
    "import pylibCZI\n",
    "import pylab as plt\n",
    "%matplotlib inline\n",
    "import xml.etree.ElementTree as ET\n",
    "import numpy as np"
   ]
  },
  {
   "cell_type": "code",
   "execution_count": 2,
   "metadata": {},
   "outputs": [],
   "source": [
    "# init reader\n",
    "reader = pylibCZI.CreateCZIReader()\n",
    "\n",
    "# intit stream\n",
    "stream = pylibCZI.CreateStreamFromFile(r\"c:\\Users\\m1srh\\Documents\\Testdata_Zeiss\\Atomic\\XRM\\XRM_Test_small.czi\")\n",
    "\n",
    "# open file\n",
    "reader.Open(stream)"
   ]
  },
  {
   "cell_type": "code",
   "execution_count": 3,
   "metadata": {},
   "outputs": [
    {
     "name": "stdout",
     "output_type": "stream",
     "text": [
      "number of sub blocks: 30\n",
      "used pixel types: [0]\n",
      "Z: [ 4  7  5  8 10  9 12 11 13  1 15 14 16 17  6 18 19 20 21 22 23 24 25 26\n",
      " 27 28 29  0  3  2]\n",
      "C: [0 0 0 0 0 0 0 0 0 0 0 0 0 0 0 0 0 0 0 0 0 0 0 0 0 0 0 0 0 0]\n",
      "T: [0 0 0 0 0 0 0 0 0 0 0 0 0 0 0 0 0 0 0 0 0 0 0 0 0 0 0 0 0 0]\n",
      "S: [0 0 0 0 0 0 0 0 0 0 0 0 0 0 0 0 0 0 0 0 0 0 0 0 0 0 0 0 0 0]\n"
     ]
    }
   ],
   "source": [
    "# get information about available sub blocks\n",
    "sbinfo = pylibCZI.get_sublock_info_from_reader(reader)\n",
    "\n",
    "# pixel type\n",
    "print('number of sub blocks:', len(sbinfo.get_pxtype()))\n",
    "print('used pixel types:', np.unique(sbinfo.get_pxtype()))\n",
    "\n",
    "# dimensions\n",
    "sbdims = sbinfo.get_dimension()\n",
    "print('Z:', sbdims[:,0]) #Z-dimension\n",
    "print('C:', sbdims[:,1]) #C-dimension (\"channel\")\n",
    "print('T:', sbdims[:,2]) #T-dimension (\"time\")\n",
    "#print('R:', sbdims[:,3]) #R-dimension (\"rotation\")\n",
    "print('S:', sbdims[:,4]) #S-dimension (\"scene\")\n",
    "#print('I:', sbdims[:,5]) #I-dimension (\"illumination\")\n",
    "#print('H:', sbdims[:,6]) #H-dimension (\"phase\")\n",
    "#print('V:', sbdims[:,7]) #V-dimension (\"view\")\n",
    "#print('V:', sbdims[:,8]) #B-dimension (\"block\") - its use is deprecated"
   ]
  },
  {
   "cell_type": "code",
   "execution_count": 6,
   "metadata": {},
   "outputs": [
    {
     "name": "stdout",
     "output_type": "stream",
     "text": [
      "selected sublocks: [2]\n",
      "h: 346\n",
      "w: 377\n",
      "type: 0\n"
     ]
    },
    {
     "ename": "ZeroDivisionError",
     "evalue": "division by zero",
     "output_type": "error",
     "traceback": [
      "\u001b[1;31m---------------------------------------------------------------------------\u001b[0m",
      "\u001b[1;31mZeroDivisionError\u001b[0m                         Traceback (most recent call last)",
      "\u001b[1;32m<ipython-input-6-4d09d61ec3d2>\u001b[0m in \u001b[0;36m<module>\u001b[1;34m()\u001b[0m\n\u001b[0;32m     20\u001b[0m \u001b[1;33m\u001b[0m\u001b[0m\n\u001b[0;32m     21\u001b[0m     \u001b[1;31m# show image\u001b[0m\u001b[1;33m\u001b[0m\u001b[1;33m\u001b[0m\u001b[0m\n\u001b[1;32m---> 22\u001b[1;33m     \u001b[0mplt\u001b[0m\u001b[1;33m.\u001b[0m\u001b[0mmatshow\u001b[0m\u001b[1;33m(\u001b[0m\u001b[0mbmap\u001b[0m\u001b[1;33m.\u001b[0m\u001b[0mgetMatrix_gray16\u001b[0m\u001b[1;33m(\u001b[0m\u001b[1;33m)\u001b[0m\u001b[1;33m)\u001b[0m\u001b[1;33m\u001b[0m\u001b[0m\n\u001b[0m",
      "\u001b[1;32mC:\\Anaconda3\\lib\\site-packages\\matplotlib\\pyplot.py\u001b[0m in \u001b[0;36mmatshow\u001b[1;34m(A, fignum, **kw)\u001b[0m\n\u001b[0;32m   2419\u001b[0m     \u001b[1;32melse\u001b[0m\u001b[1;33m:\u001b[0m\u001b[1;33m\u001b[0m\u001b[0m\n\u001b[0;32m   2420\u001b[0m         \u001b[1;31m# Extract actual aspect ratio of array and make appropriately sized figure\u001b[0m\u001b[1;33m\u001b[0m\u001b[1;33m\u001b[0m\u001b[0m\n\u001b[1;32m-> 2421\u001b[1;33m         \u001b[0mfig\u001b[0m \u001b[1;33m=\u001b[0m \u001b[0mfigure\u001b[0m\u001b[1;33m(\u001b[0m\u001b[0mfignum\u001b[0m\u001b[1;33m,\u001b[0m \u001b[0mfigsize\u001b[0m\u001b[1;33m=\u001b[0m\u001b[0mfigaspect\u001b[0m\u001b[1;33m(\u001b[0m\u001b[0mA\u001b[0m\u001b[1;33m)\u001b[0m\u001b[1;33m)\u001b[0m\u001b[1;33m\u001b[0m\u001b[0m\n\u001b[0m\u001b[0;32m   2422\u001b[0m         \u001b[0max\u001b[0m  \u001b[1;33m=\u001b[0m \u001b[0mfig\u001b[0m\u001b[1;33m.\u001b[0m\u001b[0madd_axes\u001b[0m\u001b[1;33m(\u001b[0m\u001b[1;33m[\u001b[0m\u001b[1;36m0.15\u001b[0m\u001b[1;33m,\u001b[0m \u001b[1;36m0.09\u001b[0m\u001b[1;33m,\u001b[0m \u001b[1;36m0.775\u001b[0m\u001b[1;33m,\u001b[0m \u001b[1;36m0.775\u001b[0m\u001b[1;33m]\u001b[0m\u001b[1;33m)\u001b[0m\u001b[1;33m\u001b[0m\u001b[0m\n\u001b[0;32m   2423\u001b[0m \u001b[1;33m\u001b[0m\u001b[0m\n",
      "\u001b[1;32mC:\\Anaconda3\\lib\\site-packages\\matplotlib\\figure.py\u001b[0m in \u001b[0;36mfigaspect\u001b[1;34m(arg)\u001b[0m\n\u001b[0;32m   2474\u001b[0m     \u001b[1;32mif\u001b[0m \u001b[0misarray\u001b[0m\u001b[1;33m:\u001b[0m\u001b[1;33m\u001b[0m\u001b[0m\n\u001b[0;32m   2475\u001b[0m         \u001b[0mnr\u001b[0m\u001b[1;33m,\u001b[0m \u001b[0mnc\u001b[0m \u001b[1;33m=\u001b[0m \u001b[0marg\u001b[0m\u001b[1;33m.\u001b[0m\u001b[0mshape\u001b[0m\u001b[1;33m[\u001b[0m\u001b[1;33m:\u001b[0m\u001b[1;36m2\u001b[0m\u001b[1;33m]\u001b[0m\u001b[1;33m\u001b[0m\u001b[0m\n\u001b[1;32m-> 2476\u001b[1;33m         \u001b[0marr_ratio\u001b[0m \u001b[1;33m=\u001b[0m \u001b[0mnr\u001b[0m \u001b[1;33m/\u001b[0m \u001b[0mnc\u001b[0m\u001b[1;33m\u001b[0m\u001b[0m\n\u001b[0m\u001b[0;32m   2477\u001b[0m     \u001b[1;32melse\u001b[0m\u001b[1;33m:\u001b[0m\u001b[1;33m\u001b[0m\u001b[0m\n\u001b[0;32m   2478\u001b[0m         \u001b[0marr_ratio\u001b[0m \u001b[1;33m=\u001b[0m \u001b[0marg\u001b[0m\u001b[1;33m\u001b[0m\u001b[0m\n",
      "\u001b[1;31mZeroDivisionError\u001b[0m: division by zero"
     ]
    }
   ],
   "source": [
    "# example: select sub blocks for Z, C, T\n",
    "Z=5\n",
    "C=0\n",
    "T=0\n",
    "sbselect = np.where((sbdims[:,0]==Z)*(sbdims[:,1]==C)*(sbdims[:,2]==T))[0]\n",
    "print('selected sublocks:', sbselect)\n",
    "\n",
    "for idx in sbselect:\n",
    "\n",
    "    # get sub blocks\n",
    "    sbBlk = reader.ReadSubBlock(idx)\n",
    "\n",
    "    # get bitmap from sub block\n",
    "    bmap = pylibCZI.get_np_bitmap_from_subblock(sbBlk)\n",
    "\n",
    "    # print dims and type\n",
    "    print('h:', bmap.get_height())\n",
    "    print('w:', bmap.get_width())\n",
    "    print('type:', bmap.get_pxtype())\n",
    "\n",
    "    # show image\n",
    "    plt.matshow(bmap.getMatrix_gray16())\n"
   ]
  },
  {
   "cell_type": "code",
   "execution_count": 5,
   "metadata": {},
   "outputs": [
    {
     "name": "stdout",
     "output_type": "stream",
     "text": [
      "CustomAttributes\n",
      "Information\n",
      "Scaling\n",
      "DisplaySetting\n",
      "Layers\n",
      "Appliances\n"
     ]
    }
   ],
   "source": [
    "# load meta data into string\n",
    "xml_string = pylibCZI.get_xml_from_reader(reader)\n",
    "\n",
    "# store string to to file\n",
    "outfile = open(\"output.xml\", \"w\")  \n",
    "outfile.write(xml_string) \n",
    "\n",
    "# parse xml with etree\n",
    "root = ET.fromstring(xml_string)\n",
    "for elem in root:  \n",
    "    for subelem in elem:\n",
    "        print(subelem.tag)"
   ]
  },
  {
   "cell_type": "code",
   "execution_count": null,
   "metadata": {
    "collapsed": true
   },
   "outputs": [],
   "source": [
    "bmap.get_dsize()"
   ]
  }
 ],
 "metadata": {
  "kernelspec": {
   "display_name": "Python 3",
   "language": "python",
   "name": "python3"
  },
  "language_info": {
   "codemirror_mode": {
    "name": "ipython",
    "version": 3
   },
   "file_extension": ".py",
   "mimetype": "text/x-python",
   "name": "python",
   "nbconvert_exporter": "python",
   "pygments_lexer": "ipython3",
   "version": "3.6.5"
  }
 },
 "nbformat": 4,
 "nbformat_minor": 2
}
