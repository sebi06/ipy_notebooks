{
 "cells": [
  {
   "cell_type": "markdown",
   "metadata": {
    "slideshow": {
     "slide_type": "slide"
    }
   },
   "source": [
    "This IPython Notebook shows how to visualize the data created by the ZEN Image Analysis using the Zone Of Influence (ZOI) segmentation.\n",
    "Typical Applications for ZOI are in cell biology, drug discovery, in-vitro assays, endpoint assays, e.g.:\n",
    "\n",
    "* Cytoplasm-Nucleus Translocation\n",
    "* Protein Localization\n",
    "* Count sub-objects inside and outside of the primary object (e.g. vesicles, PML bodies,…)\n",
    "\n",
    "<img src=\"Tutorial\\ZOI_Applications.png\" />\n",
    "\n",
    "**For further details please see:**\n",
    "    \n",
    "[ZOI Tutorial.pdf]('Tutorial\\ZOI - Tutorial.pdf')"
   ]
  },
  {
   "cell_type": "markdown",
   "metadata": {
    "slideshow": {
     "slide_type": "slide"
    }
   },
   "source": [
    "**Application Example: Translocation Assay**\n",
    "\n",
    "<img src=\"Tutorial\\ZOI_Translocation.png\" />"
   ]
  },
  {
   "cell_type": "markdown",
   "metadata": {
    "slideshow": {
     "slide_type": "slide"
    }
   },
   "source": [
    "**Human U2OS cells cytoplasm–nucleus translocation**\n",
    "\n",
    "* 96-well plate, human osteosarcoma cells (U2OS), nuclei stained with DRAQ\n",
    "* Cytoplasm to nucleus translocation of the Forkhead (FKHR-EGFP) fusion protein\n",
    "* In proliferating cells, FKHR is localized in the cytoplasm (constantly moving into the nucleus, but is transported out again by export proteins). \n",
    "* Upon inhibition of nuclear export, FKHR accumulates in the nucleus\n",
    "* Export is inhibited by blocking PI3 kinase / PKB with <span style=\"color:green\"> *Wortmannin*</span> or <span style=\"color:orange\">*LY294002*</span>.\n",
    "\n",
    "\n",
    "<img src=\"Tutorial\\ZOI_U2OS.png\" />\n",
    "\n",
    "\n",
    "Data set [BBBC013v1](https://data.broadinstitute.org/bbbc/BBBC013/) by Ilya Ravkin, available from the Broad Bioimage Benchmark Collection [Ljosa et al., Nature Methods, 2012](http://dx.doi.org/10.1038/nmeth.2083)"
   ]
  },
  {
   "cell_type": "code",
   "execution_count": 1,
   "metadata": {
    "slideshow": {
     "slide_type": "slide"
    }
   },
   "outputs": [],
   "source": [
    "# do the required imports\n",
    "import pandas as pd\n",
    "import numpy as np\n",
    "import sys\n",
    "import matplotlib.pyplot as plt\n",
    "import seaborn as sns\n",
    "import plotly\n",
    "import plotly.graph_objs as go\n",
    "from plotly.graph_objs import *\n",
    "sys.path.append(r'Modules')\n",
    "import wellplate_tools_pandas as wpt"
   ]
  },
  {
   "cell_type": "code",
   "execution_count": 2,
   "metadata": {
    "slideshow": {
     "slide_type": "slide"
    }
   },
   "outputs": [],
   "source": [
    "# load the data file created by ZEN Blue ZOI image analysis\n",
    "#filename_single = r'Data\\_Primary Object.csv'\n",
    "#filename_single = r'Data\\Translocation_comb_96_5ms Region Primary Object ZEN2.6.csv'\n",
    "filename_single = r'Data\\_Primary Object Translocation_2 ZEN 25.csv'\n",
    "\n",
    "zoi_transloc = True\n",
    "\n",
    "# check the used separator\n",
    "sep = wpt.check_separator(filename_single)\n",
    "\n",
    "# read the CSV table containing all the single object data\n",
    "df_single = pd.read_csv(filename_single, sep=sep)\n",
    "\n",
    "# get headers and number of measurement parameters\n",
    "headers = df_single.head(0)\n",
    "\n",
    "# define wellplate type (this has to be done by user)\n",
    "platetype = 96\n",
    "\n",
    "# get numer of rows and columns\n",
    "Nr, Nc = wpt.getrowandcolumn(platetype)"
   ]
  },
  {
   "cell_type": "code",
   "execution_count": 3,
   "metadata": {
    "slideshow": {
     "slide_type": "slide"
    }
   },
   "outputs": [],
   "source": [
    "# default number of non-measurement parameters, e.g. IDs etc.\n",
    "num_nonmp = 6\n",
    "\n",
    "# list for renaming the parameters - please check your input CSV is the respective columns\n",
    "# (might have different names) exits and if their order is reflected inside the parameterlist\n",
    "\n",
    "if zoi_transloc:\n",
    "    parameterlist = ['ParentID',    # ParentID::ID of the parent!!I\n",
    "                     'ID',          # ID::ID!!I\n",
    "                     'WellID',      # ImageSceneContainerName::Image Scene Container Name \n",
    "                     'RowID',       # ImageSceneRow::Image Scene Row Index!!I\n",
    "                     'ColumnID',    # ImageSceneColumn::Image Scene Column Index!!I\n",
    "                     'Index',       # Index::Index!!I\n",
    "                     'Area',        # Area::Area!!R\n",
    "                     'NucMeanDapi', # IntensityMean_DAPI::Intensity Mean Value of channel 'DAPI'!!R\n",
    "                     'NucMeanGFP',  # IntensityMean_EGFP::Intensity Mean Value of channel 'EGFP'!!R\n",
    "                     'RingMeanGFP', # CopyRingIntensityMean1::Ring Mean Intensity 1!!R\n",
    "                     'RingArea']    # CopyRingArea::Ring Area!!R\n",
    "\n",
    "elif not zoi_transloc:\n",
    "    parameterlist = ['ParentID',    # ParentID::ID of the parent!!I\n",
    "                     'ID',          # ID::ID!!I\n",
    "                     'WellID',      # ImageSceneContainerName::Image Scene Container Name\n",
    "                     'RowID',       # ImageSceneRow::Image Scene Row Index!!I\n",
    "                     'ColumnID',    # ImageSceneColumn::Image Scene Column Index!!I\n",
    "                     'Index']       # Index::Index!!I"
   ]
  },
  {
   "cell_type": "code",
   "execution_count": 4,
   "metadata": {
    "slideshow": {
     "slide_type": "slide"
    }
   },
   "outputs": [],
   "source": [
    "# rename columns\n",
    "df_single = wpt.rename_columns(df_single, parameterlist)\n",
    "\n",
    "# remove rows with units from datafrane\n",
    "df_single = wpt.remove_units(df_single)\n",
    "\n",
    "# convert decimal separators to point \".\"\n",
    "df_single = wpt.convert_dec_sep(df_single, num_nonmp)"
   ]
  },
  {
   "cell_type": "markdown",
   "metadata": {
    "slideshow": {
     "slide_type": "slide"
    }
   },
   "source": [
    "**Human U2OS cells cytoplasm–nucleus translocation**\n",
    "\n",
    "* Calculate the Translocation-Ratio (T) for each cell\n",
    "* Calculate the mean value for each well \n",
    "\n",
    "\n",
    "<img src=\"Tutorial\\ZOI_Ratio_Calculation.png\" />"
   ]
  },
  {
   "cell_type": "code",
   "execution_count": 5,
   "metadata": {
    "slideshow": {
     "slide_type": "slide"
    }
   },
   "outputs": [],
   "source": [
    "if zoi_transloc:\n",
    "\n",
    "    # add another column and calculate the ratio between GFP in nucleus and GFP in Ring for the translocation assay\n",
    "    df_single['Ratio'] =  df_single['NucMeanGFP']/df_single['RingMeanGFP']\n",
    "\n",
    "    # replace infinity values with nan\n",
    "    df_single = df_single.replace([np.inf, -np.inf], np.nan)"
   ]
  },
  {
   "cell_type": "code",
   "execution_count": 6,
   "metadata": {
    "slideshow": {
     "slide_type": "slide"
    }
   },
   "outputs": [
    {
     "name": "stdout",
     "output_type": "stream",
     "text": [
      "Number of Object Parameters:  6\n"
     ]
    },
    {
     "data": {
      "text/html": [
       "<div>\n",
       "<style scoped>\n",
       "    .dataframe tbody tr th:only-of-type {\n",
       "        vertical-align: middle;\n",
       "    }\n",
       "\n",
       "    .dataframe tbody tr th {\n",
       "        vertical-align: top;\n",
       "    }\n",
       "\n",
       "    .dataframe thead th {\n",
       "        text-align: right;\n",
       "    }\n",
       "</style>\n",
       "<table border=\"1\" class=\"dataframe\">\n",
       "  <thead>\n",
       "    <tr style=\"text-align: right;\">\n",
       "      <th></th>\n",
       "      <th>ParentID</th>\n",
       "      <th>ID</th>\n",
       "      <th>WellID</th>\n",
       "      <th>RowID</th>\n",
       "      <th>ColumnID</th>\n",
       "      <th>Index</th>\n",
       "      <th>Area</th>\n",
       "      <th>NucMeanDapi</th>\n",
       "      <th>NucMeanGFP</th>\n",
       "      <th>RingMeanGFP</th>\n",
       "      <th>RingArea</th>\n",
       "      <th>Ratio</th>\n",
       "    </tr>\n",
       "  </thead>\n",
       "  <tbody>\n",
       "    <tr>\n",
       "      <th>1</th>\n",
       "      <td>269.0</td>\n",
       "      <td>270.0</td>\n",
       "      <td>A1</td>\n",
       "      <td>1.0</td>\n",
       "      <td>1.0</td>\n",
       "      <td>1.0</td>\n",
       "      <td>2.64</td>\n",
       "      <td>133.337121</td>\n",
       "      <td>88.053030</td>\n",
       "      <td>141.167832</td>\n",
       "      <td>1.43</td>\n",
       "      <td>0.623747</td>\n",
       "    </tr>\n",
       "    <tr>\n",
       "      <th>2</th>\n",
       "      <td>271.0</td>\n",
       "      <td>272.0</td>\n",
       "      <td>A1</td>\n",
       "      <td>1.0</td>\n",
       "      <td>1.0</td>\n",
       "      <td>2.0</td>\n",
       "      <td>1.84</td>\n",
       "      <td>79.288043</td>\n",
       "      <td>0.000000</td>\n",
       "      <td>0.029630</td>\n",
       "      <td>1.35</td>\n",
       "      <td>0.000000</td>\n",
       "    </tr>\n",
       "    <tr>\n",
       "      <th>3</th>\n",
       "      <td>273.0</td>\n",
       "      <td>274.0</td>\n",
       "      <td>A1</td>\n",
       "      <td>1.0</td>\n",
       "      <td>1.0</td>\n",
       "      <td>3.0</td>\n",
       "      <td>3.04</td>\n",
       "      <td>168.177632</td>\n",
       "      <td>9.819079</td>\n",
       "      <td>9.220588</td>\n",
       "      <td>1.36</td>\n",
       "      <td>1.064908</td>\n",
       "    </tr>\n",
       "    <tr>\n",
       "      <th>4</th>\n",
       "      <td>275.0</td>\n",
       "      <td>276.0</td>\n",
       "      <td>A1</td>\n",
       "      <td>1.0</td>\n",
       "      <td>1.0</td>\n",
       "      <td>4.0</td>\n",
       "      <td>2.81</td>\n",
       "      <td>106.231317</td>\n",
       "      <td>38.793594</td>\n",
       "      <td>46.607143</td>\n",
       "      <td>1.96</td>\n",
       "      <td>0.832353</td>\n",
       "    </tr>\n",
       "    <tr>\n",
       "      <th>5</th>\n",
       "      <td>277.0</td>\n",
       "      <td>278.0</td>\n",
       "      <td>A1</td>\n",
       "      <td>1.0</td>\n",
       "      <td>1.0</td>\n",
       "      <td>5.0</td>\n",
       "      <td>2.47</td>\n",
       "      <td>146.546559</td>\n",
       "      <td>52.777328</td>\n",
       "      <td>65.034722</td>\n",
       "      <td>1.44</td>\n",
       "      <td>0.811525</td>\n",
       "    </tr>\n",
       "    <tr>\n",
       "      <th>6</th>\n",
       "      <td>279.0</td>\n",
       "      <td>280.0</td>\n",
       "      <td>A1</td>\n",
       "      <td>1.0</td>\n",
       "      <td>1.0</td>\n",
       "      <td>6.0</td>\n",
       "      <td>2.01</td>\n",
       "      <td>96.686567</td>\n",
       "      <td>33.407960</td>\n",
       "      <td>68.377778</td>\n",
       "      <td>1.35</td>\n",
       "      <td>0.488579</td>\n",
       "    </tr>\n",
       "  </tbody>\n",
       "</table>\n",
       "</div>"
      ],
      "text/plain": [
       "   ParentID     ID WellID  RowID  ColumnID  Index  Area  NucMeanDapi  \\\n",
       "1     269.0  270.0     A1    1.0       1.0    1.0  2.64   133.337121   \n",
       "2     271.0  272.0     A1    1.0       1.0    2.0  1.84    79.288043   \n",
       "3     273.0  274.0     A1    1.0       1.0    3.0  3.04   168.177632   \n",
       "4     275.0  276.0     A1    1.0       1.0    4.0  2.81   106.231317   \n",
       "5     277.0  278.0     A1    1.0       1.0    5.0  2.47   146.546559   \n",
       "6     279.0  280.0     A1    1.0       1.0    6.0  2.01    96.686567   \n",
       "\n",
       "   NucMeanGFP  RingMeanGFP  RingArea     Ratio  \n",
       "1   88.053030   141.167832      1.43  0.623747  \n",
       "2    0.000000     0.029630      1.35  0.000000  \n",
       "3    9.819079     9.220588      1.36  1.064908  \n",
       "4   38.793594    46.607143      1.96  0.832353  \n",
       "5   52.777328    65.034722      1.44  0.811525  \n",
       "6   33.407960    68.377778      1.35  0.488579  "
      ]
     },
     "execution_count": 6,
     "metadata": {},
     "output_type": "execute_result"
    }
   ],
   "source": [
    "# calculate the number of actual measurment parameters for single objects\n",
    "num_param = len(df_single.columns) - num_nonmp\n",
    "print('Number of Object Parameters: ', num_param)\n",
    "\n",
    "# show part of dataframe\n",
    "df_single[:6]"
   ]
  },
  {
   "cell_type": "code",
   "execution_count": 7,
   "metadata": {
    "slideshow": {
     "slide_type": "slide"
    }
   },
   "outputs": [
    {
     "name": "stdout",
     "output_type": "stream",
     "text": [
      "---------------------------------------------------\n",
      "wellID_key :  WellID\n",
      "Found keys:\n",
      "Index(['ParentID', 'ID', 'WellID', 'RowID', 'ColumnID', 'Index', 'Area',\n",
      "       'NucMeanDapi', 'NucMeanGFP', 'RingMeanGFP', 'RingArea', 'Ratio'],\n",
      "      dtype='object')\n",
      "---------------------------------------------------\n"
     ]
    },
    {
     "data": {
      "application/vnd.jupyter.widget-view+json": {
       "model_id": "5fe4639f69454ff78cad6b66f04225f1",
       "version_major": 2,
       "version_minor": 0
      },
      "text/plain": [
       "FloatProgress(value=1.0, description='Processing Wells', max=96.0, min=1.0)"
      ]
     },
     "metadata": {},
     "output_type": "display_data"
    },
    {
     "name": "stdout",
     "output_type": "stream",
     "text": [
      "HeatMap:  Area\n",
      "HeatMap:  NucMeanDapi\n",
      "HeatMap:  NucMeanGFP\n",
      "HeatMap:  RingMeanGFP\n",
      "HeatMap:  RingArea\n",
      "HeatMap:  Ratio\n",
      "HeatMap:  ObjectNumbers\n"
     ]
    },
    {
     "data": {
      "text/plain": [
       "dict_keys(['Area', 'NucMeanDapi', 'NucMeanGFP', 'RingMeanGFP', 'RingArea', 'Ratio', 'ObjectNumbers'])"
      ]
     },
     "execution_count": 7,
     "metadata": {},
     "output_type": "execute_result"
    }
   ],
   "source": [
    "# use statistics for a wells to be displayed inside the heatmaps.\n",
    "# currently implemented are mean, median, min, max.\n",
    "stf = 'mean'\n",
    "\n",
    "# create a dictionary containing a dataframe for every measured parameter\n",
    "# as a heatmap and a dictionary containing the values for all wells containing actual data points.\n",
    "\n",
    "heatmap_dict, well_dict = wpt.fill_heatmaps(df_single, num_param, num_nonmp, Nr, Nc,\n",
    "                                            statfunc=stf,\n",
    "                                            showbar=True,\n",
    "                                            verbose=False,\n",
    "                                            wellID_key='WellID',\n",
    "                                            rowID_key='RowID',\n",
    "                                            colID_key='ColumnID')\n",
    "\n",
    "# show all keys\n",
    "heatmap_dict.keys()"
   ]
  },
  {
   "cell_type": "code",
   "execution_count": 8,
   "metadata": {
    "slideshow": {
     "slide_type": "slide"
    }
   },
   "outputs": [
    {
     "name": "stdout",
     "output_type": "stream",
     "text": [
      "Heatmap image saved as:  Data\\_Primary Object Translocation_2 ZEN 25_HM_ObjectNumbers.png\n"
     ]
    },
    {
     "data": {
      "image/png": "[encoded data removed]",
      "text/plain": [
       "<Figure size 720x576 with 2 Axes>"
      ]
     },
     "metadata": {
      "needs_background": "light"
     },
     "output_type": "display_data"
    }
   ],
   "source": [
    "# define parameter to display a single heatmap\n",
    "parameter2display = 'ObjectNumbers'\n",
    "colormap ='YlGnBu'\n",
    "\n",
    "# get the actual heatmap array to display it as an image from the dictionary\n",
    "hm = heatmap_dict[parameter2display]\n",
    "\n",
    "# show the heatmap for a single parameter\n",
    "savename_single = wpt.showheatmap(hm, parameter2display,\n",
    "                                  fontsize_title=16,\n",
    "                                  fontsize_label=16,\n",
    "                                  colormap=colormap,\n",
    "                                  linecolor='black',\n",
    "                                  linewidth=3.0,\n",
    "                                  save=True,\n",
    "                                  filename=filename_single,\n",
    "                                  dpi=300)"
   ]
  },
  {
   "cell_type": "code",
   "execution_count": 9,
   "metadata": {
    "slideshow": {
     "slide_type": "slide"
    }
   },
   "outputs": [
    {
     "name": "stdout",
     "output_type": "stream",
     "text": [
      "Heatmap image saved as:  Data\\_Primary Object Translocation_2 ZEN 25_HM_all.png\n"
     ]
    },
    {
     "data": {
      "image/png": "[encoded data removed]",
      "text/plain": [
       "<Figure size 864x720 with 14 Axes>"
      ]
     },
     "metadata": {
      "needs_background": "light"
     },
     "output_type": "display_data"
    }
   ],
   "source": [
    "# define parameters to display the heatmap\n",
    "colormap ='YlGnBu'\n",
    "\n",
    "plotgrid, deletelastplot = wpt.determine_plotgrid(num_param + 1, columns=2)\n",
    "\n",
    "# show all heatmaps\n",
    "savename_all = wpt.showheatmap_all(heatmap_dict, plotgrid,\n",
    "                                   fontsize_title=10,\n",
    "                                   fontsize_label=8,\n",
    "                                   colormap=colormap,\n",
    "                                   linecolor='black',\n",
    "                                   linewidth=1.0,\n",
    "                                   save=True,\n",
    "                                   filename=filename_single,\n",
    "                                   deletelast=deletelastplot)"
   ]
  },
  {
   "cell_type": "code",
   "execution_count": 10,
   "metadata": {
    "slideshow": {
     "slide_type": "slide"
    }
   },
   "outputs": [
    {
     "name": "stdout",
     "output_type": "stream",
     "text": [
      "dict_keys(['Area', 'NucMeanDapi', 'NucMeanGFP', 'RingMeanGFP', 'RingArea', 'Ratio', 'ObjectNumbers'])\n"
     ]
    }
   ],
   "source": [
    "# show all key = measure parameters for that dictionary\n",
    "print(heatmap_dict.keys())\n",
    "\n",
    "# show example entry of the dictionary for a parameter\n",
    "well_df = heatmap_dict[parameter2display]\n",
    "rowlabel, collabel = wpt.extract_labels(Nr, Nc)"
   ]
  },
  {
   "cell_type": "code",
   "execution_count": 11,
   "metadata": {
    "slideshow": {
     "slide_type": "slide"
    }
   },
   "outputs": [
    {
     "data": {
      "text/plain": [
       "WellID                F7\n",
       "RowID                  6\n",
       "ColumnID               7\n",
       "Area              1.8898\n",
       "NucMeanDapi      70.8404\n",
       "NucMeanGFP       82.1646\n",
       "RingMeanGFP      32.9049\n",
       "RingArea         1.24939\n",
       "Ratio            6.06149\n",
       "ObjectNumbers        294\n",
       "Name: 41, dtype: object"
      ]
     },
     "execution_count": 11,
     "metadata": {},
     "output_type": "execute_result"
    }
   ],
   "source": [
    "# example for entry for well ...\n",
    "well_dict['F7']"
   ]
  },
  {
   "cell_type": "code",
   "execution_count": 12,
   "metadata": {
    "slideshow": {
     "slide_type": "slide"
    }
   },
   "outputs": [],
   "source": [
    "data = [go.Heatmap(z=hm.values.tolist(),\n",
    "                   x=rowlabel,\n",
    "                   y=collabel,\n",
    "                   colorscale='Viridis'),\n",
    "       ]"
   ]
  },
  {
   "cell_type": "code",
   "execution_count": 13,
   "metadata": {
    "slideshow": {
     "slide_type": "slide"
    }
   },
   "outputs": [],
   "source": [
    "layout = go.Layout(title=parameter2display,\n",
    "                   autosize = True,\n",
    "                   xaxis = dict(#autotick=False,\n",
    "                                title='Columns',\n",
    "                                showgrid=True,\n",
    "                                gridwidth=5,\n",
    "                                #ticks=collabel,\n",
    "                                #ticks='outside',\n",
    "                                nticks=Nc,\n",
    "                                scaleanchor='y',\n",
    "                                scaleratio=0.1),\n",
    "                   yaxis = dict(#autotick=False,\n",
    "                                title='Rows',\n",
    "                                showgrid=True,\n",
    "                                gridwidth=5,\n",
    "                                #ticks=collabel,\n",
    "                                #ticks='inside',\n",
    "                                nticks=Nr,\n",
    "                                autorange='reversed',\n",
    "                                scaleanchor='x',\n",
    "                                scaleratio=0.1),\n",
    "                  )\n",
    "\n",
    "fig = go.Figure(data=data, layout=layout)"
   ]
  },
  {
   "cell_type": "code",
   "execution_count": 14,
   "metadata": {
    "slideshow": {
     "slide_type": "slide"
    }
   },
   "outputs": [
    {
     "data": {
      "text/html": [
       "<script>requirejs.config({paths: { 'plotly': ['https://cdn.plot.ly/plotly-latest.min']},});if(!window.Plotly) {{require(['plotly'],function(plotly) {window.Plotly=plotly;});}}</script>"
      ],
      "text/vnd.plotly.v1+html": [
       "<script>requirejs.config({paths: { 'plotly': ['https://cdn.plot.ly/plotly-latest.min']},});if(!window.Plotly) {{require(['plotly'],function(plotly) {window.Plotly=plotly;});}}</script>"
      ]
     },
     "metadata": {},
     "output_type": "display_data"
    },
    {
     "data": {
      "application/vnd.plotly.v1+json": {
       "data": [
        {
         "colorscale": "Viridis",
         "type": "heatmap",
         "x": [
          "1",
          "2",
          "3",
          "4",
          "5",
          "6",
          "7",
          "8",
          "9",
          "10",
          "11",
          "12"
         ],
         "y": [
          "A",
          "B",
          "C",
          "D",
          "E",
          "F",
          "G",
          "H"
         ],
         "z": [
          [
           502,
           432,
           386,
           316,
           338,
           344,
           318,
           330,
           326,
           268,
           290,
           284
          ],
          [
           270,
           328,
           404,
           350,
           368,
           326,
           298,
           252,
           258,
           282,
           284,
           188
          ],
          [
           254,
           340,
           332,
           340,
           300,
           294,
           230,
           290,
           202,
           292,
           204,
           280
          ],
          [
           286,
           320,
           334,
           322,
           354,
           312,
           298,
           232,
           248,
           244,
           192,
           250
          ],
          [
           318,
           334,
           356,
           348,
           292,
           240,
           264,
           298,
           266,
           176,
           216,
           244
          ],
          [
           318,
           308,
           190,
           280,
           286,
           320,
           294,
           248,
           280,
           180,
           306,
           278
          ],
          [
           458,
           254,
           302,
           252,
           292,
           314,
           258,
           180,
           280,
           216,
           166,
           244
          ],
          [
           432,
           288,
           296,
           282,
           416,
           174,
           264,
           254,
           284,
           178,
           266,
           344
          ]
         ]
        }
       ],
       "layout": {
        "autosize": true,
        "title": "ObjectNumbers",
        "xaxis": {
         "gridwidth": 5,
         "nticks": 12,
         "scaleanchor": "y",
         "scaleratio": 0.1,
         "showgrid": true,
         "title": "Columns"
        },
        "yaxis": {
         "autorange": "reversed",
         "gridwidth": 5,
         "nticks": 8,
         "scaleanchor": "x",
         "scaleratio": 0.1,
         "showgrid": true,
         "title": "Rows"
        }
       }
      },
      "text/html": [
       "<div id=\"2e1f0a58-24a2-4416-9a7e-10147ede6cd4\" style=\"height: 525px; width: 100%;\" class=\"plotly-graph-div\"></div><script type=\"text/javascript\">require([\"plotly\"], function(Plotly) { window.PLOTLYENV=window.PLOTLYENV || {};window.PLOTLYENV.BASE_URL=\"https://plot.ly\";Plotly.newPlot(\"2e1f0a58-24a2-4416-9a7e-10147ede6cd4\", [{\"type\": \"heatmap\", \"z\": [[502.0, 432.0, 386.0, 316.0, 338.0, 344.0, 318.0, 330.0, 326.0, 268.0, 290.0, 284.0], [270.0, 328.0, 404.0, 350.0, 368.0, 326.0, 298.0, 252.0, 258.0, 282.0, 284.0, 188.0], [254.0, 340.0, 332.0, 340.0, 300.0, 294.0, 230.0, 290.0, 202.0, 292.0, 204.0, 280.0], [286.0, 320.0, 334.0, 322.0, 354.0, 312.0, 298.0, 232.0, 248.0, 244.0, 192.0, 250.0], [318.0, 334.0, 356.0, 348.0, 292.0, 240.0, 264.0, 298.0, 266.0, 176.0, 216.0, 244.0], [318.0, 308.0, 190.0, 280.0, 286.0, 320.0, 294.0, 248.0, 280.0, 180.0, 306.0, 278.0], [458.0, 254.0, 302.0, 252.0, 292.0, 314.0, 258.0, 180.0, 280.0, 216.0, 166.0, 244.0], [432.0, 288.0, 296.0, 282.0, 416.0, 174.0, 264.0, 254.0, 284.0, 178.0, 266.0, 344.0]], \"x\": [\"1\", \"2\", \"3\", \"4\", \"5\", \"6\", \"7\", \"8\", \"9\", \"10\", \"11\", \"12\"], \"y\": [\"A\", \"B\", \"C\", \"D\", \"E\", \"F\", \"G\", \"H\"], \"colorscale\": \"Viridis\"}], {\"title\": \"ObjectNumbers\", \"autosize\": true, \"xaxis\": {\"title\": \"Columns\", \"showgrid\": true, \"gridwidth\": 5, \"nticks\": 12, \"scaleanchor\": \"y\", \"scaleratio\": 0.1}, \"yaxis\": {\"title\": \"Rows\", \"showgrid\": true, \"gridwidth\": 5, \"nticks\": 8, \"autorange\": \"reversed\", \"scaleanchor\": \"x\", \"scaleratio\": 0.1}}, {\"showLink\": true, \"linkText\": \"Export to plot.ly\"})});</script>"
      ],
      "text/vnd.plotly.v1+html": [
       "<div id=\"2e1f0a58-24a2-4416-9a7e-10147ede6cd4\" style=\"height: 525px; width: 100%;\" class=\"plotly-graph-div\"></div><script type=\"text/javascript\">require([\"plotly\"], function(Plotly) { window.PLOTLYENV=window.PLOTLYENV || {};window.PLOTLYENV.BASE_URL=\"https://plot.ly\";Plotly.newPlot(\"2e1f0a58-24a2-4416-9a7e-10147ede6cd4\", [{\"type\": \"heatmap\", \"z\": [[502.0, 432.0, 386.0, 316.0, 338.0, 344.0, 318.0, 330.0, 326.0, 268.0, 290.0, 284.0], [270.0, 328.0, 404.0, 350.0, 368.0, 326.0, 298.0, 252.0, 258.0, 282.0, 284.0, 188.0], [254.0, 340.0, 332.0, 340.0, 300.0, 294.0, 230.0, 290.0, 202.0, 292.0, 204.0, 280.0], [286.0, 320.0, 334.0, 322.0, 354.0, 312.0, 298.0, 232.0, 248.0, 244.0, 192.0, 250.0], [318.0, 334.0, 356.0, 348.0, 292.0, 240.0, 264.0, 298.0, 266.0, 176.0, 216.0, 244.0], [318.0, 308.0, 190.0, 280.0, 286.0, 320.0, 294.0, 248.0, 280.0, 180.0, 306.0, 278.0], [458.0, 254.0, 302.0, 252.0, 292.0, 314.0, 258.0, 180.0, 280.0, 216.0, 166.0, 244.0], [432.0, 288.0, 296.0, 282.0, 416.0, 174.0, 264.0, 254.0, 284.0, 178.0, 266.0, 344.0]], \"x\": [\"1\", \"2\", \"3\", \"4\", \"5\", \"6\", \"7\", \"8\", \"9\", \"10\", \"11\", \"12\"], \"y\": [\"A\", \"B\", \"C\", \"D\", \"E\", \"F\", \"G\", \"H\"], \"colorscale\": \"Viridis\"}], {\"title\": \"ObjectNumbers\", \"autosize\": true, \"xaxis\": {\"title\": \"Columns\", \"showgrid\": true, \"gridwidth\": 5, \"nticks\": 12, \"scaleanchor\": \"y\", \"scaleratio\": 0.1}, \"yaxis\": {\"title\": \"Rows\", \"showgrid\": true, \"gridwidth\": 5, \"nticks\": 8, \"autorange\": \"reversed\", \"scaleanchor\": \"x\", \"scaleratio\": 0.1}}, {\"showLink\": true, \"linkText\": \"Export to plot.ly\"})});</script>"
      ]
     },
     "metadata": {},
     "output_type": "display_data"
    }
   ],
   "source": [
    "plotly.offline.init_notebook_mode(connected=True)\n",
    "plotly.offline.iplot(fig, filename='basic-heatmap')"
   ]
  },
  {
   "cell_type": "markdown",
   "metadata": {
    "slideshow": {
     "slide_type": "slide"
    }
   },
   "source": [
    "cd c:\\Users\\m1srh\\OneDrive - Carl Zeiss AG\\IPython_Notebooks\\ZEN_Wellplate_Analysis_Pandas\\\n",
    "\n",
    "jupyter nbconvert ZEN_Wellplate_Analysis_Pandas_Translocation_Tutorial.ipynb --to slides --post serve\n",
    "\n",
    "jupyter nbconvert ZEN_Wellplate_Analysis_Pandas_Translocation_Tutorial.ipynb --to slides --post serve \n",
    "--SlidesExporter.reveal_theme=serif \n",
    "--SlidesExporter.reveal_scroll=True \n",
    "--SlidesExporter.reveal_transition=none"
   ]
  }
 ],
 "metadata": {
  "anaconda-cloud": {},
  "celltoolbar": "Slideshow",
  "kernelspec": {
   "display_name": "Python 3",
   "language": "python",
   "name": "python3"
  },
  "language_info": {
   "codemirror_mode": {
    "name": "ipython",
    "version": 3
   },
   "file_extension": ".py",
   "mimetype": "text/x-python",
   "name": "python",
   "nbconvert_exporter": "python",
   "pygments_lexer": "ipython3",
   "version": "3.6.6"
  },
  "widgets": {
   "state": {
    "562ca47cb51747baa635d7337aa0e0a1": {
     "views": [
      {
       "cell_index": 3
      }
     ]
    }
   },
   "version": "1.2.0"
  }
 },
 "nbformat": 4,
 "nbformat_minor": 2
}
