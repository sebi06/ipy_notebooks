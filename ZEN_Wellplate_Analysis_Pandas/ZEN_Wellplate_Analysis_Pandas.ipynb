{
 "cells": [
  {
   "cell_type": "code",
   "execution_count": 1,
   "metadata": {},
   "outputs": [],
   "source": [
    "# do the required imports\n",
    "#import warnings\n",
    "#warnings.filterwarnings('ignore')\n",
    "import pandas as pd\n",
    "import sys\n",
    "import matplotlib.pyplot as plt\n",
    "import seaborn as sns\n",
    "import qgrid\n",
    "import plotly\n",
    "import plotly.graph_objs as go\n",
    "from plotly.graph_objs import *\n",
    "sys.path.append(r'Modules')\n",
    "import wellplate_tools_pandas_oad as wpt\n",
    "%matplotlib inline"
   ]
  },
  {
   "cell_type": "code",
   "execution_count": 2,
   "metadata": {
    "slideshow": {
     "slide_type": "slide"
    }
   },
   "outputs": [
    {
     "name": "stdout",
     "output_type": "stream",
     "text": [
      "Number of Object Parameters:  5\n"
     ]
    }
   ],
   "source": [
    "#filename_single = r'Data\\well96_1Pos_Single.csv'\n",
    "#filename_single = r'Data\\fixed endpoint 3C 2_5 384well_Single.csv'\n",
    "#filename_single = r'Data\\96Well_Ch=1_26Wells_1P_Well_SingleRegions.csv'\n",
    "#filename_single = r'Data\\96Well_Test_4Well.csv'\n",
    "#filename_single = r'Data\\Marion.csv'\n",
    "filename_single = r'Data\\96well_C3-G9_1Pos Single.csv'\n",
    "\n",
    "# define wellplate type\n",
    "platetype = 96\n",
    "# get numer of rows and columns\n",
    "Nr, Nc = wpt.getrowandcolumn(platetype)\n",
    "\n",
    "# read the CSV table containing all the single object data for\n",
    "# further \"in-depth\" analysis\n",
    "df_single = pd.read_csv(filename_single, sep=';')\n",
    "\n",
    "# get headers and number of measurement parameters\n",
    "# default number of non-measurement parameters = 5 (the first five columns from ZEN CSV Export)\n",
    "num_nonmp = 5\n",
    "headers = df_single.head(0)\n",
    "num_param = len(df_single.columns) - num_nonmp\n",
    "print('Number of Object Parameters: ', num_param)\n",
    "df_single.rename(columns={df_single.columns[0]: 'WellID',\n",
    "                          df_single.columns[1]: 'RowID',\n",
    "                          df_single.columns[2]: 'ColumnID',\n",
    "                          df_single.columns[3]: 'ID',\n",
    "                          df_single.columns[4]: 'Index'}, inplace=True)"
   ]
  },
  {
   "cell_type": "code",
   "execution_count": 3,
   "metadata": {
    "slideshow": {
     "slide_type": "slide"
    }
   },
   "outputs": [
    {
     "data": {
      "text/html": [
       "<div>\n",
       "<style scoped>\n",
       "    .dataframe tbody tr th:only-of-type {\n",
       "        vertical-align: middle;\n",
       "    }\n",
       "\n",
       "    .dataframe tbody tr th {\n",
       "        vertical-align: top;\n",
       "    }\n",
       "\n",
       "    .dataframe thead th {\n",
       "        text-align: right;\n",
       "    }\n",
       "</style>\n",
       "<table border=\"1\" class=\"dataframe\">\n",
       "  <thead>\n",
       "    <tr style=\"text-align: right;\">\n",
       "      <th></th>\n",
       "      <th>WellID</th>\n",
       "      <th>RowID</th>\n",
       "      <th>ColumnID</th>\n",
       "      <th>ID</th>\n",
       "      <th>Index</th>\n",
       "      <th>IntensityMean_mCher::Intensity Mean Value of channel 'mCher'!!R</th>\n",
       "      <th>Area::Area!!R</th>\n",
       "      <th>Perimeter::Perimeter!!R</th>\n",
       "      <th>Roundness::Roundness!!R</th>\n",
       "      <th>FeretRatio::Feret Ratio!!R</th>\n",
       "    </tr>\n",
       "  </thead>\n",
       "  <tbody>\n",
       "    <tr>\n",
       "      <th>1</th>\n",
       "      <td>C5</td>\n",
       "      <td>3.0</td>\n",
       "      <td>5.0</td>\n",
       "      <td>2.0</td>\n",
       "      <td>1.0</td>\n",
       "      <td>4189.072727</td>\n",
       "      <td>47.185772</td>\n",
       "      <td>28.461473</td>\n",
       "      <td>0.473184</td>\n",
       "      <td>0.493208</td>\n",
       "    </tr>\n",
       "    <tr>\n",
       "      <th>2</th>\n",
       "      <td>C5</td>\n",
       "      <td>3.0</td>\n",
       "      <td>5.0</td>\n",
       "      <td>3.0</td>\n",
       "      <td>2.0</td>\n",
       "      <td>3639.365079</td>\n",
       "      <td>54.049157</td>\n",
       "      <td>29.228797</td>\n",
       "      <td>0.524275</td>\n",
       "      <td>0.565917</td>\n",
       "    </tr>\n",
       "    <tr>\n",
       "      <th>3</th>\n",
       "      <td>C5</td>\n",
       "      <td>3.0</td>\n",
       "      <td>5.0</td>\n",
       "      <td>4.0</td>\n",
       "      <td>3.0</td>\n",
       "      <td>4215.082237</td>\n",
       "      <td>260.808631</td>\n",
       "      <td>61.619980</td>\n",
       "      <td>0.726289</td>\n",
       "      <td>0.777479</td>\n",
       "    </tr>\n",
       "    <tr>\n",
       "      <th>4</th>\n",
       "      <td>C5</td>\n",
       "      <td>3.0</td>\n",
       "      <td>5.0</td>\n",
       "      <td>5.0</td>\n",
       "      <td>4.0</td>\n",
       "      <td>3760.278986</td>\n",
       "      <td>236.786783</td>\n",
       "      <td>60.534821</td>\n",
       "      <td>0.558715</td>\n",
       "      <td>0.606669</td>\n",
       "    </tr>\n",
       "    <tr>\n",
       "      <th>5</th>\n",
       "      <td>C5</td>\n",
       "      <td>3.0</td>\n",
       "      <td>5.0</td>\n",
       "      <td>6.0</td>\n",
       "      <td>5.0</td>\n",
       "      <td>4370.756052</td>\n",
       "      <td>460.704719</td>\n",
       "      <td>88.903202</td>\n",
       "      <td>0.516083</td>\n",
       "      <td>0.538192</td>\n",
       "    </tr>\n",
       "    <tr>\n",
       "      <th>6</th>\n",
       "      <td>C5</td>\n",
       "      <td>3.0</td>\n",
       "      <td>5.0</td>\n",
       "      <td>7.0</td>\n",
       "      <td>6.0</td>\n",
       "      <td>4002.715909</td>\n",
       "      <td>301.988941</td>\n",
       "      <td>78.106141</td>\n",
       "      <td>0.404170</td>\n",
       "      <td>0.441099</td>\n",
       "    </tr>\n",
       "  </tbody>\n",
       "</table>\n",
       "</div>"
      ],
      "text/plain": [
       "  WellID  RowID  ColumnID   ID  Index  \\\n",
       "1     C5    3.0       5.0  2.0    1.0   \n",
       "2     C5    3.0       5.0  3.0    2.0   \n",
       "3     C5    3.0       5.0  4.0    3.0   \n",
       "4     C5    3.0       5.0  5.0    4.0   \n",
       "5     C5    3.0       5.0  6.0    5.0   \n",
       "6     C5    3.0       5.0  7.0    6.0   \n",
       "\n",
       "   IntensityMean_mCher::Intensity Mean Value of channel 'mCher'!!R  \\\n",
       "1                                        4189.072727                 \n",
       "2                                        3639.365079                 \n",
       "3                                        4215.082237                 \n",
       "4                                        3760.278986                 \n",
       "5                                        4370.756052                 \n",
       "6                                        4002.715909                 \n",
       "\n",
       "   Area::Area!!R  Perimeter::Perimeter!!R  Roundness::Roundness!!R  \\\n",
       "1      47.185772                28.461473                 0.473184   \n",
       "2      54.049157                29.228797                 0.524275   \n",
       "3     260.808631                61.619980                 0.726289   \n",
       "4     236.786783                60.534821                 0.558715   \n",
       "5     460.704719                88.903202                 0.516083   \n",
       "6     301.988941                78.106141                 0.404170   \n",
       "\n",
       "   FeretRatio::Feret Ratio!!R  \n",
       "1                    0.493208  \n",
       "2                    0.565917  \n",
       "3                    0.777479  \n",
       "4                    0.606669  \n",
       "5                    0.538192  \n",
       "6                    0.441099  "
      ]
     },
     "execution_count": 3,
     "metadata": {},
     "output_type": "execute_result"
    }
   ],
   "source": [
    "# remove rows with units\n",
    "df_single = wpt.remove_units(df_single)\n",
    "\n",
    "# convert decimal separators\n",
    "df_single = wpt.convert_dec_sep(df_single, num_nonmp)\n",
    "\n",
    "# show part of dataframe\n",
    "df_single[:6]"
   ]
  },
  {
   "cell_type": "code",
   "execution_count": 4,
   "metadata": {
    "slideshow": {
     "slide_type": "slide"
    }
   },
   "outputs": [
    {
     "name": "stdout",
     "output_type": "stream",
     "text": [
      "---------------------------------------------------\n",
      "wellID_key :  WellID\n",
      "Found keys:\n",
      "Index(['WellID', 'RowID', 'ColumnID', 'ID', 'Index',\n",
      "       'IntensityMean_mCher::Intensity Mean Value of channel 'mCher'!!R',\n",
      "       'Area::Area!!R', 'Perimeter::Perimeter!!R', 'Roundness::Roundness!!R',\n",
      "       'FeretRatio::Feret Ratio!!R'],\n",
      "      dtype='object')\n",
      "---------------------------------------------------\n"
     ]
    },
    {
     "data": {
      "application/vnd.jupyter.widget-view+json": {
       "model_id": "807cf195d2da4461ac027a1860b4af7a",
       "version_major": 2,
       "version_minor": 0
      },
      "text/plain": [
       "FloatProgress(value=1.0, description='Processing Wells', max=25.0, min=1.0)"
      ]
     },
     "metadata": {},
     "output_type": "display_data"
    },
    {
     "name": "stdout",
     "output_type": "stream",
     "text": [
      "dict_keys([\"IntensityMean_mCher::Intensity Mean Value of channel 'mCher'!!R\", 'Area::Area!!R', 'Perimeter::Perimeter!!R', 'Roundness::Roundness!!R', 'FeretRatio::Feret Ratio!!R', 'ObjectNumbers'])\n"
     ]
    }
   ],
   "source": [
    "# use statistics --> we just calculate the mean values\n",
    "# for a wells to be displayed inside the heatmaps.\n",
    "# currently implemented are mean, median, min, max.\n",
    "stf = 'mean'\n",
    "\n",
    "# create a dictionary containing a dataframe for every measure parameters\n",
    "# as a heatmap and a dictionary containing the mean values for all wells\n",
    "# containing actual data points.\n",
    "heatmap_dict, well_dict = wpt.fill_heatmaps(df_single, num_param, Nr, Nc, statfunc=stf, showbar=True, verbose=False)\n",
    "\n",
    "# show all keys\n",
    "print(heatmap_dict.keys())"
   ]
  },
  {
   "cell_type": "code",
   "execution_count": 16,
   "metadata": {},
   "outputs": [
    {
     "name": "stdout",
     "output_type": "stream",
     "text": [
      "Heatmap image saved as:  Data\\96well_C3-G9_1Pos Single_HM_ObjectNumbers.png\n"
     ]
    },
    {
     "data": {
      "text/plain": [
       "'Data\\\\96well_C3-G9_1Pos Single_HM_ObjectNumbers.png'"
      ]
     },
     "execution_count": 16,
     "metadata": {},
     "output_type": "execute_result"
    },
    {
     "data": {
      "image/png": "[encoded data removed]",
      "text/plain": [
       "<Figure size 720x576 with 2 Axes>"
      ]
     },
     "metadata": {},
     "output_type": "display_data"
    }
   ],
   "source": [
    "# define parameters to display the heatmap\n",
    "parameter2display = 'ObjectNumbers'\n",
    "colormap='Blues'\n",
    "#colormap ='YlGnBu'\n",
    "#colormap ='RdBu_r'\n",
    "#colormap = 'RdYlBu'\n",
    "\n",
    "# get the actual heatmap array to display it as an image\n",
    "hm = heatmap_dict[parameter2display]\n",
    "\n",
    "# show the heatmap for a single parameter\n",
    "wpt.showheatmap(hm, parameter2display,\n",
    "                fontsize_title=16,\n",
    "                fontsize_label=12,\n",
    "                colormap=colormap,\n",
    "                linecolor='black',\n",
    "                linewidth=2.0,\n",
    "                save=True,\n",
    "                filename=filename_single,\n",
    "                dpi=300)\n"
   ]
  },
  {
   "cell_type": "code",
   "execution_count": 17,
   "metadata": {
    "slideshow": {
     "slide_type": "slide"
    }
   },
   "outputs": [
    {
     "name": "stdout",
     "output_type": "stream",
     "text": [
      "Heatmap image saved as:  Data\\96well_C3-G9_1Pos Single_HM_all.png\n"
     ]
    },
    {
     "data": {
      "text/plain": [
       "'Data\\\\96well_C3-G9_1Pos Single_HM_all.png'"
      ]
     },
     "execution_count": 17,
     "metadata": {},
     "output_type": "execute_result"
    },
    {
     "data": {
      "image/png": "[encoded data removed]",
      "text/plain": [
       "<Figure size 864x720 with 12 Axes>"
      ]
     },
     "metadata": {},
     "output_type": "display_data"
    }
   ],
   "source": [
    "# define parameters to display the heatmap\n",
    "#colormap ='YlGnBu'\n",
    "#colormap ='RdBu_r'\n",
    "colormap = 'Blues'\n",
    "\n",
    "# show all heatmaps\n",
    "wpt.showheatmap_all(heatmap_dict, [3, 2],\n",
    "                    fontsize_title=10,\n",
    "                    fontsize_label=8,\n",
    "                    colormap=colormap,\n",
    "                    linecolor=None,\n",
    "                    linewidth=2.0,\n",
    "                    save=True,\n",
    "                    filename=filename_single)"
   ]
  },
  {
   "cell_type": "code",
   "execution_count": 18,
   "metadata": {
    "slideshow": {
     "slide_type": "slide"
    }
   },
   "outputs": [
    {
     "name": "stdout",
     "output_type": "stream",
     "text": [
      "dict_keys([\"IntensityMean_mCher::Intensity Mean Value of channel 'mCher'!!R\", 'Area::Area!!R', 'Perimeter::Perimeter!!R', 'Roundness::Roundness!!R', 'FeretRatio::Feret Ratio!!R', 'ObjectNumbers'])\n"
     ]
    },
    {
     "data": {
      "text/plain": [
       "WellID                                                                   F7\n",
       "RowID                                                                     6\n",
       "ColumnID                                                                  7\n",
       "IntensityMean_mCher::Intensity Mean Value of channel 'mCher'!!R     4586.59\n",
       "Area::Area!!R                                                       373.483\n",
       "Perimeter::Perimeter!!R                                             71.1218\n",
       "Roundness::Roundness!!R                                            0.700848\n",
       "FeretRatio::Feret Ratio!!R                                         0.761961\n",
       "ObjectNumbers                                                             9\n",
       "Name: 18, dtype: object"
      ]
     },
     "execution_count": 18,
     "metadata": {},
     "output_type": "execute_result"
    }
   ],
   "source": [
    "# show all key = measure parameters for that dictionary\n",
    "print(heatmap_dict.keys())\n",
    "\n",
    "# example for entry for well ...\n",
    "well_dict['F7']"
   ]
  },
  {
   "cell_type": "code",
   "execution_count": 19,
   "metadata": {
    "slideshow": {
     "slide_type": "slide"
    }
   },
   "outputs": [],
   "source": [
    "# show example entry of the dictionary for a parameter\n",
    "well_df = heatmap_dict[parameter2display]"
   ]
  },
  {
   "cell_type": "code",
   "execution_count": 20,
   "metadata": {},
   "outputs": [
    {
     "data": {
      "application/vnd.jupyter.widget-view+json": {
       "model_id": "fa640548ad4e4f6ca2b5a2fecb9ab232",
       "version_major": 2,
       "version_minor": 0
      },
      "text/plain": [
       "QgridWidget(grid_options={'fullWidthRows': True, 'syncColumnCellResize': True, 'forceFitColumns': True, 'defau…"
      ]
     },
     "metadata": {},
     "output_type": "display_data"
    }
   ],
   "source": [
    "qgrid_widget = qgrid.show_grid(well_df, show_toolbar=True, )\n",
    "qgrid_widget"
   ]
  },
  {
   "cell_type": "code",
   "execution_count": 21,
   "metadata": {},
   "outputs": [],
   "source": [
    "rowlabel, collabel = wpt.extract_labels(Nr, Nc)\n",
    "\n",
    "data = [go.Heatmap(z=hm.values.tolist(),\n",
    "                   x=rowlabel,\n",
    "                   y=collabel,\n",
    "                   colorscale='Viridis'),\n",
    "       ]\n",
    "\n",
    "layout = go.Layout(title=parameter2display,\n",
    "                   autosize = True,\n",
    "                   xaxis = dict(autotick=False,\n",
    "                                title='Columns',\n",
    "                                showgrid=True,\n",
    "                                gridwidth=5,\n",
    "                                ticks=collabel,\n",
    "                                nticks=Nc),\n",
    "                   yaxis = dict(autotick=False,\n",
    "                                title='Rows',\n",
    "                                showgrid=True,\n",
    "                                gridwidth=5,\n",
    "                                ticks=collabel,\n",
    "                                nticks=Nr,\n",
    "                                autorange='reversed'),\n",
    "                  )\n",
    "\n",
    "fig = go.Figure(data=data, layout=layout)"
   ]
  },
  {
   "cell_type": "code",
   "execution_count": 22,
   "metadata": {},
   "outputs": [
    {
     "data": {
      "text/html": [
       "<script>requirejs.config({paths: { 'plotly': ['https://cdn.plot.ly/plotly-latest.min']},});if(!window.Plotly) {{require(['plotly'],function(plotly) {window.Plotly=plotly;});}}</script>"
      ],
      "text/vnd.plotly.v1+html": [
       "<script>requirejs.config({paths: { 'plotly': ['https://cdn.plot.ly/plotly-latest.min']},});if(!window.Plotly) {{require(['plotly'],function(plotly) {window.Plotly=plotly;});}}</script>"
      ]
     },
     "metadata": {},
     "output_type": "display_data"
    },
    {
     "data": {
      "application/vnd.plotly.v1+json": {
       "data": [
        {
         "colorscale": "Viridis",
         "type": "heatmap",
         "x": [
          "1",
          "2",
          "3",
          "4",
          "5",
          "6",
          "7",
          "8",
          "9",
          "10",
          "11",
          "12"
         ],
         "y": [
          "A",
          "B",
          "C",
          "D",
          "E",
          "F",
          "G",
          "H"
         ],
         "z": [
          [
           null,
           null,
           null,
           null,
           null,
           null,
           null,
           null,
           null,
           null,
           null,
           null
          ],
          [
           null,
           null,
           null,
           null,
           null,
           null,
           null,
           null,
           null,
           null,
           null,
           null
          ],
          [
           null,
           null,
           null,
           null,
           16,
           7,
           19,
           13,
           27,
           null,
           null,
           null
          ],
          [
           null,
           null,
           null,
           null,
           7,
           15,
           16,
           7,
           12,
           null,
           null,
           null
          ],
          [
           null,
           null,
           null,
           null,
           12,
           9,
           10,
           21,
           9,
           null,
           null,
           null
          ],
          [
           null,
           null,
           null,
           null,
           8,
           22,
           9,
           49,
           14,
           null,
           null,
           null
          ],
          [
           null,
           null,
           null,
           null,
           27,
           22,
           18,
           11,
           19,
           null,
           null,
           null
          ],
          [
           null,
           null,
           null,
           null,
           null,
           null,
           null,
           null,
           null,
           null,
           null,
           null
          ]
         ]
        }
       ],
       "layout": {
        "autosize": true,
        "title": "ObjectNumbers",
        "xaxis": {
         "autotick": false,
         "gridwidth": 5,
         "nticks": 12,
         "showgrid": true,
         "ticks": [
          "A",
          "B",
          "C",
          "D",
          "E",
          "F",
          "G",
          "H"
         ],
         "title": "Columns"
        },
        "yaxis": {
         "autorange": "reversed",
         "autotick": false,
         "gridwidth": 5,
         "nticks": 8,
         "showgrid": true,
         "ticks": [
          "A",
          "B",
          "C",
          "D",
          "E",
          "F",
          "G",
          "H"
         ],
         "title": "Rows"
        }
       }
      },
      "text/html": [
       "<div id=\"e8db0492-f890-4d3a-afa4-7fedd7e30cc9\" style=\"height: 525px; width: 100%;\" class=\"plotly-graph-div\"></div><script type=\"text/javascript\">require([\"plotly\"], function(Plotly) { window.PLOTLYENV=window.PLOTLYENV || {};window.PLOTLYENV.BASE_URL=\"https://plot.ly\";Plotly.newPlot(\"e8db0492-f890-4d3a-afa4-7fedd7e30cc9\", [{\"type\": \"heatmap\", \"z\": [[null, null, null, null, null, null, null, null, null, null, null, null], [null, null, null, null, null, null, null, null, null, null, null, null], [null, null, null, null, 16.0, 7.0, 19.0, 13.0, 27.0, null, null, null], [null, null, null, null, 7.0, 15.0, 16.0, 7.0, 12.0, null, null, null], [null, null, null, null, 12.0, 9.0, 10.0, 21.0, 9.0, null, null, null], [null, null, null, null, 8.0, 22.0, 9.0, 49.0, 14.0, null, null, null], [null, null, null, null, 27.0, 22.0, 18.0, 11.0, 19.0, null, null, null], [null, null, null, null, null, null, null, null, null, null, null, null]], \"x\": [\"1\", \"2\", \"3\", \"4\", \"5\", \"6\", \"7\", \"8\", \"9\", \"10\", \"11\", \"12\"], \"y\": [\"A\", \"B\", \"C\", \"D\", \"E\", \"F\", \"G\", \"H\"], \"colorscale\": \"Viridis\"}], {\"title\": \"ObjectNumbers\", \"autosize\": true, \"xaxis\": {\"autotick\": false, \"title\": \"Columns\", \"showgrid\": true, \"gridwidth\": 5, \"ticks\": [\"A\", \"B\", \"C\", \"D\", \"E\", \"F\", \"G\", \"H\"], \"nticks\": 12}, \"yaxis\": {\"autotick\": false, \"title\": \"Rows\", \"showgrid\": true, \"gridwidth\": 5, \"ticks\": [\"A\", \"B\", \"C\", \"D\", \"E\", \"F\", \"G\", \"H\"], \"nticks\": 8, \"autorange\": \"reversed\"}}, {\"showLink\": true, \"linkText\": \"Export to plot.ly\"})});</script>"
      ],
      "text/vnd.plotly.v1+html": [
       "<div id=\"e8db0492-f890-4d3a-afa4-7fedd7e30cc9\" style=\"height: 525px; width: 100%;\" class=\"plotly-graph-div\"></div><script type=\"text/javascript\">require([\"plotly\"], function(Plotly) { window.PLOTLYENV=window.PLOTLYENV || {};window.PLOTLYENV.BASE_URL=\"https://plot.ly\";Plotly.newPlot(\"e8db0492-f890-4d3a-afa4-7fedd7e30cc9\", [{\"type\": \"heatmap\", \"z\": [[null, null, null, null, null, null, null, null, null, null, null, null], [null, null, null, null, null, null, null, null, null, null, null, null], [null, null, null, null, 16.0, 7.0, 19.0, 13.0, 27.0, null, null, null], [null, null, null, null, 7.0, 15.0, 16.0, 7.0, 12.0, null, null, null], [null, null, null, null, 12.0, 9.0, 10.0, 21.0, 9.0, null, null, null], [null, null, null, null, 8.0, 22.0, 9.0, 49.0, 14.0, null, null, null], [null, null, null, null, 27.0, 22.0, 18.0, 11.0, 19.0, null, null, null], [null, null, null, null, null, null, null, null, null, null, null, null]], \"x\": [\"1\", \"2\", \"3\", \"4\", \"5\", \"6\", \"7\", \"8\", \"9\", \"10\", \"11\", \"12\"], \"y\": [\"A\", \"B\", \"C\", \"D\", \"E\", \"F\", \"G\", \"H\"], \"colorscale\": \"Viridis\"}], {\"title\": \"ObjectNumbers\", \"autosize\": true, \"xaxis\": {\"autotick\": false, \"title\": \"Columns\", \"showgrid\": true, \"gridwidth\": 5, \"ticks\": [\"A\", \"B\", \"C\", \"D\", \"E\", \"F\", \"G\", \"H\"], \"nticks\": 12}, \"yaxis\": {\"autotick\": false, \"title\": \"Rows\", \"showgrid\": true, \"gridwidth\": 5, \"ticks\": [\"A\", \"B\", \"C\", \"D\", \"E\", \"F\", \"G\", \"H\"], \"nticks\": 8, \"autorange\": \"reversed\"}}, {\"showLink\": true, \"linkText\": \"Export to plot.ly\"})});</script>"
      ]
     },
     "metadata": {},
     "output_type": "display_data"
    }
   ],
   "source": [
    "plotly.offline.init_notebook_mode(connected=True)\n",
    "#data = [go.Heatmap(z=well_df.values.tolist(), colorscale='Viridis')]\n",
    "#plotly.offline.iplot(data, filename='basic-heatmap')\n",
    "plotly.offline.iplot(fig, filename='basic-heatmap')"
   ]
  },
  {
   "cell_type": "code",
   "execution_count": null,
   "metadata": {},
   "outputs": [],
   "source": []
  }
 ],
 "metadata": {
  "anaconda-cloud": {},
  "celltoolbar": "Slideshow",
  "kernelspec": {
   "display_name": "Python 3",
   "language": "python",
   "name": "python3"
  },
  "language_info": {
   "codemirror_mode": {
    "name": "ipython",
    "version": 3
   },
   "file_extension": ".py",
   "mimetype": "text/x-python",
   "name": "python",
   "nbconvert_exporter": "python",
   "pygments_lexer": "ipython3",
   "version": "3.6.5"
  },
  "widgets": {
   "state": {
    "562ca47cb51747baa635d7337aa0e0a1": {
     "views": [
      {
       "cell_index": 3
      }
     ]
    }
   },
   "version": "1.2.0"
  }
 },
 "nbformat": 4,
 "nbformat_minor": 2
}
