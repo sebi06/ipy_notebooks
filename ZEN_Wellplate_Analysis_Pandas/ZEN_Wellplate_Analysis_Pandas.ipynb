{
 "cells": [
  {
   "cell_type": "code",
   "execution_count": 1,
   "metadata": {},
   "outputs": [],
   "source": [
    "# do the required imports\n",
    "import warnings\n",
    "warnings.filterwarnings('ignore')\n",
    "import pandas as pd\n",
    "import sys\n",
    "import matplotlib.pyplot as plt\n",
    "import seaborn as sns\n",
    "import qgrid\n",
    "import plotly\n",
    "import plotly.graph_objs as go\n",
    "from plotly.graph_objs import *\n",
    "sys.path.append(r'Modules')\n",
    "import wellplate_tools_pandas_py3_5 as wpt\n",
    "%matplotlib inline"
   ]
  },
  {
   "cell_type": "code",
   "execution_count": 2,
   "metadata": {
    "slideshow": {
     "slide_type": "slide"
    }
   },
   "outputs": [
    {
     "name": "stdout",
     "output_type": "stream",
     "text": [
      "Number of Object Parameters:  5\n"
     ]
    }
   ],
   "source": [
    "#filename_single = r'Data\\well96_1Pos_Single.csv'\n",
    "#filename_single = r'Data\\fixed endpoint 3C 2_5 384well_Single.csv'\n",
    "#filename_single = r'Data\\96Well_Ch=1_26Wells_1P_Well_SingleRegions.csv'\n",
    "#filename_single = r'Data\\96Well_Test_4Well.csv'\n",
    "filename_single = r'Data\\Marion.csv'\n",
    "\n",
    "# define wellplate type\n",
    "platetype = 96\n",
    "# get numer of rows and columns\n",
    "Nr, Nc = wpt.getrowandcolumn(platetype)\n",
    "\n",
    "# read the CSV table containing all the single object data for\n",
    "# further \"in-depth\" analysis\n",
    "df_single = pd.read_csv(filename_single, sep=';')\n",
    "\n",
    "# get headers and number of measurment parameters\n",
    "# default number of non-measurement parameters = 5 (the first five columns from ZEN CSV Export)\n",
    "num_nonmp = 5\n",
    "headers = df_single.head(0)\n",
    "num_param = len(df_single.columns) - num_nonmp\n",
    "print('Number of Object Parameters: ', num_param)\n",
    "df_single.rename(columns={df_single.columns[0]: 'WellID',\n",
    "                        df_single.columns[1]: 'RowID',\n",
    "                        df_single.columns[2]: 'ColumnID',\n",
    "                        df_single.columns[3]: 'ID',\n",
    "                        df_single.columns[4]: 'Index'}, inplace=True)"
   ]
  },
  {
   "cell_type": "code",
   "execution_count": 3,
   "metadata": {},
   "outputs": [],
   "source": [
    "def convert_dec_sep(df, np):\n",
    "\n",
    "    for id in range(np, len(df.columns)):\n",
    "        print('Index: ', id)\n",
    "        try:\n",
    "            df.iloc[:, d] = df.iloc[:, id].str.replace(',', '.').astype('float')\n",
    "        except:\n",
    "            print('No correction of types possible for column: ', df.columns[id])\n",
    "\n",
    "    return df"
   ]
  },
  {
   "cell_type": "code",
   "execution_count": 4,
   "metadata": {
    "slideshow": {
     "slide_type": "slide"
    }
   },
   "outputs": [
    {
     "name": "stdout",
     "output_type": "stream",
     "text": [
      "Index:  5\n",
      "No correction of types possible for column:  IntensityMean_DAPI::Intensity Mean Value of channel 'DAPI'!!R\n",
      "Index:  6\n",
      "No correction of types possible for column:  Area::Area!!R\n",
      "Index:  7\n",
      "No correction of types possible for column:  Perimeter::Perimeter!!R\n",
      "Index:  8\n",
      "No correction of types possible for column:  Roundness::Roundness!!R\n",
      "Index:  9\n",
      "No correction of types possible for column:  FeretRatio::Feret Ratio!!R\n"
     ]
    },
    {
     "data": {
      "text/html": [
       "<div>\n",
       "<style scoped>\n",
       "    .dataframe tbody tr th:only-of-type {\n",
       "        vertical-align: middle;\n",
       "    }\n",
       "\n",
       "    .dataframe tbody tr th {\n",
       "        vertical-align: top;\n",
       "    }\n",
       "\n",
       "    .dataframe thead th {\n",
       "        text-align: right;\n",
       "    }\n",
       "</style>\n",
       "<table border=\"1\" class=\"dataframe\">\n",
       "  <thead>\n",
       "    <tr style=\"text-align: right;\">\n",
       "      <th></th>\n",
       "      <th>WellID</th>\n",
       "      <th>RowID</th>\n",
       "      <th>ColumnID</th>\n",
       "      <th>ID</th>\n",
       "      <th>Index</th>\n",
       "      <th>IntensityMean_DAPI::Intensity Mean Value of channel 'DAPI'!!R</th>\n",
       "      <th>Area::Area!!R</th>\n",
       "      <th>Perimeter::Perimeter!!R</th>\n",
       "      <th>Roundness::Roundness!!R</th>\n",
       "      <th>FeretRatio::Feret Ratio!!R</th>\n",
       "    </tr>\n",
       "  </thead>\n",
       "  <tbody>\n",
       "    <tr>\n",
       "      <th>1</th>\n",
       "      <td>A1</td>\n",
       "      <td>1.0</td>\n",
       "      <td>1.0</td>\n",
       "      <td>2.0</td>\n",
       "      <td>1.0</td>\n",
       "      <td>78.35</td>\n",
       "      <td>0.2</td>\n",
       "      <td>2.3656854249492</td>\n",
       "      <td>0.208740</td>\n",
       "      <td>0.181077</td>\n",
       "    </tr>\n",
       "    <tr>\n",
       "      <th>2</th>\n",
       "      <td>A1</td>\n",
       "      <td>1.0</td>\n",
       "      <td>1.0</td>\n",
       "      <td>3.0</td>\n",
       "      <td>2.0</td>\n",
       "      <td>85.641666666667</td>\n",
       "      <td>1.2</td>\n",
       "      <td>4.1313708498985</td>\n",
       "      <td>0.655835</td>\n",
       "      <td>0.655167</td>\n",
       "    </tr>\n",
       "    <tr>\n",
       "      <th>3</th>\n",
       "      <td>A1</td>\n",
       "      <td>1.0</td>\n",
       "      <td>1.0</td>\n",
       "      <td>4.0</td>\n",
       "      <td>3.0</td>\n",
       "      <td>87.548780487805</td>\n",
       "      <td>1.64</td>\n",
       "      <td>5.038477631085</td>\n",
       "      <td>0.580036</td>\n",
       "      <td>0.579753</td>\n",
       "    </tr>\n",
       "  </tbody>\n",
       "</table>\n",
       "</div>"
      ],
      "text/plain": [
       "  WellID  RowID  ColumnID   ID  Index  \\\n",
       "1     A1    1.0       1.0  2.0    1.0   \n",
       "2     A1    1.0       1.0  3.0    2.0   \n",
       "3     A1    1.0       1.0  4.0    3.0   \n",
       "\n",
       "  IntensityMean_DAPI::Intensity Mean Value of channel 'DAPI'!!R Area::Area!!R  \\\n",
       "1                                              78.35                      0.2   \n",
       "2                                    85.641666666667                      1.2   \n",
       "3                                    87.548780487805                     1.64   \n",
       "\n",
       "  Perimeter::Perimeter!!R  Roundness::Roundness!!R  FeretRatio::Feret Ratio!!R  \n",
       "1         2.3656854249492                 0.208740                    0.181077  \n",
       "2         4.1313708498985                 0.655835                    0.655167  \n",
       "3          5.038477631085                 0.580036                    0.579753  "
      ]
     },
     "execution_count": 4,
     "metadata": {},
     "output_type": "execute_result"
    }
   ],
   "source": [
    "# remove rows with units\n",
    "df_single = wpt.remove_units(df_single)\n",
    "#print(len(df_single.columns))\n",
    "# convert decimal separators\n",
    "df_single = wpt.convert_dec_sep(df_single, num_nonmp)\n",
    "#df_single = convert_dec_sep(df_single, num_nonmp)\n",
    "\n",
    "\n",
    "# show part of dataframe\n",
    "df_single[:3]"
   ]
  },
  {
   "cell_type": "code",
   "execution_count": 5,
   "metadata": {},
   "outputs": [
    {
     "name": "stdout",
     "output_type": "stream",
     "text": [
      "Column Index :  5\n",
      "Correction done for column:  IntensityMean_DAPI::Intensity Mean Value of channel 'DAPI'!!R\n",
      "Column Index :  6\n",
      "Correction done for column:  Area::Area!!R\n",
      "Column Index :  7\n",
      "Correction done for column:  Perimeter::Perimeter!!R\n",
      "Column Index :  8\n",
      "No correction of types possible for column:  Roundness::Roundness!!R\n",
      "Column Index :  9\n",
      "No correction of types possible for column:  FeretRatio::Feret Ratio!!R\n"
     ]
    }
   ],
   "source": [
    "for id in range(num_nonmp, len(df_single.columns)):\n",
    "\n",
    "        print('Column Index : ', id)\n",
    "        try:\n",
    "\n",
    "            df_single.iloc[:, id] = df_single.iloc[:, id].str.replace(',', '.').astype('float')\n",
    "            print('Correction done for column: ', df_single.columns[id])\n",
    "        except:\n",
    "            print('No correction of types possible for column: ', df_single.columns[id])"
   ]
  },
  {
   "cell_type": "code",
   "execution_count": 6,
   "metadata": {
    "slideshow": {
     "slide_type": "slide"
    }
   },
   "outputs": [
    {
     "name": "stdout",
     "output_type": "stream",
     "text": [
      "---------------------------------------------------\n",
      "wellID_key :  WellID\n",
      "Found keys:\n",
      "Index(['WellID', 'RowID', 'ColumnID', 'ID', 'Index',\n",
      "       'IntensityMean_DAPI::Intensity Mean Value of channel 'DAPI'!!R',\n",
      "       'Area::Area!!R', 'Perimeter::Perimeter!!R', 'Roundness::Roundness!!R',\n",
      "       'FeretRatio::Feret Ratio!!R'],\n",
      "      dtype='object')\n",
      "---------------------------------------------------\n"
     ]
    },
    {
     "data": {
      "application/vnd.jupyter.widget-view+json": {
       "model_id": "c15332de1fa8471290fe975c4e670f54",
       "version_major": 2,
       "version_minor": 0
      },
      "text/plain": [
       "FloatProgress(value=1.0, description='Processing Wells', max=10.0, min=1.0)"
      ]
     },
     "metadata": {},
     "output_type": "display_data"
    },
    {
     "name": "stdout",
     "output_type": "stream",
     "text": [
      "dict_keys([\"IntensityMean_DAPI::Intensity Mean Value of channel 'DAPI'!!R\", 'Area::Area!!R', 'Perimeter::Perimeter!!R', 'Roundness::Roundness!!R', 'FeretRatio::Feret Ratio!!R', 'ObjectNumbers'])\n"
     ]
    }
   ],
   "source": [
    "# use statistics --> we just calculate the mean values\n",
    "# for a wells to be displayed inside the heatmaps.\n",
    "# currently implemented are mean, median, min, max.\n",
    "stf = 'mean'\n",
    "\n",
    "# create a dictionary containing a dataframe for every measure parameters\n",
    "# as a heatmap and a dictionary containing the mean values for all wells\n",
    "# containing actual data points.\n",
    "heatmap_dict, well_dict = wpt.fill_heatmaps(df_single, num_param, Nr, Nc, statfunc=stf, showbar=True, verbose=False)\n",
    "\n",
    "# show all keys\n",
    "print(heatmap_dict.keys())"
   ]
  },
  {
   "cell_type": "code",
   "execution_count": 7,
   "metadata": {},
   "outputs": [
    {
     "name": "stdout",
     "output_type": "stream",
     "text": [
      "Heatmap image saved as:  Data\\Marion_HM_ObjectNumbers.png\n"
     ]
    },
    {
     "data": {
      "text/plain": [
       "'Data\\\\Marion_HM_ObjectNumbers.png'"
      ]
     },
     "execution_count": 7,
     "metadata": {},
     "output_type": "execute_result"
    },
    {
     "data": {
      "image/png": "[encoded data removed]",
      "text/plain": [
       "<Figure size 720x576 with 2 Axes>"
      ]
     },
     "metadata": {},
     "output_type": "display_data"
    }
   ],
   "source": [
    "# define parameters to display the heatmap\n",
    "parameter2display = 'ObjectNumbers'\n",
    "colormap='Blues'\n",
    "#colormap ='YlGnBu'\n",
    "#colormap ='RdBu_r'\n",
    "#colormap = 'RdYlBu'\n",
    "hm = heatmap_dict[parameter2display]\n",
    "\n",
    "# show the heatmap for a single parameter\n",
    "wpt.showheatmap(hm, parameter2display, fontsize_title=16, fontsize_label=12,\n",
    "               colormap=colormap, save=True, filename=filename_single)"
   ]
  },
  {
   "cell_type": "code",
   "execution_count": 8,
   "metadata": {
    "slideshow": {
     "slide_type": "slide"
    }
   },
   "outputs": [
    {
     "name": "stdout",
     "output_type": "stream",
     "text": [
      "Heatmap image saved as:  Data\\Marion_HM_all.png\n"
     ]
    },
    {
     "data": {
      "text/plain": [
       "'Data\\\\Marion_HM_all.png'"
      ]
     },
     "execution_count": 8,
     "metadata": {},
     "output_type": "execute_result"
    },
    {
     "data": {
      "image/png": "[encoded data removed]",
      "text/plain": [
       "<Figure size 864x720 with 12 Axes>"
      ]
     },
     "metadata": {},
     "output_type": "display_data"
    }
   ],
   "source": [
    "# define parameters to display the heatmap\n",
    "fs_title = 10\n",
    "fs_label = 8\n",
    "#colormap ='YlGnBu'\n",
    "#colormap ='RdBu_r'\n",
    "colormap = 'Blues'\n",
    "\n",
    "# show all heatmaps\n",
    "wpt.showheatmap_all(heatmap_dict, [3, 2], fontsize_title=fs_title, fontsize_label=fs_label,\n",
    "                    colormap='Blues', save=True, filename=filename_single)"
   ]
  },
  {
   "cell_type": "code",
   "execution_count": null,
   "metadata": {
    "slideshow": {
     "slide_type": "slide"
    }
   },
   "outputs": [],
   "source": [
    "# show all key = measure parameters for that dictionary\n",
    "print(heatmap_dict.keys())\n",
    "\n",
    "# example for entry for well ...\n",
    "well_dict['C3']"
   ]
  },
  {
   "cell_type": "code",
   "execution_count": null,
   "metadata": {
    "slideshow": {
     "slide_type": "slide"
    }
   },
   "outputs": [],
   "source": [
    "# show example entry of the dictionary for a parameter\n",
    "well_df = heatmap_dict['ObjectNumbers']"
   ]
  },
  {
   "cell_type": "code",
   "execution_count": null,
   "metadata": {},
   "outputs": [],
   "source": [
    "qgrid_widget = qgrid.show_grid(well_df, show_toolbar=True, )\n",
    "qgrid_widget"
   ]
  },
  {
   "cell_type": "code",
   "execution_count": null,
   "metadata": {},
   "outputs": [],
   "source": [
    "rowlabel, collabel = wpt.extract_labels(Nr, Nc)\n",
    "\n",
    "data = [go.Heatmap(z=hm.values.tolist(),\n",
    "                   x=rowlabel,\n",
    "                   y=collabel,\n",
    "                   colorscale='Viridis'),\n",
    "       ]\n",
    "\n",
    "layout = go.Layout(title=parameter2display,\n",
    "                   autosize = True,\n",
    "                   xaxis = dict(autotick=False,\n",
    "                                title='Columns',\n",
    "                                showgrid=True,\n",
    "                                gridwidth=5,\n",
    "                                ticks=collabel,\n",
    "                                nticks=Nc),\n",
    "                   yaxis = dict(autotick=False,\n",
    "                                title='Rows',\n",
    "                                showgrid=True,\n",
    "                                gridwidth=5,\n",
    "                                ticks=collabel,\n",
    "                                nticks=Nr,\n",
    "                                autorange='reversed'),\n",
    "                  )\n",
    "\n",
    "fig = go.Figure(data=data, layout=layout)"
   ]
  },
  {
   "cell_type": "code",
   "execution_count": null,
   "metadata": {},
   "outputs": [],
   "source": [
    "plotly.offline.init_notebook_mode(connected=True)\n",
    "#data = [go.Heatmap(z=well_df.values.tolist(), colorscale='Viridis')]\n",
    "#plotly.offline.iplot(data, filename='basic-heatmap')\n",
    "plotly.offline.iplot(fig, filename='basic-heatmap')"
   ]
  },
  {
   "cell_type": "code",
   "execution_count": null,
   "metadata": {},
   "outputs": [],
   "source": []
  }
 ],
 "metadata": {
  "anaconda-cloud": {},
  "celltoolbar": "Slideshow",
  "kernelspec": {
   "display_name": "Python 3",
   "language": "python",
   "name": "python3"
  },
  "language_info": {
   "codemirror_mode": {
    "name": "ipython",
    "version": 3
   },
   "file_extension": ".py",
   "mimetype": "text/x-python",
   "name": "python",
   "nbconvert_exporter": "python",
   "pygments_lexer": "ipython3",
   "version": "3.6.5"
  },
  "widgets": {
   "state": {
    "562ca47cb51747baa635d7337aa0e0a1": {
     "views": [
      {
       "cell_index": 3
      }
     ]
    }
   },
   "version": "1.2.0"
  }
 },
 "nbformat": 4,
 "nbformat_minor": 2
}
