{
 "cells": [
  {
   "cell_type": "code",
   "execution_count": 1,
   "metadata": {
    "collapsed": true
   },
   "outputs": [],
   "source": [
    "# do the required imports\n",
    "import warnings\n",
    "warnings.filterwarnings('ignore')\n",
    "import pandas as pd\n",
    "import sys\n",
    "import matplotlib.pyplot as plt\n",
    "import seaborn as sns\n",
    "import qgrid\n",
    "import plotly\n",
    "import plotly.graph_objs as go\n",
    "from plotly.graph_objs import *\n",
    "sys.path.append(r'Modules')\n",
    "import wellplate_tools_pandas_py3_5 as wpt\n",
    "%matplotlib inline"
   ]
  },
  {
   "cell_type": "code",
   "execution_count": 2,
   "metadata": {
    "slideshow": {
     "slide_type": "slide"
    }
   },
   "outputs": [
    {
     "name": "stdout",
     "output_type": "stream",
     "text": [
      "Number of Object Parameters:  5\n"
     ]
    }
   ],
   "source": [
    "filename_single = r'Data\\well96_1Pos_Single.csv'\n",
    "#filename_single = r'Data\\fixed endpoint 3C 2_5 384well_Single.csv'\n",
    "#filename_single = r'Data\\96Well_Ch=1_26Wells_1P_Well_SingleRegions.csv'\n",
    "#filename_single = r'Data\\96Well_Test_4Well.csv'\n",
    "# define wellplate type\n",
    "platetype = 96\n",
    "# get numer of rows and columns\n",
    "Nr, Nc = wpt.getrowandcolumn(platetype)\n",
    "\n",
    "# read the CSV table containing all the single object data for\n",
    "# further \"in-depth\" analysis\n",
    "df_single = pd.read_csv(filename_single, sep=';')\n",
    "\n",
    "# get headers and number of measurment parameters\n",
    "# default number of non-measurement parameters = 5 (the first five columns from ZEN CSV Export)\n",
    "num_nonmp = 5\n",
    "headers = df_single.head(0)\n",
    "num_param = len(df_single.columns) - num_nonmp\n",
    "print('Number of Object Parameters: ', num_param)\n",
    "df_single.rename(columns={df_single.columns[0]: 'WellID',\n",
    "                        df_single.columns[1]: 'RowID',\n",
    "                        df_single.columns[2]: 'ColumnID',\n",
    "                        df_single.columns[3]: 'ID',\n",
    "                        df_single.columns[4]: 'Index'}, inplace=True)"
   ]
  },
  {
   "cell_type": "code",
   "execution_count": 3,
   "metadata": {
    "slideshow": {
     "slide_type": "slide"
    }
   },
   "outputs": [
    {
     "data": {
      "text/html": [
       "<div>\n",
       "<style>\n",
       "    .dataframe thead tr:only-child th {\n",
       "        text-align: right;\n",
       "    }\n",
       "\n",
       "    .dataframe thead th {\n",
       "        text-align: left;\n",
       "    }\n",
       "\n",
       "    .dataframe tbody tr th {\n",
       "        vertical-align: top;\n",
       "    }\n",
       "</style>\n",
       "<table border=\"1\" class=\"dataframe\">\n",
       "  <thead>\n",
       "    <tr style=\"text-align: right;\">\n",
       "      <th></th>\n",
       "      <th>WellID</th>\n",
       "      <th>RowID</th>\n",
       "      <th>ColumnID</th>\n",
       "      <th>ID</th>\n",
       "      <th>Index</th>\n",
       "      <th>IntensityMean_DAPI::Intensity Mean Value of channel 'DAPI'!!R</th>\n",
       "      <th>Area::Area!!R</th>\n",
       "      <th>Perimeter::Perimeter!!R</th>\n",
       "      <th>Roundness::Roundness!!R</th>\n",
       "      <th>FeretRatio::Feret Ratio!!R</th>\n",
       "    </tr>\n",
       "  </thead>\n",
       "  <tbody>\n",
       "    <tr>\n",
       "      <th>1</th>\n",
       "      <td>A1</td>\n",
       "      <td>1.0</td>\n",
       "      <td>1.0</td>\n",
       "      <td>2.0</td>\n",
       "      <td>1.0</td>\n",
       "      <td>78.350000</td>\n",
       "      <td>0.20</td>\n",
       "      <td>2.365685</td>\n",
       "      <td>0.208740</td>\n",
       "      <td>0.181077</td>\n",
       "    </tr>\n",
       "    <tr>\n",
       "      <th>2</th>\n",
       "      <td>A1</td>\n",
       "      <td>1.0</td>\n",
       "      <td>1.0</td>\n",
       "      <td>3.0</td>\n",
       "      <td>2.0</td>\n",
       "      <td>85.641667</td>\n",
       "      <td>1.20</td>\n",
       "      <td>4.131371</td>\n",
       "      <td>0.655835</td>\n",
       "      <td>0.655167</td>\n",
       "    </tr>\n",
       "    <tr>\n",
       "      <th>3</th>\n",
       "      <td>A1</td>\n",
       "      <td>1.0</td>\n",
       "      <td>1.0</td>\n",
       "      <td>4.0</td>\n",
       "      <td>3.0</td>\n",
       "      <td>87.548780</td>\n",
       "      <td>1.64</td>\n",
       "      <td>5.038478</td>\n",
       "      <td>0.580036</td>\n",
       "      <td>0.579753</td>\n",
       "    </tr>\n",
       "  </tbody>\n",
       "</table>\n",
       "</div>"
      ],
      "text/plain": [
       "  WellID  RowID  ColumnID   ID  Index  \\\n",
       "1     A1    1.0       1.0  2.0    1.0   \n",
       "2     A1    1.0       1.0  3.0    2.0   \n",
       "3     A1    1.0       1.0  4.0    3.0   \n",
       "\n",
       "   IntensityMean_DAPI::Intensity Mean Value of channel 'DAPI'!!R  \\\n",
       "1                                          78.350000               \n",
       "2                                          85.641667               \n",
       "3                                          87.548780               \n",
       "\n",
       "   Area::Area!!R  Perimeter::Perimeter!!R  Roundness::Roundness!!R  \\\n",
       "1           0.20                 2.365685                 0.208740   \n",
       "2           1.20                 4.131371                 0.655835   \n",
       "3           1.64                 5.038478                 0.580036   \n",
       "\n",
       "   FeretRatio::Feret Ratio!!R  \n",
       "1                    0.181077  \n",
       "2                    0.655167  \n",
       "3                    0.579753  "
      ]
     },
     "execution_count": 3,
     "metadata": {},
     "output_type": "execute_result"
    }
   ],
   "source": [
    "# remove rows with units\n",
    "df_single = wpt.remove_units(df_single)\n",
    "# convert decimal separators\n",
    "df_single = wpt.convert_dec_sep(df_single)\n",
    "\n",
    "# show part of dataframe\n",
    "df_single[:3]"
   ]
  },
  {
   "cell_type": "code",
   "execution_count": 4,
   "metadata": {
    "slideshow": {
     "slide_type": "slide"
    }
   },
   "outputs": [
    {
     "name": "stdout",
     "output_type": "stream",
     "text": [
      "---------------------------------------------------\n",
      "wellID_key :  WellID\n",
      "Found keys:\n",
      "Index(['WellID', 'RowID', 'ColumnID', 'ID', 'Index',\n",
      "       'IntensityMean_DAPI::Intensity Mean Value of channel 'DAPI'!!R',\n",
      "       'Area::Area!!R', 'Perimeter::Perimeter!!R', 'Roundness::Roundness!!R',\n",
      "       'FeretRatio::Feret Ratio!!R'],\n",
      "      dtype='object')\n",
      "---------------------------------------------------\n"
     ]
    },
    {
     "data": {
      "application/vnd.jupyter.widget-view+json": {
       "model_id": "cec60c6badad4c348c35c63240319e9f",
       "version_major": 2,
       "version_minor": 0
      },
      "text/plain": [
       "A Jupyter Widget"
      ]
     },
     "metadata": {},
     "output_type": "display_data"
    },
    {
     "name": "stdout",
     "output_type": "stream",
     "text": [
      "dict_keys([\"IntensityMean_DAPI::Intensity Mean Value of channel 'DAPI'!!R\", 'Area::Area!!R', 'Perimeter::Perimeter!!R', 'Roundness::Roundness!!R', 'FeretRatio::Feret Ratio!!R', 'ObjectNumbers'])\n"
     ]
    }
   ],
   "source": [
    "# use statistics --> we just calculate the mean values\n",
    "# for a wells to be displayed inside the heatmaps.\n",
    "# currently implemented are mean, median, min, max.\n",
    "stf = 'mean'\n",
    "\n",
    "# create a dictionary containing a dataframe for every measure parameters\n",
    "# as a heatmap and a dictionary containing the mean values for all wells\n",
    "# containing actual data points.\n",
    "heatmap_dict, well_dict = wpt.fill_heatmaps(df_single, num_param, Nr, Nc, statfunc=stf, showbar=True, verbose=False)\n",
    "\n",
    "# show all keys\n",
    "print(heatmap_dict.keys())"
   ]
  },
  {
   "cell_type": "code",
   "execution_count": 5,
   "metadata": {},
   "outputs": [
    {
     "name": "stdout",
     "output_type": "stream",
     "text": [
      "Heatmap image saved as:  Data\\well96_1Pos_Single_HM_ObjectNumbers.png\n"
     ]
    },
    {
     "data": {
      "text/plain": [
       "'Data\\\\well96_1Pos_Single_HM_ObjectNumbers.png'"
      ]
     },
     "execution_count": 5,
     "metadata": {},
     "output_type": "execute_result"
    },
    {
     "data": {
      "image/png": "[encoded data removed]",
      "text/plain": [
       "<matplotlib.figure.Figure at 0x2be377afba8>"
      ]
     },
     "metadata": {},
     "output_type": "display_data"
    }
   ],
   "source": [
    "# define parameters to display the heatmap\n",
    "parameter2display = 'ObjectNumbers'\n",
    "colormap='Blues'\n",
    "#colormap ='YlGnBu'\n",
    "#colormap ='RdBu_r'\n",
    "#colormap = 'RdYlBu'\n",
    "hm = heatmap_dict[parameter2display]\n",
    "\n",
    "# show the heatmap for a single parameter\n",
    "wpt.showheatmap(hm, parameter2display, fontsize_title=16, fontsize_label=12,\n",
    "               colormap=colormap, save=True, filename=filename_single)"
   ]
  },
  {
   "cell_type": "code",
   "execution_count": 6,
   "metadata": {
    "slideshow": {
     "slide_type": "slide"
    }
   },
   "outputs": [
    {
     "name": "stdout",
     "output_type": "stream",
     "text": [
      "Heatmap image saved as:  Data\\well96_1Pos_Single_HM_all.png\n"
     ]
    },
    {
     "data": {
      "text/plain": [
       "'Data\\\\well96_1Pos_Single_HM_all.png'"
      ]
     },
     "execution_count": 6,
     "metadata": {},
     "output_type": "execute_result"
    },
    {
     "data": {
      "image/png": "[encoded data removed]",
      "text/plain": [
       "<matplotlib.figure.Figure at 0x2be37de34a8>"
      ]
     },
     "metadata": {},
     "output_type": "display_data"
    }
   ],
   "source": [
    "# define parameters to display the heatmap\n",
    "fontsize_title = 14\n",
    "fontsize_label = 12\n",
    "#colormap ='YlGnBu'\n",
    "#colormap ='RdBu_r'\n",
    "colormap = 'Blues'\n",
    "\n",
    "# show all heatmaps\n",
    "wpt.showheatmap_all(heatmap_dict, [3, 2], fontsize_title=14, fontsize_label=12,\n",
    "                    colormap='Blues', save=True, filename=filename_single)"
   ]
  },
  {
   "cell_type": "code",
   "execution_count": 7,
   "metadata": {
    "slideshow": {
     "slide_type": "slide"
    }
   },
   "outputs": [
    {
     "name": "stdout",
     "output_type": "stream",
     "text": [
      "dict_keys([\"IntensityMean_DAPI::Intensity Mean Value of channel 'DAPI'!!R\", 'Area::Area!!R', 'Perimeter::Perimeter!!R', 'Roundness::Roundness!!R', 'FeretRatio::Feret Ratio!!R', 'ObjectNumbers'])\n"
     ]
    },
    {
     "data": {
      "text/plain": [
       "WellID                                                                 C3\n",
       "RowID                                                                   3\n",
       "ColumnID                                                                3\n",
       "IntensityMean_DAPI::Intensity Mean Value of channel 'DAPI'!!R     34.8313\n",
       "Area::Area!!R                                                     1.77567\n",
       "Perimeter::Perimeter!!R                                           5.28527\n",
       "Roundness::Roundness!!R                                          0.559217\n",
       "FeretRatio::Feret Ratio!!R                                       0.625875\n",
       "ObjectNumbers                                                         215\n",
       "Name: 17, dtype: object"
      ]
     },
     "execution_count": 7,
     "metadata": {},
     "output_type": "execute_result"
    }
   ],
   "source": [
    "# show all key = measure parameters for that dictionary\n",
    "print(heatmap_dict.keys())\n",
    "\n",
    "# example for entry for well ...\n",
    "well_dict['C3']"
   ]
  },
  {
   "cell_type": "code",
   "execution_count": 8,
   "metadata": {
    "collapsed": true,
    "slideshow": {
     "slide_type": "slide"
    }
   },
   "outputs": [],
   "source": [
    "# show example entry of the dictionary for a parameter\n",
    "well_df = heatmap_dict['ObjectNumbers']"
   ]
  },
  {
   "cell_type": "code",
   "execution_count": 9,
   "metadata": {},
   "outputs": [
    {
     "data": {
      "text/plain": [
       "pandas.core.series.Series"
      ]
     },
     "execution_count": 9,
     "metadata": {},
     "output_type": "execute_result"
    }
   ],
   "source": [
    "type(well_dict['C3'])"
   ]
  },
  {
   "cell_type": "code",
   "execution_count": 10,
   "metadata": {},
   "outputs": [
    {
     "data": {
      "application/vnd.jupyter.widget-view+json": {
       "model_id": "06cb2646122442629010cbc38b057bac",
       "version_major": 2,
       "version_minor": 0
      },
      "text/plain": [
       "A Jupyter Widget"
      ]
     },
     "metadata": {},
     "output_type": "display_data"
    }
   ],
   "source": [
    "qgrid_widget = qgrid.show_grid(well_df, show_toolbar=True, )\n",
    "qgrid_widget"
   ]
  },
  {
   "cell_type": "code",
   "execution_count": 11,
   "metadata": {},
   "outputs": [],
   "source": [
    "rowlabel, collabel = wpt.extract_labels(Nr, Nc)\n",
    "\n",
    "data = [go.Heatmap(z=hm.values.tolist(),\n",
    "                   x=rowlabel,\n",
    "                   y=collabel,\n",
    "                   colorscale='Viridis'),\n",
    "       ]\n",
    "\n",
    "layout = go.Layout(title=parameter2display,\n",
    "                   autosize = True,\n",
    "                   xaxis = dict(autotick=False,\n",
    "                                title='Columns',\n",
    "                                showgrid=True,\n",
    "                                gridwidth=5,\n",
    "                                ticks=collabel,\n",
    "                                nticks=Nc),\n",
    "                   yaxis = dict(autotick=False,\n",
    "                                title='Rows',\n",
    "                                showgrid=True,\n",
    "                                gridwidth=5,\n",
    "                                ticks=collabel,\n",
    "                                nticks=Nr,\n",
    "                                autorange='reversed'),\n",
    "                  )\n",
    "\n",
    "fig = go.Figure(data=data, layout=layout)"
   ]
  },
  {
   "cell_type": "code",
   "execution_count": 12,
   "metadata": {},
   "outputs": [
    {
     "data": {
      "text/html": [
       "<script>requirejs.config({paths: { 'plotly': ['https://cdn.plot.ly/plotly-latest.min']},});if(!window.Plotly) {{require(['plotly'],function(plotly) {window.Plotly=plotly;});}}</script>"
      ],
      "text/vnd.plotly.v1+html": [
       "<script>requirejs.config({paths: { 'plotly': ['https://cdn.plot.ly/plotly-latest.min']},});if(!window.Plotly) {{require(['plotly'],function(plotly) {window.Plotly=plotly;});}}</script>"
      ]
     },
     "metadata": {},
     "output_type": "display_data"
    },
    {
     "data": {
      "application/vnd.plotly.v1+json": {
       "data": [
        {
         "colorscale": "Viridis",
         "type": "heatmap",
         "x": [
          "1",
          "2",
          "3",
          "4",
          "5",
          "6",
          "7",
          "8",
          "9",
          "10",
          "11",
          "12"
         ],
         "y": [
          "A",
          "B",
          "C",
          "D",
          "E",
          "F",
          "G",
          "H"
         ],
         "z": [
          [
           317,
           264,
           242,
           205,
           216,
           230,
           207,
           202,
           196,
           172,
           179,
           197
          ],
          [
           155,
           181,
           196,
           171,
           188,
           206,
           207,
           224,
           215,
           249,
           202,
           167
          ],
          [
           162,
           193,
           215,
           218,
           204,
           196,
           164,
           182,
           138,
           195,
           163,
           206
          ],
          [
           183,
           190,
           172,
           160,
           163,
           189,
           199,
           204,
           199,
           202,
           201,
           172
          ],
          [
           195,
           201,
           218,
           211,
           189,
           162,
           176,
           174,
           182,
           140,
           173,
           200
          ],
          [
           204,
           210,
           157,
           187,
           168,
           183,
           178,
           169,
           177,
           127,
           189,
           208
          ],
          [
           300,
           152,
           198,
           171,
           197,
           217,
           175,
           148,
           170,
           169,
           164,
           182
          ],
          [
           228,
           232,
           141,
           223,
           161,
           177,
           180,
           274,
           187,
           180,
           185,
           275
          ]
         ]
        }
       ],
       "layout": {
        "autosize": true,
        "title": "ObjectNumbers",
        "xaxis": {
         "autotick": false,
         "gridwidth": 5,
         "nticks": 12,
         "showgrid": true,
         "ticks": [
          "A",
          "B",
          "C",
          "D",
          "E",
          "F",
          "G",
          "H"
         ],
         "title": "Columns"
        },
        "yaxis": {
         "autorange": "reversed",
         "autotick": false,
         "gridwidth": 5,
         "nticks": 8,
         "showgrid": true,
         "ticks": [
          "A",
          "B",
          "C",
          "D",
          "E",
          "F",
          "G",
          "H"
         ],
         "title": "Rows"
        }
       }
      },
      "text/html": [
       "<div id=\"509d96fb-c6d3-41aa-a77b-634679f056ec\" style=\"height: 525px; width: 100%;\" class=\"plotly-graph-div\"></div><script type=\"text/javascript\">require([\"plotly\"], function(Plotly) { window.PLOTLYENV=window.PLOTLYENV || {};window.PLOTLYENV.BASE_URL=\"https://plot.ly\";Plotly.newPlot(\"509d96fb-c6d3-41aa-a77b-634679f056ec\", [{\"type\": \"heatmap\", \"z\": [[317.0, 264.0, 242.0, 205.0, 216.0, 230.0, 207.0, 202.0, 196.0, 172.0, 179.0, 197.0], [155.0, 181.0, 196.0, 171.0, 188.0, 206.0, 207.0, 224.0, 215.0, 249.0, 202.0, 167.0], [162.0, 193.0, 215.0, 218.0, 204.0, 196.0, 164.0, 182.0, 138.0, 195.0, 163.0, 206.0], [183.0, 190.0, 172.0, 160.0, 163.0, 189.0, 199.0, 204.0, 199.0, 202.0, 201.0, 172.0], [195.0, 201.0, 218.0, 211.0, 189.0, 162.0, 176.0, 174.0, 182.0, 140.0, 173.0, 200.0], [204.0, 210.0, 157.0, 187.0, 168.0, 183.0, 178.0, 169.0, 177.0, 127.0, 189.0, 208.0], [300.0, 152.0, 198.0, 171.0, 197.0, 217.0, 175.0, 148.0, 170.0, 169.0, 164.0, 182.0], [228.0, 232.0, 141.0, 223.0, 161.0, 177.0, 180.0, 274.0, 187.0, 180.0, 185.0, 275.0]], \"x\": [\"1\", \"2\", \"3\", \"4\", \"5\", \"6\", \"7\", \"8\", \"9\", \"10\", \"11\", \"12\"], \"y\": [\"A\", \"B\", \"C\", \"D\", \"E\", \"F\", \"G\", \"H\"], \"colorscale\": \"Viridis\"}], {\"title\": \"ObjectNumbers\", \"autosize\": true, \"xaxis\": {\"autotick\": false, \"title\": \"Columns\", \"showgrid\": true, \"gridwidth\": 5, \"ticks\": [\"A\", \"B\", \"C\", \"D\", \"E\", \"F\", \"G\", \"H\"], \"nticks\": 12}, \"yaxis\": {\"autotick\": false, \"title\": \"Rows\", \"showgrid\": true, \"gridwidth\": 5, \"ticks\": [\"A\", \"B\", \"C\", \"D\", \"E\", \"F\", \"G\", \"H\"], \"nticks\": 8, \"autorange\": \"reversed\"}}, {\"showLink\": true, \"linkText\": \"Export to plot.ly\"})});</script>"
      ],
      "text/vnd.plotly.v1+html": [
       "<div id=\"509d96fb-c6d3-41aa-a77b-634679f056ec\" style=\"height: 525px; width: 100%;\" class=\"plotly-graph-div\"></div><script type=\"text/javascript\">require([\"plotly\"], function(Plotly) { window.PLOTLYENV=window.PLOTLYENV || {};window.PLOTLYENV.BASE_URL=\"https://plot.ly\";Plotly.newPlot(\"509d96fb-c6d3-41aa-a77b-634679f056ec\", [{\"type\": \"heatmap\", \"z\": [[317.0, 264.0, 242.0, 205.0, 216.0, 230.0, 207.0, 202.0, 196.0, 172.0, 179.0, 197.0], [155.0, 181.0, 196.0, 171.0, 188.0, 206.0, 207.0, 224.0, 215.0, 249.0, 202.0, 167.0], [162.0, 193.0, 215.0, 218.0, 204.0, 196.0, 164.0, 182.0, 138.0, 195.0, 163.0, 206.0], [183.0, 190.0, 172.0, 160.0, 163.0, 189.0, 199.0, 204.0, 199.0, 202.0, 201.0, 172.0], [195.0, 201.0, 218.0, 211.0, 189.0, 162.0, 176.0, 174.0, 182.0, 140.0, 173.0, 200.0], [204.0, 210.0, 157.0, 187.0, 168.0, 183.0, 178.0, 169.0, 177.0, 127.0, 189.0, 208.0], [300.0, 152.0, 198.0, 171.0, 197.0, 217.0, 175.0, 148.0, 170.0, 169.0, 164.0, 182.0], [228.0, 232.0, 141.0, 223.0, 161.0, 177.0, 180.0, 274.0, 187.0, 180.0, 185.0, 275.0]], \"x\": [\"1\", \"2\", \"3\", \"4\", \"5\", \"6\", \"7\", \"8\", \"9\", \"10\", \"11\", \"12\"], \"y\": [\"A\", \"B\", \"C\", \"D\", \"E\", \"F\", \"G\", \"H\"], \"colorscale\": \"Viridis\"}], {\"title\": \"ObjectNumbers\", \"autosize\": true, \"xaxis\": {\"autotick\": false, \"title\": \"Columns\", \"showgrid\": true, \"gridwidth\": 5, \"ticks\": [\"A\", \"B\", \"C\", \"D\", \"E\", \"F\", \"G\", \"H\"], \"nticks\": 12}, \"yaxis\": {\"autotick\": false, \"title\": \"Rows\", \"showgrid\": true, \"gridwidth\": 5, \"ticks\": [\"A\", \"B\", \"C\", \"D\", \"E\", \"F\", \"G\", \"H\"], \"nticks\": 8, \"autorange\": \"reversed\"}}, {\"showLink\": true, \"linkText\": \"Export to plot.ly\"})});</script>"
      ]
     },
     "metadata": {},
     "output_type": "display_data"
    }
   ],
   "source": [
    "plotly.offline.init_notebook_mode(connected=True)\n",
    "#data = [go.Heatmap(z=well_df.values.tolist(), colorscale='Viridis')]\n",
    "#plotly.offline.iplot(data, filename='basic-heatmap')\n",
    "plotly.offline.iplot(fig, filename='basic-heatmap')"
   ]
  },
  {
   "cell_type": "code",
   "execution_count": null,
   "metadata": {
    "collapsed": true
   },
   "outputs": [],
   "source": []
  }
 ],
 "metadata": {
  "anaconda-cloud": {},
  "celltoolbar": "Slideshow",
  "kernelspec": {
   "display_name": "Python 3",
   "language": "python",
   "name": "python3"
  },
  "language_info": {
   "codemirror_mode": {
    "name": "ipython",
    "version": 3
   },
   "file_extension": ".py",
   "mimetype": "text/x-python",
   "name": "python",
   "nbconvert_exporter": "python",
   "pygments_lexer": "ipython3",
   "version": "3.6.3"
  },
  "widgets": {
   "state": {
    "562ca47cb51747baa635d7337aa0e0a1": {
     "views": [
      {
       "cell_index": 3
      }
     ]
    }
   },
   "version": "1.2.0"
  }
 },
 "nbformat": 4,
 "nbformat_minor": 2
}
