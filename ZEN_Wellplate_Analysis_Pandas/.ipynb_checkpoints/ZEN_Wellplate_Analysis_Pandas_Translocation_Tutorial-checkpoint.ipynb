{
 "cells": [
  {
   "cell_type": "markdown",
   "metadata": {},
   "source": [
    "This IPython Notebook shows how to visualize the data created by the ZEN Image Analysis using the Zone Of Influence (ZOI) segmentation.\n",
    "Typical Applications for ZOI are in cell biology, drug discovery, in-vitro assays, endpoint assays, e.g.:\n",
    "\n",
    "* Cytoplasm-Nucleus Translocation\n",
    "* Protein Localization\n",
    "* Count sub-objects inside and outside of the primary object (e.g. vesicles, PML bodies,…)\n",
    "\n",
    "<img src=\"Tutorial\\ZOI_Applications.png\" />\n",
    "\n",
    "**For further details please see:**\n",
    "    \n",
    "[ZOI Tutorial.pdf]('Tutorial\\ZOI - Tutorial.pdf')"
   ]
  },
  {
   "cell_type": "markdown",
   "metadata": {},
   "source": [
    "**Application Example: Translocation Assay**\n",
    "\n",
    "<img src=\"Tutorial\\ZOI_Translocation.png\" />"
   ]
  },
  {
   "cell_type": "markdown",
   "metadata": {},
   "source": [
    "**Human U2OS cells cytoplasm–nucleus translocation**\n",
    "\n",
    "* 96-well plate, human osteosarcoma cells (U2OS), nuclei stained with DRAQ\n",
    "* Cytoplasm to nucleus translocation of the Forkhead (FKHR-EGFP) fusion protein\n",
    "* In proliferating cells, FKHR is localized in the cytoplasm (constantly moving into the nucleus, but is transported out again by export proteins). \n",
    "* Upon inhibition of nuclear export, FKHR accumulates in the nucleus\n",
    "* Export is inhibited by blocking PI3 kinase / PKB with <span style=\"color:green\"> *Wortmannin*</span> or <span style=\"color:orange\">*LY294002*</span>.\n",
    "\n",
    "\n",
    "<img src=\"Tutorial\\ZOI_U2OS.png\" />\n",
    "\n",
    "\n",
    "Data set [BBBC013v1](https://data.broadinstitute.org/bbbc/BBBC013/) by Ilya Ravkin, available from the Broad Bioimage Benchmark Collection [Ljosa et al., Nature Methods, 2012](http://dx.doi.org/10.1038/nmeth.2083)"
   ]
  },
  {
   "cell_type": "code",
   "execution_count": 1,
   "metadata": {},
   "outputs": [],
   "source": [
    "# do the required imports\n",
    "import pandas as pd\n",
    "import numpy as np\n",
    "import sys\n",
    "import matplotlib.pyplot as plt\n",
    "import seaborn as sns\n",
    "import plotly\n",
    "import plotly.graph_objs as go\n",
    "from plotly.graph_objs import *\n",
    "sys.path.append(r'Modules')\n",
    "import wellplate_tools_pandas as wpt"
   ]
  },
  {
   "cell_type": "code",
   "execution_count": 2,
   "metadata": {
    "slideshow": {
     "slide_type": "slide"
    }
   },
   "outputs": [],
   "source": [
    "# load the data file created by ZEN Blue ZOI image analysis\n",
    "filename_single = r'Data\\_Primary Object.csv'\n",
    "\n",
    "# check the used separator\n",
    "sep = wpt.check_separator(filename_single)\n",
    "\n",
    "# read the CSV table containing all the single object data\n",
    "df_single = pd.read_csv(filename_single, sep=sep)\n",
    "\n",
    "# get headers and number of measurement parameters\n",
    "headers = df_single.head(0)\n",
    "\n",
    "# define wellplate type (this has to be done by user)\n",
    "platetype = 96\n",
    "\n",
    "# get numer of rows and columns\n",
    "Nr, Nc = wpt.getrowandcolumn(platetype)"
   ]
  },
  {
   "cell_type": "code",
   "execution_count": 3,
   "metadata": {
    "slideshow": {
     "slide_type": "slide"
    }
   },
   "outputs": [],
   "source": [
    "# default number of non-measurement parameters, e.g. IDs etc.\n",
    "num_nonmp = 6\n",
    "\n",
    "# list for renaming the parameters - please check your input CSV is the respective columns\n",
    "# (might have different names) exits and if their order is reflected inside the parameterlist\n",
    "\n",
    "parameterlist = ['ParentID',    # ParentID::ID of the parent!!I\n",
    "                 'ID',          # ID::ID!!I\n",
    "                 'WellID',      # ImageSceneContainerName::Image Scene Container Name \n",
    "                 'RowID',       # ImageSceneRow::Image Scene Row Index!!I\n",
    "                 'ColumnID',    # ImageSceneColumn::Image Scene Column Index!!I\n",
    "                 'Index',       # Index::Index!!I\n",
    "                 'Area',        # Area::Area!!R\n",
    "                 'NucMeanDapi', # IntensityMean_DAPI::Intensity Mean Value of channel 'DAPI'!!R\n",
    "                 'NucMeanGFP',  # IntensityMean_EGFP::Intensity Mean Value of channel 'EGFP'!!R\n",
    "                 'RingMeanGFP', # CopyRingIntensityMean1::Ring Mean Intensity 1!!R\n",
    "                 'RingArea']    # CopyRingArea::Ring Area!!R\n",
    "\n",
    "# rename columns\n",
    "df_single = wpt.rename_columns(df_single, parameterlist)"
   ]
  },
  {
   "cell_type": "code",
   "execution_count": 4,
   "metadata": {},
   "outputs": [],
   "source": [
    "# remove rows with units from datafrane\n",
    "df_single = wpt.remove_units(df_single)\n",
    "\n",
    "# convert decimal separators to point \".\"\n",
    "df_single = wpt.convert_dec_sep(df_single, num_nonmp)"
   ]
  },
  {
   "cell_type": "markdown",
   "metadata": {},
   "source": [
    "**Human U2OS cells cytoplasm–nucleus translocation**\n",
    "\n",
    "* Calculate the Translocation-Ratio (T) for each cell\n",
    "* Calculate the mean value for each well \n",
    "\n",
    "\n",
    "<img src=\"Tutorial\\ZOI_Ratio_Calculation.png\" />"
   ]
  },
  {
   "cell_type": "code",
   "execution_count": 5,
   "metadata": {},
   "outputs": [],
   "source": [
    "# add another column and calculate the ratio between GFP in nucleus and GFP in Ring for the translocation assay\n",
    "df_single['Ratio'] =  df_single['NucMeanGFP']/df_single['RingMeanGFP']\n",
    "\n",
    "# replace infinity values with nan\n",
    "df_single = df_single.replace([np.inf, -np.inf], np.nan)"
   ]
  },
  {
   "cell_type": "code",
   "execution_count": 6,
   "metadata": {
    "slideshow": {
     "slide_type": "slide"
    }
   },
   "outputs": [
    {
     "name": "stdout",
     "output_type": "stream",
     "text": [
      "Number of Object Parameters:  6\n"
     ]
    },
    {
     "data": {
      "text/html": [
       "<div>\n",
       "<style scoped>\n",
       "    .dataframe tbody tr th:only-of-type {\n",
       "        vertical-align: middle;\n",
       "    }\n",
       "\n",
       "    .dataframe tbody tr th {\n",
       "        vertical-align: top;\n",
       "    }\n",
       "\n",
       "    .dataframe thead th {\n",
       "        text-align: right;\n",
       "    }\n",
       "</style>\n",
       "<table border=\"1\" class=\"dataframe\">\n",
       "  <thead>\n",
       "    <tr style=\"text-align: right;\">\n",
       "      <th></th>\n",
       "      <th>ParentID</th>\n",
       "      <th>ID</th>\n",
       "      <th>WellID</th>\n",
       "      <th>RowID</th>\n",
       "      <th>ColumnID</th>\n",
       "      <th>Index</th>\n",
       "      <th>Area</th>\n",
       "      <th>NucMeanDapi</th>\n",
       "      <th>NucMeanGFP</th>\n",
       "      <th>RingMeanGFP</th>\n",
       "      <th>RingArea</th>\n",
       "      <th>Ratio</th>\n",
       "    </tr>\n",
       "  </thead>\n",
       "  <tbody>\n",
       "    <tr>\n",
       "      <th>1</th>\n",
       "      <td>291.0</td>\n",
       "      <td>292.0</td>\n",
       "      <td>A1</td>\n",
       "      <td>1.0</td>\n",
       "      <td>1.0</td>\n",
       "      <td>1.0</td>\n",
       "      <td>2.61</td>\n",
       "      <td>134.620690</td>\n",
       "      <td>86.977011</td>\n",
       "      <td>140.496403</td>\n",
       "      <td>1.39</td>\n",
       "      <td>0.619069</td>\n",
       "    </tr>\n",
       "    <tr>\n",
       "      <th>2</th>\n",
       "      <td>293.0</td>\n",
       "      <td>294.0</td>\n",
       "      <td>A1</td>\n",
       "      <td>1.0</td>\n",
       "      <td>1.0</td>\n",
       "      <td>2.0</td>\n",
       "      <td>1.52</td>\n",
       "      <td>106.664474</td>\n",
       "      <td>36.157895</td>\n",
       "      <td>43.940000</td>\n",
       "      <td>1.00</td>\n",
       "      <td>0.822892</td>\n",
       "    </tr>\n",
       "    <tr>\n",
       "      <th>3</th>\n",
       "      <td>295.0</td>\n",
       "      <td>296.0</td>\n",
       "      <td>A1</td>\n",
       "      <td>1.0</td>\n",
       "      <td>1.0</td>\n",
       "      <td>3.0</td>\n",
       "      <td>2.92</td>\n",
       "      <td>173.167808</td>\n",
       "      <td>9.561644</td>\n",
       "      <td>9.416058</td>\n",
       "      <td>1.37</td>\n",
       "      <td>1.015461</td>\n",
       "    </tr>\n",
       "    <tr>\n",
       "      <th>4</th>\n",
       "      <td>297.0</td>\n",
       "      <td>298.0</td>\n",
       "      <td>A1</td>\n",
       "      <td>1.0</td>\n",
       "      <td>1.0</td>\n",
       "      <td>4.0</td>\n",
       "      <td>1.14</td>\n",
       "      <td>110.403509</td>\n",
       "      <td>41.561404</td>\n",
       "      <td>46.913580</td>\n",
       "      <td>0.81</td>\n",
       "      <td>0.885914</td>\n",
       "    </tr>\n",
       "    <tr>\n",
       "      <th>5</th>\n",
       "      <td>299.0</td>\n",
       "      <td>300.0</td>\n",
       "      <td>A1</td>\n",
       "      <td>1.0</td>\n",
       "      <td>1.0</td>\n",
       "      <td>5.0</td>\n",
       "      <td>1.77</td>\n",
       "      <td>79.909605</td>\n",
       "      <td>0.000000</td>\n",
       "      <td>0.031496</td>\n",
       "      <td>1.27</td>\n",
       "      <td>0.000000</td>\n",
       "    </tr>\n",
       "    <tr>\n",
       "      <th>6</th>\n",
       "      <td>301.0</td>\n",
       "      <td>302.0</td>\n",
       "      <td>A1</td>\n",
       "      <td>1.0</td>\n",
       "      <td>1.0</td>\n",
       "      <td>6.0</td>\n",
       "      <td>2.46</td>\n",
       "      <td>146.914634</td>\n",
       "      <td>52.719512</td>\n",
       "      <td>65.517483</td>\n",
       "      <td>1.43</td>\n",
       "      <td>0.804663</td>\n",
       "    </tr>\n",
       "  </tbody>\n",
       "</table>\n",
       "</div>"
      ],
      "text/plain": [
       "   ParentID     ID WellID  RowID  ColumnID  Index  Area  NucMeanDapi  \\\n",
       "1     291.0  292.0     A1    1.0       1.0    1.0  2.61   134.620690   \n",
       "2     293.0  294.0     A1    1.0       1.0    2.0  1.52   106.664474   \n",
       "3     295.0  296.0     A1    1.0       1.0    3.0  2.92   173.167808   \n",
       "4     297.0  298.0     A1    1.0       1.0    4.0  1.14   110.403509   \n",
       "5     299.0  300.0     A1    1.0       1.0    5.0  1.77    79.909605   \n",
       "6     301.0  302.0     A1    1.0       1.0    6.0  2.46   146.914634   \n",
       "\n",
       "   NucMeanGFP  RingMeanGFP  RingArea     Ratio  \n",
       "1   86.977011   140.496403      1.39  0.619069  \n",
       "2   36.157895    43.940000      1.00  0.822892  \n",
       "3    9.561644     9.416058      1.37  1.015461  \n",
       "4   41.561404    46.913580      0.81  0.885914  \n",
       "5    0.000000     0.031496      1.27  0.000000  \n",
       "6   52.719512    65.517483      1.43  0.804663  "
      ]
     },
     "execution_count": 6,
     "metadata": {},
     "output_type": "execute_result"
    }
   ],
   "source": [
    "# calculate the number of actual measurment parameters for single objects\n",
    "num_param = len(df_single.columns) - num_nonmp\n",
    "print('Number of Object Parameters: ', num_param)\n",
    "\n",
    "# show part of dataframe\n",
    "df_single[:6]"
   ]
  },
  {
   "cell_type": "code",
   "execution_count": 7,
   "metadata": {
    "slideshow": {
     "slide_type": "slide"
    }
   },
   "outputs": [
    {
     "name": "stdout",
     "output_type": "stream",
     "text": [
      "---------------------------------------------------\n",
      "wellID_key :  WellID\n",
      "Found keys:\n",
      "Index(['ParentID', 'ID', 'WellID', 'RowID', 'ColumnID', 'Index', 'Area',\n",
      "       'NucMeanDapi', 'NucMeanGFP', 'RingMeanGFP', 'RingArea', 'Ratio'],\n",
      "      dtype='object')\n",
      "---------------------------------------------------\n"
     ]
    },
    {
     "data": {
      "application/vnd.jupyter.widget-view+json": {
       "model_id": "e09279614d7940a8854a8a8dc3f9a7f6",
       "version_major": 2,
       "version_minor": 0
      },
      "text/plain": [
       "FloatProgress(value=1.0, description='Processing Wells', max=96.0, min=1.0)"
      ]
     },
     "metadata": {},
     "output_type": "display_data"
    },
    {
     "name": "stdout",
     "output_type": "stream",
     "text": [
      "HeatMap:  Area\n",
      "HeatMap:  NucMeanDapi\n",
      "HeatMap:  NucMeanGFP\n",
      "HeatMap:  RingMeanGFP\n",
      "HeatMap:  RingArea\n",
      "HeatMap:  Ratio\n",
      "HeatMap:  ObjectNumbers\n"
     ]
    },
    {
     "data": {
      "text/plain": [
       "dict_keys(['Area', 'NucMeanDapi', 'NucMeanGFP', 'RingMeanGFP', 'RingArea', 'Ratio', 'ObjectNumbers'])"
      ]
     },
     "execution_count": 7,
     "metadata": {},
     "output_type": "execute_result"
    }
   ],
   "source": [
    "# use statistics for a wells to be displayed inside the heatmaps.\n",
    "# currently implemented are mean, median, min, max.\n",
    "stf = 'mean'\n",
    "\n",
    "# create a dictionary containing a dataframe for every measured parameter\n",
    "# as a heatmap and a dictionary containing the values for all wells containing actual data points.\n",
    "\n",
    "heatmap_dict, well_dict = wpt.fill_heatmaps(df_single, num_param, num_nonmp, Nr, Nc,\n",
    "                                            statfunc=stf,\n",
    "                                            showbar=True,\n",
    "                                            verbose=False,\n",
    "                                            wellID_key='WellID',\n",
    "                                            rowID_key='RowID',\n",
    "                                            colID_key='ColumnID')\n",
    "\n",
    "# show all keys\n",
    "heatmap_dict.keys()"
   ]
  },
  {
   "cell_type": "code",
   "execution_count": 8,
   "metadata": {},
   "outputs": [
    {
     "name": "stdout",
     "output_type": "stream",
     "text": [
      "Heatmap image saved as:  Data\\_Primary Object_HM_Ratio.png\n"
     ]
    },
    {
     "data": {
      "image/png": "[encoded data removed]",
      "text/plain": [
       "<Figure size 720x576 with 2 Axes>"
      ]
     },
     "metadata": {},
     "output_type": "display_data"
    }
   ],
   "source": [
    "# define parameter to display a single heatmap\n",
    "parameter2display = 'Ratio'\n",
    "#colormap='Blues'\n",
    "colormap ='YlGnBu'\n",
    "#colormap ='RdBu_r'\n",
    "#colormap = 'RdYlBu'\n",
    "\n",
    "# get the actual heatmap array to display it as an image from the dictionary\n",
    "hm = heatmap_dict[parameter2display]\n",
    "\n",
    "# show the heatmap for a single parameter\n",
    "savename_single = wpt.showheatmap(hm, parameter2display,\n",
    "                                  fontsize_title=16,\n",
    "                                  fontsize_label=12,\n",
    "                                  colormap=colormap,\n",
    "                                  linecolor='black',\n",
    "                                  linewidth=1.0,\n",
    "                                  save=True,\n",
    "                                  filename=filename_single,\n",
    "                                  dpi=300)"
   ]
  },
  {
   "cell_type": "code",
   "execution_count": 9,
   "metadata": {
    "slideshow": {
     "slide_type": "slide"
    }
   },
   "outputs": [
    {
     "name": "stdout",
     "output_type": "stream",
     "text": [
      "Heatmap image saved as:  Data\\_Primary Object_HM_all.png\n"
     ]
    },
    {
     "data": {
      "image/png": "[encoded data removed]",
      "text/plain": [
       "<Figure size 864x720 with 14 Axes>"
      ]
     },
     "metadata": {},
     "output_type": "display_data"
    }
   ],
   "source": [
    "# define parameters to display the heatmap\n",
    "colormap ='YlGnBu'\n",
    "#colormap ='RdBu_r'\n",
    "#colormap = 'Blues'\n",
    "\n",
    "plotgrid, deletelastplot = wpt.determine_plotgrid(num_param + 1, columns=2)\n",
    "\n",
    "# show all heatmaps\n",
    "savename_all = wpt.showheatmap_all(heatmap_dict, plotgrid,\n",
    "                                   fontsize_title=10,\n",
    "                                   fontsize_label=8,\n",
    "                                   colormap=colormap,\n",
    "                                   linecolor='black',\n",
    "                                   linewidth=1.0,\n",
    "                                   save=True,\n",
    "                                   filename=filename_single,\n",
    "                                   deletelast=deletelastplot)"
   ]
  },
  {
   "cell_type": "code",
   "execution_count": 10,
   "metadata": {
    "slideshow": {
     "slide_type": "slide"
    }
   },
   "outputs": [
    {
     "name": "stdout",
     "output_type": "stream",
     "text": [
      "dict_keys(['Area', 'NucMeanDapi', 'NucMeanGFP', 'RingMeanGFP', 'RingArea', 'Ratio', 'ObjectNumbers'])\n"
     ]
    }
   ],
   "source": [
    "# show all key = measure parameters for that dictionary\n",
    "print(heatmap_dict.keys())\n",
    "\n",
    "# show example entry of the dictionary for a parameter\n",
    "well_df = heatmap_dict[parameter2display]\n",
    "rowlabel, collabel = wpt.extract_labels(Nr, Nc)"
   ]
  },
  {
   "cell_type": "code",
   "execution_count": 11,
   "metadata": {},
   "outputs": [
    {
     "data": {
      "text/plain": [
       "WellID                F7\n",
       "RowID                  6\n",
       "ColumnID               7\n",
       "Area             1.83103\n",
       "NucMeanDapi      71.3373\n",
       "NucMeanGFP       84.7163\n",
       "RingMeanGFP      34.6408\n",
       "RingArea         1.19065\n",
       "Ratio            4.20693\n",
       "ObjectNumbers        310\n",
       "Name: 38, dtype: object"
      ]
     },
     "execution_count": 11,
     "metadata": {},
     "output_type": "execute_result"
    }
   ],
   "source": [
    "# example for entry for well ...\n",
    "well_dict['F7']"
   ]
  },
  {
   "cell_type": "code",
   "execution_count": 12,
   "metadata": {},
   "outputs": [],
   "source": [
    "data = [go.Heatmap(z=hm.values.tolist(),\n",
    "                   x=rowlabel,\n",
    "                   y=collabel,\n",
    "                   colorscale='Viridis'),\n",
    "       ]"
   ]
  },
  {
   "cell_type": "code",
   "execution_count": 13,
   "metadata": {},
   "outputs": [],
   "source": [
    "layout = go.Layout(title=parameter2display,\n",
    "                   autosize = True,\n",
    "                   xaxis = dict(#autotick=False,\n",
    "                                title='Columns',\n",
    "                                showgrid=True,\n",
    "                                gridwidth=5,\n",
    "                                #ticks=collabel,\n",
    "                                #ticks='outside',\n",
    "                                nticks=Nc,\n",
    "                                scaleanchor='y',\n",
    "                                scaleratio=0.1),\n",
    "                   yaxis = dict(#autotick=False,\n",
    "                                title='Rows',\n",
    "                                showgrid=True,\n",
    "                                gridwidth=5,\n",
    "                                #ticks=collabel,\n",
    "                                #ticks='inside',\n",
    "                                nticks=Nr,\n",
    "                                autorange='reversed',\n",
    "                                scaleanchor='x',\n",
    "                                scaleratio=0.1),\n",
    "                  )\n",
    "\n",
    "fig = go.Figure(data=data, layout=layout)"
   ]
  },
  {
   "cell_type": "code",
   "execution_count": 14,
   "metadata": {},
   "outputs": [
    {
     "data": {
      "text/html": [
       "<script>requirejs.config({paths: { 'plotly': ['https://cdn.plot.ly/plotly-latest.min']},});if(!window.Plotly) {{require(['plotly'],function(plotly) {window.Plotly=plotly;});}}</script>"
      ],
      "text/vnd.plotly.v1+html": [
       "<script>requirejs.config({paths: { 'plotly': ['https://cdn.plot.ly/plotly-latest.min']},});if(!window.Plotly) {{require(['plotly'],function(plotly) {window.Plotly=plotly;});}}</script>"
      ]
     },
     "metadata": {},
     "output_type": "display_data"
    },
    {
     "data": {
      "application/vnd.plotly.v1+json": {
       "data": [
        {
         "colorscale": "Viridis",
         "type": "heatmap",
         "uid": "c3b7a982-ad26-11e8-a60e-94659c1b21b3",
         "x": [
          "1",
          "2",
          "3",
          "4",
          "5",
          "6",
          "7",
          "8",
          "9",
          "10",
          "11",
          "12"
         ],
         "y": [
          "A",
          "B",
          "C",
          "D",
          "E",
          "F",
          "G",
          "H"
         ],
         "z": [
          [
           0.520084938065865,
           0.5101181992633755,
           0.7090964715331827,
           0.6605671214009416,
           1.0469713989665934,
           2.0604590712394044,
           4.0493729026475345,
           9.091194479446209,
           6.726927681967477,
           7.751362163701758,
           5.325440251942308,
           10.495796268944412
          ],
          [
           0.4340642513775565,
           0.5483953150717699,
           0.7668637156624045,
           0.6034554277564315,
           0.951116389118988,
           2.216965605697852,
           3.998813111753926,
           6.549556107727335,
           7.060788619017417,
           17.041848808431766,
           5.772239062228245,
           11.710504500117436
          ],
          [
           0.5061445743943719,
           0.5046062814852844,
           0.6945488555181201,
           0.5907293909145517,
           1.790761354262664,
           1.8611321368192304,
           6.554602946239455,
           5.461413657982066,
           9.929246035306319,
           5.367587852297876,
           6.898299188871124,
           7.416233892528947
          ],
          [
           0.5235617546551661,
           0.5357236265138023,
           0.7740758002032785,
           0.7358525291045893,
           0.8632725537947491,
           4.755864360877585,
           4.970253461056489,
           4.454375613537032,
           10.344384086663267,
           7.445500820414663,
           6.71671865805061,
           7.395501690447448
          ],
          [
           10.377045132552531,
           0.5438902360562763,
           0.7396144236342387,
           0.6878380783154106,
           1.0635805212266642,
           1.776199894183806,
           4.662670014568468,
           9.103730946809188,
           8.460412460716437,
           17.137060582544468,
           13.897116274964548,
           0.6261173141219976
          ],
          [
           13.540050514505637,
           0.5541589660292877,
           0.625949313294675,
           0.6300416412953878,
           0.7528670590681595,
           2.2917796631779086,
           4.206933276381854,
           9.95029866738316,
           5.775087622557799,
           13.968000192109395,
           9.512637116484644,
           0.5610967757947367
          ],
          [
           12.543264273653776,
           0.5330547964283218,
           0.6886053043871684,
           0.7483056732557901,
           0.9465309733770887,
           1.6824151169541663,
           2.7903972455249186,
           7.53541624518209,
           8.088787792178106,
           11.333643113399328,
           7.286540666628841,
           0.7464155645829907
          ],
          [
           8.476621209716146,
           0.5659057592734332,
           0.8404296883600287,
           0.5917279241008991,
           0.8008878398400663,
           1.0237588611692483,
           3.231710539202306,
           8.406900740129027,
           12.946703861501648,
           16.55092912460932,
           9.059778561062922,
           0.6494990046917606
          ]
         ]
        }
       ],
       "layout": {
        "autosize": true,
        "title": "Ratio",
        "xaxis": {
         "gridwidth": 5,
         "nticks": 12,
         "scaleanchor": "y",
         "scaleratio": 0.1,
         "showgrid": true,
         "title": "Columns"
        },
        "yaxis": {
         "autorange": "reversed",
         "gridwidth": 5,
         "nticks": 8,
         "scaleanchor": "x",
         "scaleratio": 0.1,
         "showgrid": true,
         "title": "Rows"
        }
       }
      },
      "text/html": [
       "<div id=\"a72b4bc8-9dbc-4f95-ae04-32ef7325e490\" style=\"height: 525px; width: 100%;\" class=\"plotly-graph-div\"></div><script type=\"text/javascript\">require([\"plotly\"], function(Plotly) { window.PLOTLYENV=window.PLOTLYENV || {};window.PLOTLYENV.BASE_URL=\"https://plot.ly\";\n",
       "        Plotly.plot(\n",
       "            'a72b4bc8-9dbc-4f95-ae04-32ef7325e490',\n",
       "            [{\"colorscale\": \"Viridis\", \"x\": [\"1\", \"2\", \"3\", \"4\", \"5\", \"6\", \"7\", \"8\", \"9\", \"10\", \"11\", \"12\"], \"y\": [\"A\", \"B\", \"C\", \"D\", \"E\", \"F\", \"G\", \"H\"], \"z\": [[0.520084938065865, 0.5101181992633755, 0.7090964715331827, 0.6605671214009416, 1.0469713989665934, 2.0604590712394044, 4.0493729026475345, 9.091194479446209, 6.726927681967477, 7.751362163701758, 5.325440251942308, 10.495796268944412], [0.4340642513775565, 0.5483953150717699, 0.7668637156624045, 0.6034554277564315, 0.951116389118988, 2.216965605697852, 3.998813111753926, 6.549556107727335, 7.060788619017417, 17.041848808431766, 5.772239062228245, 11.710504500117436], [0.5061445743943719, 0.5046062814852844, 0.6945488555181201, 0.5907293909145517, 1.790761354262664, 1.8611321368192304, 6.554602946239455, 5.461413657982066, 9.929246035306319, 5.367587852297876, 6.898299188871124, 7.416233892528947], [0.5235617546551661, 0.5357236265138023, 0.7740758002032785, 0.7358525291045893, 0.8632725537947491, 4.755864360877585, 4.970253461056489, 4.454375613537032, 10.344384086663267, 7.445500820414663, 6.71671865805061, 7.395501690447448], [10.377045132552531, 0.5438902360562763, 0.7396144236342387, 0.6878380783154106, 1.0635805212266642, 1.776199894183806, 4.662670014568468, 9.103730946809188, 8.460412460716437, 17.137060582544468, 13.897116274964548, 0.6261173141219976], [13.540050514505637, 0.5541589660292877, 0.625949313294675, 0.6300416412953878, 0.7528670590681595, 2.2917796631779086, 4.206933276381854, 9.95029866738316, 5.775087622557799, 13.968000192109395, 9.512637116484644, 0.5610967757947367], [12.543264273653776, 0.5330547964283218, 0.6886053043871684, 0.7483056732557901, 0.9465309733770887, 1.6824151169541663, 2.7903972455249186, 7.53541624518209, 8.088787792178106, 11.333643113399328, 7.286540666628841, 0.7464155645829907], [8.476621209716146, 0.5659057592734332, 0.8404296883600287, 0.5917279241008991, 0.8008878398400663, 1.0237588611692483, 3.231710539202306, 8.406900740129027, 12.946703861501648, 16.55092912460932, 9.059778561062922, 0.6494990046917606]], \"type\": \"heatmap\", \"uid\": \"c3b7a982-ad26-11e8-a60e-94659c1b21b3\"}],\n",
       "            {\"autosize\": true, \"title\": \"Ratio\", \"xaxis\": {\"gridwidth\": 5, \"nticks\": 12, \"scaleanchor\": \"y\", \"scaleratio\": 0.1, \"showgrid\": true, \"title\": \"Columns\"}, \"yaxis\": {\"autorange\": \"reversed\", \"gridwidth\": 5, \"nticks\": 8, \"scaleanchor\": \"x\", \"scaleratio\": 0.1, \"showgrid\": true, \"title\": \"Rows\"}},\n",
       "            {\"showLink\": true, \"linkText\": \"Export to plot.ly\"}\n",
       "        ).then(function () {return Plotly.addFrames('a72b4bc8-9dbc-4f95-ae04-32ef7325e490',{});}).then(function(){Plotly.animate('a72b4bc8-9dbc-4f95-ae04-32ef7325e490');})\n",
       "        });</script>"
      ],
      "text/vnd.plotly.v1+html": [
       "<div id=\"a72b4bc8-9dbc-4f95-ae04-32ef7325e490\" style=\"height: 525px; width: 100%;\" class=\"plotly-graph-div\"></div><script type=\"text/javascript\">require([\"plotly\"], function(Plotly) { window.PLOTLYENV=window.PLOTLYENV || {};window.PLOTLYENV.BASE_URL=\"https://plot.ly\";\n",
       "        Plotly.plot(\n",
       "            'a72b4bc8-9dbc-4f95-ae04-32ef7325e490',\n",
       "            [{\"colorscale\": \"Viridis\", \"x\": [\"1\", \"2\", \"3\", \"4\", \"5\", \"6\", \"7\", \"8\", \"9\", \"10\", \"11\", \"12\"], \"y\": [\"A\", \"B\", \"C\", \"D\", \"E\", \"F\", \"G\", \"H\"], \"z\": [[0.520084938065865, 0.5101181992633755, 0.7090964715331827, 0.6605671214009416, 1.0469713989665934, 2.0604590712394044, 4.0493729026475345, 9.091194479446209, 6.726927681967477, 7.751362163701758, 5.325440251942308, 10.495796268944412], [0.4340642513775565, 0.5483953150717699, 0.7668637156624045, 0.6034554277564315, 0.951116389118988, 2.216965605697852, 3.998813111753926, 6.549556107727335, 7.060788619017417, 17.041848808431766, 5.772239062228245, 11.710504500117436], [0.5061445743943719, 0.5046062814852844, 0.6945488555181201, 0.5907293909145517, 1.790761354262664, 1.8611321368192304, 6.554602946239455, 5.461413657982066, 9.929246035306319, 5.367587852297876, 6.898299188871124, 7.416233892528947], [0.5235617546551661, 0.5357236265138023, 0.7740758002032785, 0.7358525291045893, 0.8632725537947491, 4.755864360877585, 4.970253461056489, 4.454375613537032, 10.344384086663267, 7.445500820414663, 6.71671865805061, 7.395501690447448], [10.377045132552531, 0.5438902360562763, 0.7396144236342387, 0.6878380783154106, 1.0635805212266642, 1.776199894183806, 4.662670014568468, 9.103730946809188, 8.460412460716437, 17.137060582544468, 13.897116274964548, 0.6261173141219976], [13.540050514505637, 0.5541589660292877, 0.625949313294675, 0.6300416412953878, 0.7528670590681595, 2.2917796631779086, 4.206933276381854, 9.95029866738316, 5.775087622557799, 13.968000192109395, 9.512637116484644, 0.5610967757947367], [12.543264273653776, 0.5330547964283218, 0.6886053043871684, 0.7483056732557901, 0.9465309733770887, 1.6824151169541663, 2.7903972455249186, 7.53541624518209, 8.088787792178106, 11.333643113399328, 7.286540666628841, 0.7464155645829907], [8.476621209716146, 0.5659057592734332, 0.8404296883600287, 0.5917279241008991, 0.8008878398400663, 1.0237588611692483, 3.231710539202306, 8.406900740129027, 12.946703861501648, 16.55092912460932, 9.059778561062922, 0.6494990046917606]], \"type\": \"heatmap\", \"uid\": \"c3b7a982-ad26-11e8-a60e-94659c1b21b3\"}],\n",
       "            {\"autosize\": true, \"title\": \"Ratio\", \"xaxis\": {\"gridwidth\": 5, \"nticks\": 12, \"scaleanchor\": \"y\", \"scaleratio\": 0.1, \"showgrid\": true, \"title\": \"Columns\"}, \"yaxis\": {\"autorange\": \"reversed\", \"gridwidth\": 5, \"nticks\": 8, \"scaleanchor\": \"x\", \"scaleratio\": 0.1, \"showgrid\": true, \"title\": \"Rows\"}},\n",
       "            {\"showLink\": true, \"linkText\": \"Export to plot.ly\"}\n",
       "        ).then(function () {return Plotly.addFrames('a72b4bc8-9dbc-4f95-ae04-32ef7325e490',{});}).then(function(){Plotly.animate('a72b4bc8-9dbc-4f95-ae04-32ef7325e490');})\n",
       "        });</script>"
      ]
     },
     "metadata": {},
     "output_type": "display_data"
    }
   ],
   "source": [
    "plotly.offline.init_notebook_mode(connected=True)\n",
    "plotly.offline.iplot(fig, filename='basic-heatmap')"
   ]
  }
 ],
 "metadata": {
  "anaconda-cloud": {},
  "celltoolbar": "Slideshow",
  "kernelspec": {
   "display_name": "Python 3",
   "language": "python",
   "name": "python3"
  },
  "language_info": {
   "codemirror_mode": {
    "name": "ipython",
    "version": 3
   },
   "file_extension": ".py",
   "mimetype": "text/x-python",
   "name": "python",
   "nbconvert_exporter": "python",
   "pygments_lexer": "ipython3",
   "version": "3.6.5"
  },
  "widgets": {
   "state": {
    "562ca47cb51747baa635d7337aa0e0a1": {
     "views": [
      {
       "cell_index": 3
      }
     ]
    }
   },
   "version": "1.2.0"
  }
 },
 "nbformat": 4,
 "nbformat_minor": 2
}
