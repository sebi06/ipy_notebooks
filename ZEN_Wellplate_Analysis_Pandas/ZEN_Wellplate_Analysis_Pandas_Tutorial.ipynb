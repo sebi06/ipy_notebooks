{
 "cells": [
  {
   "cell_type": "markdown",
   "metadata": {
    "slideshow": {
     "slide_type": "slide"
    }
   },
   "source": [
    "This IPython Notebook shows an example on how to easliy analyze data produced by ZEN's image analysis.\n",
    "\n",
    "1. 26 out of of 96 wells with 1 position per well were used for acquistion\n",
    "2. 2 CSV tables were created\n",
    "  * one containing the info for all objects per well\n",
    "  * one containing all single objects --> this is the one that contains all the information\n",
    " \n",
    "Finally the two tables were saved to hard disk. This whole procedure can be completely automated via OAD, if required.\n",
    " \n",
    "**It is also possible to start the analysis steps below from within an OAD macro.**\n",
    "\n",
    "Remark: This notebook illustrates the possibilities to play around with those test images and data."
   ]
  },
  {
   "cell_type": "markdown",
   "metadata": {
    "slideshow": {
     "slide_type": "slide"
    }
   },
   "source": [
    "<img src=\"Data\\Zen_Wellplate_Experiment_26Wells_1Pos.png\" />"
   ]
  },
  {
   "cell_type": "markdown",
   "metadata": {
    "slideshow": {
     "slide_type": "slide"
    }
   },
   "source": [
    "The image above shows the actual setup of the test experiment used to create the data. The resulting image is analyzed in ZEN using a built-in image analyis. The cricial step during the setup of the analysis is to select the correct features that are important to be able to correctly assign the data later on when using the pandas library.\n",
    "\n",
    "<img src=\"Data\\Zen_Wellplate_Experiment_IAS1.png\" />\n",
    "<img src=\"Data\\Zen_Wellplate_Experiment_IAS2.png\" />\n",
    "\n",
    "The result of such an image analyis is shown below. The resulting table can be saves as a CSV table and the imported into Python using the Pandas library.\n",
    "\n",
    "<img src=\"Data\\Zen_Wellplate_Experiment_IAS3.png\" />\n",
    "\n",
    "Now we are ready to start using the Python.\n",
    "\n",
    "**To simplify te required function are placed inside a separate model called wellplate_tools_pandas. This will not explained here in detail.**"
   ]
  },
  {
   "cell_type": "code",
   "execution_count": 2,
   "metadata": {
    "slideshow": {
     "slide_type": "slide"
    }
   },
   "outputs": [],
   "source": [
    "# do the required imports\n",
    "#import warnings\n",
    "#warnings.filterwarnings('ignore')\n",
    "import pandas as pd\n",
    "import sys\n",
    "import matplotlib.pyplot as plt\n",
    "import seaborn as sns\n",
    "sys.path.append(r'Modules')\n",
    "import wellplate_tools_pandas_py3_5 as wpt\n",
    "%matplotlib inline\n",
    "\n",
    "# define the filenames\n",
    "filename_single = 'Data\\96Well_Ch=1_26Wells_1P_Well_SingleRegions.csv'"
   ]
  },
  {
   "cell_type": "code",
   "execution_count": 3,
   "metadata": {
    "slideshow": {
     "slide_type": "slide"
    }
   },
   "outputs": [
    {
     "name": "stdout",
     "output_type": "stream",
     "text": [
      "Number of Object Parameters:  4\n"
     ]
    }
   ],
   "source": [
    "# define wellplate type\n",
    "platetype = 96\n",
    "# get numer of rows and columns\n",
    "Nr, Nc = wpt.getrowandcolumn(platetype)\n",
    "\n",
    "# read the CSV table containing all the single object data for\n",
    "# further \"in-depth\" analysis\n",
    "df_single = pd.read_csv(filename_single, sep=';')\n",
    "\n",
    "# get headers and number of measurment parameters\n",
    "# default number of non-measurement parameters = 5 (the first five columns from ZEN CSV Export)\n",
    "num_nonmp = 5\n",
    "headers = df_single.head(0)\n",
    "num_param = len(df_single.columns) - num_nonmp\n",
    "print('Number of Object Parameters: ', num_param)\n",
    "df_single.rename(columns={df_single.columns[0]: 'WellID',\n",
    "                        df_single.columns[1]: 'RowID',\n",
    "                        df_single.columns[2]: 'ColumnID',\n",
    "                        df_single.columns[3]: 'ID',\n",
    "                        df_single.columns[4]: 'Index'}, inplace=True)"
   ]
  },
  {
   "cell_type": "code",
   "execution_count": 4,
   "metadata": {
    "slideshow": {
     "slide_type": "slide"
    }
   },
   "outputs": [
    {
     "data": {
      "text/html": [
       "<div>\n",
       "<style>\n",
       "    .dataframe thead tr:only-child th {\n",
       "        text-align: right;\n",
       "    }\n",
       "\n",
       "    .dataframe thead th {\n",
       "        text-align: left;\n",
       "    }\n",
       "\n",
       "    .dataframe tbody tr th {\n",
       "        vertical-align: top;\n",
       "    }\n",
       "</style>\n",
       "<table border=\"1\" class=\"dataframe\">\n",
       "  <thead>\n",
       "    <tr style=\"text-align: right;\">\n",
       "      <th></th>\n",
       "      <th>WellID</th>\n",
       "      <th>RowID</th>\n",
       "      <th>ColumnID</th>\n",
       "      <th>ID</th>\n",
       "      <th>Index</th>\n",
       "      <th>IntensityMean_DAPI::Intensity Mean Value of channel 'DAPI'!!R</th>\n",
       "      <th>Area::Area!!R</th>\n",
       "      <th>Perimeter::Perimeter!!R</th>\n",
       "      <th>Roundness::Roundness!!R</th>\n",
       "    </tr>\n",
       "  </thead>\n",
       "  <tbody>\n",
       "    <tr>\n",
       "      <th>1</th>\n",
       "      <td>A1</td>\n",
       "      <td>1.0</td>\n",
       "      <td>1.0</td>\n",
       "      <td>2.0</td>\n",
       "      <td>1.0</td>\n",
       "      <td>88.544643</td>\n",
       "      <td>369.359872</td>\n",
       "      <td>72.898118</td>\n",
       "      <td>0.685591</td>\n",
       "    </tr>\n",
       "    <tr>\n",
       "      <th>2</th>\n",
       "      <td>A1</td>\n",
       "      <td>1.0</td>\n",
       "      <td>1.0</td>\n",
       "      <td>3.0</td>\n",
       "      <td>2.0</td>\n",
       "      <td>89.075472</td>\n",
       "      <td>524.359104</td>\n",
       "      <td>88.930542</td>\n",
       "      <td>0.562352</td>\n",
       "    </tr>\n",
       "    <tr>\n",
       "      <th>3</th>\n",
       "      <td>A1</td>\n",
       "      <td>1.0</td>\n",
       "      <td>1.0</td>\n",
       "      <td>4.0</td>\n",
       "      <td>3.0</td>\n",
       "      <td>127.159184</td>\n",
       "      <td>807.974720</td>\n",
       "      <td>108.412448</td>\n",
       "      <td>0.612860</td>\n",
       "    </tr>\n",
       "  </tbody>\n",
       "</table>\n",
       "</div>"
      ],
      "text/plain": [
       "  WellID  RowID  ColumnID   ID  Index  \\\n",
       "1     A1    1.0       1.0  2.0    1.0   \n",
       "2     A1    1.0       1.0  3.0    2.0   \n",
       "3     A1    1.0       1.0  4.0    3.0   \n",
       "\n",
       "   IntensityMean_DAPI::Intensity Mean Value of channel 'DAPI'!!R  \\\n",
       "1                                          88.544643               \n",
       "2                                          89.075472               \n",
       "3                                         127.159184               \n",
       "\n",
       "   Area::Area!!R  Perimeter::Perimeter!!R  Roundness::Roundness!!R  \n",
       "1     369.359872                72.898118                 0.685591  \n",
       "2     524.359104                88.930542                 0.562352  \n",
       "3     807.974720               108.412448                 0.612860  "
      ]
     },
     "execution_count": 4,
     "metadata": {},
     "output_type": "execute_result"
    }
   ],
   "source": [
    "# remove rows with units\n",
    "df_single = wpt.remove_units(df_single)\n",
    "# convert decimal separators\n",
    "df_single = wpt.convert_dec_sep(df_single)\n",
    "\n",
    "# show part of dataframe\n",
    "df_single[:3]"
   ]
  },
  {
   "cell_type": "code",
   "execution_count": 5,
   "metadata": {
    "slideshow": {
     "slide_type": "slide"
    }
   },
   "outputs": [
    {
     "name": "stdout",
     "output_type": "stream",
     "text": [
      "---------------------------------------------------\n",
      "wellID_key :  WellID\n",
      "Found keys:\n",
      "Index(['WellID', 'RowID', 'ColumnID', 'ID', 'Index',\n",
      "       'IntensityMean_DAPI::Intensity Mean Value of channel 'DAPI'!!R',\n",
      "       'Area::Area!!R', 'Perimeter::Perimeter!!R', 'Roundness::Roundness!!R'],\n",
      "      dtype='object')\n",
      "---------------------------------------------------\n"
     ]
    },
    {
     "data": {
      "application/vnd.jupyter.widget-view+json": {
       "model_id": "f1cae638c2a94c5ab106281348db2685",
       "version_major": 2,
       "version_minor": 0
      },
      "text/plain": [
       "A Jupyter Widget"
      ]
     },
     "metadata": {},
     "output_type": "display_data"
    },
    {
     "name": "stdout",
     "output_type": "stream",
     "text": [
      "dict_keys([\"IntensityMean_DAPI::Intensity Mean Value of channel 'DAPI'!!R\", 'Area::Area!!R', 'Perimeter::Perimeter!!R', 'Roundness::Roundness!!R', 'ObjectNumbers'])\n"
     ]
    }
   ],
   "source": [
    "# use statistics --> we just calculate the mean values\n",
    "# for a wells to be displayed inside the heatmaps.\n",
    "# currently implemented are mean, median, min, max.\n",
    "stf = 'mean'\n",
    "\n",
    "# create a dictionary containing a dataframe for every measure parameters\n",
    "# as a heatmap and a dictionary containing the mean values for all wells\n",
    "# containing actual data points.\n",
    "heatmap_dict, well_dict = wpt.fill_heatmaps(df_single, num_param, Nr, Nc, statfunc=stf, showbar=True, verbose=False)\n",
    "\n",
    "# show all keys\n",
    "print(heatmap_dict.keys())"
   ]
  },
  {
   "cell_type": "code",
   "execution_count": 6,
   "metadata": {},
   "outputs": [
    {
     "data": {
      "text/plain": [
       "WellID                                                                 C3\n",
       "RowID                                                                   3\n",
       "ColumnID                                                                3\n",
       "IntensityMean_DAPI::Intensity Mean Value of channel 'DAPI'!!R     63.3364\n",
       "Area::Area!!R                                                     531.537\n",
       "Perimeter::Perimeter!!R                                           89.3823\n",
       "Roundness::Roundness!!R                                          0.592467\n",
       "ObjectNumbers                                                         170\n",
       "Name: 23, dtype: object"
      ]
     },
     "execution_count": 6,
     "metadata": {},
     "output_type": "execute_result"
    }
   ],
   "source": [
    "# example for entry for well C3\n",
    "well_dict['C3']"
   ]
  },
  {
   "cell_type": "markdown",
   "metadata": {
    "slideshow": {
     "slide_type": "slide"
    }
   },
   "source": [
    "This is brief description about the steps executed inside the **fill_heatmaps** function. It creates a dictionary containing heatmaps (dataframes) for all measured parameters.\n",
    "    \n",
    "1. Determine how many wells actually contain data\n",
    "2. Loop over all wells\n",
    "3. Extract only data fro current well from dataframe and calc statistics\n",
    "4. Save the results in a dictionary containing entries for all wells\n",
    "5. Fill the arrays with the values for the measured parameters from the well dictionary\n",
    "6. Create a dictionary that contains heatmaps (dataframes) for all measured parameters\n",
    "\n",
    "Input Parameters:\n",
    "\n",
    "* input data frame\n",
    "* number of measured parameters except the object number\n",
    "* number of rows of well plate --> 96 plate = 8\n",
    "* number of rows of well plate --> 96 plate = 12\n",
    "* choice which statistics should be calculated\n",
    "\n",
    "Output Parameters:\n",
    "\n",
    "* dictionary containing one dataframe for all measured parameters plus one entry the object numbers\n",
    "* dictionary containing entries for every well analyzed with the values calculated by the statistical function"
   ]
  },
  {
   "cell_type": "code",
   "execution_count": 7,
   "metadata": {
    "slideshow": {
     "slide_type": "slide"
    }
   },
   "outputs": [
    {
     "name": "stdout",
     "output_type": "stream",
     "text": [
      "Heatmap image saved as:  Data\\96Well_Ch=1_26Wells_1P_Well_SingleRegions_HM_ObjectNumbers.png\n"
     ]
    },
    {
     "data": {
      "text/plain": [
       "'Data\\\\96Well_Ch=1_26Wells_1P_Well_SingleRegions_HM_ObjectNumbers.png'"
      ]
     },
     "execution_count": 7,
     "metadata": {},
     "output_type": "execute_result"
    },
    {
     "data": {
      "image/png": "[encoded data removed]",
      "text/plain": [
       "<matplotlib.figure.Figure at 0x209e6beaa20>"
      ]
     },
     "metadata": {},
     "output_type": "display_data"
    }
   ],
   "source": [
    "# define parameters to display the heatmap\n",
    "parameter2display = 'ObjectNumbers'\n",
    "colormap='Blues'\n",
    "#colormap ='YlGnBu'\n",
    "#colormap ='RdBu_r'\n",
    "#colormap = 'RdYlBu'\n",
    "hm = heatmap_dict[parameter2display]\n",
    "\n",
    "# show the heatmap for a single parameter\n",
    "wpt.showheatmap(hm, parameter2display, fontsize_title=16, fontsize_label=12,\n",
    "               colormap=colormap, save=True, filename=filename_single)"
   ]
  },
  {
   "cell_type": "code",
   "execution_count": 8,
   "metadata": {
    "slideshow": {
     "slide_type": "subslide"
    }
   },
   "outputs": [
    {
     "data": {
      "text/plain": [
       "dict_keys([\"IntensityMean_DAPI::Intensity Mean Value of channel 'DAPI'!!R\", 'Area::Area!!R', 'Perimeter::Perimeter!!R', 'Roundness::Roundness!!R', 'ObjectNumbers'])"
      ]
     },
     "execution_count": 8,
     "metadata": {},
     "output_type": "execute_result"
    }
   ],
   "source": [
    "# show all key = measure parameters for that dictionary\n",
    "heatmap_dict.keys()"
   ]
  },
  {
   "cell_type": "code",
   "execution_count": 9,
   "metadata": {
    "slideshow": {
     "slide_type": "subslide"
    }
   },
   "outputs": [
    {
     "data": {
      "text/html": [
       "<div>\n",
       "<style>\n",
       "    .dataframe thead tr:only-child th {\n",
       "        text-align: right;\n",
       "    }\n",
       "\n",
       "    .dataframe thead th {\n",
       "        text-align: left;\n",
       "    }\n",
       "\n",
       "    .dataframe tbody tr th {\n",
       "        vertical-align: top;\n",
       "    }\n",
       "</style>\n",
       "<table border=\"1\" class=\"dataframe\">\n",
       "  <thead>\n",
       "    <tr style=\"text-align: right;\">\n",
       "      <th></th>\n",
       "      <th>1</th>\n",
       "      <th>2</th>\n",
       "      <th>3</th>\n",
       "      <th>4</th>\n",
       "      <th>5</th>\n",
       "      <th>6</th>\n",
       "      <th>7</th>\n",
       "      <th>8</th>\n",
       "      <th>9</th>\n",
       "      <th>10</th>\n",
       "      <th>11</th>\n",
       "      <th>12</th>\n",
       "    </tr>\n",
       "  </thead>\n",
       "  <tbody>\n",
       "    <tr>\n",
       "      <th>A</th>\n",
       "      <td>326.0</td>\n",
       "      <td>271.0</td>\n",
       "      <td>244.0</td>\n",
       "      <td>207.0</td>\n",
       "      <td>215.0</td>\n",
       "      <td>233.0</td>\n",
       "      <td>215.0</td>\n",
       "      <td>212.0</td>\n",
       "      <td>204.0</td>\n",
       "      <td>176.0</td>\n",
       "      <td>179.0</td>\n",
       "      <td>198.0</td>\n",
       "    </tr>\n",
       "    <tr>\n",
       "      <th>B</th>\n",
       "      <td>NaN</td>\n",
       "      <td>NaN</td>\n",
       "      <td>NaN</td>\n",
       "      <td>NaN</td>\n",
       "      <td>NaN</td>\n",
       "      <td>NaN</td>\n",
       "      <td>NaN</td>\n",
       "      <td>NaN</td>\n",
       "      <td>NaN</td>\n",
       "      <td>NaN</td>\n",
       "      <td>NaN</td>\n",
       "      <td>NaN</td>\n",
       "    </tr>\n",
       "    <tr>\n",
       "      <th>C</th>\n",
       "      <td>NaN</td>\n",
       "      <td>NaN</td>\n",
       "      <td>170.0</td>\n",
       "      <td>NaN</td>\n",
       "      <td>212.0</td>\n",
       "      <td>NaN</td>\n",
       "      <td>257.0</td>\n",
       "      <td>NaN</td>\n",
       "      <td>NaN</td>\n",
       "      <td>NaN</td>\n",
       "      <td>NaN</td>\n",
       "      <td>NaN</td>\n",
       "    </tr>\n",
       "    <tr>\n",
       "      <th>D</th>\n",
       "      <td>NaN</td>\n",
       "      <td>NaN</td>\n",
       "      <td>NaN</td>\n",
       "      <td>NaN</td>\n",
       "      <td>NaN</td>\n",
       "      <td>NaN</td>\n",
       "      <td>NaN</td>\n",
       "      <td>NaN</td>\n",
       "      <td>NaN</td>\n",
       "      <td>NaN</td>\n",
       "      <td>NaN</td>\n",
       "      <td>NaN</td>\n",
       "    </tr>\n",
       "    <tr>\n",
       "      <th>E</th>\n",
       "      <td>NaN</td>\n",
       "      <td>NaN</td>\n",
       "      <td>219.0</td>\n",
       "      <td>235.0</td>\n",
       "      <td>214.0</td>\n",
       "      <td>NaN</td>\n",
       "      <td>200.0</td>\n",
       "      <td>NaN</td>\n",
       "      <td>NaN</td>\n",
       "      <td>NaN</td>\n",
       "      <td>NaN</td>\n",
       "      <td>NaN</td>\n",
       "    </tr>\n",
       "    <tr>\n",
       "      <th>F</th>\n",
       "      <td>NaN</td>\n",
       "      <td>NaN</td>\n",
       "      <td>202.0</td>\n",
       "      <td>171.0</td>\n",
       "      <td>181.0</td>\n",
       "      <td>NaN</td>\n",
       "      <td>NaN</td>\n",
       "      <td>NaN</td>\n",
       "      <td>NaN</td>\n",
       "      <td>NaN</td>\n",
       "      <td>NaN</td>\n",
       "      <td>NaN</td>\n",
       "    </tr>\n",
       "    <tr>\n",
       "      <th>G</th>\n",
       "      <td>NaN</td>\n",
       "      <td>NaN</td>\n",
       "      <td>182.0</td>\n",
       "      <td>152.0</td>\n",
       "      <td>161.0</td>\n",
       "      <td>NaN</td>\n",
       "      <td>202.0</td>\n",
       "      <td>NaN</td>\n",
       "      <td>NaN</td>\n",
       "      <td>NaN</td>\n",
       "      <td>NaN</td>\n",
       "      <td>NaN</td>\n",
       "    </tr>\n",
       "    <tr>\n",
       "      <th>H</th>\n",
       "      <td>NaN</td>\n",
       "      <td>NaN</td>\n",
       "      <td>NaN</td>\n",
       "      <td>NaN</td>\n",
       "      <td>NaN</td>\n",
       "      <td>NaN</td>\n",
       "      <td>NaN</td>\n",
       "      <td>NaN</td>\n",
       "      <td>NaN</td>\n",
       "      <td>NaN</td>\n",
       "      <td>NaN</td>\n",
       "      <td>NaN</td>\n",
       "    </tr>\n",
       "  </tbody>\n",
       "</table>\n",
       "</div>"
      ],
      "text/plain": [
       "       1      2      3      4      5      6      7      8      9     10  \\\n",
       "A  326.0  271.0  244.0  207.0  215.0  233.0  215.0  212.0  204.0  176.0   \n",
       "B    NaN    NaN    NaN    NaN    NaN    NaN    NaN    NaN    NaN    NaN   \n",
       "C    NaN    NaN  170.0    NaN  212.0    NaN  257.0    NaN    NaN    NaN   \n",
       "D    NaN    NaN    NaN    NaN    NaN    NaN    NaN    NaN    NaN    NaN   \n",
       "E    NaN    NaN  219.0  235.0  214.0    NaN  200.0    NaN    NaN    NaN   \n",
       "F    NaN    NaN  202.0  171.0  181.0    NaN    NaN    NaN    NaN    NaN   \n",
       "G    NaN    NaN  182.0  152.0  161.0    NaN  202.0    NaN    NaN    NaN   \n",
       "H    NaN    NaN    NaN    NaN    NaN    NaN    NaN    NaN    NaN    NaN   \n",
       "\n",
       "      11     12  \n",
       "A  179.0  198.0  \n",
       "B    NaN    NaN  \n",
       "C    NaN    NaN  \n",
       "D    NaN    NaN  \n",
       "E    NaN    NaN  \n",
       "F    NaN    NaN  \n",
       "G    NaN    NaN  \n",
       "H    NaN    NaN  "
      ]
     },
     "execution_count": 9,
     "metadata": {},
     "output_type": "execute_result"
    }
   ],
   "source": [
    "# show example entry of the dictionary for a parameter\n",
    "heatmap_dict['ObjectNumbers']"
   ]
  },
  {
   "cell_type": "code",
   "execution_count": 10,
   "metadata": {
    "collapsed": true
   },
   "outputs": [
    {
     "name": "stdout",
     "output_type": "stream",
     "text": [
      "Heatmap image saved as:  Data\\96Well_Ch=1_26Wells_1P_Well_SingleRegions_HM_all.png\n"
     ]
    },
    {
     "data": {
      "text/plain": [
       "'Data\\\\96Well_Ch=1_26Wells_1P_Well_SingleRegions_HM_all.png'"
      ]
     },
     "execution_count": 10,
     "metadata": {},
     "output_type": "execute_result"
    },
    {
     "data": {
      "image/png": "[encoded data removed]",
      "text/plain": [
       "<matplotlib.figure.Figure at 0x209e6ca7e80>"
      ]
     },
     "metadata": {},
     "output_type": "display_data"
    }
   ],
   "source": [
    "# define parameters to display the heatmap\n",
    "fs_title = 10\n",
    "fs_label = 8\n",
    "#colormap ='YlGnBu'\n",
    "#colormap ='RdBu_r'\n",
    "colormap = 'Blues'\n",
    "\n",
    "# show all heatmaps\n",
    "wpt.showheatmap_all(heatmap_dict, [3, 2], fontsize_title=fs_title, fontsize_label=fs_label,\n",
    "                    colormap='Blues', save=True, filename=filename_single)"
   ]
  },
  {
   "cell_type": "code",
   "execution_count": null,
   "metadata": {},
   "outputs": [],
   "source": []
  }
 ],
 "metadata": {
  "anaconda-cloud": {},
  "celltoolbar": "Slideshow",
  "kernelspec": {
   "display_name": "Python 3",
   "language": "python",
   "name": "python3"
  },
  "language_info": {
   "codemirror_mode": {
    "name": "ipython",
    "version": 3
   },
   "file_extension": ".py",
   "mimetype": "text/x-python",
   "name": "python",
   "nbconvert_exporter": "python",
   "pygments_lexer": "ipython3",
   "version": "3.6.3"
  }
 },
 "nbformat": 4,
 "nbformat_minor": 2
}
