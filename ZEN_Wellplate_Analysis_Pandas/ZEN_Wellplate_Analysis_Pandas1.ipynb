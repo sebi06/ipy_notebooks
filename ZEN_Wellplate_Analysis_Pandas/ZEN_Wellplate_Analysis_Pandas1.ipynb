{
 "cells": [
  {
   "cell_type": "code",
   "execution_count": null,
   "metadata": {
    "collapsed": true,
    "slideshow": {
     "slide_type": "slide"
    }
   },
   "outputs": [],
   "source": [
    "This IPython Notebook shows an example on how to easliy analyze data produced by ZEN's image analysis.\n",
    "\n",
    "1. 26 out of of 96 wells with 1 position per well were used for acquistion\n",
    "2. 2 CSV tables were created\n",
    "  * one containing the info for all objects per well\n",
    "  * one containing all single objects --> this is the one that contains all the information\n",
    " \n",
    "Finally the two tables were saved to hard disk. This whole procedure can be completely automated via OAD, if required.\n",
    " \n",
    "**It is also possible to start the analysis steps below from within an OAD macro.**\n",
    "\n",
    "Remark: This notebook illustrates the possibilities to play around with those test images and data."
   ]
  },
  {
   "cell_type": "markdown",
   "metadata": {
    "slideshow": {
     "slide_type": "slide"
    }
   },
   "source": [
    "<img src=\"Data\\Zen_Wellplate_Experiment_26Wells_1Pos.png\" />"
   ]
  },
  {
   "cell_type": "markdown",
   "metadata": {
    "slideshow": {
     "slide_type": "slide"
    }
   },
   "source": [
    "The image above shows the actual setup of the test experiment used to create the data. The resulting image is analyzed in ZEN using a built-in image analyis. The cricial step during the setup of the analysis is to select the correct features that are important to be able to correctly assign the data later on when using the pandas library.\n",
    "\n",
    "<img src=\"Data\\Zen_Wellplate_Experiment_IAS1.png\" />\n",
    "<img src=\"Data\\Zen_Wellplate_Experiment_IAS2.png\" />\n",
    "\n",
    "The result of such an image analyis is shown below. The resulting table can be saves as a CSV table and the imported into Python using the Pandas library.\n",
    "\n",
    "<img src=\"Data\\Zen_Wellplate_Experiment_IAS3.png\" />\n",
    "\n",
    "Now we are ready to start using the Python.\n",
    "\n",
    "**To simplify te required function are placed inside a separate model called wellplate_tools_pandas. This will not explained here in detail.**"
   ]
  },
  {
   "cell_type": "code",
   "execution_count": 1,
   "metadata": {
    "slideshow": {
     "slide_type": "slide"
    }
   },
   "outputs": [
    {
     "name": "stderr",
     "output_type": "stream",
     "text": [
      "C:\\Anaconda\\lib\\site-packages\\matplotlib\\__init__.py:872: UserWarning: axes.color_cycle is deprecated and replaced with axes.prop_cycle; please use the latter.\n",
      "  warnings.warn(self.msg_depr % (key, alt_key))\n"
     ]
    }
   ],
   "source": [
    "# do the required imports\n",
    "import warnings\n",
    "warnings.filterwarnings('ignore')\n",
    "import pandas as pd\n",
    "import sys\n",
    "import matplotlib.pyplot as plt\n",
    "import seaborn as sns\n",
    "sys.path.append(r'Modules')\n",
    "import wellplate_tools_pandas as wpp\n",
    "%matplotlib inline\n",
    "\n",
    "# define the filenames\n",
    "filename_single = 'Data\\96Well_Ch=1_26Wells_1P_Well_SingleRegions.csv'"
   ]
  },
  {
   "cell_type": "code",
   "execution_count": 2,
   "metadata": {
    "slideshow": {
     "slide_type": "slide"
    }
   },
   "outputs": [
    {
     "data": {
      "text/html": [
       "<div>\n",
       "<table border=\"1\" class=\"dataframe\">\n",
       "  <thead>\n",
       "    <tr style=\"text-align: right;\">\n",
       "      <th></th>\n",
       "      <th>WellID</th>\n",
       "      <th>RowID</th>\n",
       "      <th>ColumnID</th>\n",
       "      <th>ID</th>\n",
       "      <th>Index</th>\n",
       "      <th>DAPI_Mean</th>\n",
       "      <th>Area</th>\n",
       "      <th>Perimeter</th>\n",
       "      <th>Roundness</th>\n",
       "    </tr>\n",
       "  </thead>\n",
       "  <tbody>\n",
       "    <tr>\n",
       "      <th>1</th>\n",
       "      <td>A1</td>\n",
       "      <td>1</td>\n",
       "      <td>1</td>\n",
       "      <td>2</td>\n",
       "      <td>1</td>\n",
       "      <td>88.544643</td>\n",
       "      <td>369.359872</td>\n",
       "      <td>72.898118</td>\n",
       "      <td>0.685591</td>\n",
       "    </tr>\n",
       "    <tr>\n",
       "      <th>2</th>\n",
       "      <td>A1</td>\n",
       "      <td>1</td>\n",
       "      <td>1</td>\n",
       "      <td>3</td>\n",
       "      <td>2</td>\n",
       "      <td>89.075472</td>\n",
       "      <td>524.359104</td>\n",
       "      <td>88.930542</td>\n",
       "      <td>0.562352</td>\n",
       "    </tr>\n",
       "    <tr>\n",
       "      <th>3</th>\n",
       "      <td>A1</td>\n",
       "      <td>1</td>\n",
       "      <td>1</td>\n",
       "      <td>4</td>\n",
       "      <td>3</td>\n",
       "      <td>127.159184</td>\n",
       "      <td>807.974720</td>\n",
       "      <td>108.412448</td>\n",
       "      <td>0.612860</td>\n",
       "    </tr>\n",
       "  </tbody>\n",
       "</table>\n",
       "</div>"
      ],
      "text/plain": [
       "  WellID  RowID  ColumnID  ID  Index   DAPI_Mean        Area   Perimeter  \\\n",
       "1     A1      1         1   2      1   88.544643  369.359872   72.898118   \n",
       "2     A1      1         1   3      2   89.075472  524.359104   88.930542   \n",
       "3     A1      1         1   4      3  127.159184  807.974720  108.412448   \n",
       "\n",
       "   Roundness  \n",
       "1   0.685591  \n",
       "2   0.562352  \n",
       "3   0.612860  "
      ]
     },
     "execution_count": 2,
     "metadata": {},
     "output_type": "execute_result"
    }
   ],
   "source": [
    "# define wellplate type --> here a 96 wellplate was used\n",
    "Nr = 8\n",
    "Nc = 12\n",
    "\n",
    "# define number of measured parameters beside the actual object number\n",
    "num_measured_parameters = 4\n",
    "\n",
    "# THIS PARAMETER LIST DEPENDS ON THE ACTUAL IAS IN ZEN AND MUST BE ADAPTED\n",
    "parameter_list = ['DAPI_Mean', 'Area', 'Perimeter', 'Roundness']\n",
    "\n",
    "# read the CSV table containing all the single object data for further \"in-depth\" analysis\n",
    "df_single = pd.read_csv(filename_single, sep=';')\n",
    "\n",
    "# rename columns and correct data types\n",
    "df_single = wpp.rename_col_fromcsv_single(df_single, parameter_list)\n",
    "\n",
    "# show part of dataframe\n",
    "df_single[:3]"
   ]
  },
  {
   "cell_type": "code",
   "execution_count": 3,
   "metadata": {
    "slideshow": {
     "slide_type": "slide"
    }
   },
   "outputs": [],
   "source": [
    "# use statistics --> to keep the example simple we calculate the mean values for a wells to be displayed inside the heatmaps.\n",
    "# currently implemented are mean, median, min, max. But this can be easily extended. \n",
    "stf = 'mean'\n",
    "\n",
    "# create a dictionary containing a dataframe for every measure parameters as a heatmap\n",
    "# and a dictionary containg the mean values for all wells containg actual data points.\n",
    "# --> this function contains all the \"magic\" ...\n",
    "heatmap_dict, well_dict = wpp.fill_heatmaps(df_single, num_measured_parameters, Nr, Nc, statfunc=stf, verbose=False)"
   ]
  },
  {
   "cell_type": "code",
   "execution_count": 4,
   "metadata": {},
   "outputs": [
    {
     "data": {
      "text/plain": [
       "RowID             3.000000\n",
       "ColumnID          3.000000\n",
       "ID               86.500000\n",
       "Index            85.500000\n",
       "DAPI_Mean        63.336430\n",
       "Area            531.536791\n",
       "Perimeter        89.382251\n",
       "Roundness         0.592467\n",
       "ObjectNumber    170.000000\n",
       "dtype: float64"
      ]
     },
     "execution_count": 4,
     "metadata": {},
     "output_type": "execute_result"
    }
   ],
   "source": [
    "# example for entry for well C3\n",
    "well_dict['C3']"
   ]
  },
  {
   "cell_type": "markdown",
   "metadata": {
    "slideshow": {
     "slide_type": "slide"
    }
   },
   "source": [
    "This is brief description about the steps executed inside the **fill_heatmaps** function. It creates a dictionary containing heatmaps (dataframes) for all measured parameters.\n",
    "    \n",
    "1. Determine how many wells actually contain data\n",
    "2. Loop over all wells\n",
    "3. Extract only data fro current well from dataframe and calc statistics\n",
    "4. Save the results in a dictionary containing entries for all wells\n",
    "5. Fill the arrays with the values for the measured parameters from the well dictionary\n",
    "6. Create a dictionary that contains heatmaps (dataframes) for all measured parameters\n",
    "\n",
    "Input Parameters:\n",
    "\n",
    "* input data frame\n",
    "* number of measured parameters except the object number\n",
    "* number of rows of well plate --> 96 plate = 8\n",
    "* number of rows of well plate --> 96 plate = 12\n",
    "* choice which statistics should be calculated\n",
    "\n",
    "Output Parameters:\n",
    "\n",
    "* dictionary containing one dataframe for all measured parameters plus one entry the object numbers\n",
    "* dictionary containing entries for every well analyzed with the values calculated by the statistical function"
   ]
  },
  {
   "cell_type": "code",
   "execution_count": 5,
   "metadata": {
    "slideshow": {
     "slide_type": "slide"
    }
   },
   "outputs": [
    {
     "data": {
      "image/png": "[encoded data removed]",
      "text/plain": [
       "<matplotlib.figure.Figure at 0x3aadd68>"
      ]
     },
     "metadata": {},
     "output_type": "display_data"
    }
   ],
   "source": [
    "# create figure with subplots\n",
    "fig, axn = plt.subplots(3, 2, figsize=(12, 10))\n",
    "# counter for the graphs to plot while iterating over all measured params\n",
    "plotid = -1\n",
    "\n",
    "# test heatmaps\n",
    "for key in heatmap_dict.iterkeys():\n",
    "\n",
    "    plotid = plotid + 1\n",
    "    # get the desired heatmap from the dictionary containing all heatmaps\n",
    "    heatmap_test = heatmap_dict[key]\n",
    "    # create the actual heatmap\n",
    "    ax = sns.heatmap(heatmap_test, ax=axn.flat[plotid], cmap=\"YlGnBu\", linecolor='black', square=True)\n",
    "\n",
    "    # customize the plot to your needs\n",
    "    ax.set_title(key, fontsize=16)\n",
    "    for tick in ax.xaxis.get_major_ticks():\n",
    "        tick.label.set_fontsize(14)\n",
    "    for tick in ax.yaxis.get_major_ticks():\n",
    "        tick.label.set_fontsize(14)\n",
    "\n",
    "# delete subplot number 6 because it is not needed here\n",
    "fig.delaxes(axn.flat[5])\n",
    "# modify the layout so the the axis labels and titles do not overlap\n",
    "plt.tight_layout()\n",
    "# show plots\n",
    "plt.show()"
   ]
  },
  {
   "cell_type": "code",
   "execution_count": 6,
   "metadata": {
    "slideshow": {
     "slide_type": "subslide"
    }
   },
   "outputs": [
    {
     "data": {
      "text/plain": [
       "['Perimeter', 'DAPI_Mean', 'Roundness', 'ObjectNumber', 'Area']"
      ]
     },
     "execution_count": 6,
     "metadata": {},
     "output_type": "execute_result"
    }
   ],
   "source": [
    "# show all key = measure parameters for that dictionary\n",
    "heatmap_dict.keys()"
   ]
  },
  {
   "cell_type": "code",
   "execution_count": 7,
   "metadata": {
    "slideshow": {
     "slide_type": "subslide"
    }
   },
   "outputs": [
    {
     "data": {
      "text/html": [
       "<div>\n",
       "<table border=\"1\" class=\"dataframe\">\n",
       "  <thead>\n",
       "    <tr style=\"text-align: right;\">\n",
       "      <th></th>\n",
       "      <th>1</th>\n",
       "      <th>2</th>\n",
       "      <th>3</th>\n",
       "      <th>4</th>\n",
       "      <th>5</th>\n",
       "      <th>6</th>\n",
       "      <th>7</th>\n",
       "      <th>8</th>\n",
       "      <th>9</th>\n",
       "      <th>10</th>\n",
       "      <th>11</th>\n",
       "      <th>12</th>\n",
       "    </tr>\n",
       "  </thead>\n",
       "  <tbody>\n",
       "    <tr>\n",
       "      <th>A</th>\n",
       "      <td>326</td>\n",
       "      <td>271</td>\n",
       "      <td>244</td>\n",
       "      <td>207</td>\n",
       "      <td>215</td>\n",
       "      <td>233</td>\n",
       "      <td>215</td>\n",
       "      <td>212</td>\n",
       "      <td>204</td>\n",
       "      <td>176</td>\n",
       "      <td>179</td>\n",
       "      <td>198</td>\n",
       "    </tr>\n",
       "    <tr>\n",
       "      <th>B</th>\n",
       "      <td>NaN</td>\n",
       "      <td>NaN</td>\n",
       "      <td>NaN</td>\n",
       "      <td>NaN</td>\n",
       "      <td>NaN</td>\n",
       "      <td>NaN</td>\n",
       "      <td>NaN</td>\n",
       "      <td>NaN</td>\n",
       "      <td>NaN</td>\n",
       "      <td>NaN</td>\n",
       "      <td>NaN</td>\n",
       "      <td>NaN</td>\n",
       "    </tr>\n",
       "    <tr>\n",
       "      <th>C</th>\n",
       "      <td>NaN</td>\n",
       "      <td>NaN</td>\n",
       "      <td>170</td>\n",
       "      <td>NaN</td>\n",
       "      <td>212</td>\n",
       "      <td>NaN</td>\n",
       "      <td>257</td>\n",
       "      <td>NaN</td>\n",
       "      <td>NaN</td>\n",
       "      <td>NaN</td>\n",
       "      <td>NaN</td>\n",
       "      <td>NaN</td>\n",
       "    </tr>\n",
       "    <tr>\n",
       "      <th>D</th>\n",
       "      <td>NaN</td>\n",
       "      <td>NaN</td>\n",
       "      <td>NaN</td>\n",
       "      <td>NaN</td>\n",
       "      <td>NaN</td>\n",
       "      <td>NaN</td>\n",
       "      <td>NaN</td>\n",
       "      <td>NaN</td>\n",
       "      <td>NaN</td>\n",
       "      <td>NaN</td>\n",
       "      <td>NaN</td>\n",
       "      <td>NaN</td>\n",
       "    </tr>\n",
       "    <tr>\n",
       "      <th>E</th>\n",
       "      <td>NaN</td>\n",
       "      <td>NaN</td>\n",
       "      <td>219</td>\n",
       "      <td>235</td>\n",
       "      <td>214</td>\n",
       "      <td>NaN</td>\n",
       "      <td>200</td>\n",
       "      <td>NaN</td>\n",
       "      <td>NaN</td>\n",
       "      <td>NaN</td>\n",
       "      <td>NaN</td>\n",
       "      <td>NaN</td>\n",
       "    </tr>\n",
       "    <tr>\n",
       "      <th>F</th>\n",
       "      <td>NaN</td>\n",
       "      <td>NaN</td>\n",
       "      <td>202</td>\n",
       "      <td>171</td>\n",
       "      <td>181</td>\n",
       "      <td>NaN</td>\n",
       "      <td>NaN</td>\n",
       "      <td>NaN</td>\n",
       "      <td>NaN</td>\n",
       "      <td>NaN</td>\n",
       "      <td>NaN</td>\n",
       "      <td>NaN</td>\n",
       "    </tr>\n",
       "    <tr>\n",
       "      <th>G</th>\n",
       "      <td>NaN</td>\n",
       "      <td>NaN</td>\n",
       "      <td>182</td>\n",
       "      <td>152</td>\n",
       "      <td>161</td>\n",
       "      <td>NaN</td>\n",
       "      <td>202</td>\n",
       "      <td>NaN</td>\n",
       "      <td>NaN</td>\n",
       "      <td>NaN</td>\n",
       "      <td>NaN</td>\n",
       "      <td>NaN</td>\n",
       "    </tr>\n",
       "    <tr>\n",
       "      <th>H</th>\n",
       "      <td>NaN</td>\n",
       "      <td>NaN</td>\n",
       "      <td>NaN</td>\n",
       "      <td>NaN</td>\n",
       "      <td>NaN</td>\n",
       "      <td>NaN</td>\n",
       "      <td>NaN</td>\n",
       "      <td>NaN</td>\n",
       "      <td>NaN</td>\n",
       "      <td>NaN</td>\n",
       "      <td>NaN</td>\n",
       "      <td>NaN</td>\n",
       "    </tr>\n",
       "  </tbody>\n",
       "</table>\n",
       "</div>"
      ],
      "text/plain": [
       "     1    2    3    4    5    6    7    8    9   10   11   12\n",
       "A  326  271  244  207  215  233  215  212  204  176  179  198\n",
       "B  NaN  NaN  NaN  NaN  NaN  NaN  NaN  NaN  NaN  NaN  NaN  NaN\n",
       "C  NaN  NaN  170  NaN  212  NaN  257  NaN  NaN  NaN  NaN  NaN\n",
       "D  NaN  NaN  NaN  NaN  NaN  NaN  NaN  NaN  NaN  NaN  NaN  NaN\n",
       "E  NaN  NaN  219  235  214  NaN  200  NaN  NaN  NaN  NaN  NaN\n",
       "F  NaN  NaN  202  171  181  NaN  NaN  NaN  NaN  NaN  NaN  NaN\n",
       "G  NaN  NaN  182  152  161  NaN  202  NaN  NaN  NaN  NaN  NaN\n",
       "H  NaN  NaN  NaN  NaN  NaN  NaN  NaN  NaN  NaN  NaN  NaN  NaN"
      ]
     },
     "execution_count": 7,
     "metadata": {},
     "output_type": "execute_result"
    }
   ],
   "source": [
    "# show example entry of the dictionary for a parameter\n",
    "heatmap_dict['ObjectNumber']"
   ]
  },
  {
   "cell_type": "code",
   "execution_count": null,
   "metadata": {
    "collapsed": true
   },
   "outputs": [],
   "source": []
  }
 ],
 "metadata": {
  "anaconda-cloud": {},
  "celltoolbar": "Slideshow",
  "kernelspec": {
   "display_name": "Python 3",
   "language": "python",
   "name": "python3"
  },
  "language_info": {
   "codemirror_mode": {
    "name": "ipython",
    "version": 3
   },
   "file_extension": ".py",
   "mimetype": "text/x-python",
   "name": "python",
   "nbconvert_exporter": "python",
   "pygments_lexer": "ipython3",
   "version": "3.6.2"
  }
 },
 "nbformat": 4,
 "nbformat_minor": 1
}
