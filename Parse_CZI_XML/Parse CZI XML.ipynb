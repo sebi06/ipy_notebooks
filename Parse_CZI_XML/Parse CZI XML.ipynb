{
 "cells": [
  {
   "cell_type": "markdown",
   "metadata": {},
   "source": [
    "The python module czifile.py provides are very convientient way to parse the CZI XML matadata structure. It is part of the python extension packe vLFD provided by Christoph Golke and can be found here:\n",
    "<style>a:link {color:#0000ff;background-color:transparent;text-decoration:none;}</style>\n",
    "<a href=\"http://www.lfd.uci.edu/~gohlke/pythonlibs/#vlfd\">http://www.lfd.uci.edu/~gohlke/pythonlibs/#vlfd</a>\n",
    "\n",
    "More detailed information about the CZI file format can be found here:\n",
    "\n",
    "<a href=\"http://www.zeiss.com/microscopy/en_de/products/microscope-software/zen-2012/czi.html\">http://www.zeiss.com/microscopy/en_de/products/microscope-software/zen-2012/czi.html</a>\n",
    "\n",
    "To basic principles and the usage of the The ElementTree XML API are explained here:\n",
    "\n",
    "<a href=\"https://docs.python.org/2/library/xml.etree.elementtree.html\">https://docs.python.org/2/library/xml.etree.elementtree.htm</a>"
   ]
  },
  {
   "cell_type": "code",
   "execution_count": 1,
   "metadata": {},
   "outputs": [
    {
     "ename": "ImportError",
     "evalue": "cannot import name FileHandle",
     "output_type": "error",
     "traceback": [
      "\u001b[1;31m---------------------------------------------------------------------------\u001b[0m",
      "\u001b[1;31mImportError\u001b[0m                               Traceback (most recent call last)",
      "\u001b[1;32m<ipython-input-1-3377f4151e94>\u001b[0m in \u001b[0;36m<module>\u001b[1;34m()\u001b[0m\n\u001b[1;32m----> 1\u001b[1;33m \u001b[1;32mfrom\u001b[0m \u001b[0mczifile\u001b[0m \u001b[1;32mimport\u001b[0m \u001b[1;33m*\u001b[0m\u001b[1;33m\u001b[0m\u001b[0m\n\u001b[0m\u001b[0;32m      2\u001b[0m \u001b[1;33m\u001b[0m\u001b[0m\n\u001b[0;32m      3\u001b[0m \u001b[0mimagefile\u001b[0m \u001b[1;33m=\u001b[0m \u001b[1;34mr'Data\\WP_96_Positions.czi'\u001b[0m\u001b[1;33m\u001b[0m\u001b[0m\n\u001b[0;32m      4\u001b[0m \u001b[0mczi\u001b[0m \u001b[1;33m=\u001b[0m \u001b[0mCziFile\u001b[0m\u001b[1;33m(\u001b[0m\u001b[0mimagefile\u001b[0m\u001b[1;33m)\u001b[0m\u001b[1;33m\u001b[0m\u001b[0m\n\u001b[0;32m      5\u001b[0m \u001b[0mtree\u001b[0m \u001b[1;33m=\u001b[0m \u001b[0mczi\u001b[0m\u001b[1;33m.\u001b[0m\u001b[0mmetadata\u001b[0m\u001b[1;33m.\u001b[0m\u001b[0mgetroottree\u001b[0m\u001b[1;33m(\u001b[0m\u001b[1;33m)\u001b[0m\u001b[1;33m\u001b[0m\u001b[0m\n",
      "\u001b[1;32mC:\\Python27\\lib\\site-packages\\vlfd\\czifile.py\u001b[0m in \u001b[0;36m<module>\u001b[1;34m()\u001b[0m\n\u001b[0;32m    115\u001b[0m \u001b[1;32mfrom\u001b[0m \u001b[0mscipy\u001b[0m\u001b[1;33m.\u001b[0m\u001b[0mndimage\u001b[0m\u001b[1;33m.\u001b[0m\u001b[0minterpolation\u001b[0m \u001b[1;32mimport\u001b[0m \u001b[0mzoom\u001b[0m\u001b[1;33m\u001b[0m\u001b[0m\n\u001b[0;32m    116\u001b[0m \u001b[1;33m\u001b[0m\u001b[0m\n\u001b[1;32m--> 117\u001b[1;33m \u001b[1;32mfrom\u001b[0m \u001b[0mtifffile\u001b[0m \u001b[1;32mimport\u001b[0m \u001b[0mFileHandle\u001b[0m\u001b[1;33m,\u001b[0m \u001b[0mdecodelzw\u001b[0m\u001b[1;33m,\u001b[0m \u001b[0mlazyattr\u001b[0m\u001b[1;33m,\u001b[0m \u001b[0mstripnull\u001b[0m\u001b[1;33m\u001b[0m\u001b[0m\n\u001b[0m\u001b[0;32m    118\u001b[0m \u001b[1;33m\u001b[0m\u001b[0m\n\u001b[0;32m    119\u001b[0m \u001b[1;32mtry\u001b[0m\u001b[1;33m:\u001b[0m\u001b[1;33m\u001b[0m\u001b[0m\n",
      "\u001b[1;31mImportError\u001b[0m: cannot import name FileHandle"
     ]
    }
   ],
   "source": [
    "from czifile import *\n",
    "\n",
    "imagefile = r'Data\\WP_96_Positions.czi'\n",
    "czi = CziFile(imagefile)\n",
    "tree = czi.metadata.getroottree()\n",
    "root = tree.getroot()\n",
    "czi.close()"
   ]
  },
  {
   "cell_type": "markdown",
   "metadata": {},
   "source": [
    "Optionally it might be useful to create an XML file and write it to disk."
   ]
  },
  {
   "cell_type": "code",
   "execution_count": 2,
   "metadata": {},
   "outputs": [
    {
     "name": "stdout",
     "output_type": "stream",
     "text": [
      "XML metadata filename :  Data\\WP_96_Positions_MetaData.xml\n"
     ]
    }
   ],
   "source": [
    "# Change File name and write XML file to same folder\n",
    "xmlfile = imagefile.replace('.czi', '_MetaData.xml')\n",
    "tree.write(xmlfile, encoding='utf-8', method='xml')\n",
    "print 'XML metadata filename : ', xmlfile"
   ]
  },
  {
   "cell_type": "markdown",
   "metadata": {},
   "source": [
    "Now let´s play a bit around with xml data set.theGet the root.tag and its attribute. Look for the first child."
   ]
  },
  {
   "cell_type": "code",
   "execution_count": 4,
   "metadata": {},
   "outputs": [
    {
     "data": {
      "text/plain": [
       "('ImageDocument', {})"
      ]
     },
     "execution_count": 4,
     "output_type": "execute_result",
     "metadata": {}
    }
   ],
   "source": [
    "root.tag, root.attrib"
   ]
  },
  {
   "cell_type": "code",
   "execution_count": 5,
   "metadata": {},
   "outputs": [
    {
     "name": "stdout",
     "output_type": "stream",
     "text": [
      "Metadata {}\n"
     ]
    }
   ],
   "source": [
    "for child in root:\n",
    "    print child.tag, child.attrib"
   ]
  },
  {
   "cell_type": "markdown",
   "metadata": {},
   "source": [
    "Now we start parsing for actually interesting data inside the XML document. The easiest thing is check experiment attribute. In this cas the keyword is \"Version\"."
   ]
  },
  {
   "cell_type": "code",
   "execution_count": 6,
   "metadata": {},
   "outputs": [
    {
     "name": "stdout",
     "output_type": "stream",
     "text": [
      "Experiment\n",
      "{'Version': '1.1'}\n",
      "1.1\n"
     ]
    }
   ],
   "source": [
    "for exp in root.iter('Experiment'):\n",
    "    print exp.tag\n",
    "    print exp.attrib\n",
    "    print exp.attrib[\"Version\"]"
   ]
  },
  {
   "cell_type": "markdown",
   "metadata": {},
   "source": [
    "Or try out a different attribute just for fun."
   ]
  },
  {
   "cell_type": "code",
   "execution_count": 7,
   "metadata": {},
   "outputs": [
    {
     "name": "stdout",
     "output_type": "stream",
     "text": [
      "RegionsSetup\n",
      "{'IsActivated': 'true'}\n",
      "true\n"
     ]
    }
   ],
   "source": [
    "for exp in root.iter('RegionsSetup'):\n",
    "    print exp.tag\n",
    "    print exp.attrib\n",
    "    print exp.attrib[\"IsActivated\"]"
   ]
  },
  {
   "cell_type": "markdown",
   "metadata": {},
   "source": [
    "Let us assume the experiment was to acquire a single image per well using a 96 well plate. The resulting CZI contains all the image data and the meta information including the <b>scence container name</b> (e.g. A3 etc.) as well. Inside a CZI XML structure those wells are called <b>SingleTileRegions</b>.\n",
    "\n",
    "The idea is too find all such regions, counts them and store their names inside a list."
   ]
  },
  {
   "cell_type": "code",
   "execution_count": 8,
   "metadata": {},
   "outputs": [
    {
     "name": "stdout",
     "output_type": "stream",
     "text": [
      "Total Wells :  96\n",
      "['A1', 'A2', 'A3', 'A4', 'A5', 'A6', 'A7', 'A8', 'A9', 'A10', 'A11', 'A12', 'B1', 'B2', 'B3', 'B4', 'B5', 'B6', 'B7', 'B8', 'B9', 'B10', 'B11', 'B12', 'C1', 'C2', 'C3', 'C4', 'C5', 'C6', 'C7', 'C8', 'C9', 'C10', 'C11', 'C12', 'D1', 'D2', 'D3', 'D4', 'D5', 'D6', 'D7', 'D8', 'D9', 'D10', 'D11', 'D12', 'E1', 'E2', 'E3', 'E4', 'E5', 'E6', 'E7', 'E8', 'E9', 'E10', 'E11', 'E12', 'F1', 'F2', 'F3', 'F4', 'F5', 'F6', 'F7', 'F8', 'F9', 'F10', 'F11', 'F12', 'G1', 'G2', 'G3', 'G4', 'G5', 'G6', 'G7', 'G8', 'G9', 'G10', 'G11', 'G12', 'H1', 'H2', 'H3', 'H4', 'H5', 'H6', 'H7', 'H8', 'H9', 'H10', 'H11', 'H12']\n"
     ]
    }
   ],
   "source": [
    "numwells = 0\n",
    "wellID = []\n",
    "\n",
    "for elem in root.findall(\".//SingleTileRegionArray\"):\n",
    "    #print elem.tag\n",
    "    #print elem.attrib[\"Name\"]\n",
    "    numwells = numwells + 1\n",
    "    wellID.append(elem.attrib[\"Name\"])\n",
    "\n",
    "print \"Total Wells : \", numwells\n",
    "print wellID"
   ]
  }
 ],
 "metadata": {
  "kernelspec": {
   "display_name": "Python 2",
   "language": "python",
   "name": "python2"
  },
  "language_info": {
   "codemirror_mode": {
    "name": "ipython",
    "version": 2.0
   },
   "file_extension": ".py",
   "mimetype": "text/x-python",
   "name": "python",
   "nbconvert_exporter": "python",
   "pygments_lexer": "ipython2",
   "version": "2.7.10"
  }
 },
 "nbformat": 4,
 "nbformat_minor": 0
}