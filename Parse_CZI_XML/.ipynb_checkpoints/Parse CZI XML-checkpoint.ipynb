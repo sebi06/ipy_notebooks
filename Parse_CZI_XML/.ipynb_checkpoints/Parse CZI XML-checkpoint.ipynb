{
 "metadata": {
  "name": "",
  "signature": "sha256:8228b80897567b578d7a06d6d70cdeb7bbd8f1a336654425651229ad73f1afd6"
 },
 "nbformat": 3,
 "nbformat_minor": 0,
 "worksheets": [
  {
   "cells": [
    {
     "cell_type": "markdown",
     "metadata": {},
     "source": [
      "The python module czifile.py provides are very convientient way to parse the CZI XML matadata structure. It is part of the python extension packe vLFD provided by Christoph Golke and can be found here:\n",
      "<style>a:link {color:#0000ff;background-color:transparent;text-decoration:none;}</style>\n",
      "<a href=\"http://www.lfd.uci.edu/~gohlke/pythonlibs/#vlfd\">http://www.lfd.uci.edu/~gohlke/pythonlibs/#vlfd</a>\n",
      "\n",
      "More detailed information about the CZI file format can be found here:\n",
      "\n",
      "<a href=\"http://www.zeiss.com/microscopy/en_de/products/microscope-software/zen-2012/czi.html\">http://www.zeiss.com/microscopy/en_de/products/microscope-software/zen-2012/czi.html</a>\n",
      "\n",
      "To basic principles and the usage of the The ElementTree XML API are explained here:\n",
      "\n",
      "<a href=\"https://docs.python.org/2/library/xml.etree.elementtree.html\">https://docs.python.org/2/library/xml.etree.elementtree.htm</a>"
     ]
    },
    {
     "cell_type": "code",
     "collapsed": false,
     "input": [
      "from czifile import *\n",
      "\n",
      "imagefile = r'Data\\WP_96_Positions.czi'\n",
      "czi = CziFile(imagefile)\n",
      "tree = czi.metadata.getroottree()\n",
      "root = tree.getroot()\n",
      "czi.close()"
     ],
     "language": "python",
     "metadata": {},
     "outputs": [],
     "prompt_number": 1
    },
    {
     "cell_type": "markdown",
     "metadata": {},
     "source": [
      "Optionally it might be useful to create an XML file and write it to disk."
     ]
    },
    {
     "cell_type": "code",
     "collapsed": false,
     "input": [
      "# Change File name and write XML file to same folder\n",
      "xmlfile = imagefile.replace('.czi', '_MetaData.xml')\n",
      "tree.write(xmlfile, encoding='utf-8', method='xml')\n",
      "print 'XML metadata filename : ', xmlfile"
     ],
     "language": "python",
     "metadata": {},
     "outputs": [
      {
       "output_type": "stream",
       "stream": "stdout",
       "text": [
        "XML metadata filename :  Data\\WP_96_Positions_MetaData.xml\n"
       ]
      }
     ],
     "prompt_number": 2
    },
    {
     "cell_type": "markdown",
     "metadata": {},
     "source": [
      "Now let\u00b4s play a bit around with xml data set.theGet the root.tag and its attribute. Look for the first child."
     ]
    },
    {
     "cell_type": "code",
     "collapsed": false,
     "input": [
      "root.tag, root.attrib"
     ],
     "language": "python",
     "metadata": {},
     "outputs": [
      {
       "metadata": {},
       "output_type": "pyout",
       "prompt_number": 4,
       "text": [
        "('ImageDocument', {})"
       ]
      }
     ],
     "prompt_number": 4
    },
    {
     "cell_type": "code",
     "collapsed": false,
     "input": [
      "for child in root:\n",
      "    print child.tag, child.attrib"
     ],
     "language": "python",
     "metadata": {},
     "outputs": [
      {
       "output_type": "stream",
       "stream": "stdout",
       "text": [
        "Metadata {}\n"
       ]
      }
     ],
     "prompt_number": 5
    },
    {
     "cell_type": "markdown",
     "metadata": {},
     "source": [
      "Now we start parsing for actually interesting data inside the XML document. The easiest thing is check experiment attribute. In this cas the keyword is \"Version\"."
     ]
    },
    {
     "cell_type": "code",
     "collapsed": false,
     "input": [
      "for exp in root.iter('Experiment'):\n",
      "    print exp.tag\n",
      "    print exp.attrib\n",
      "    print exp.attrib[\"Version\"]"
     ],
     "language": "python",
     "metadata": {},
     "outputs": [
      {
       "output_type": "stream",
       "stream": "stdout",
       "text": [
        "Experiment\n",
        "{'Version': '1.1'}\n",
        "1.1\n"
       ]
      }
     ],
     "prompt_number": 6
    },
    {
     "cell_type": "markdown",
     "metadata": {},
     "source": [
      "Or try out a different attribute just for fun."
     ]
    },
    {
     "cell_type": "code",
     "collapsed": false,
     "input": [
      "for exp in root.iter('RegionsSetup'):\n",
      "    print exp.tag\n",
      "    print exp.attrib\n",
      "    print exp.attrib[\"IsActivated\"]"
     ],
     "language": "python",
     "metadata": {},
     "outputs": [
      {
       "output_type": "stream",
       "stream": "stdout",
       "text": [
        "RegionsSetup\n",
        "{'IsActivated': 'true'}\n",
        "true\n"
       ]
      }
     ],
     "prompt_number": 7
    },
    {
     "cell_type": "markdown",
     "metadata": {},
     "source": [
      "Let us assume the experiment was to acquire a single image per well using a 96 well plate. The resulting CZI contains all the image data and the meta information including the <b>scence container name</b> (e.g. A3 etc.) as well. Inside a CZI XML structure those wells are called <b>SingleTileRegions</b>.\n",
      "\n",
      "The idea is too find all such regions, counts them and store their names inside a list."
     ]
    },
    {
     "cell_type": "code",
     "collapsed": false,
     "input": [
      "numwells = 0\n",
      "wellID = []\n",
      "\n",
      "for elem in root.findall(\".//SingleTileRegionArray\"):\n",
      "    #print elem.tag\n",
      "    #print elem.attrib[\"Name\"]\n",
      "    numwells = numwells + 1\n",
      "    wellID.append(elem.attrib[\"Name\"])\n",
      "\n",
      "print \"Total Wells : \", numwells\n",
      "print wellID"
     ],
     "language": "python",
     "metadata": {},
     "outputs": [
      {
       "output_type": "stream",
       "stream": "stdout",
       "text": [
        "Total Wells :  96\n",
        "['A1', 'A2', 'A3', 'A4', 'A5', 'A6', 'A7', 'A8', 'A9', 'A10', 'A11', 'A12', 'B1', 'B2', 'B3', 'B4', 'B5', 'B6', 'B7', 'B8', 'B9', 'B10', 'B11', 'B12', 'C1', 'C2', 'C3', 'C4', 'C5', 'C6', 'C7', 'C8', 'C9', 'C10', 'C11', 'C12', 'D1', 'D2', 'D3', 'D4', 'D5', 'D6', 'D7', 'D8', 'D9', 'D10', 'D11', 'D12', 'E1', 'E2', 'E3', 'E4', 'E5', 'E6', 'E7', 'E8', 'E9', 'E10', 'E11', 'E12', 'F1', 'F2', 'F3', 'F4', 'F5', 'F6', 'F7', 'F8', 'F9', 'F10', 'F11', 'F12', 'G1', 'G2', 'G3', 'G4', 'G5', 'G6', 'G7', 'G8', 'G9', 'G10', 'G11', 'G12', 'H1', 'H2', 'H3', 'H4', 'H5', 'H6', 'H7', 'H8', 'H9', 'H10', 'H11', 'H12']\n"
       ]
      }
     ],
     "prompt_number": 8
    }
   ],
   "metadata": {}
  }
 ]
}