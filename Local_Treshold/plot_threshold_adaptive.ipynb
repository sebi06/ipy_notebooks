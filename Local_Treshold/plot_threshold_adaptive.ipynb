{
 "cells": [
  {
   "cell_type": "code",
   "execution_count": 1,
   "metadata": {
    "collapsed": false
   },
   "outputs": [],
   "source": [
    "%matplotlib inline"
   ]
  },
  {
   "cell_type": "markdown",
   "metadata": {},
   "source": [
    "<div class=\"document\" id=\"adaptive-thresholding\">\n",
    "<h1 class=\"title\">Adaptive Thresholding</h1>\n",
    "<p>Thresholding is the simplest way to segment objects from a background. If that\n",
    "background is relatively uniform, then you can use a global threshold value to\n",
    "binarize the image by pixel-intensity. If there's large variation in the\n",
    "background intensity, however, adaptive thresholding (a.k.a. local or dynamic\n",
    "thresholding) may produce better results.</p>\n",
    "<p>Here, we binarize an image using the <cite>threshold_adaptive</cite> function, which\n",
    "calculates thresholds in regions of size <cite>block_size</cite> surrounding each pixel\n",
    "(i.e. local neighborhoods). Each threshold value is the weighted mean of the\n",
    "local neighborhood minus an offset value.</p>\n",
    "</div>\n"
   ]
  },
  {
   "cell_type": "code",
   "execution_count": 2,
   "metadata": {
    "collapsed": false
   },
   "outputs": [
    {
     "name": "stdout",
     "output_type": "stream",
     "text": [
      "(500L, 500L)\n"
     ]
    }
   ],
   "source": [
    "import matplotlib.pyplot as plt\n",
    "import numpy as np\n",
    "from skimage import data\n",
    "from skimage.filters import threshold_otsu, threshold_adaptive, gaussian_filter\n",
    "from scipy import ndimage as ndi\n",
    "from skimage.morphology import watershed\n",
    "from skimage.filters import sobel\n",
    "from skimage.external.tifffile import TiffFile\n",
    "from skimage import morphology\n",
    "   \n",
    "path = r'c:\\Users\\M1SRH\\Documents\\Projects\\Customer_Projects\\Rare_Event_LaserDissection_Michael Graf\\GFP_Mutant_EDF\\GFP_WT_EDF'\n",
    "filename = r'\\GFP_WT_EDF_s05_ORG.tif'\n",
    "\n",
    "with TiffFile(path + filename) as tif:\n",
    "    imagestack = tif.asarray()\n",
    "    print imagestack.shape\n",
    "\n",
    "tif.close()"
   ]
  },
  {
   "cell_type": "code",
   "execution_count": 7,
   "metadata": {
    "collapsed": false
   },
   "outputs": [
    {
     "name": "stdout",
     "output_type": "stream",
     "text": [
      "(500L, 500L)\n",
      "0.0786843737032\n",
      "0.00395563837784\n"
     ]
    }
   ],
   "source": [
    "# choose plane\n",
    "#plane = 0\n",
    "#image = imagestack[plane, :, :]\n",
    "image = imagestack\n",
    "\n",
    "# smooth the image\n",
    "image = gaussian_filter(image, sigma=3)\n",
    "#elevation_map = sobel(image)\n",
    "print image.shape\n",
    "print image.max()\n",
    "print image.min()"
   ]
  },
  {
   "cell_type": "code",
   "execution_count": 8,
   "metadata": {
    "collapsed": false
   },
   "outputs": [
    {
     "name": "stdout",
     "output_type": "stream",
     "text": [
      "0.0178213216902\n"
     ]
    }
   ],
   "source": [
    "global_thresh = threshold_otsu(image)\n",
    "print global_thresh\n",
    "binary_global = image > global_thresh\n",
    "\n",
    "block_size = 200\n",
    "binary_adaptive = threshold_adaptive(image, block_size, offset=image.min()*0.1)"
   ]
  },
  {
   "cell_type": "code",
   "execution_count": 9,
   "metadata": {
    "collapsed": true
   },
   "outputs": [],
   "source": [
    "markers = np.zeros_like(image)\n",
    "markers[image < global_thresh] = 1\n",
    "markers[image > global_thresh] = 2\n",
    "#markers[image < 0.01] = 1\n",
    "#markers[image > 0.1] = 2"
   ]
  },
  {
   "cell_type": "code",
   "execution_count": 10,
   "metadata": {
    "collapsed": false
   },
   "outputs": [
    {
     "data": {
      "text/plain": [
       "<matplotlib.text.Text at 0x1991c080>"
      ]
     },
     "execution_count": 10,
     "metadata": {},
     "output_type": "execute_result"
    },
    {
     "data": {
      "image/png": "[encoded data removed]",
      "text/plain": [
       "<matplotlib.figure.Figure at 0xa3a60b8>"
      ]
     },
     "metadata": {},
     "output_type": "display_data"
    }
   ],
   "source": [
    "from skimage.feature import peak_local_max\n",
    "from skimage.measure import label\n",
    "\n",
    "distance = ndi.distance_transform_edt(binary_global)\n",
    "local_maxi = peak_local_max(distance, indices=False, footprint=np.ones((3, 3)), labels=binary_global)\n",
    "markers = label(local_maxi)\n",
    "labels_ws = watershed(-distance, markers, mask=binary_global)\n",
    "\n",
    "fig, axes = plt.subplots(ncols=3,  figsize=(16, 16))\n",
    "ax0, ax1, ax2 = axes\n",
    "plt.gray()\n",
    "\n",
    "ax0.imshow(distance)\n",
    "ax0.set_title('Distance Map')\n",
    "\n",
    "ax1.imshow(markers)\n",
    "ax1.set_title('Markers')\n",
    "\n",
    "ax2.imshow(labels_ws)\n",
    "ax2.set_title('Labels after watershed')\n"
   ]
  },
  {
   "cell_type": "code",
   "execution_count": 11,
   "metadata": {
    "collapsed": false
   },
   "outputs": [],
   "source": [
    "binary_global = watershed(image, markers)\n",
    "#binary_adaptive = watershed(image, markers)\n",
    "binary_global = ndi.binary_fill_holes(binary_global-1)\n",
    "binary_adaptive = ndi.binary_fill_holes(binary_adaptive-1)"
   ]
  },
  {
   "cell_type": "code",
   "execution_count": 12,
   "metadata": {
    "collapsed": false
   },
   "outputs": [
    {
     "name": "stderr",
     "output_type": "stream",
     "text": [
      "C:\\Anaconda\\lib\\site-packages\\skimage\\morphology\\misc.py:119: UserWarning: Only one label was provided to `remove_small_objects`. Did you mean to use a boolean array?\n",
      "  warnings.warn(\"Only one label was provided to `remove_small_objects`. \"\n"
     ]
    }
   ],
   "source": [
    "# remove small objects\n",
    "binary_global_cleaned = morphology.remove_small_objects(binary_global, 100)\n",
    "#label_objects, nb_labels = ndi.label(binary_global)\n",
    "#sizes = np.bincount(label_objects.ravel())\n",
    "#mask_sizes = sizes > 20\n",
    "#mask_sizes[0] = 0\n",
    "#cells_cleaned = mask_sizes[label_objects]"
   ]
  },
  {
   "cell_type": "code",
   "execution_count": 13,
   "metadata": {
    "collapsed": false
   },
   "outputs": [
    {
     "data": {
      "image/png": "[encoded data removed]",
      "text/plain": [
       "<matplotlib.figure.Figure at 0x19468710>"
      ]
     },
     "metadata": {},
     "output_type": "display_data"
    }
   ],
   "source": [
    "fig, axes = plt.subplots(ncols=4,  figsize=(16, 16))\n",
    "ax0, ax1, ax2, ax3 = axes\n",
    "plt.gray()\n",
    "\n",
    "ax0.imshow(image)\n",
    "ax0.set_title('Image')\n",
    "\n",
    "ax1.imshow(markers)\n",
    "ax1.set_title('Markers')\n",
    "\n",
    "#ax2.imshow(binary_global)\n",
    "#ax2.set_title('Global thresholding')\n",
    "\n",
    "ax2.imshow(binary_global_cleaned)\n",
    "ax2.set_title('Global thresholding Cleaned')\n",
    "\n",
    "ax3.imshow(labels_ws)\n",
    "ax3.set_title('Labels WS')\n",
    "\n",
    "#ax3.imshow(binary_adaptive)\n",
    "#ax3.set_title('Adaptive thresholding')\n",
    "\n",
    "for ax in axes:\n",
    "    ax.axis('off')\n",
    "\n",
    "plt.show()"
   ]
  },
  {
   "cell_type": "code",
   "execution_count": null,
   "metadata": {
    "collapsed": true
   },
   "outputs": [],
   "source": []
  }
 ],
 "metadata": {
  "kernelspec": {
   "display_name": "Python 2",
   "language": "python",
   "name": "python2"
  },
  "language_info": {
   "codemirror_mode": {
    "name": "ipython",
    "version": 2
   },
   "file_extension": ".py",
   "mimetype": "text/x-python",
   "name": "python",
   "nbconvert_exporter": "python",
   "pygments_lexer": "ipython2",
   "version": "2.7.10"
  }
 },
 "nbformat": 4,
 "nbformat_minor": 0
}
