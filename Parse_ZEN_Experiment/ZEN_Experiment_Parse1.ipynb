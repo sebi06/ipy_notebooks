{
 "cells": [
  {
   "cell_type": "code",
   "execution_count": 5,
   "metadata": {
    "collapsed": false
   },
   "outputs": [],
   "source": [
    "# do the required imports\n",
    "import sys\n",
    "import xml.etree.cElementTree as ET\n",
    "sys.path.append(r'Modules')\n",
    "import ZenExpParse as zp\n",
    "%matplotlib inline"
   ]
  },
  {
   "cell_type": "code",
   "execution_count": 6,
   "metadata": {
    "collapsed": false
   },
   "outputs": [],
   "source": [
    "# define the ZEN experiment file (XML) and get the xml-tree\n",
    "expfile = 'Data/Objektivtest.czexp'\n",
    "exp_xmltree = ET.ElementTree(file=expfile)"
   ]
  },
  {
   "cell_type": "code",
   "execution_count": 7,
   "metadata": {
    "collapsed": false
   },
   "outputs": [],
   "source": [
    "# parse all tracks and all hardware settings\n",
    "tracks =zp.parse_tracks_bfhws(exp_xmltree)\n",
    "bfhws = zp.parse_hardwaresettings(exp_xmltree)"
   ]
  },
  {
   "cell_type": "code",
   "execution_count": 8,
   "metadata": {
    "collapsed": false
   },
   "outputs": [
    {
     "data": {
      "text/plain": [
       "{'TL Brightfield': {'BeforeHardwareSetting': 'Vor [Brigh]',\n",
       "  'isActivated': 'true',\n",
       "  'isSelected': 'false'},\n",
       " 'TL Brightfield_10': {'BeforeHardwareSetting': 'Vor [Brigh]_10',\n",
       "  'isActivated': 'true',\n",
       "  'isSelected': 'false'},\n",
       " 'TL Brightfield_2': {'BeforeHardwareSetting': 'Vor [Brigh]_2',\n",
       "  'isActivated': 'true',\n",
       "  'isSelected': 'false'},\n",
       " 'TL Brightfield_3': {'BeforeHardwareSetting': 'Vor [Brigh]_3',\n",
       "  'isActivated': 'true',\n",
       "  'isSelected': 'false'},\n",
       " 'TL Brightfield_4': {'BeforeHardwareSetting': 'Vor [Brigh]_4',\n",
       "  'isActivated': 'true',\n",
       "  'isSelected': 'false'},\n",
       " 'TL Brightfield_5': {'BeforeHardwareSetting': 'Vor [Brigh]_5',\n",
       "  'isActivated': 'true',\n",
       "  'isSelected': 'false'},\n",
       " 'TL Brightfield_6': {'BeforeHardwareSetting': 'Vor [Brigh]_6',\n",
       "  'isActivated': 'true',\n",
       "  'isSelected': 'true'},\n",
       " 'TL Brightfield_7': {'BeforeHardwareSetting': 'Vor [Brigh]_7',\n",
       "  'isActivated': 'true',\n",
       "  'isSelected': 'false'},\n",
       " 'TL Brightfield_8': {'BeforeHardwareSetting': 'Vor [Brigh]_8',\n",
       "  'isActivated': 'true',\n",
       "  'isSelected': 'false'},\n",
       " 'TL Brightfield_9': {'BeforeHardwareSetting': 'Vor [Brigh]_9',\n",
       "  'isActivated': 'true',\n",
       "  'isSelected': 'false'}}"
      ]
     },
     "execution_count": 8,
     "metadata": {},
     "output_type": "execute_result"
    }
   ],
   "source": [
    "# show tracks with BeforeHardwareSettings\n",
    "tracks"
   ]
  },
  {
   "cell_type": "code",
   "execution_count": 9,
   "metadata": {
    "collapsed": false
   },
   "outputs": [
    {
     "data": {
      "text/plain": [
       "{'BeforeHardwareSetting': 'Vor [Brigh]',\n",
       " 'isActivated': 'true',\n",
       " 'isSelected': 'false'}"
      ]
     },
     "execution_count": 9,
     "metadata": {},
     "output_type": "execute_result"
    }
   ],
   "source": [
    "# get entries for channel = 'TL Brightfield'\n",
    "ch = 'TL Brightfield'\n",
    "tracks[ch]"
   ]
  },
  {
   "cell_type": "code",
   "execution_count": 10,
   "metadata": {
    "collapsed": false
   },
   "outputs": [
    {
     "data": {
      "text/plain": [
       "'Vor [Brigh]'"
      ]
     },
     "execution_count": 10,
     "metadata": {},
     "output_type": "execute_result"
    }
   ],
   "source": [
    "# get name of BeforeHardwareSetting for selected channel\n",
    "stname = tracks[ch]['BeforeHardwareSetting']\n",
    "stname"
   ]
  },
  {
   "cell_type": "code",
   "execution_count": 11,
   "metadata": {
    "collapsed": false
   },
   "outputs": [
    {
     "data": {
      "text/plain": [
       "{'MTBCondenserContrastChanger': {'IsActivated': 'true',\n",
       "  'Position': '1',\n",
       "  'PositionName': 'Contrast.BrightField',\n",
       "  'Status': 'Valid'},\n",
       " 'MTBCondenserFrontLensChanger': {'IsActivated': 'true',\n",
       "  'Position': '2',\n",
       "  'Status': 'Valid'},\n",
       " 'MTBHXP120Shutter': {'IsActivated': 'true',\n",
       "  'IsClosed': 'false',\n",
       "  'Status': 'Valid'},\n",
       " 'MTBHXPLamp': {'Intensity': '40',\n",
       "  'IsActivated': 'true',\n",
       "  'LampMode': 'Manual',\n",
       "  'Status': 'Valid'},\n",
       " 'MTBRLShutter': {'IsActivated': 'true', 'IsClosed': 'false', 'Status': None},\n",
       " 'MTBReflectorChanger': {'IsActivated': 'true',\n",
       "  'Position': '10',\n",
       "  'PositionName': 'User.740/13',\n",
       "  'Status': 'Valid'},\n",
       " 'MTBTLApertureStop': {'IsActivated': 'true',\n",
       "  'Position': '0.6004762962963',\n",
       "  'Status': 'Valid'},\n",
       " 'MTBTLFieldStop': {'IsActivated': 'true',\n",
       "  'Position': '40',\n",
       "  'Status': 'Valid'},\n",
       " 'MTBTLFilterChanger1': {'IsActivated': 'true',\n",
       "  'Position': '2',\n",
       "  'PositionName': 'Transmission.6',\n",
       "  'Status': 'Valid'},\n",
       " 'MTBTLFilterChanger2': {'IsActivated': 'true',\n",
       "  'Position': '3',\n",
       "  'PositionName': 'User.LP 615',\n",
       "  'Status': 'Valid'},\n",
       " 'MTBTLHalogenLamp': {'Intensity': '0',\n",
       "  'IsActivated': 'true',\n",
       "  'LampMode': 'Standby',\n",
       "  'Status': 'Valid'},\n",
       " 'MTBTLShutter': {'IsActivated': 'true', 'IsClosed': 'true', 'Status': None},\n",
       " 'MTBTubeVisCamChanger': {'IsActivated': 'true',\n",
       "  'Position': '3',\n",
       "  'PositionName': 'FotoTube.VIS_Cam_0/100',\n",
       "  'Status': None}}"
      ]
     },
     "execution_count": 11,
     "metadata": {},
     "output_type": "execute_result"
    }
   ],
   "source": [
    "# show all components for of this specific BeforehardwareSetting\n",
    "bfhws[stname]"
   ]
  },
  {
   "cell_type": "code",
   "execution_count": 12,
   "metadata": {
    "collapsed": false
   },
   "outputs": [
    {
     "data": {
      "text/plain": [
       "{'IsActivated': 'true',\n",
       " 'Position': '3',\n",
       " 'PositionName': 'User.LP 615',\n",
       " 'Status': 'Valid'}"
      ]
     },
     "execution_count": 12,
     "metadata": {},
     "output_type": "execute_result"
    }
   ],
   "source": [
    "# show entries for a specific component\n",
    "component = 'MTBTLFilterChanger2'\n",
    "bfhws[stname][component]"
   ]
  },
  {
   "cell_type": "code",
   "execution_count": 13,
   "metadata": {
    "collapsed": false
   },
   "outputs": [
    {
     "data": {
      "text/plain": [
       "'User.LP 615'"
      ]
     },
     "execution_count": 13,
     "metadata": {},
     "output_type": "execute_result"
    }
   ],
   "source": [
    "# show the name for the position of this component\n",
    "bfhws[stname][component]['PositionName']"
   ]
  },
  {
   "cell_type": "code",
   "execution_count": null,
   "metadata": {},
   "outputs": [],
   "source": []
  }
 ],
 "metadata": {
  "kernelspec": {
   "display_name": "Python 3",
   "language": "python",
   "name": "python3"
  },
  "language_info": {
   "codemirror_mode": {
    "name": "ipython",
    "version": 3
   },
   "file_extension": ".py",
   "mimetype": "text/x-python",
   "name": "python",
   "nbconvert_exporter": "python",
   "pygments_lexer": "ipython3",
   "version": "3.6.3"
  }
 },
 "nbformat": 4,
 "nbformat_minor": 2
}
