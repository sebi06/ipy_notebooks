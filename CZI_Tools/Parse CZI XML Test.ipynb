{
 "metadata": {
  "name": "",
  "signature": "sha256:ce0a9a25ae686444b92a048607eae98fd6fd5452543719a3b346929ee07de16b"
 },
 "nbformat": 3,
 "nbformat_minor": 0,
 "worksheets": [
  {
   "cells": [
    {
     "cell_type": "markdown",
     "metadata": {},
     "source": [
      "The python module czifile.py provides are very convientient way to parse the CZI XML matadata structure. It is part of the python extension packe vLFD provided by Christoph Golke and can be found here:\n",
      "\n",
      "http://www.lfd.uci.edu/~gohlke/pythonlibs/#vlfd\n",
      "\n"
     ]
    },
    {
     "cell_type": "code",
     "collapsed": false,
     "input": [
      "import xml.etree.ElementTree as ET\n",
      "from czifile import *\n",
      "\n",
      "#xmlfile = r'C:\\Users\\M1SRH\\Documents\\Spyder_Projects_Testdata\\Wellplate_96_Positions\\WP_96_Positions_MetaData.xml'\n",
      "#tree = ET.parse(xmlfile)\n",
      "#root = tree.getroot()\n",
      "\n",
      "# solution based on the czifile.py module by Christoph Golke\n",
      "# it alread\n",
      "imagefile = r'C:\\Users\\M1SRH\\Documents\\Spyder_Projects_Testdata\\Wellplate_96_Positions\\WP_96_Positions.czi'\n",
      "czi = CziFile(imagefile)\n",
      "tree = czi.metadata.getroottree()\n",
      "root = tree.getroot()\n"
     ],
     "language": "python",
     "metadata": {},
     "outputs": [],
     "prompt_number": 1
    },
    {
     "cell_type": "markdown",
     "metadata": {},
     "source": [
      "Optionally it might be iteresting to create an XML file and write it to disk."
     ]
    },
    {
     "cell_type": "code",
     "collapsed": false,
     "input": [
      "# Change File name and write XML file to same folder\n",
      "xmlfile = imagefile.replace('.czi', '_MetaData.xml')\n",
      "tree.write(xmlfile, encoding='utf-8', method='xml')\n",
      "print 'XML metadata filename : ', xmlfile"
     ],
     "language": "python",
     "metadata": {},
     "outputs": [
      {
       "output_type": "stream",
       "stream": "stdout",
       "text": [
        "XML metadata filename :  C:\\Users\\M1SRH\\Documents\\Spyder_Projects_Testdata\\Wellplate_96_Positions\\WP_96_Positions_MetaData.xml\n"
       ]
      }
     ],
     "prompt_number": 2
    },
    {
     "cell_type": "markdown",
     "metadata": {},
     "source": [
      "Now let\u00b4s paly a bit around with theGet the root.tag and its attribute. Look for the first child."
     ]
    },
    {
     "cell_type": "code",
     "collapsed": false,
     "input": [
      "root.tag, root.attrib"
     ],
     "language": "python",
     "metadata": {},
     "outputs": [
      {
       "metadata": {},
       "output_type": "pyout",
       "prompt_number": 3,
       "text": [
        "('ImageDocument', {})"
       ]
      }
     ],
     "prompt_number": 3
    },
    {
     "cell_type": "code",
     "collapsed": false,
     "input": [
      "for child in root:\n",
      "    print child.tag, child.attrib"
     ],
     "language": "python",
     "metadata": {},
     "outputs": [
      {
       "output_type": "stream",
       "stream": "stdout",
       "text": [
        "Metadata {}\n"
       ]
      }
     ],
     "prompt_number": 4
    },
    {
     "cell_type": "code",
     "collapsed": false,
     "input": [
      "for exp in root.iter('Experiment'):\n",
      "    print exp.attrib\n",
      "    print exp.attrib[\"Version\"]"
     ],
     "language": "python",
     "metadata": {},
     "outputs": [
      {
       "output_type": "stream",
       "stream": "stdout",
       "text": [
        "{'Version': '1.1'}\n",
        "1.1\n"
       ]
      }
     ],
     "prompt_number": 5
    },
    {
     "cell_type": "markdown",
     "metadata": {},
     "source": [
      "The idea is to find alle SingleTileRegions, count the number of thoise regions and store the well names inside a list."
     ]
    },
    {
     "cell_type": "code",
     "collapsed": false,
     "input": [
      "numwells = 0\n",
      "wells = []\n",
      "\n",
      "for elem in root.findall(\".//SingleTileRegionArray\"):\n",
      "    #print elem.tag\n",
      "    #print elem.attrib[\"Name\"]\n",
      "    numwells = numwells + 1\n",
      "    wells.append(elem.attrib[\"Name\"])\n",
      "\n",
      "print \"Total Wells : \", numwells\n",
      "print wells"
     ],
     "language": "python",
     "metadata": {},
     "outputs": [
      {
       "output_type": "stream",
       "stream": "stdout",
       "text": [
        "Total Wells :  96\n",
        "['A1', 'A2', 'A3', 'A4', 'A5', 'A6', 'A7', 'A8', 'A9', 'A10', 'A11', 'A12', 'B1', 'B2', 'B3', 'B4', 'B5', 'B6', 'B7', 'B8', 'B9', 'B10', 'B11', 'B12', 'C1', 'C2', 'C3', 'C4', 'C5', 'C6', 'C7', 'C8', 'C9', 'C10', 'C11', 'C12', 'D1', 'D2', 'D3', 'D4', 'D5', 'D6', 'D7', 'D8', 'D9', 'D10', 'D11', 'D12', 'E1', 'E2', 'E3', 'E4', 'E5', 'E6', 'E7', 'E8', 'E9', 'E10', 'E11', 'E12', 'F1', 'F2', 'F3', 'F4', 'F5', 'F6', 'F7', 'F8', 'F9', 'F10', 'F11', 'F12', 'G1', 'G2', 'G3', 'G4', 'G5', 'G6', 'G7', 'G8', 'G9', 'G10', 'G11', 'G12', 'H1', 'H2', 'H3', 'H4', 'H5', 'H6', 'H7', 'H8', 'H9', 'H10', 'H11', 'H12']\n"
       ]
      }
     ],
     "prompt_number": 6
    },
    {
     "cell_type": "code",
     "collapsed": false,
     "input": [],
     "language": "python",
     "metadata": {},
     "outputs": []
    }
   ],
   "metadata": {}
  }
 ]
}