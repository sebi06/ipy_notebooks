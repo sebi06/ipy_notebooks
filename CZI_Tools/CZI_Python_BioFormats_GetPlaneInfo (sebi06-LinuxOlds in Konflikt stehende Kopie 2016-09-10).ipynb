{
 "cells": [
  {
   "cell_type": "code",
   "execution_count": 1,
   "metadata": {
    "collapsed": false,
    "slideshow": {
     "slide_type": "slide"
    }
   },
   "outputs": [
    {
     "data": {
      "text/plain": [
       "'c:\\\\Users\\\\M1SRH\\\\Documents\\\\Software\\\\BioFormats_Package\\\\5.1.8\\\\bioformats_package.jar'"
      ]
     },
     "execution_count": 1,
     "metadata": {},
     "output_type": "execute_result"
    }
   ],
   "source": [
    "import warnings\n",
    "warnings.filterwarnings('ignore')\n",
    "import numpy as np\n",
    "import sys\n",
    "sys.path.append(r'c:\\Users\\M1SRH\\Documents\\Spyder_Projects\\BioFormatsRead')\n",
    "import bfimage as bf\n",
    "\n",
    "# specify where to find the bioformats_package.jar - modify path to your needs\n",
    "bfpath = r'c:\\Users\\M1SRH\\Documents\\Software\\BioFormats_Package\\5.1.8\\bioformats_package.jar'\n",
    "bf.set_bfpath(bfpath)"
   ]
  },
  {
   "cell_type": "code",
   "execution_count": 2,
   "metadata": {
    "collapsed": false,
    "slideshow": {
     "slide_type": "slide"
    }
   },
   "outputs": [
    {
     "name": "stdout",
     "output_type": "stream",
     "text": [
      "T:  1 Z:  5 C:  2 X:  640 Y:  640\n",
      "Start reading the plane data  \b. \b. \b. \b. \b. \b. \b. \b. \b. \b. \b. \b. \b. \b. \b. \b. \b. \b. \b. \b. \b. \b. \b. \b. \b. \b. \b. \b. \b. \b. Done.\n",
      "\n",
      "Writing CSV file:  c:\\Users\\M1SRH\\Documents\\Spyder_Projects_Testdata\\CZI_Read\\2x2_SNAP_CH=2_Z=5.csv\n"
     ]
    },
    {
     "data": {
      "text/html": [
       "<div>\n",
       "<table border=\"1\" class=\"dataframe\">\n",
       "  <thead>\n",
       "    <tr style=\"text-align: right;\">\n",
       "      <th></th>\n",
       "      <th>IMAGEID</th>\n",
       "      <th>Plane</th>\n",
       "      <th>TheC</th>\n",
       "      <th>TheZ</th>\n",
       "      <th>TheC</th>\n",
       "      <th>XPos</th>\n",
       "      <th>YPos</th>\n",
       "      <th>ZPos</th>\n",
       "      <th>DeltaT</th>\n",
       "    </tr>\n",
       "  </thead>\n",
       "  <tbody>\n",
       "    <tr>\n",
       "      <th>0</th>\n",
       "      <td>0</td>\n",
       "      <td>0</td>\n",
       "      <td>0</td>\n",
       "      <td>0</td>\n",
       "      <td>0</td>\n",
       "      <td>37971.2</td>\n",
       "      <td>12971.2</td>\n",
       "      <td>37971.2</td>\n",
       "      <td>0.000</td>\n",
       "    </tr>\n",
       "    <tr>\n",
       "      <th>1</th>\n",
       "      <td>0</td>\n",
       "      <td>1</td>\n",
       "      <td>0</td>\n",
       "      <td>0</td>\n",
       "      <td>1</td>\n",
       "      <td>37971.2</td>\n",
       "      <td>12971.2</td>\n",
       "      <td>37971.2</td>\n",
       "      <td>0.113</td>\n",
       "    </tr>\n",
       "    <tr>\n",
       "      <th>2</th>\n",
       "      <td>0</td>\n",
       "      <td>2</td>\n",
       "      <td>0</td>\n",
       "      <td>1</td>\n",
       "      <td>0</td>\n",
       "      <td>37971.2</td>\n",
       "      <td>12971.2</td>\n",
       "      <td>37971.2</td>\n",
       "      <td>0.369</td>\n",
       "    </tr>\n",
       "    <tr>\n",
       "      <th>3</th>\n",
       "      <td>0</td>\n",
       "      <td>3</td>\n",
       "      <td>0</td>\n",
       "      <td>1</td>\n",
       "      <td>1</td>\n",
       "      <td>37971.2</td>\n",
       "      <td>12971.2</td>\n",
       "      <td>37971.2</td>\n",
       "      <td>0.491</td>\n",
       "    </tr>\n",
       "    <tr>\n",
       "      <th>4</th>\n",
       "      <td>0</td>\n",
       "      <td>4</td>\n",
       "      <td>0</td>\n",
       "      <td>2</td>\n",
       "      <td>0</td>\n",
       "      <td>37971.2</td>\n",
       "      <td>12971.2</td>\n",
       "      <td>37971.2</td>\n",
       "      <td>0.748</td>\n",
       "    </tr>\n",
       "    <tr>\n",
       "      <th>5</th>\n",
       "      <td>0</td>\n",
       "      <td>5</td>\n",
       "      <td>0</td>\n",
       "      <td>2</td>\n",
       "      <td>1</td>\n",
       "      <td>37971.2</td>\n",
       "      <td>12971.2</td>\n",
       "      <td>37971.2</td>\n",
       "      <td>0.836</td>\n",
       "    </tr>\n",
       "    <tr>\n",
       "      <th>6</th>\n",
       "      <td>0</td>\n",
       "      <td>6</td>\n",
       "      <td>0</td>\n",
       "      <td>3</td>\n",
       "      <td>0</td>\n",
       "      <td>37971.2</td>\n",
       "      <td>12971.2</td>\n",
       "      <td>37971.2</td>\n",
       "      <td>1.095</td>\n",
       "    </tr>\n",
       "    <tr>\n",
       "      <th>7</th>\n",
       "      <td>0</td>\n",
       "      <td>7</td>\n",
       "      <td>0</td>\n",
       "      <td>3</td>\n",
       "      <td>1</td>\n",
       "      <td>37971.2</td>\n",
       "      <td>12971.2</td>\n",
       "      <td>37971.2</td>\n",
       "      <td>1.232</td>\n",
       "    </tr>\n",
       "    <tr>\n",
       "      <th>8</th>\n",
       "      <td>0</td>\n",
       "      <td>8</td>\n",
       "      <td>0</td>\n",
       "      <td>4</td>\n",
       "      <td>0</td>\n",
       "      <td>37971.2</td>\n",
       "      <td>12971.2</td>\n",
       "      <td>37971.2</td>\n",
       "      <td>1.486</td>\n",
       "    </tr>\n",
       "  </tbody>\n",
       "</table>\n",
       "</div>"
      ],
      "text/plain": [
       "   IMAGEID  Plane  TheC  TheZ  TheC     XPos     YPos     ZPos  DeltaT\n",
       "0        0      0     0     0     0  37971.2  12971.2  37971.2   0.000\n",
       "1        0      1     0     0     1  37971.2  12971.2  37971.2   0.113\n",
       "2        0      2     0     1     0  37971.2  12971.2  37971.2   0.369\n",
       "3        0      3     0     1     1  37971.2  12971.2  37971.2   0.491\n",
       "4        0      4     0     2     0  37971.2  12971.2  37971.2   0.748\n",
       "5        0      5     0     2     1  37971.2  12971.2  37971.2   0.836\n",
       "6        0      6     0     3     0  37971.2  12971.2  37971.2   1.095\n",
       "7        0      7     0     3     1  37971.2  12971.2  37971.2   1.232\n",
       "8        0      8     0     4     0  37971.2  12971.2  37971.2   1.486"
      ]
     },
     "execution_count": 2,
     "metadata": {},
     "output_type": "execute_result"
    }
   ],
   "source": [
    "# define the file\n",
    "filename = r'c:\\Users\\M1SRH\\Documents\\Spyder_Projects_Testdata\\CZI_Read\\2x2_SNAP_CH=2_Z=5.czi'\n",
    "\n",
    "# read the plane information from the metadata and create a pandas dataframe\n",
    "df = bf.get_planetable(filename, writecsv=True, separator=',')\n",
    "\n",
    "# show first rows of the dataframe containing the plane infos\n",
    "df[:9]"
   ]
  },
  {
   "cell_type": "code",
   "execution_count": 3,
   "metadata": {
    "collapsed": false,
    "slideshow": {
     "slide_type": "slide"
    }
   },
   "outputs": [
    {
     "data": {
      "text/plain": [
       "5.692"
      ]
     },
     "execution_count": 3,
     "metadata": {},
     "output_type": "execute_result"
    }
   ],
   "source": [
    "# just for fun - show last acquistion time\n",
    "round(df['DeltaT'].max(),3)\n"
   ]
  }
 ],
 "metadata": {
  "celltoolbar": "Slideshow",
  "kernelspec": {
   "display_name": "Python 2",
   "language": "python",
   "name": "python2"
  },
  "language_info": {
   "codemirror_mode": {
    "name": "ipython",
    "version": 2
   },
   "file_extension": ".py",
   "mimetype": "text/x-python",
   "name": "python",
   "nbconvert_exporter": "python",
   "pygments_lexer": "ipython2",
   "version": "2.7.11"
  }
 },
 "nbformat": 4,
 "nbformat_minor": 0
}
