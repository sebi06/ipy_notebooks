{
 "cells": [
  {
   "cell_type": "code",
   "execution_count": 6,
   "metadata": {
    "collapsed": false,
    "slideshow": {
     "slide_type": "slide"
    }
   },
   "outputs": [],
   "source": [
    "import warnings\n",
    "warnings.filterwarnings('ignore')\n",
    "from lxml import etree as etl\n",
    "import sys\n",
    "sys.path.append(r'c:\\Users\\M1SRH\\OneDrive - Carl Zeiss AG\\Python_Projects\\BioFormatsRead')\n",
    "import bftools as bf"
   ]
  },
  {
   "cell_type": "code",
   "execution_count": 6,
   "metadata": {
    "collapsed": false,
    "slideshow": {
     "slide_type": "slide"
    }
   },
   "outputs": [],
   "source": [
    "# specify where to find the bioformats_package.jar - modify path to your needs\n",
    "#bfpackage = r'c:\\Users\\M1SRH\\Documents\\Software\\BioFormats_Package\\5.1.10\\bioformats_package.jar'\n",
    "bfpackage = r'c:\\Users\\M1SRH\\Documents\\Software\\BioFormats_Package\\5.8.0\\bioformats_package.jar'\n",
    "bf.set_bfpath(bfpackage)\n",
    "# use for BioFormtas <= 5.1.10\n",
    "#urlnamespace = 'http://www.openmicroscopy.org/Schemas/OME/2015-01'\n",
    "# use for BioFormtas > 5.2.0\n",
    "urlnamespace = 'http://www.openmicroscopy.org/Schemas/OME/2016-06'"
   ]
  },
  {
   "cell_type": "code",
   "execution_count": 9,
   "metadata": {
    "collapsed": false,
    "slideshow": {
     "slide_type": "slide"
    }
   },
   "outputs": [],
   "source": [
    "# define the file\n",
    "filename = r'c:\\Users\\M1SRH\\OneDrive - Carl Zeiss AG\\Python_Projects\\BioFormatsRead\\testdata\\2x2_SNAP_CH=2_Z=5_T=2.czi'"
   ]
  },
  {
   "cell_type": "code",
   "execution_count": 10,
   "metadata": {
    "collapsed": false
   },
   "outputs": [
    {
     "name": "stdout",
     "output_type": "stream",
     "text": [
      "Multi-Resolution API not enabled yet.\n",
      "Retrieving Image Dimensions ...\n",
      "T:  2 Z:  5 C:  2 X:  1216 Y:  1216\n",
      "Using czifile.py to get CZI Shape info.\n",
      "Using BioFormats to get MetaInformation.\n",
      "\n",
      "\n",
      "OME NameSpace used   :  http://www.openmicroscopy.org/Schemas/OME/2016-06\n",
      "BF Version used      :  c:\\Users\\M1SRH\\Documents\\Software\\BioFormats_Package\\5.8.0\\bioformats_package.jar\n",
      "-------------------------------------------------------------\n",
      "Image Directory      :  c:\\Users\\M1SRH\\OneDrive - Carl Zeiss AG\\Python_Projects\\BioFormatsRead\\testdata\n",
      "Image Filename       :  2x2_SNAP_CH=2_Z=5_T=2.czi\n",
      "MutiResolution       :  True\n",
      "Series Dimensions    :  [(1216, 1216), (608, 608)]\n",
      "Images Dim Sizes [0] :  [2, 2, 5, 2, 1216, 1216]\n",
      "Dimension Order BF   :  XYCZT\n",
      "Dimension Order CZI  :  BSTCZYX0\n",
      "Shape CZI            :  (1, 1, 2, 2, 5, 1216, 1216, 1)\n",
      "Total Series Number  :  2\n",
      "Image Dimensions     :  2 2 5 2 1216 1216\n",
      "Scaling XYZ [micron] :  0.1 0.1 1.0\n",
      "Objective M-NA-Imm   :  5.0 0.35 Air\n",
      "Objective Name       :  Plan-Apochromat 5x/0.35\n",
      "Ex. Wavelengths [nm] :  [ 631.  401.]\n",
      "Em. Wavelengths [nm] :  [ 648.  422.]\n",
      "Dyes                 :  ['Alexa Fluor 635', 'Alexa Fluor 405']\n",
      "Detector Model       :  TestCam\n",
      "Detector Name        :  Detector:Internal\n",
      "Detector ID          :  Detector:Internal\n",
      "Channels             :  ['LED625', 'LED385']\n",
      "Channel Description  :  []\n",
      "ImageIDs             :  [0, 1]\n"
     ]
    }
   ],
   "source": [
    "# get image meta-information\n",
    "MetaInfo = bf.get_relevant_metainfo_wrapper(filename, namespace=urlnamespace, bfpath=bfpackage, showinfo=False)\n",
    "bf.showtypicalmetadata(MetaInfo, namespace=urlnamespace, bfpath=bfpackage)"
   ]
  },
  {
   "cell_type": "code",
   "execution_count": null,
   "metadata": {},
   "outputs": [],
   "source": []
  }
 ],
 "metadata": {
  "celltoolbar": "Slideshow",
  "kernelspec": {
   "display_name": "Python 3",
   "language": "python",
   "name": "python3"
  },
  "language_info": {
   "codemirror_mode": {
    "name": "ipython",
    "version": 3
   },
   "file_extension": ".py",
   "mimetype": "text/x-python",
   "name": "python",
   "nbconvert_exporter": "python",
   "pygments_lexer": "ipython3",
   "version": "3.6.3"
  }
 },
 "nbformat": 4,
 "nbformat_minor": 2
}
