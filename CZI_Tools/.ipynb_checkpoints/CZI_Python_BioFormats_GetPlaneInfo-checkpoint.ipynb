{
 "cells": [
  {
   "cell_type": "code",
   "execution_count": 1,
   "metadata": {
    "collapsed": false,
    "slideshow": {
     "slide_type": "slide"
    }
   },
   "outputs": [
    {
     "data": {
      "text/plain": [
       "'c:\\\\Users\\\\M1SRH\\\\Documents\\\\Software\\\\BioFormats_Package\\\\5.1.8\\\\bioformats_package.jar'"
      ]
     },
     "execution_count": 1,
     "metadata": {},
     "output_type": "execute_result"
    }
   ],
   "source": [
    "import warnings\n",
    "warnings.filterwarnings('ignore')\n",
    "import numpy as np\n",
    "import sys\n",
    "sys.path.append(r'c:\\Users\\M1SRH\\Documents\\Spyder_Projects\\BioFormatsRead')\n",
    "import bfimage as bf\n",
    "\n",
    "# specify where to find the bioformats_package.jar - modify path to your needs\n",
    "bfpath = r'c:\\Users\\M1SRH\\Documents\\Software\\BioFormats_Package\\5.1.8\\bioformats_package.jar'\n",
    "bf.set_bfpath(bfpath)"
   ]
  },
  {
   "cell_type": "code",
   "execution_count": 2,
   "metadata": {
    "collapsed": false,
    "slideshow": {
     "slide_type": "slide"
    }
   },
   "outputs": [
    {
     "name": "stdout",
     "output_type": "stream",
     "text": [
      "T:  2 Z:  5 C:  2 X:  640 Y:  640\n",
      "Start reading the plane data  \b. \n",
      "\n",
      "\b. \b. \b. Done.\n",
      "\n",
      "Writing CSV file:  c:\\Users\\M1SRH\\Documents\\Spyder_Projects\\BioFormatsRead\\testdata\\2x2_SNAP_CH=2_Z=5_T=2.csv\n"
     ]
    },
    {
     "data": {
      "text/html": [
       "<div>\n",
       "<table border=\"1\" class=\"dataframe\">\n",
       "  <thead>\n",
       "    <tr style=\"text-align: right;\">\n",
       "      <th></th>\n",
       "      <th>IMAGEID</th>\n",
       "      <th>PlaneIndex</th>\n",
       "      <th>TheC</th>\n",
       "      <th>TheZ</th>\n",
       "      <th>TheC</th>\n",
       "      <th>XPos</th>\n",
       "      <th>YPos</th>\n",
       "      <th>ZPos</th>\n",
       "      <th>DeltaTnorm</th>\n",
       "      <th>DeltaT</th>\n",
       "    </tr>\n",
       "  </thead>\n",
       "  <tbody>\n",
       "    <tr>\n",
       "      <th>0</th>\n",
       "      <td>0.0</td>\n",
       "      <td>0.0</td>\n",
       "      <td>0.0</td>\n",
       "      <td>0.0</td>\n",
       "      <td>0.0</td>\n",
       "      <td>37971.2</td>\n",
       "      <td>12971.2</td>\n",
       "      <td>109.8</td>\n",
       "      <td>0.000</td>\n",
       "      <td>0.645</td>\n",
       "    </tr>\n",
       "    <tr>\n",
       "      <th>1</th>\n",
       "      <td>0.0</td>\n",
       "      <td>1.0</td>\n",
       "      <td>0.0</td>\n",
       "      <td>0.0</td>\n",
       "      <td>1.0</td>\n",
       "      <td>37971.2</td>\n",
       "      <td>12971.2</td>\n",
       "      <td>109.8</td>\n",
       "      <td>0.116</td>\n",
       "      <td>0.761</td>\n",
       "    </tr>\n",
       "    <tr>\n",
       "      <th>2</th>\n",
       "      <td>0.0</td>\n",
       "      <td>2.0</td>\n",
       "      <td>0.0</td>\n",
       "      <td>1.0</td>\n",
       "      <td>0.0</td>\n",
       "      <td>37971.2</td>\n",
       "      <td>12971.2</td>\n",
       "      <td>110.8</td>\n",
       "      <td>0.372</td>\n",
       "      <td>1.017</td>\n",
       "    </tr>\n",
       "    <tr>\n",
       "      <th>3</th>\n",
       "      <td>0.0</td>\n",
       "      <td>3.0</td>\n",
       "      <td>0.0</td>\n",
       "      <td>1.0</td>\n",
       "      <td>1.0</td>\n",
       "      <td>37971.2</td>\n",
       "      <td>12971.2</td>\n",
       "      <td>110.8</td>\n",
       "      <td>0.463</td>\n",
       "      <td>1.108</td>\n",
       "    </tr>\n",
       "    <tr>\n",
       "      <th>4</th>\n",
       "      <td>0.0</td>\n",
       "      <td>4.0</td>\n",
       "      <td>0.0</td>\n",
       "      <td>2.0</td>\n",
       "      <td>0.0</td>\n",
       "      <td>37971.2</td>\n",
       "      <td>12971.2</td>\n",
       "      <td>111.8</td>\n",
       "      <td>0.729</td>\n",
       "      <td>1.374</td>\n",
       "    </tr>\n",
       "    <tr>\n",
       "      <th>5</th>\n",
       "      <td>0.0</td>\n",
       "      <td>5.0</td>\n",
       "      <td>0.0</td>\n",
       "      <td>2.0</td>\n",
       "      <td>1.0</td>\n",
       "      <td>37971.2</td>\n",
       "      <td>12971.2</td>\n",
       "      <td>111.8</td>\n",
       "      <td>0.825</td>\n",
       "      <td>1.470</td>\n",
       "    </tr>\n",
       "    <tr>\n",
       "      <th>6</th>\n",
       "      <td>0.0</td>\n",
       "      <td>6.0</td>\n",
       "      <td>0.0</td>\n",
       "      <td>3.0</td>\n",
       "      <td>0.0</td>\n",
       "      <td>37971.2</td>\n",
       "      <td>12971.2</td>\n",
       "      <td>112.8</td>\n",
       "      <td>1.063</td>\n",
       "      <td>1.708</td>\n",
       "    </tr>\n",
       "    <tr>\n",
       "      <th>7</th>\n",
       "      <td>0.0</td>\n",
       "      <td>7.0</td>\n",
       "      <td>0.0</td>\n",
       "      <td>3.0</td>\n",
       "      <td>1.0</td>\n",
       "      <td>37971.2</td>\n",
       "      <td>12971.2</td>\n",
       "      <td>112.8</td>\n",
       "      <td>1.161</td>\n",
       "      <td>1.806</td>\n",
       "    </tr>\n",
       "    <tr>\n",
       "      <th>8</th>\n",
       "      <td>0.0</td>\n",
       "      <td>8.0</td>\n",
       "      <td>0.0</td>\n",
       "      <td>4.0</td>\n",
       "      <td>0.0</td>\n",
       "      <td>37971.2</td>\n",
       "      <td>12971.2</td>\n",
       "      <td>113.8</td>\n",
       "      <td>1.409</td>\n",
       "      <td>2.054</td>\n",
       "    </tr>\n",
       "  </tbody>\n",
       "</table>\n",
       "</div>"
      ],
      "text/plain": [
       "   IMAGEID  PlaneIndex  TheC  TheZ  TheC     XPos     YPos   ZPos  DeltaTnorm  \\\n",
       "0      0.0         0.0   0.0   0.0   0.0  37971.2  12971.2  109.8       0.000   \n",
       "1      0.0         1.0   0.0   0.0   1.0  37971.2  12971.2  109.8       0.116   \n",
       "2      0.0         2.0   0.0   1.0   0.0  37971.2  12971.2  110.8       0.372   \n",
       "3      0.0         3.0   0.0   1.0   1.0  37971.2  12971.2  110.8       0.463   \n",
       "4      0.0         4.0   0.0   2.0   0.0  37971.2  12971.2  111.8       0.729   \n",
       "5      0.0         5.0   0.0   2.0   1.0  37971.2  12971.2  111.8       0.825   \n",
       "6      0.0         6.0   0.0   3.0   0.0  37971.2  12971.2  112.8       1.063   \n",
       "7      0.0         7.0   0.0   3.0   1.0  37971.2  12971.2  112.8       1.161   \n",
       "8      0.0         8.0   0.0   4.0   0.0  37971.2  12971.2  113.8       1.409   \n",
       "\n",
       "   DeltaT  \n",
       "0   0.645  \n",
       "1   0.761  \n",
       "2   1.017  \n",
       "3   1.108  \n",
       "4   1.374  \n",
       "5   1.470  \n",
       "6   1.708  \n",
       "7   1.806  \n",
       "8   2.054  "
      ]
     },
     "execution_count": 2,
     "metadata": {},
     "output_type": "execute_result"
    }
   ],
   "source": [
    "# define the file\n",
    "filename = r'c:\\Users\\M1SRH\\Documents\\Spyder_Projects\\BioFormatsRead\\testdata\\2x2_SNAP_CH=2_Z=5_T=2.czi'\n",
    "\n",
    "# read the plane information from the metadata and create a pandas dataframe\n",
    "df = bf.get_planetable(filename, writecsv=True, separator=',')\n",
    "\n",
    "# show first rows of the dataframe containing the plane infos\n",
    "df[:9]"
   ]
  },
  {
   "cell_type": "code",
   "execution_count": 3,
   "metadata": {
    "collapsed": false,
    "slideshow": {
     "slide_type": "slide"
    }
   },
   "outputs": [
    {
     "data": {
      "text/plain": [
       "16.712"
      ]
     },
     "execution_count": 3,
     "metadata": {},
     "output_type": "execute_result"
    }
   ],
   "source": [
    "# just for fun - show last acquistion time\n",
    "round(df['DeltaT'].max(),3)\n"
   ]
  },
  {
   "cell_type": "code",
   "execution_count": null,
   "metadata": {
    "collapsed": true
   },
   "outputs": [],
   "source": []
  }
 ],
 "metadata": {
  "celltoolbar": "Slideshow",
  "kernelspec": {
   "display_name": "Python 2",
   "language": "python",
   "name": "python2"
  },
  "language_info": {
   "codemirror_mode": {
    "name": "ipython",
    "version": 2
   },
   "file_extension": ".py",
   "mimetype": "text/x-python",
   "name": "python",
   "nbconvert_exporter": "python",
   "pygments_lexer": "ipython2",
   "version": "2.7.11"
  }
 },
 "nbformat": 4,
 "nbformat_minor": 0
}
