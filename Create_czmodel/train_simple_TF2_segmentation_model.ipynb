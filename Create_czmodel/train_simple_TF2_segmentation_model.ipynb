{
 "cells": [
  {
   "cell_type": "code",
   "execution_count": null,
   "metadata": {
    "slideshow": {
     "slide_type": "skip"
    }
   },
   "outputs": [],
   "source": [
    "# Install czmodel and dependencies (only needed once)\n",
    "#! pip install --upgrade pip\n",
    "#! pip install czmodel\n",
    "#!pip install -q git+https://github.com/tensorflow/examples.git"
   ]
  },
  {
   "cell_type": "code",
   "execution_count": 2,
   "metadata": {
    "slideshow": {
     "slide_type": "skip"
    }
   },
   "outputs": [],
   "source": [
    "# this can be used to switch on/off warnings\n",
    "import warnings\n",
    "warnings.filterwarnings('ignore')\n",
    "warnings.simplefilter('ignore')"
   ]
  },
  {
   "cell_type": "markdown",
   "metadata": {
    "slideshow": {
     "slide_type": "slide"
    }
   },
   "source": [
    "# Simple TF2 + Keras model for segmentation (to detect cell nuclei)\n",
    "This notebook the entire workflow of training an ANN with [TensorFlow 2](https://www.tensorflow.org/) using the keras API and exporting the trained model to the [czmodel format](https://pypi.org/project/czmodel/) to be ready for use within the [Intellesis](https://www.zeiss.com/microscopy/int/products/microscope-software/zen-intellesis-image-segmentation-by-deep-learning.html) infrastructure.\n",
    "\n",
    "* The trained model is rather simple (for demo purposed) and trained on a small test dataset.\n",
    "* **Therefore, this notebook is meant to be understood as a guide for exporting trained models**\n",
    "* **The notebook does not show how train a model correctly.**"
   ]
  },
  {
   "cell_type": "code",
   "execution_count": 1,
   "metadata": {
    "slideshow": {
     "slide_type": "slide"
    }
   },
   "outputs": [],
   "source": [
    "# required imports to train a simple TF2 + Keras model for segmentation and package it as CZMODEL\n",
    "# the CZMODEL can be then imported in ZEN and used for segmentation and image analysis workflows\n",
    "\n",
    "# general imports\n",
    "import os\n",
    "import tensorflow as tf\n",
    "from tensorflow_examples.models.pix2pix import pix2pix\n",
    "import numpy as np\n",
    "import matplotlib.pyplot as plt\n",
    "from matplotlib.colors import Normalize\n",
    "\n",
    "# those functions are provided by the PyPi package called czmodel (by ZEISS)\n",
    "from czmodel.util.preprocessing import PerImageStandardization, add_preprocessing_layers\n",
    "from czmodel.model_metadata import ModelMetadata, ModelSpec\n",
    "from czmodel import convert_from_model_spec, convert_from_json_spec"
   ]
  },
  {
   "cell_type": "code",
   "execution_count": 3,
   "metadata": {
    "slideshow": {
     "slide_type": "skip"
    }
   },
   "outputs": [
    {
     "name": "stdout",
     "output_type": "stream",
     "text": [
      "v2.2.0-rc4-8-g2b96f3662b 2.2.0\n"
     ]
    }
   ],
   "source": [
    "# Optional: suppress TF warnings\n",
    "import logging\n",
    "logging.getLogger(\"tensorflow\").setLevel(logging.ERROR)\n",
    "print(tf.version.GIT_VERSION, tf.__version__)"
   ]
  },
  {
   "cell_type": "markdown",
   "metadata": {
    "slideshow": {
     "slide_type": "slide"
    }
   },
   "source": [
    "## Training Pipeline\n",
    "This section describes a **simple** training procedure that creates a trained Keras model.\n",
    "\n",
    "* Therefore, it only represents the custom training procedure\n",
    "* Such procedure will vary from case to case and will contain more sophisticated ways to generate an optimized Keras model"
   ]
  },
  {
   "cell_type": "code",
   "execution_count": 4,
   "metadata": {
    "slideshow": {
     "slide_type": "slide"
    }
   },
   "outputs": [],
   "source": [
    "# Define the parameters for loading the training data\n",
    "\n",
    "# place the original *.png images here\n",
    "#IMAGES_FOLDER = 'data2/images/'\n",
    "IMAGES_FOLDER = 'nucleus_data/images/'\n",
    "\n",
    "# place the respective label *.png images here\n",
    "# masks images have one channel (0=background and 1=nucleus)\n",
    "#MASKS_FOLDER = 'data2/label/'\n",
    "MASKS_FOLDER = 'nucleus_data/label/'\n",
    "\n",
    "# define the number of channels\n",
    "# this means using a grayscale image with one channel only\n",
    "CHANNELS = 1\n",
    "NUM_CLASSES = 2"
   ]
  },
  {
   "cell_type": "code",
   "execution_count": 6,
   "metadata": {
    "scrolled": true,
    "slideshow": {
     "slide_type": "slide"
    }
   },
   "outputs": [
    {
     "name": "stdout",
     "output_type": "stream",
     "text": [
      "(29, 1416, 1960, 3) (29, 1416, 1960, 2)\n"
     ]
    }
   ],
   "source": [
    "# Read the images\n",
    "# This part contains the logic to read pairs of images and label masks for training !\n",
    "\n",
    "# the the sample images\n",
    "sample_images = sorted([os.path.join(IMAGES_FOLDER, f) for f in os.listdir(IMAGES_FOLDER) \n",
    "                        if os.path.isfile(os.path.join(IMAGES_FOLDER, f))])\n",
    "\n",
    "# get the maks\n",
    "sample_masks = sorted([os.path.join(MASKS_FOLDER, f) for f in os.listdir(MASKS_FOLDER) \n",
    "                       if os.path.isfile(os.path.join(MASKS_FOLDER, f))])\n",
    "\n",
    "# load images as numpy arrays\n",
    "images_loaded = np.asarray([tf.image.decode_image(tf.io.read_file(sample_path),\n",
    "                                                  dtype=tf.dtypes.uint16,\n",
    "                                                  channels=CHANNELS).numpy() \n",
    "                            for sample_path in sample_images]).astype(np.float32)\n",
    "\n",
    "# normalize the images\n",
    "images_loaded = (images_loaded - images_loaded.mean()) / images_loaded.mean()\n",
    "\n",
    "\n",
    "# this i srequired because MobileNet required RGB images\n",
    "images_loaded = np.tile(images_loaded, (1, 1, 1, 3))\n",
    "\n",
    "# load labels as numpy arrays\n",
    "masks_loaded = np.asarray([tf.one_hot(tf.cast(tf.image.decode_image(tf.io.read_file(sample_path),channels=1)[...,0] != 0, tf.dtypes.uint8), depth=NUM_CLASSES).numpy()\n",
    "for sample_path in sample_masks])\n",
    "\n",
    "print(images_loaded.shape, masks_loaded.shape)"
   ]
  },
  {
   "cell_type": "code",
   "execution_count": 7,
   "metadata": {},
   "outputs": [],
   "source": [
    "def random_crop_and_pad_image_and_label(image, label, size):\n",
    "    \"\"\"Randomly crops image together with labels.\n",
    "\n",
    "    Args:\n",
    "      image: A Tensor with shape [D_1, ..., D_K, N]\n",
    "      label: A Tensor with shape [D_1, ..., D_K, M]\n",
    "      size: A Tensor with shape [K] indicating the crop size.\n",
    "    Returns:\n",
    "      A tuple of (cropped_image, cropped_label).\n",
    "    \"\"\"\n",
    "  \n",
    "    combined = tf.concat([image, label], axis=2)\n",
    "    image_shape = tf.shape(image)\n",
    "    combined_pad = tf.image.pad_to_bounding_box(combined, 0, 0,\n",
    "                                                tf.maximum(size[0], image_shape[0]),\n",
    "                                                tf.maximum(size[1], image_shape[1]))\n",
    "    \n",
    "    last_label_dim = tf.shape(label)[-1]\n",
    "    last_image_dim = tf.shape(image)[-1]\n",
    "    \n",
    "    combined_crop = tf.image.random_crop(combined_pad,\n",
    "                                         size=tf.concat([size, [last_label_dim + last_image_dim]],\n",
    "                                                        axis=0))\n",
    "    \n",
    "    return (combined_crop[:, :, :last_image_dim], combined_crop[:, :, last_image_dim:])\n"
   ]
  },
  {
   "cell_type": "code",
   "execution_count": 8,
   "metadata": {},
   "outputs": [
    {
     "name": "stderr",
     "output_type": "stream",
     "text": [
      "Clipping input data to the valid range for imshow with RGB data ([0..1] for floats or [0..255] for integers).\n"
     ]
    },
    {
     "name": "stdout",
     "output_type": "stream",
     "text": [
      "(384, 384, 3) (384, 384, 2)\n",
      "-0.513725 10.35138\n",
      "0.0 1.0\n"
     ]
    },
    {
     "data": {
      "text/plain": [
       "<matplotlib.image.AxesImage at 0x1f2136c03c8>"
      ]
     },
     "execution_count": 8,
     "metadata": {},
     "output_type": "execute_result"
    },
    {
     "data": {
      "image/png": "[encoded data removed]",
      "text/plain": [
       "<Figure size 432x288 with 2 Axes>"
      ]
     },
     "metadata": {
      "needs_background": "light"
     },
     "output_type": "display_data"
    }
   ],
   "source": [
    "img = images_loaded[28,...]\n",
    "m = masks_loaded[28,...]\n",
    "\n",
    "cropped_image, cropped_mask = random_crop_and_pad_image_and_label(image=img,\n",
    "                                                                  label=m,\n",
    "                                                                  size=[384, 384])\n",
    "\n",
    "print(cropped_image.shape, cropped_mask.shape)\n",
    "print(cropped_image.numpy().min(), cropped_image.numpy().max())\n",
    "print(cropped_mask.numpy()[:,:,0].min(), cropped_mask.numpy()[:,:,0].max())\n",
    "\n",
    "\n",
    "fig, (ax1, ax2) = plt.subplots(1, 2)\n",
    "cropped_image = cropped_image.numpy()\n",
    "cropped_image_scaled = cropped_image / cropped_image.max()\n",
    "ax1.imshow(cropped_image_scaled)\n",
    "ax2.imshow(cropped_mask.numpy()[:,:,0])"
   ]
  },
  {
   "cell_type": "code",
   "execution_count": 9,
   "metadata": {},
   "outputs": [],
   "source": [
    "tfdataset = tf.data.Dataset.from_tensor_slices((images_loaded, masks_loaded))\n",
    "\n",
    "# apply the augmentation function to the tfdataset\n",
    "tfdataset = tfdataset.map(lambda image, label: random_crop_and_pad_image_and_label(image, label, size=[384,384])).batch(1)"
   ]
  },
  {
   "cell_type": "code",
   "execution_count": 10,
   "metadata": {},
   "outputs": [],
   "source": [
    "sample = next(iter(tfdataset))\n",
    "#sample"
   ]
  },
  {
   "cell_type": "markdown",
   "metadata": {
    "slideshow": {
     "slide_type": "skip"
    }
   },
   "source": [
    "Remark: For details see [tf.one_hot](https://www.tensorflow.org/api_docs/python/tf/one_hot)\n",
    "\n",
    "`tf.one_hot creates X channels from X labels: 1 => [0.0, 1.0], 0 => [1.0, 0.0]`"
   ]
  },
  {
   "cell_type": "markdown",
   "metadata": {
    "slideshow": {
     "slide_type": "slide"
    }
   },
   "source": [
    "### Define a simple model\n",
    "This part defines a simple Keras model with two convolutional layers and softmax activation at the output node. It is also possible to add pre.processing layers to the model here.\n",
    "\n",
    "In order to make the model robust to input scaling we standardize each image before training with the PerImageStandardization layer provided by the `czmodel` package."
   ]
  },
  {
   "cell_type": "code",
   "execution_count": 11,
   "metadata": {},
   "outputs": [],
   "source": [
    "base_model = tf.keras.applications.MobileNetV2(input_shape=[None, None, 3], include_top=False)\n",
    "\n",
    "# Use the activations of these layers\n",
    "layer_names = [\n",
    "    'block_1_expand_relu',   # 64x64\n",
    "    'block_3_expand_relu',   # 32x32\n",
    "    'block_6_expand_relu',   # 16x16\n",
    "    'block_13_expand_relu',  # 8x8\n",
    "    'block_16_project',      # 4x4\n",
    "]\n",
    "base_model_outputs = [base_model.get_layer(name).output for name in layer_names]\n",
    "\n",
    "# Create the feature extraction model\n",
    "down_stack = tf.keras.Model(inputs=base_model.input, outputs=base_model_outputs)\n",
    "\n",
    "down_stack.trainable = False"
   ]
  },
  {
   "cell_type": "code",
   "execution_count": 12,
   "metadata": {},
   "outputs": [],
   "source": [
    "up_stack = [\n",
    "    pix2pix.upsample(512, 3),  # 4x4 -> 8x8\n",
    "    pix2pix.upsample(256, 3),  # 8x8 -> 16x16\n",
    "    pix2pix.upsample(128, 3),  # 16x16 -> 32x32\n",
    "    pix2pix.upsample(64, 3),   # 32x32 -> 64x64\n",
    "]"
   ]
  },
  {
   "cell_type": "code",
   "execution_count": 13,
   "metadata": {},
   "outputs": [],
   "source": [
    "def unet_model(output_channels):\n",
    "    inputs = tf.keras.layers.Input(shape=[None, None, 3])\n",
    "\n",
    "    # Downsampling through the model\n",
    "    skips = down_stack(inputs)\n",
    "    x = skips[-1]\n",
    "    skips = reversed(skips[:-1])\n",
    "\n",
    "    # Upsampling and establishing the skip connections\n",
    "    for up, skip in zip(up_stack, skips):\n",
    "        x = up(x)\n",
    "        concat = tf.keras.layers.Concatenate()\n",
    "        x = concat([x, skip])\n",
    "\n",
    "    # This is the last layer of the model\n",
    "    last = tf.keras.layers.Conv2DTranspose(output_channels, 3,\n",
    "                                           strides=2,\n",
    "                                           activation='softmax',\n",
    "                                           padding='same')  #64x64 -> 128x128\n",
    "    x = last(x)\n",
    "\n",
    "    return tf.keras.Model(inputs=inputs, outputs=x)"
   ]
  },
  {
   "cell_type": "code",
   "execution_count": 14,
   "metadata": {},
   "outputs": [
    {
     "name": "stdout",
     "output_type": "stream",
     "text": [
      "Model: \"model_1\"\n",
      "__________________________________________________________________________________________________\n",
      "Layer (type)                    Output Shape         Param #     Connected to                     \n",
      "==================================================================================================\n",
      "input_2 (InputLayer)            [(None, None, None,  0                                            \n",
      "__________________________________________________________________________________________________\n",
      "model (Model)                   [(None, None, None,  1841984     input_2[0][0]                    \n",
      "__________________________________________________________________________________________________\n",
      "sequential (Sequential)         (None, None, None, 5 1476608     model[1][4]                      \n",
      "__________________________________________________________________________________________________\n",
      "concatenate (Concatenate)       (None, None, None, 1 0           sequential[0][0]                 \n",
      "                                                                 model[1][3]                      \n",
      "__________________________________________________________________________________________________\n",
      "sequential_1 (Sequential)       (None, None, None, 2 2507776     concatenate[0][0]                \n",
      "__________________________________________________________________________________________________\n",
      "concatenate_1 (Concatenate)     (None, None, None, 4 0           sequential_1[0][0]               \n",
      "                                                                 model[1][2]                      \n",
      "__________________________________________________________________________________________________\n",
      "sequential_2 (Sequential)       (None, None, None, 1 516608      concatenate_1[0][0]              \n",
      "__________________________________________________________________________________________________\n",
      "concatenate_2 (Concatenate)     (None, None, None, 2 0           sequential_2[0][0]               \n",
      "                                                                 model[1][1]                      \n",
      "__________________________________________________________________________________________________\n",
      "sequential_3 (Sequential)       (None, None, None, 6 156928      concatenate_2[0][0]              \n",
      "__________________________________________________________________________________________________\n",
      "concatenate_3 (Concatenate)     (None, None, None, 1 0           sequential_3[0][0]               \n",
      "                                                                 model[1][0]                      \n",
      "__________________________________________________________________________________________________\n",
      "conv2d_transpose_4 (Conv2DTrans (None, None, None, 2 2882        concatenate_3[0][0]              \n",
      "==================================================================================================\n",
      "Total params: 6,502,786\n",
      "Trainable params: 4,658,882\n",
      "Non-trainable params: 1,843,904\n",
      "__________________________________________________________________________________________________\n"
     ]
    }
   ],
   "source": [
    "model = unet_model(NUM_CLASSES)\n",
    "\n",
    "# compile the UNet\n",
    "model.compile(optimizer='adam',\n",
    "              loss='categorical_crossentropy',\n",
    "              metrics=['categorical_accuracy'])\n",
    "\n",
    "# show model summary\n",
    "model.summary()"
   ]
  },
  {
   "cell_type": "code",
   "execution_count": 15,
   "metadata": {},
   "outputs": [],
   "source": [
    "#tf.keras.utils.plot_model(model, show_shapes=True)"
   ]
  },
  {
   "cell_type": "code",
   "execution_count": 16,
   "metadata": {
    "slideshow": {
     "slide_type": "slide"
    }
   },
   "outputs": [],
   "source": [
    "# Define simple Keras model with two convolutional layers and softmax activation at the output node\n",
    "\n",
    "#model = tf.keras.models.Sequential([PerImageStandardization(input_shape=(None, None, CHANNELS)),\n",
    "#                                    tf.keras.layers.Conv2D(16, 3, padding='same'), \n",
    "#                                    tf.keras.layers.Conv2D(2, 1, activation='softmax', padding='same')])\n",
    "\n",
    "#model = tf.keras.models.Sequential([tf.keras.layers.Conv2D(16, 3, input_shape=(None, None, CHANNELS), padding='same'), \n",
    "#                                    tf.keras.layers.Conv2D(2, 1, activation='softmax', padding='same')])\n",
    "\n",
    "# compile the model\n",
    "#model.compile(optimizer='adam', loss='categorical_crossentropy', metrics=['categorical_accuracy'])\n",
    "#model.summary()"
   ]
  },
  {
   "cell_type": "code",
   "execution_count": null,
   "metadata": {},
   "outputs": [],
   "source": [
    "\"\"\"\n",
    "inputs = tf.keras.layers.Input(shape=(None, None, CHANNELS))\n",
    "conv1 = tf.keras.layers.Conv2D(16, 3, padding='same')(inputs)\n",
    "conv2 = tf.keras.layers.Conv2D(16, 3, padding='same', strides=2)(conv1)\n",
    "conv3 = tf.keras.layers.Conv2DTranspose(16, 3, padding='same', strides=2)(conv2)\n",
    "conv4 = tf.keras.layers.Conv2D(2, 1, activation='softmax', padding='same')(conv3)\n",
    "model = tf.keras.models.Model(inputs=inputs, outputs=conv4)\n",
    "\n",
    "# compile the model\n",
    "model.compile(optimizer='adam', loss='categorical_crossentropy', metrics=['categorical_accuracy'])\n",
    "model.summary()\n",
    "\"\"\""
   ]
  },
  {
   "cell_type": "markdown",
   "metadata": {
    "slideshow": {
     "slide_type": "slide"
    }
   },
   "source": [
    "### Fit the model to the loaded data\n",
    "This part fits the model to the loaded data and evaluates it on the training data. In this test example we do not care about an actual evaluation of the model using validation and test data sets."
   ]
  },
  {
   "cell_type": "code",
   "execution_count": 17,
   "metadata": {
    "slideshow": {
     "slide_type": "slide"
    }
   },
   "outputs": [
    {
     "name": "stdout",
     "output_type": "stream",
     "text": [
      "Epoch 1/200\n",
      "29/29 [==============================] - 2s 70ms/step - loss: 0.5432 - categorical_accuracy: 0.7892\n",
      "Epoch 2/200\n",
      "29/29 [==============================] - 2s 70ms/step - loss: 0.4742 - categorical_accuracy: 0.8180\n",
      "Epoch 3/200\n",
      "29/29 [==============================] - 2s 71ms/step - loss: 0.4802 - categorical_accuracy: 0.7987\n",
      "Epoch 4/200\n",
      "29/29 [==============================] - 2s 72ms/step - loss: 0.4581 - categorical_accuracy: 0.8239\n",
      "Epoch 5/200\n",
      "29/29 [==============================] - 2s 76ms/step - loss: 0.4989 - categorical_accuracy: 0.7877\n",
      "Epoch 6/200\n",
      "29/29 [==============================] - 2s 71ms/step - loss: 0.4593 - categorical_accuracy: 0.8199\n",
      "Epoch 7/200\n",
      "29/29 [==============================] - 2s 71ms/step - loss: 0.4279 - categorical_accuracy: 0.8327\n",
      "Epoch 8/200\n",
      "29/29 [==============================] - 2s 71ms/step - loss: 0.4552 - categorical_accuracy: 0.8153\n",
      "Epoch 9/200\n",
      "29/29 [==============================] - 2s 72ms/step - loss: 0.4713 - categorical_accuracy: 0.8048\n",
      "Epoch 10/200\n",
      "29/29 [==============================] - 2s 71ms/step - loss: 0.4671 - categorical_accuracy: 0.8147\n",
      "Epoch 11/200\n",
      "29/29 [==============================] - 2s 75ms/step - loss: 0.4755 - categorical_accuracy: 0.7971\n",
      "Epoch 12/200\n",
      "29/29 [==============================] - 2s 72ms/step - loss: 0.4727 - categorical_accuracy: 0.8010\n",
      "Epoch 13/200\n",
      "29/29 [==============================] - 2s 72ms/step - loss: 0.4493 - categorical_accuracy: 0.8219\n",
      "Epoch 14/200\n",
      "29/29 [==============================] - 2s 72ms/step - loss: 0.4237 - categorical_accuracy: 0.8371\n",
      "Epoch 15/200\n",
      "29/29 [==============================] - 2s 78ms/step - loss: 0.4710 - categorical_accuracy: 0.7971\n",
      "Epoch 16/200\n",
      "29/29 [==============================] - 2s 73ms/step - loss: 0.4562 - categorical_accuracy: 0.8114\n",
      "Epoch 17/200\n",
      "29/29 [==============================] - 2s 82ms/step - loss: 0.4415 - categorical_accuracy: 0.8288\n",
      "Epoch 18/200\n",
      "29/29 [==============================] - 2s 72ms/step - loss: 0.4560 - categorical_accuracy: 0.8281\n",
      "Epoch 19/200\n",
      "29/29 [==============================] - 2s 83ms/step - loss: 0.4610 - categorical_accuracy: 0.8122\n",
      "Epoch 20/200\n",
      "29/29 [==============================] - 2s 80ms/step - loss: 0.4726 - categorical_accuracy: 0.7970\n",
      "Epoch 21/200\n",
      "29/29 [==============================] - 2s 73ms/step - loss: 0.4743 - categorical_accuracy: 0.8149\n",
      "Epoch 22/200\n",
      "29/29 [==============================] - 2s 70ms/step - loss: 0.4865 - categorical_accuracy: 0.7861\n",
      "Epoch 23/200\n",
      "29/29 [==============================] - 2s 70ms/step - loss: 0.4363 - categorical_accuracy: 0.8290\n",
      "Epoch 24/200\n",
      "29/29 [==============================] - 2s 70ms/step - loss: 0.4415 - categorical_accuracy: 0.8196\n",
      "Epoch 25/200\n",
      "29/29 [==============================] - 2s 72ms/step - loss: 0.4603 - categorical_accuracy: 0.8164\n",
      "Epoch 26/200\n",
      "29/29 [==============================] - 2s 69ms/step - loss: 0.4554 - categorical_accuracy: 0.8173\n",
      "Epoch 27/200\n",
      "29/29 [==============================] - 2s 71ms/step - loss: 0.4590 - categorical_accuracy: 0.8133\n",
      "Epoch 28/200\n",
      "29/29 [==============================] - 2s 71ms/step - loss: 0.4539 - categorical_accuracy: 0.8062\n",
      "Epoch 29/200\n",
      "29/29 [==============================] - 2s 70ms/step - loss: 0.4505 - categorical_accuracy: 0.8187\n",
      "Epoch 30/200\n",
      "29/29 [==============================] - 2s 73ms/step - loss: 0.4661 - categorical_accuracy: 0.8079\n",
      "Epoch 31/200\n",
      "29/29 [==============================] - 2s 70ms/step - loss: 0.4843 - categorical_accuracy: 0.7827\n",
      "Epoch 32/200\n",
      "29/29 [==============================] - 2s 74ms/step - loss: 0.4414 - categorical_accuracy: 0.8258\n",
      "Epoch 33/200\n",
      "29/29 [==============================] - 2s 76ms/step - loss: 0.4452 - categorical_accuracy: 0.8191\n",
      "Epoch 34/200\n",
      "29/29 [==============================] - 2s 71ms/step - loss: 0.4643 - categorical_accuracy: 0.8070\n",
      "Epoch 35/200\n",
      "29/29 [==============================] - 2s 82ms/step - loss: 0.4697 - categorical_accuracy: 0.8043\n",
      "Epoch 36/200\n",
      "29/29 [==============================] - 2s 71ms/step - loss: 0.4799 - categorical_accuracy: 0.7983\n",
      "Epoch 37/200\n",
      "29/29 [==============================] - 2s 79ms/step - loss: 0.4562 - categorical_accuracy: 0.8148\n",
      "Epoch 38/200\n",
      "29/29 [==============================] - 2s 69ms/step - loss: 0.4796 - categorical_accuracy: 0.7929\n",
      "Epoch 39/200\n",
      "29/29 [==============================] - 2s 76ms/step - loss: 0.4425 - categorical_accuracy: 0.8283\n",
      "Epoch 40/200\n",
      "29/29 [==============================] - 2s 75ms/step - loss: 0.4893 - categorical_accuracy: 0.7916\n",
      "Epoch 41/200\n",
      "29/29 [==============================] - 2s 74ms/step - loss: 0.4716 - categorical_accuracy: 0.8103\n",
      "Epoch 42/200\n",
      "29/29 [==============================] - 2s 73ms/step - loss: 0.4459 - categorical_accuracy: 0.8189\n",
      "Epoch 43/200\n",
      "29/29 [==============================] - 2s 79ms/step - loss: 0.4428 - categorical_accuracy: 0.8219\n",
      "Epoch 44/200\n",
      "29/29 [==============================] - 2s 70ms/step - loss: 0.4467 - categorical_accuracy: 0.8241\n",
      "Epoch 45/200\n",
      "29/29 [==============================] - 2s 80ms/step - loss: 0.4371 - categorical_accuracy: 0.8265\n",
      "Epoch 46/200\n",
      "29/29 [==============================] - 2s 74ms/step - loss: 0.4163 - categorical_accuracy: 0.8393\n",
      "Epoch 47/200\n",
      "29/29 [==============================] - 2s 73ms/step - loss: 0.4298 - categorical_accuracy: 0.8326\n",
      "Epoch 48/200\n",
      "29/29 [==============================] - 2s 73ms/step - loss: 0.4465 - categorical_accuracy: 0.8212\n",
      "Epoch 49/200\n",
      "29/29 [==============================] - 2s 72ms/step - loss: 0.4591 - categorical_accuracy: 0.8064\n",
      "Epoch 50/200\n",
      "29/29 [==============================] - 2s 69ms/step - loss: 0.4420 - categorical_accuracy: 0.8205\n",
      "Epoch 51/200\n",
      "29/29 [==============================] - 2s 71ms/step - loss: 0.4529 - categorical_accuracy: 0.8117\n",
      "Epoch 52/200\n",
      "29/29 [==============================] - 2s 71ms/step - loss: 0.4367 - categorical_accuracy: 0.8270\n",
      "Epoch 53/200\n",
      "29/29 [==============================] - 2s 69ms/step - loss: 0.4352 - categorical_accuracy: 0.8304\n",
      "Epoch 54/200\n",
      "29/29 [==============================] - 2s 69ms/step - loss: 0.4612 - categorical_accuracy: 0.8147\n",
      "Epoch 55/200\n",
      "29/29 [==============================] - 2s 71ms/step - loss: 0.4519 - categorical_accuracy: 0.8285\n",
      "Epoch 56/200\n",
      "29/29 [==============================] - 2s 73ms/step - loss: 0.4643 - categorical_accuracy: 0.8031\n",
      "Epoch 57/200\n",
      "29/29 [==============================] - 2s 69ms/step - loss: 0.4399 - categorical_accuracy: 0.8314\n",
      "Epoch 58/200\n",
      "29/29 [==============================] - 2s 69ms/step - loss: 0.4569 - categorical_accuracy: 0.8112\n",
      "Epoch 59/200\n",
      "29/29 [==============================] - 2s 69ms/step - loss: 0.4386 - categorical_accuracy: 0.8258\n",
      "Epoch 60/200\n",
      "29/29 [==============================] - 2s 69ms/step - loss: 0.4546 - categorical_accuracy: 0.8142\n",
      "Epoch 61/200\n",
      "29/29 [==============================] - 2s 69ms/step - loss: 0.4479 - categorical_accuracy: 0.8208\n",
      "Epoch 62/200\n",
      "29/29 [==============================] - 2s 69ms/step - loss: 0.4593 - categorical_accuracy: 0.8183\n",
      "Epoch 63/200\n",
      "29/29 [==============================] - 2s 70ms/step - loss: 0.4562 - categorical_accuracy: 0.8232\n",
      "Epoch 64/200\n",
      "29/29 [==============================] - 2s 70ms/step - loss: 0.4380 - categorical_accuracy: 0.8299\n",
      "Epoch 65/200\n",
      "29/29 [==============================] - 2s 74ms/step - loss: 0.4332 - categorical_accuracy: 0.8307\n",
      "Epoch 66/200\n",
      "29/29 [==============================] - 2s 69ms/step - loss: 0.4688 - categorical_accuracy: 0.8076\n",
      "Epoch 67/200\n",
      "29/29 [==============================] - 2s 74ms/step - loss: 0.4764 - categorical_accuracy: 0.8020\n",
      "Epoch 68/200\n",
      "29/29 [==============================] - 2s 72ms/step - loss: 0.4112 - categorical_accuracy: 0.8412\n",
      "Epoch 69/200\n",
      "29/29 [==============================] - 2s 69ms/step - loss: 0.4585 - categorical_accuracy: 0.8122\n",
      "Epoch 70/200\n",
      "29/29 [==============================] - 2s 71ms/step - loss: 0.4891 - categorical_accuracy: 0.7920\n",
      "Epoch 71/200\n",
      "29/29 [==============================] - 2s 72ms/step - loss: 0.4681 - categorical_accuracy: 0.8074\n",
      "Epoch 72/200\n",
      "29/29 [==============================] - 2s 71ms/step - loss: 0.4427 - categorical_accuracy: 0.8238\n",
      "Epoch 73/200\n"
     ]
    },
    {
     "name": "stdout",
     "output_type": "stream",
     "text": [
      "29/29 [==============================] - 2s 71ms/step - loss: 0.4622 - categorical_accuracy: 0.8009\n",
      "Epoch 74/200\n",
      "29/29 [==============================] - 2s 69ms/step - loss: 0.4776 - categorical_accuracy: 0.8048\n",
      "Epoch 75/200\n",
      "29/29 [==============================] - 2s 68ms/step - loss: 0.4373 - categorical_accuracy: 0.8384\n",
      "Epoch 76/200\n",
      "29/29 [==============================] - 2s 69ms/step - loss: 0.4531 - categorical_accuracy: 0.8105\n",
      "Epoch 77/200\n",
      "29/29 [==============================] - 2s 69ms/step - loss: 0.4632 - categorical_accuracy: 0.7945\n",
      "Epoch 78/200\n",
      "29/29 [==============================] - 2s 68ms/step - loss: 0.4662 - categorical_accuracy: 0.8103\n",
      "Epoch 79/200\n",
      "29/29 [==============================] - 2s 68ms/step - loss: 0.4349 - categorical_accuracy: 0.8256\n",
      "Epoch 80/200\n",
      "29/29 [==============================] - 2s 69ms/step - loss: 0.4578 - categorical_accuracy: 0.8085\n",
      "Epoch 81/200\n",
      "29/29 [==============================] - 2s 69ms/step - loss: 0.4551 - categorical_accuracy: 0.8087\n",
      "Epoch 82/200\n",
      "29/29 [==============================] - 2s 69ms/step - loss: 0.4342 - categorical_accuracy: 0.8297\n",
      "Epoch 83/200\n",
      "29/29 [==============================] - 2s 68ms/step - loss: 0.4550 - categorical_accuracy: 0.8164\n",
      "Epoch 84/200\n",
      "29/29 [==============================] - 2s 68ms/step - loss: 0.4290 - categorical_accuracy: 0.8348\n",
      "Epoch 85/200\n",
      "29/29 [==============================] - 2s 69ms/step - loss: 0.4461 - categorical_accuracy: 0.8157\n",
      "Epoch 86/200\n",
      "29/29 [==============================] - 2s 70ms/step - loss: 0.4544 - categorical_accuracy: 0.8119\n",
      "Epoch 87/200\n",
      "29/29 [==============================] - 2s 68ms/step - loss: 0.4400 - categorical_accuracy: 0.8224\n",
      "Epoch 88/200\n",
      "29/29 [==============================] - 2s 68ms/step - loss: 0.4663 - categorical_accuracy: 0.8041\n",
      "Epoch 89/200\n",
      "29/29 [==============================] - 2s 70ms/step - loss: 0.4543 - categorical_accuracy: 0.8162\n",
      "Epoch 90/200\n",
      "29/29 [==============================] - 2s 69ms/step - loss: 0.4272 - categorical_accuracy: 0.8274\n",
      "Epoch 91/200\n",
      "29/29 [==============================] - 2s 69ms/step - loss: 0.4699 - categorical_accuracy: 0.7973\n",
      "Epoch 92/200\n",
      "29/29 [==============================] - 2s 68ms/step - loss: 0.4687 - categorical_accuracy: 0.8046\n",
      "Epoch 93/200\n",
      "29/29 [==============================] - 2s 69ms/step - loss: 0.4663 - categorical_accuracy: 0.8139\n",
      "Epoch 94/200\n",
      "29/29 [==============================] - 2s 70ms/step - loss: 0.4596 - categorical_accuracy: 0.8135\n",
      "Epoch 95/200\n",
      "29/29 [==============================] - 2s 70ms/step - loss: 0.4468 - categorical_accuracy: 0.8233\n",
      "Epoch 96/200\n",
      "29/29 [==============================] - 2s 68ms/step - loss: 0.4295 - categorical_accuracy: 0.8346\n",
      "Epoch 97/200\n",
      "29/29 [==============================] - 2s 68ms/step - loss: 0.4530 - categorical_accuracy: 0.8159\n",
      "Epoch 98/200\n",
      "29/29 [==============================] - 2s 70ms/step - loss: 0.4686 - categorical_accuracy: 0.8091\n",
      "Epoch 99/200\n",
      "29/29 [==============================] - 2s 69ms/step - loss: 0.4625 - categorical_accuracy: 0.8159\n",
      "Epoch 100/200\n",
      "29/29 [==============================] - 2s 71ms/step - loss: 0.4622 - categorical_accuracy: 0.8082\n",
      "Epoch 101/200\n",
      "29/29 [==============================] - 2s 70ms/step - loss: 0.4403 - categorical_accuracy: 0.8330\n",
      "Epoch 102/200\n",
      "29/29 [==============================] - 2s 71ms/step - loss: 0.4821 - categorical_accuracy: 0.7915\n",
      "Epoch 103/200\n",
      "29/29 [==============================] - 2s 71ms/step - loss: 0.4512 - categorical_accuracy: 0.8149\n",
      "Epoch 104/200\n",
      "29/29 [==============================] - 2s 73ms/step - loss: 0.4433 - categorical_accuracy: 0.8335\n",
      "Epoch 105/200\n",
      "29/29 [==============================] - 2s 73ms/step - loss: 0.4412 - categorical_accuracy: 0.8268\n",
      "Epoch 106/200\n",
      "29/29 [==============================] - 2s 69ms/step - loss: 0.4580 - categorical_accuracy: 0.7963\n",
      "Epoch 107/200\n",
      "29/29 [==============================] - 2s 69ms/step - loss: 0.4528 - categorical_accuracy: 0.8044\n",
      "Epoch 108/200\n",
      "29/29 [==============================] - 2s 71ms/step - loss: 0.4521 - categorical_accuracy: 0.8055\n",
      "Epoch 109/200\n",
      "29/29 [==============================] - 2s 71ms/step - loss: 0.4771 - categorical_accuracy: 0.7964\n",
      "Epoch 110/200\n",
      "29/29 [==============================] - 2s 73ms/step - loss: 0.4602 - categorical_accuracy: 0.8197\n",
      "Epoch 111/200\n",
      "29/29 [==============================] - 2s 69ms/step - loss: 0.4786 - categorical_accuracy: 0.8128\n",
      "Epoch 112/200\n",
      "29/29 [==============================] - 2s 68ms/step - loss: 0.4629 - categorical_accuracy: 0.8081\n",
      "Epoch 113/200\n",
      "29/29 [==============================] - 2s 69ms/step - loss: 0.4383 - categorical_accuracy: 0.8226\n",
      "Epoch 114/200\n",
      "29/29 [==============================] - 2s 70ms/step - loss: 0.4459 - categorical_accuracy: 0.8258\n",
      "Epoch 115/200\n",
      "29/29 [==============================] - 2s 70ms/step - loss: 0.4683 - categorical_accuracy: 0.7957\n",
      "Epoch 116/200\n",
      "29/29 [==============================] - 2s 70ms/step - loss: 0.4558 - categorical_accuracy: 0.8210\n",
      "Epoch 117/200\n",
      "29/29 [==============================] - 2s 70ms/step - loss: 0.4511 - categorical_accuracy: 0.8148\n",
      "Epoch 118/200\n",
      "29/29 [==============================] - 2s 70ms/step - loss: 0.4630 - categorical_accuracy: 0.8086\n",
      "Epoch 119/200\n",
      "29/29 [==============================] - 2s 69ms/step - loss: 0.4758 - categorical_accuracy: 0.7956\n",
      "Epoch 120/200\n",
      "29/29 [==============================] - 2s 70ms/step - loss: 0.4735 - categorical_accuracy: 0.8134\n",
      "Epoch 121/200\n",
      "29/29 [==============================] - 2s 69ms/step - loss: 0.4521 - categorical_accuracy: 0.8230\n",
      "Epoch 122/200\n",
      "29/29 [==============================] - 2s 71ms/step - loss: 0.4471 - categorical_accuracy: 0.8335\n",
      "Epoch 123/200\n",
      "29/29 [==============================] - 2s 71ms/step - loss: 0.4640 - categorical_accuracy: 0.8082\n",
      "Epoch 124/200\n",
      "29/29 [==============================] - 2s 77ms/step - loss: 0.4453 - categorical_accuracy: 0.8232\n",
      "Epoch 125/200\n",
      "29/29 [==============================] - 2s 75ms/step - loss: 0.4677 - categorical_accuracy: 0.8055\n",
      "Epoch 126/200\n",
      "29/29 [==============================] - 2s 74ms/step - loss: 0.4398 - categorical_accuracy: 0.8226\n",
      "Epoch 127/200\n",
      "29/29 [==============================] - 2s 75ms/step - loss: 0.4291 - categorical_accuracy: 0.8270\n",
      "Epoch 128/200\n",
      "29/29 [==============================] - 2s 74ms/step - loss: 0.4330 - categorical_accuracy: 0.8357\n",
      "Epoch 129/200\n",
      "29/29 [==============================] - 2s 74ms/step - loss: 0.4472 - categorical_accuracy: 0.8195\n",
      "Epoch 130/200\n",
      "29/29 [==============================] - 2s 77ms/step - loss: 0.4480 - categorical_accuracy: 0.8124\n",
      "Epoch 131/200\n",
      "29/29 [==============================] - 2s 84ms/step - loss: 0.4479 - categorical_accuracy: 0.8252 1s - loss: 0.356\n",
      "Epoch 132/200\n",
      "29/29 [==============================] - 2s 81ms/step - loss: 0.4432 - categorical_accuracy: 0.8261\n",
      "Epoch 133/200\n",
      "29/29 [==============================] - 2s 76ms/step - loss: 0.4488 - categorical_accuracy: 0.8129\n",
      "Epoch 134/200\n",
      "29/29 [==============================] - 2s 78ms/step - loss: 0.4530 - categorical_accuracy: 0.8154\n",
      "Epoch 135/200\n",
      "29/29 [==============================] - 2s 75ms/step - loss: 0.4546 - categorical_accuracy: 0.8047\n",
      "Epoch 136/200\n",
      "29/29 [==============================] - 2s 75ms/step - loss: 0.4583 - categorical_accuracy: 0.8052\n",
      "Epoch 137/200\n",
      "29/29 [==============================] - 2s 76ms/step - loss: 0.4314 - categorical_accuracy: 0.8352\n",
      "Epoch 138/200\n",
      "29/29 [==============================] - 2s 75ms/step - loss: 0.4273 - categorical_accuracy: 0.8441\n",
      "Epoch 139/200\n",
      "29/29 [==============================] - 2s 78ms/step - loss: 0.4400 - categorical_accuracy: 0.8309\n",
      "Epoch 140/200\n",
      "29/29 [==============================] - 2s 75ms/step - loss: 0.4369 - categorical_accuracy: 0.8218\n",
      "Epoch 141/200\n",
      "29/29 [==============================] - 2s 75ms/step - loss: 0.4270 - categorical_accuracy: 0.8378\n",
      "Epoch 142/200\n",
      "29/29 [==============================] - 2s 75ms/step - loss: 0.4442 - categorical_accuracy: 0.8156\n",
      "Epoch 143/200\n",
      "29/29 [==============================] - 2s 77ms/step - loss: 0.4457 - categorical_accuracy: 0.8135\n",
      "Epoch 144/200\n",
      "29/29 [==============================] - 2s 76ms/step - loss: 0.4820 - categorical_accuracy: 0.7835\n",
      "Epoch 145/200\n"
     ]
    },
    {
     "name": "stdout",
     "output_type": "stream",
     "text": [
      "29/29 [==============================] - 2s 78ms/step - loss: 0.4456 - categorical_accuracy: 0.8248\n",
      "Epoch 146/200\n",
      "29/29 [==============================] - 2s 75ms/step - loss: 0.4647 - categorical_accuracy: 0.7897\n",
      "Epoch 147/200\n",
      "29/29 [==============================] - 2s 75ms/step - loss: 0.4692 - categorical_accuracy: 0.8041\n",
      "Epoch 148/200\n",
      "29/29 [==============================] - 2s 76ms/step - loss: 0.4588 - categorical_accuracy: 0.8170\n",
      "Epoch 149/200\n",
      "29/29 [==============================] - 2s 74ms/step - loss: 0.3929 - categorical_accuracy: 0.8567\n",
      "Epoch 150/200\n",
      "29/29 [==============================] - 2s 76ms/step - loss: 0.4607 - categorical_accuracy: 0.8091\n",
      "Epoch 151/200\n",
      "29/29 [==============================] - 2s 80ms/step - loss: 0.4630 - categorical_accuracy: 0.8124\n",
      "Epoch 152/200\n",
      "29/29 [==============================] - 2s 75ms/step - loss: 0.4553 - categorical_accuracy: 0.8069\n",
      "Epoch 153/200\n",
      "29/29 [==============================] - 2s 76ms/step - loss: 0.4650 - categorical_accuracy: 0.8001\n",
      "Epoch 154/200\n",
      "29/29 [==============================] - 2s 74ms/step - loss: 0.4629 - categorical_accuracy: 0.8091\n",
      "Epoch 155/200\n",
      "29/29 [==============================] - 2s 74ms/step - loss: 0.4892 - categorical_accuracy: 0.7817\n",
      "Epoch 156/200\n",
      "29/29 [==============================] - 2s 75ms/step - loss: 0.4475 - categorical_accuracy: 0.8188\n",
      "Epoch 157/200\n",
      "29/29 [==============================] - 2s 75ms/step - loss: 0.4599 - categorical_accuracy: 0.8073\n",
      "Epoch 158/200\n",
      "29/29 [==============================] - 2s 76ms/step - loss: 0.4503 - categorical_accuracy: 0.8204\n",
      "Epoch 159/200\n",
      "29/29 [==============================] - 2s 74ms/step - loss: 0.4536 - categorical_accuracy: 0.8195\n",
      "Epoch 160/200\n",
      "29/29 [==============================] - 2s 74ms/step - loss: 0.4390 - categorical_accuracy: 0.8161\n",
      "Epoch 161/200\n",
      "29/29 [==============================] - 2s 73ms/step - loss: 0.4626 - categorical_accuracy: 0.8088\n",
      "Epoch 162/200\n",
      "29/29 [==============================] - 2s 75ms/step - loss: 0.4553 - categorical_accuracy: 0.8171\n",
      "Epoch 163/200\n",
      "29/29 [==============================] - 2s 75ms/step - loss: 0.4504 - categorical_accuracy: 0.8200\n",
      "Epoch 164/200\n",
      "29/29 [==============================] - 2s 78ms/step - loss: 0.4364 - categorical_accuracy: 0.8315\n",
      "Epoch 165/200\n",
      "29/29 [==============================] - 2s 74ms/step - loss: 0.4496 - categorical_accuracy: 0.8111\n",
      "Epoch 166/200\n",
      "29/29 [==============================] - 2s 75ms/step - loss: 0.4693 - categorical_accuracy: 0.7890\n",
      "Epoch 167/200\n",
      "29/29 [==============================] - 2s 76ms/step - loss: 0.4876 - categorical_accuracy: 0.7880\n",
      "Epoch 168/200\n",
      "29/29 [==============================] - 2s 76ms/step - loss: 0.4808 - categorical_accuracy: 0.7874\n",
      "Epoch 169/200\n",
      "29/29 [==============================] - 2s 76ms/step - loss: 0.4571 - categorical_accuracy: 0.8126\n",
      "Epoch 170/200\n",
      "29/29 [==============================] - 2s 77ms/step - loss: 0.4691 - categorical_accuracy: 0.8067\n",
      "Epoch 171/200\n",
      "29/29 [==============================] - 2s 74ms/step - loss: 0.4447 - categorical_accuracy: 0.8227\n",
      "Epoch 172/200\n",
      "29/29 [==============================] - 2s 74ms/step - loss: 0.4574 - categorical_accuracy: 0.8096\n",
      "Epoch 173/200\n",
      "29/29 [==============================] - 2s 85ms/step - loss: 0.4387 - categorical_accuracy: 0.8449\n",
      "Epoch 174/200\n",
      "29/29 [==============================] - 2s 78ms/step - loss: 0.4415 - categorical_accuracy: 0.8446\n",
      "Epoch 175/200\n",
      "29/29 [==============================] - 2s 79ms/step - loss: 0.4677 - categorical_accuracy: 0.7986\n",
      "Epoch 176/200\n",
      "29/29 [==============================] - 2s 77ms/step - loss: 0.4382 - categorical_accuracy: 0.8276\n",
      "Epoch 177/200\n",
      "29/29 [==============================] - 3s 87ms/step - loss: 0.4539 - categorical_accuracy: 0.8111\n",
      "Epoch 178/200\n",
      "29/29 [==============================] - 2s 79ms/step - loss: 0.4443 - categorical_accuracy: 0.8082\n",
      "Epoch 179/200\n",
      "29/29 [==============================] - 2s 76ms/step - loss: 0.4110 - categorical_accuracy: 0.8371\n",
      "Epoch 180/200\n",
      "29/29 [==============================] - 2s 83ms/step - loss: 0.4269 - categorical_accuracy: 0.8303\n",
      "Epoch 181/200\n",
      "29/29 [==============================] - 2s 77ms/step - loss: 0.4708 - categorical_accuracy: 0.7918\n",
      "Epoch 182/200\n",
      "29/29 [==============================] - 2s 76ms/step - loss: 0.4253 - categorical_accuracy: 0.8345\n",
      "Epoch 183/200\n",
      "29/29 [==============================] - 2s 76ms/step - loss: 0.4255 - categorical_accuracy: 0.8383\n",
      "Epoch 184/200\n",
      "29/29 [==============================] - 2s 77ms/step - loss: 0.4279 - categorical_accuracy: 0.8410\n",
      "Epoch 185/200\n",
      "29/29 [==============================] - 2s 75ms/step - loss: 0.4397 - categorical_accuracy: 0.8248\n",
      "Epoch 186/200\n",
      "29/29 [==============================] - 2s 74ms/step - loss: 0.4367 - categorical_accuracy: 0.8319\n",
      "Epoch 187/200\n",
      "29/29 [==============================] - 2s 76ms/step - loss: 0.4443 - categorical_accuracy: 0.8262\n",
      "Epoch 188/200\n",
      "29/29 [==============================] - 2s 74ms/step - loss: 0.4535 - categorical_accuracy: 0.8094\n",
      "Epoch 189/200\n",
      "29/29 [==============================] - 2s 76ms/step - loss: 0.4196 - categorical_accuracy: 0.8405\n",
      "Epoch 190/200\n",
      "29/29 [==============================] - 2s 77ms/step - loss: 0.4507 - categorical_accuracy: 0.8207\n",
      "Epoch 191/200\n",
      "29/29 [==============================] - 2s 77ms/step - loss: 0.4259 - categorical_accuracy: 0.8376\n",
      "Epoch 192/200\n",
      "29/29 [==============================] - 2s 74ms/step - loss: 0.4631 - categorical_accuracy: 0.8042\n",
      "Epoch 193/200\n",
      "29/29 [==============================] - 2s 71ms/step - loss: 0.4635 - categorical_accuracy: 0.8006\n",
      "Epoch 194/200\n",
      "29/29 [==============================] - 2s 71ms/step - loss: 0.4812 - categorical_accuracy: 0.7922\n",
      "Epoch 195/200\n",
      "29/29 [==============================] - 2s 72ms/step - loss: 0.4802 - categorical_accuracy: 0.7954\n",
      "Epoch 196/200\n",
      "29/29 [==============================] - 2s 78ms/step - loss: 0.4383 - categorical_accuracy: 0.8236 1s - los\n",
      "Epoch 197/200\n",
      "29/29 [==============================] - 2s 72ms/step - loss: 0.4348 - categorical_accuracy: 0.8248\n",
      "Epoch 198/200\n",
      "29/29 [==============================] - 2s 80ms/step - loss: 0.4456 - categorical_accuracy: 0.8285\n",
      "Epoch 199/200\n",
      "29/29 [==============================] - 2s 79ms/step - loss: 0.4618 - categorical_accuracy: 0.8049\n",
      "Epoch 200/200\n",
      "29/29 [==============================] - 2s 78ms/step - loss: 0.4285 - categorical_accuracy: 0.8288\n"
     ]
    },
    {
     "data": {
      "text/plain": [
       "<tensorflow.python.keras.callbacks.History at 0x1f2f7903748>"
      ]
     },
     "execution_count": 17,
     "metadata": {},
     "output_type": "execute_result"
    }
   ],
   "source": [
    "# define number of training epochs\n",
    "num_epochs = 200\n",
    "\n",
    "# fit the model to the data\n",
    "model.fit(tfdataset,\n",
    "          batch_size=32,\n",
    "          epochs=num_epochs)"
   ]
  },
  {
   "cell_type": "code",
   "execution_count": 18,
   "metadata": {
    "slideshow": {
     "slide_type": "slide"
    }
   },
   "outputs": [
    {
     "name": "stdout",
     "output_type": "stream",
     "text": [
      "29/29 [==============================] - 2s 72ms/step - loss: 0.4102 - categorical_accuracy: 0.8457\n",
      "The model achieves 84.56722497940063% accuracy on the training data.\n"
     ]
    }
   ],
   "source": [
    "# get the loss and acuary values\n",
    "#loss, accuracy = model.evaluate(images_loaded, masks_loaded)\n",
    "loss, accuracy = model.evaluate(tfdataset)\n",
    "\n",
    "# show the final accuracy achieved\n",
    "print(\"The model achieves {}% accuracy on the training data.\".format(accuracy * 100))"
   ]
  },
  {
   "cell_type": "code",
   "execution_count": 19,
   "metadata": {},
   "outputs": [],
   "source": [
    "dataset_it = iter(tfdataset)"
   ]
  },
  {
   "cell_type": "code",
   "execution_count": 32,
   "metadata": {},
   "outputs": [
    {
     "name": "stderr",
     "output_type": "stream",
     "text": [
      "Clipping input data to the valid range for imshow with RGB data ([0..1] for floats or [0..255] for integers).\n"
     ]
    },
    {
     "name": "stdout",
     "output_type": "stream",
     "text": [
      "(384, 384, 3) (384, 384)\n",
      "-0.513725 5.704745\n",
      "0 1\n",
      "[[0 0 0 ... 0 0 0]\n",
      " [0 0 0 ... 0 0 0]\n",
      " [0 0 0 ... 0 0 0]\n",
      " ...\n",
      " [0 0 0 ... 0 0 0]\n",
      " [0 0 0 ... 0 0 0]\n",
      " [0 0 0 ... 0 0 0]]\n"
     ]
    },
    {
     "data": {
      "text/plain": [
       "<matplotlib.image.AxesImage at 0x1f328367c48>"
      ]
     },
     "execution_count": 32,
     "metadata": {},
     "output_type": "execute_result"
    },
    {
     "data": {
      "image/png": "[encoded data removed]",
      "text/plain": [
       "<Figure size 432x288 with 2 Axes>"
      ]
     },
     "metadata": {
      "needs_background": "light"
     },
     "output_type": "display_data"
    }
   ],
   "source": [
    "sample = next(dataset_it)[0]\n",
    "pred = model.predict(sample)[0]\n",
    "pred = np.argmax(pred, axis=-1)\n",
    "\n",
    "sample = sample.numpy()[0]\n",
    "sample_scaled = sample / sample.max()\n",
    "\n",
    "print(sample.shape, pred.shape)\n",
    "print(sample.min(), sample.max())\n",
    "print(pred.min(), pred.max())\n",
    "print(pred)\n",
    "\n",
    "#pred = np.tile(pred[:,:,1:], (1,1,3))\n",
    "\n",
    "fig, (ax1, ax2) = plt.subplots(1, 2)\n",
    "ax1.imshow(sample_scaled)\n",
    "ax2.imshow(pred) "
   ]
  },
  {
   "cell_type": "markdown",
   "metadata": {
    "slideshow": {
     "slide_type": "slide"
    }
   },
   "source": [
    "## Create a CZModel from the trained Keras model\n",
    "\n",
    "In this section we export the trained model to the CZModel format using the czmodel library and some additional meta data all possible parameter choices are described in the [ANN model specification](https://pypi.org/project/czmodel/) that can be found on the PyPi packager for `czmodel`.\n",
    "\n",
    "### Define Meta-Data\n",
    "\n",
    "We first define the meta-data needed to run the model within the Intellesis infrastructure. The `czmodel` package offers a named tuple `ModelMetadata` that allows to either parse as JSON file as described or to directly specify the parameters as shown below.\n",
    "\n",
    "### Create a Model Specification Object\n",
    "\n",
    "The export functions provided by the `czmodel` package expect a `ModelSpec` tuple that features the Keras model to be exported and the corresponding model metadata.\n",
    "\n",
    "Therefore, we wrap our model and the `model_metadata` instance into a `ModelSpec` object."
   ]
  },
  {
   "cell_type": "code",
   "execution_count": null,
   "metadata": {
    "slideshow": {
     "slide_type": "slide"
    }
   },
   "outputs": [],
   "source": [
    "# Define the model metadata\n",
    "model_metadata = ModelMetadata.from_params(name='Simple_Nuclei_SegmentationModel', \n",
    "                                           color_handling='ConvertToMonochrome',\n",
    "                                           pixel_type='Gray16',\n",
    "                                           classes=[\"Background\", \"Nucleus\"],\n",
    "                                           border_size=8)\n",
    "\n",
    "\n",
    "# Create a model specification object used for conversion\n",
    "model_spec = ModelSpec(model=model, model_metadata=model_metadata)"
   ]
  },
  {
   "cell_type": "markdown",
   "metadata": {
    "slideshow": {
     "slide_type": "slide"
    }
   },
   "source": [
    "### Perform model export into *.czmodel file format\n",
    "\n",
    "The `czmodel` library offers two functions to perform the actual export. \n",
    "\n",
    "* `convert_from_json_spec` allows to provide a JSON file with all information to convert a model in SavedModel format on disk to a `.czmodel` file that can be loaded with ZEN.\n",
    "* `convert_from_model_spec` expects a `ModelSpec` object, an output path and name and optionally target spatial dimensions for the expected input of the exported model. From this information it creates a `.czmodel` file containing the specified model.\n",
    "\n",
    "```python\n",
    "convert_from_model_spec(model_spec=model_spec, \n",
    "                        output_path=folder_to_store_czmodel, \n",
    "                        output_name=name_of_the_model, \n",
    "                        spatial_dims=spatial_dims)\n",
    "```"
   ]
  },
  {
   "cell_type": "code",
   "execution_count": null,
   "metadata": {
    "slideshow": {
     "slide_type": "slide"
    }
   },
   "outputs": [],
   "source": [
    "# Define dimensions - ZEN Intellesis requires fully defined spatial dimensions.\n",
    "# This is the tile size used by the ZEN TilingClient to pass a. image to the segmentation service.\n",
    "\n",
    "# Important: The tile size has to be chosen s.t. inference is possible with the minimum hardware requirements of Intellesis\n",
    "spatial_dims = 1024, 1024  # Optional: Define target spatial dimensions of the model for inference.\n",
    "\n",
    "convert_from_model_spec(model_spec=model_spec, \n",
    "                        output_path='./czmodel_output', \n",
    "                        output_name='simple_nuclei_segmodel', \n",
    "                        spatial_dims=spatial_dims)\n",
    "\n",
    "# In the example above there will be a \"\"./czmodel_output/simple_nuclei_segmodel.czmodel\" file saved on disk."
   ]
  },
  {
   "cell_type": "markdown",
   "metadata": {
    "slideshow": {
     "slide_type": "slide"
    }
   },
   "source": [
    "## Remarks\n",
    "The generated .czmodel file can be directly loaded into ZEN Intellesis to perform segmentation tasks with the trained model.\n",
    "If there is already a trained model in SavedModel format present on disk, it can also be converted by providing a meta-data JSON file as described in the [ANN Model Specification](https://pypi.org/project/czmodel/).\n",
    "\n",
    "The following JSON document describes the same meta-data applied in the use case above:\n",
    "\n",
    "```json\n",
    "{\n",
    "\"BorderSize\": 8,\n",
    "\"ColorHandling\": \"ConvertToMonochrome\",\n",
    "\"PixelType\": \"Gray16\",\n",
    "\"Classes\": [\"Background\", \"Nuclei\"],\n",
    "\"ModelPath\": \"saved_tf2_model_output\",\n",
    "}\n",
    "```\n",
    "\n",
    "This information can be copied to a file e.g. in the current working directory `./model_spec.json` that also contains the trained model in SavedModel format e.g. generated by the following line:"
   ]
  },
  {
   "cell_type": "code",
   "execution_count": null,
   "metadata": {
    "slideshow": {
     "slide_type": "slide"
    }
   },
   "outputs": [],
   "source": [
    "# save the trained TF2.SavedModel as a folder structure\n",
    "# The folder + the JSON file can be also used to import the model in ZEN\n",
    "\n",
    "model.save('./saved_tf2_model_output_dims_unset/')\n",
    "add_preprocessing_layers(model, layers=None, spatial_dims=spatial_dims).save('./saved_tf2_model_output/')"
   ]
  },
  {
   "cell_type": "markdown",
   "metadata": {
    "slideshow": {
     "slide_type": "slide"
    }
   },
   "source": [
    "The CZMODEL file (which is essentially a zip file) contains:\n",
    "\n",
    "* **model guid file**: modelid=e47aabbd-8269-439c-b142-78feec2ed2dd\n",
    "\n",
    "\n",
    "* **model file**: modelid=e47aabbd-8269-439c-b142-78feec2ed2dd.model\n",
    "\n",
    "\n",
    "* **model description**: e47aabbd-8269-439c-b142-78feec2ed2dd.xml"
   ]
  },
  {
   "cell_type": "markdown",
   "metadata": {
    "slideshow": {
     "slide_type": "slide"
    }
   },
   "source": [
    "**Example of a model XML description**\n",
    "\n",
    "<img src=\"./mdpics/model_xml.png\" >"
   ]
  },
  {
   "cell_type": "markdown",
   "metadata": {
    "slideshow": {
     "slide_type": "slide"
    }
   },
   "source": [
    "To import the newly created model just use the **`Import`** function of the Intellesis Trainable Segmentation module in ZEN.\n",
    "\n",
    "<img src=\"./mdpics/zen_import_model1.png\" >"
   ]
  },
  {
   "cell_type": "markdown",
   "metadata": {
    "slideshow": {
     "slide_type": "slide"
    }
   },
   "source": [
    "Select the **`simple_nuclei_segmodel.czmodel`** file and press the **`Open`** button.\n",
    "\n",
    "<img src=\"./mdpics/zen_import_model2.png\" >"
   ]
  },
  {
   "cell_type": "markdown",
   "metadata": {
    "slideshow": {
     "slide_type": "slide"
    }
   },
   "source": [
    "Use the IP-function **`Segmentation`** to segment an image using the imported CZMODEL (containing the trained network).\n",
    "\n",
    "<img src=\"./mdpics/zen_import_model_IPseg.png\">"
   ]
  },
  {
   "cell_type": "markdown",
   "metadata": {
    "slideshow": {
     "slide_type": "slide"
    }
   },
   "source": [
    "To use the trained model to analyse an image there are two main options\n",
    "\n",
    "1. directly create an Image Analysis Setting based on the model (no class hierarchy, but very simple)\n",
    "2. assign the trained model to s specific class inside a customized image analysis setting (shown below)\n",
    "\n",
    "The crucial step (when not using option 1) is the Select the correct **`Class Segmentation Method`** inside the Image Analysis Wizard.\n",
    "\n",
    "<img src=\"./mdpics/zen_import_model_IA1.png\">"
   ]
  },
  {
   "cell_type": "markdown",
   "metadata": {
    "slideshow": {
     "slide_type": "slide"
    }
   },
   "source": [
    "Use the **`Select Model`** function to assign the trained model and the actual **class** (from the trained model) of interest to assign the model / class to the respective object inside the image analysis setting.\n",
    "\n",
    "<img src=\"./mdpics/zen_import_model_IA2.png\" >"
   ]
  },
  {
   "cell_type": "markdown",
   "metadata": {
    "slideshow": {
     "slide_type": "slide"
    }
   },
   "source": [
    "Now the trained model will be used to segment the image. The built-in ZEN Tiling Client automatically  to chunk the image and deal with complex dimensions, like Use the **`Scenes`** etc.\n",
    "\n",
    "Additional Post-Processing options, incl. a Minimum Confidence Threshold can be applied to further refine the results.\n",
    "\n",
    "<img src=\"./mdpics/zen_import_model_IA3.png\" >"
   ]
  },
  {
   "cell_type": "markdown",
   "metadata": {
    "slideshow": {
     "slide_type": "slide"
    }
   },
   "source": [
    "Finally, the model can be loaded into ZEN by using the **Import** function on the **JSON file**. \n",
    "\n",
    "If the model is supposed to be provided to other parties it is usually easier to exchange .czmodel files instead of SavedModel directories with corresponding JSON meta-data files.\n",
    "\n",
    "The `czmodel` library also provides a `convert_from_json_spec` function that accepts the above mentioned JSON file and creates a CZModel:"
   ]
  },
  {
   "cell_type": "code",
   "execution_count": null,
   "metadata": {
    "slideshow": {
     "slide_type": "slide"
    }
   },
   "outputs": [],
   "source": [
    "# This is an additional way how to create a CZMODEL from a saved TF2 model on disk + JSON file.\n",
    "# The currently recommended way to to create the CZMODEL directly by using czmodel.convert_from_model_spec\n",
    "# the path to the TF2.SavedModel folder is defined in the JSON shown above\n",
    "\n",
    "convert_from_json_spec(model_spec_path='model_spec_dims_unset.json',\n",
    "                       output_path='model_from_json',\n",
    "                       output_name = 'simple_nuclei_segmodel_from_json',\n",
    "                       spatial_dims=spatial_dims)"
   ]
  },
  {
   "cell_type": "markdown",
   "metadata": {
    "slideshow": {
     "slide_type": "skip"
    }
   },
   "source": [
    "* the path to the saved model folder is defined in the JSON shown above\n",
    "\n",
    "* **Remark: Due a TF 2.1 bug reloading a model does currently not work correctly.** See issue: https://github.com/tensorflow/tensorflow/issues/37158. This works with TF 2.0 and will be fixed again with TF 2.2. We currently do not have any information if there will be released a patch for TF 2.1 that fixes the issue there."
   ]
  },
  {
   "cell_type": "markdown",
   "metadata": {
    "slideshow": {
     "slide_type": "skip"
    }
   },
   "source": [
    "Use the commands below from a terminal to present the notebook as a slideshow.\n",
    "\n",
    "`\n",
    "jupyter nbconvert train_simple_TF2_segmentation_model.ipynb --to slides --post serve \n",
    "    --SlidesExporter.reveal_theme=serif \n",
    "    --SlidesExporter.reveal_scroll=True \n",
    "    --SlidesExporter.reveal_transition=none\n",
    "`\n",
    "\n",
    "Or install the [RISE Extension](https://rise.readthedocs.io/en/stable/) to display a a slideshow directly from within the notebook"
   ]
  }
 ],
 "metadata": {
  "celltoolbar": "Slideshow",
  "kernelspec": {
   "display_name": "Python [conda env:czmodel] *",
   "language": "python",
   "name": "conda-env-czmodel-py"
  },
  "language_info": {
   "codemirror_mode": {
    "name": "ipython",
    "version": 3
   },
   "file_extension": ".py",
   "mimetype": "text/x-python",
   "name": "python",
   "nbconvert_exporter": "python",
   "pygments_lexer": "ipython3",
   "version": "3.7.6"
  }
 },
 "nbformat": 4,
 "nbformat_minor": 4
}
